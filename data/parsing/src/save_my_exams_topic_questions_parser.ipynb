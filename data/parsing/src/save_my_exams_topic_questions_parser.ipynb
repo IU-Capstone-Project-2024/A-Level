{
 "cells": [
  {
   "metadata": {},
   "cell_type": "markdown",
   "source": "## Proof of concept parsing",
   "id": "9e8fa72360de2c38"
  },
  {
   "cell_type": "code",
   "id": "initial_id",
   "metadata": {
    "collapsed": true,
    "ExecuteTime": {
     "end_time": "2024-06-18T22:37:47.074122Z",
     "start_time": "2024-06-18T22:37:47.020754Z"
    }
   },
   "source": [
    "from bs4 import BeautifulSoup\n",
    "from requests import get "
   ],
   "outputs": [],
   "execution_count": 58
  },
  {
   "metadata": {
    "ExecuteTime": {
     "end_time": "2024-06-18T22:37:48.402533Z",
     "start_time": "2024-06-18T22:37:48.399168Z"
    }
   },
   "cell_type": "code",
   "source": "page_url = 'https://www.savemyexams.com/a-level/business/edexcel/17/topic-questions/1-marketing-and-people/1-5-entrepreneurs-and-leaders/exam-questions/'",
   "id": "5762a05f01b76deb",
   "outputs": [],
   "execution_count": 59
  },
  {
   "metadata": {
    "ExecuteTime": {
     "end_time": "2024-06-18T22:39:33.453786Z",
     "start_time": "2024-06-18T22:39:33.121497Z"
    }
   },
   "cell_type": "code",
   "source": [
    "request = get(page_url)\n",
    "request.status_code"
   ],
   "id": "4d812faaa389d0fd",
   "outputs": [
    {
     "data": {
      "text/plain": [
       "200"
      ]
     },
     "execution_count": 63,
     "metadata": {},
     "output_type": "execute_result"
    }
   ],
   "execution_count": 63
  },
  {
   "metadata": {
    "ExecuteTime": {
     "end_time": "2024-06-18T22:39:36.533276Z",
     "start_time": "2024-06-18T22:39:36.396815Z"
    }
   },
   "cell_type": "code",
   "source": [
    "# soup = BeautifulSoup(open('../html/meeting_customer_needs_easy.txt').read(), \"html.parser\")\n",
    "soup = BeautifulSoup(request.text, \"html.parser\")"
   ],
   "id": "e48c6d4728948533",
   "outputs": [],
   "execution_count": 64
  },
  {
   "metadata": {
    "ExecuteTime": {
     "end_time": "2024-06-18T22:41:08.225268Z",
     "start_time": "2024-06-18T22:41:08.212848Z"
    }
   },
   "cell_type": "code",
   "source": "block = soup.find_all('div', class_='tab-content')[0]",
   "id": "283188e2074db872",
   "outputs": [],
   "execution_count": 72
  },
  {
   "metadata": {
    "ExecuteTime": {
     "end_time": "2024-06-18T22:41:09.523718Z",
     "start_time": "2024-06-18T22:41:09.518988Z"
    }
   },
   "cell_type": "code",
   "source": [
    "for index, article in enumerate(block.find_all('article'), 1):\n",
    "    question = ''\n",
    "    for paragraph in article.find_all('p'):\n",
    "        if \"How did you do?\" in paragraph.text: break\n",
    "        \n",
    "        question += paragraph.text + '\\n'\n",
    "\n",
    "    print(index)\n",
    "    print(question)\n"
   ],
   "id": "979e08d137789f51",
   "outputs": [
    {
     "name": "stdout",
     "output_type": "stream",
     "text": [
      "1\n",
      "Read the following extracts (A to C) before answering \n",
      "Explain one business objective Tesco might be aiming to achieve by launching its Jack’s stores\n",
      "\n",
      "2\n",
      "Read the following extracts (A to D) before answering \n",
      "Explain one non-financial reward for Lord Somerleyton and his business partner Toby Marchant of setting up and running Hot Chip\n",
      "\n",
      "3\n",
      "Read the following extracts (A to C) before answering\n",
      "Explain one potential trade-off of Mark Rowntree's decision to continue to focus on selling Bob Bon's products in its niche market\n",
      "\n",
      "4\n",
      "Read the following extracts (A to D) before answering\n",
      "Explain one implication for Mumtaz's owners of remaining as a private limited company\n",
      "\n",
      "\n",
      "\n",
      "5\n",
      "Read the following extracts (A to D) before answering\n",
      "Explain one benefit to Warby Parker of establishing the business with a socially responsible business objective\n",
      "\n",
      "6\n",
      "Read the following extracts (E to G) before answering\n",
      "Explain one barrier to entrepreneurship Hardy Punglia is likely to have faced as he set up his business\n",
      "\n",
      "7\n",
      "Read the following extracts (A to C) before answering\n",
      "As part of its product development strategy, Spotify has set the objective of developing and launching the 'Car Thing', a voice-activated music-streaming gadget for cars. It estimated that the project will cost ￡80m\n",
      "To raise finance, it is considering two options; either stock market flotation or arranging a long-term loan\n",
      "Evaluate these two options and recommend which one Spotify should choose in order to raise finance for the launch of 'Car Thing'\n",
      "\n",
      "8\n",
      "Read the following extracts (A to C) before answering\n",
      "The founder of Tended Ltd, Leo Scott Smith, has struggled to manage the business during a period of rapid growth\n",
      "In order to improve the businesses long-term stability he is considering either recruiting an experienced Chief Executive Officer (CEO) to run the business or selling a share of the business to a venture capitalist\n",
      "Evaluate these two options and recommend which one is most suitable to improve Tended Ltd's long-term stability\n",
      "\n",
      "9\n",
      "Read the following extracts (E to H) before answering\n",
      "Assess the importance of two entrepreneurial roles carried out by Peter Roberts to the success of Pure Gym\n",
      "\n",
      "10\n",
      "Read the following extracts (A to D) before answering \n",
      "Creating and setting up a business is one role of an entrepreneurAssess whether this is the most important role of an entrepreneur, such as Lord Somerleyton\n",
      "\n",
      "11\n",
      "Read the following extracts (E to G) before answering \n",
      "Assess the likely consequences of Ebac Ltd continuing to operate as a private limited company\n",
      "\n",
      "12\n",
      "Read the following extracts (A to C) before answering\n",
      "Assess the likely consequences of stock market flotation for a business, such as Spotify\n",
      "\n",
      "13\n",
      "Read the following extracts (E to H) before answering\n",
      "Assess two difficulties for Michael O’Leary when developing from an entrepreneur to a leader\n",
      "\n"
     ]
    }
   ],
   "execution_count": 73
  },
  {
   "metadata": {},
   "cell_type": "markdown",
   "source": "## Building the parser",
   "id": "320268bd942046"
  },
  {
   "metadata": {
    "ExecuteTime": {
     "end_time": "2024-06-18T22:42:13.363104Z",
     "start_time": "2024-06-18T22:42:13.357831Z"
    }
   },
   "cell_type": "code",
   "source": [
    "def parse(url):\n",
    "    soup = BeautifulSoup(get(url).text, \"html.parser\")\n",
    "    block = soup.find_all('div', class_='tab-content')[0]\n",
    "    \n",
    "    questions = []\n",
    "\n",
    "    for article in block.find_all('article'):\n",
    "        question = ''\n",
    "        for paragraph in article.find_all('p'):\n",
    "            if \"How did you do?\" in paragraph.text: break\n",
    "            \n",
    "            question += paragraph.text + '\\n'\n",
    "        questions.append(question)\n",
    "    return questions"
   ],
   "id": "7baa2cab7032bd1d",
   "outputs": [],
   "execution_count": 74
  },
  {
   "metadata": {
    "ExecuteTime": {
     "end_time": "2024-06-18T22:45:05.603989Z",
     "start_time": "2024-06-18T22:45:01.594833Z"
    }
   },
   "cell_type": "code",
   "source": [
    "urls = [\n",
    "    (\n",
    "     'https://www.savemyexams.com/a-level/business/edexcel/17/topic-questions/1-marketing-and-people/1-1-meeting-customer-needs/exam-questions/',\n",
    "     'meeting customer needs'),\n",
    "    (\n",
    "        'https://www.savemyexams.com/a-level/business/edexcel/17/topic-questions/1-marketing-and-people/1-2-market/exam-questions/', \n",
    "        'market'\n",
    "    ), \n",
    "    (\n",
    "        'https://www.savemyexams.com/a-level/business/edexcel/17/topic-questions/1-marketing-and-people/1-3-marketing-mix-and-strategy/exam-questions/', \n",
    "        'marketing mix and strategy'\n",
    "    ), \n",
    "    (\n",
    "        'https://www.savemyexams.com/a-level/business/edexcel/17/topic-questions/1-marketing-and-people/1-4-managing-people/exam-questions/', \n",
    "        'managing people'\n",
    "    ), \n",
    "    (\n",
    "        'https://www.savemyexams.com/a-level/business/edexcel/17/topic-questions/1-marketing-and-people/1-5-entrepreneurs-and-leaders/exam-questions/', \n",
    "        'entreprenuers and leaders'\n",
    "    ), \n",
    "]\n",
    "\n",
    "parsed_data = {\n",
    "    topic: parse(url) for url, topic in urls\n",
    "}"
   ],
   "id": "a9bb1b24b7df786",
   "outputs": [],
   "execution_count": 76
  },
  {
   "metadata": {
    "ExecuteTime": {
     "end_time": "2024-06-18T22:45:06.360736Z",
     "start_time": "2024-06-18T22:45:06.358021Z"
    }
   },
   "cell_type": "code",
   "source": [
    "for topic, questions in parsed_data.items():\n",
    "    print(topic, len(questions), sep=': ')"
   ],
   "id": "19542e3442ec2b92",
   "outputs": [
    {
     "name": "stdout",
     "output_type": "stream",
     "text": [
      "meeting customer needs: 15\n",
      "market: 12\n",
      "marketing mix and strategy: 14\n",
      "managing people: 12\n",
      "entreprenuers and leaders: 13\n"
     ]
    }
   ],
   "execution_count": 77
  },
  {
   "metadata": {
    "ExecuteTime": {
     "end_time": "2024-06-18T22:45:58.269229Z",
     "start_time": "2024-06-18T22:45:58.264898Z"
    }
   },
   "cell_type": "code",
   "source": "import re",
   "id": "e6b2a0769a24d67f",
   "outputs": [],
   "execution_count": 79
  },
  {
   "metadata": {
    "ExecuteTime": {
     "end_time": "2024-06-18T22:52:29.995975Z",
     "start_time": "2024-06-18T22:52:29.993213Z"
    }
   },
   "cell_type": "code",
   "source": [
    "def fix_punctuation(text):\n",
    "    text = re.sub(r' *\\?', '?', text)\n",
    "    text = re.sub(r' *\\.', '.', text)\n",
    "    text = re.sub(r' *\\!', '!', text)\n",
    "\n",
    "    text = text.replace('\\n', ' ')\n",
    "\n",
    "    return text "
   ],
   "id": "fc61691446b9a36e",
   "outputs": [],
   "execution_count": 88
  },
  {
   "metadata": {
    "ExecuteTime": {
     "end_time": "2024-06-18T22:52:32.457725Z",
     "start_time": "2024-06-18T22:52:32.451421Z"
    }
   },
   "cell_type": "code",
   "source": [
    "cleaned_data = []\n",
    "\n",
    "for topic, questions in parsed_data.items():\n",
    "    for question in questions:\n",
    "        cleaned_data.append((fix_punctuation(question), topic))\n",
    "        \n",
    "cleaned_data[:10]"
   ],
   "id": "a806b17dc5e149a7",
   "outputs": [
    {
     "data": {
      "text/plain": [
       "[('Read the following extracts (A to D) before answering. Air passenger numbers were forecast to grow from 3.5bn people in 2015 to 3.75bn people in 2016 Using the data from Extract A and the information above, calculate the difference in percentage growth in air passenger numbers between 2015 and 2016. You are advised to show your working ',\n",
       "  'meeting customer needs'),\n",
       " ('Read the following extracts (A to C) before answering Between 2010 and 2011, the number of music streaming subscribers grew by 62.34% Using the data from Extract A, calculate, to 2 decimal places, the difference between percentage growth in 2010 to 2011 and that in 2019 to 2020. You are advised to show your working ',\n",
       "  'meeting customer needs'),\n",
       " ('Read the following extracts (A to C) before answering In 2018, the value of the UK market for sugar-free sweets was 3% of total sales revenueIn 2023, it is forecast to be 5% of total sales revenue Using the data in Extract A, calculate the change in value of sugar-free sweets sales predicted between 2018 and 2023. State your answer to 2 decimal places. You are advised to show your working ',\n",
       "  'meeting customer needs'),\n",
       " ('Read the following extracts (A to C) before answering Explain one way in which a business such as Bon Bon’s adds value to the products it sells ',\n",
       "  'meeting customer needs'),\n",
       " ('Read the following extracts (D to G) before answering Using the data in Extract D, calculate the percentage growth in the total McDonald’s restaurants operating in Brazil, between 2012 and 2018. State your answer to 2 decimal places. You are advised to show your working ',\n",
       "  'meeting customer needs'),\n",
       " (\"Read the following extracts (A to D) before answering The UK's £17bn\\xa0live entertainment industry is forecast to grow by £400m in 2018. Revenue of £2.1bn achieved by live performances is expected to grow by 7% during the same period Using the information above, calculate the proportion of live entertainment industry revenues expected to be generated from live performances in 2018 \",\n",
       "  'meeting customer needs'),\n",
       " ('Read the following extracts (E to H) before answering. Cost competitiveness and product differentiation are two key strategies to achieve global competitive advantage. Evaluate these two strategies and recommend which one would be better to achieve a global competitive advantage for a business, such as Cadbury. ',\n",
       "  'meeting customer needs'),\n",
       " (\"Read the following extracts (E to H) before answering. Derby University has set the objective for Derby Theatre to increase its box office income by 40% by 2022. Its management team has decided that it could either produce and stage more shows that recognise the cultural diversity of Derby’s population or launch a Derby Theatre live tour across the Midlands. Evaluate these two options and recommend which one would be better to increase Derby Theatre's box office income. \",\n",
       "  'meeting customer needs'),\n",
       " ('Read the following extracts (A to D) before answering\\xa0 Assess the likely reasons for Hot Chip using mainly quantitative market research data. ',\n",
       "  'meeting customer needs'),\n",
       " ('Read the following extracts (A to C) before answering. Assess the consequences to a business, such as Spotify, of operating in a dynamic market. ',\n",
       "  'meeting customer needs')]"
      ]
     },
     "execution_count": 89,
     "metadata": {},
     "output_type": "execute_result"
    }
   ],
   "execution_count": 89
  },
  {
   "metadata": {
    "ExecuteTime": {
     "end_time": "2024-06-18T22:52:40.123047Z",
     "start_time": "2024-06-18T22:52:40.120710Z"
    }
   },
   "cell_type": "code",
   "source": "import csv ",
   "id": "5917b024d46e930f",
   "outputs": [],
   "execution_count": 90
  },
  {
   "metadata": {
    "ExecuteTime": {
     "end_time": "2024-06-18T22:52:41.877759Z",
     "start_time": "2024-06-18T22:52:41.872587Z"
    }
   },
   "cell_type": "code",
   "source": [
    "with open('../save_my_exams_data_topic_questions.csv', 'w', newline='') as csvfile:\n",
    "    fieldnames = ['Questions', 'Topic']\n",
    "    writer = csv.DictWriter(csvfile, fieldnames=fieldnames)\n",
    "    \n",
    "    writer.writeheader()\n",
    "    for question, topic in cleaned_data:\n",
    "        writer.writerow({'Questions': question, 'Topic': topic})"
   ],
   "id": "45f32a3d7f9e1ea1",
   "outputs": [],
   "execution_count": 91
  },
  {
   "metadata": {
    "ExecuteTime": {
     "end_time": "2024-06-18T22:52:44.053347Z",
     "start_time": "2024-06-18T22:52:44.050509Z"
    }
   },
   "cell_type": "code",
   "source": "from notebooks.utils import DatasetReader",
   "id": "95964e46bbf5081f",
   "outputs": [],
   "execution_count": 92
  },
  {
   "metadata": {
    "ExecuteTime": {
     "end_time": "2024-06-18T22:52:46.136731Z",
     "start_time": "2024-06-18T22:52:46.128991Z"
    }
   },
   "cell_type": "code",
   "source": "DatasetReader().read_from_file('../save_my_exams_data_topic_questions.csv')",
   "id": "de7a5ee5e863f159",
   "outputs": [
    {
     "data": {
      "text/plain": [
       "                                            Questions  \\\n",
       "0   read the following extracts (a to d) before an...   \n",
       "1   read the following extracts (a to c) before an...   \n",
       "2   read the following extracts (a to c) before an...   \n",
       "3   read the following extracts (a to c) before an...   \n",
       "4   read the following extracts (d to g) before an...   \n",
       "..                                                ...   \n",
       "61  read the following extracts (e to h) before an...   \n",
       "62  read the following extracts (a to d) before an...   \n",
       "63  read the following extracts (e to g) before an...   \n",
       "64  read the following extracts (a to c) before an...   \n",
       "65  read the following extracts (e to h) before an...   \n",
       "\n",
       "                        Topic  \n",
       "0      meeting_customer_needs  \n",
       "1      meeting_customer_needs  \n",
       "2      meeting_customer_needs  \n",
       "3      meeting_customer_needs  \n",
       "4      meeting_customer_needs  \n",
       "..                        ...  \n",
       "61  entreprenuers_and_leaders  \n",
       "62  entreprenuers_and_leaders  \n",
       "63  entreprenuers_and_leaders  \n",
       "64  entreprenuers_and_leaders  \n",
       "65  entreprenuers_and_leaders  \n",
       "\n",
       "[66 rows x 2 columns]"
      ],
      "text/html": [
       "<div>\n",
       "<style scoped>\n",
       "    .dataframe tbody tr th:only-of-type {\n",
       "        vertical-align: middle;\n",
       "    }\n",
       "\n",
       "    .dataframe tbody tr th {\n",
       "        vertical-align: top;\n",
       "    }\n",
       "\n",
       "    .dataframe thead th {\n",
       "        text-align: right;\n",
       "    }\n",
       "</style>\n",
       "<table border=\"1\" class=\"dataframe\">\n",
       "  <thead>\n",
       "    <tr style=\"text-align: right;\">\n",
       "      <th></th>\n",
       "      <th>Questions</th>\n",
       "      <th>Topic</th>\n",
       "    </tr>\n",
       "  </thead>\n",
       "  <tbody>\n",
       "    <tr>\n",
       "      <th>0</th>\n",
       "      <td>read the following extracts (a to d) before an...</td>\n",
       "      <td>meeting_customer_needs</td>\n",
       "    </tr>\n",
       "    <tr>\n",
       "      <th>1</th>\n",
       "      <td>read the following extracts (a to c) before an...</td>\n",
       "      <td>meeting_customer_needs</td>\n",
       "    </tr>\n",
       "    <tr>\n",
       "      <th>2</th>\n",
       "      <td>read the following extracts (a to c) before an...</td>\n",
       "      <td>meeting_customer_needs</td>\n",
       "    </tr>\n",
       "    <tr>\n",
       "      <th>3</th>\n",
       "      <td>read the following extracts (a to c) before an...</td>\n",
       "      <td>meeting_customer_needs</td>\n",
       "    </tr>\n",
       "    <tr>\n",
       "      <th>4</th>\n",
       "      <td>read the following extracts (d to g) before an...</td>\n",
       "      <td>meeting_customer_needs</td>\n",
       "    </tr>\n",
       "    <tr>\n",
       "      <th>...</th>\n",
       "      <td>...</td>\n",
       "      <td>...</td>\n",
       "    </tr>\n",
       "    <tr>\n",
       "      <th>61</th>\n",
       "      <td>read the following extracts (e to h) before an...</td>\n",
       "      <td>entreprenuers_and_leaders</td>\n",
       "    </tr>\n",
       "    <tr>\n",
       "      <th>62</th>\n",
       "      <td>read the following extracts (a to d) before an...</td>\n",
       "      <td>entreprenuers_and_leaders</td>\n",
       "    </tr>\n",
       "    <tr>\n",
       "      <th>63</th>\n",
       "      <td>read the following extracts (e to g) before an...</td>\n",
       "      <td>entreprenuers_and_leaders</td>\n",
       "    </tr>\n",
       "    <tr>\n",
       "      <th>64</th>\n",
       "      <td>read the following extracts (a to c) before an...</td>\n",
       "      <td>entreprenuers_and_leaders</td>\n",
       "    </tr>\n",
       "    <tr>\n",
       "      <th>65</th>\n",
       "      <td>read the following extracts (e to h) before an...</td>\n",
       "      <td>entreprenuers_and_leaders</td>\n",
       "    </tr>\n",
       "  </tbody>\n",
       "</table>\n",
       "<p>66 rows × 2 columns</p>\n",
       "</div>"
      ]
     },
     "execution_count": 93,
     "metadata": {},
     "output_type": "execute_result"
    }
   ],
   "execution_count": 93
  }
 ],
 "metadata": {
  "kernelspec": {
   "display_name": "Python 3",
   "language": "python",
   "name": "python3"
  },
  "language_info": {
   "codemirror_mode": {
    "name": "ipython",
    "version": 2
   },
   "file_extension": ".py",
   "mimetype": "text/x-python",
   "name": "python",
   "nbconvert_exporter": "python",
   "pygments_lexer": "ipython2",
   "version": "2.7.6"
  }
 },
 "nbformat": 4,
 "nbformat_minor": 5
}
