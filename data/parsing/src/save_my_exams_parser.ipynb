{
 "cells": [
  {
   "cell_type": "code",
   "id": "initial_id",
   "metadata": {
    "collapsed": true,
    "ExecuteTime": {
     "end_time": "2024-06-15T20:03:26.300675Z",
     "start_time": "2024-06-15T20:03:24.085523Z"
    }
   },
   "source": [
    "!pip install beautifulsoup4\n",
    "!pip install requests"
   ],
   "outputs": [
    {
     "name": "stdout",
     "output_type": "stream",
     "text": [
      "Requirement already satisfied: beautifulsoup4 in /home/pc/lib/python3.11/site-packages (4.12.3)\r\n",
      "Requirement already satisfied: soupsieve>1.2 in /home/pc/lib/python3.11/site-packages (from beautifulsoup4) (2.5)\r\n",
      "Requirement already satisfied: requests in /usr/lib/python3/dist-packages (2.31.0)\r\n"
     ]
    }
   ],
   "execution_count": 1
  },
  {
   "metadata": {},
   "cell_type": "markdown",
   "source": "## Prototyping the parser logic",
   "id": "c9dcfe815ddaaa67"
  },
  {
   "metadata": {
    "ExecuteTime": {
     "end_time": "2024-06-15T20:53:20.406588Z",
     "start_time": "2024-06-15T20:53:20.403229Z"
    }
   },
   "cell_type": "code",
   "source": [
    "from bs4 import BeautifulSoup\n",
    "from requests import get"
   ],
   "id": "4961b87ff2943d66",
   "outputs": [],
   "execution_count": 87
  },
  {
   "metadata": {
    "ExecuteTime": {
     "end_time": "2024-06-15T20:53:21.689298Z",
     "start_time": "2024-06-15T20:53:21.686821Z"
    }
   },
   "cell_type": "code",
   "source": "page_url = 'https://www.savemyexams.com/a-level/business/edexcel/17/flashcards/1-marketing-and-people/1-1-meeting-customer-needs/'",
   "id": "306a49978b9ce858",
   "outputs": [],
   "execution_count": 88
  },
  {
   "metadata": {
    "ExecuteTime": {
     "end_time": "2024-06-15T20:53:23.320457Z",
     "start_time": "2024-06-15T20:53:22.943429Z"
    }
   },
   "cell_type": "code",
   "source": [
    "request = get(page_url)\n",
    "request.status_code"
   ],
   "id": "1defe6e6bf0835f8",
   "outputs": [
    {
     "data": {
      "text/plain": [
       "200"
      ]
     },
     "execution_count": 89,
     "metadata": {},
     "output_type": "execute_result"
    }
   ],
   "execution_count": 89
  },
  {
   "metadata": {
    "ExecuteTime": {
     "end_time": "2024-06-15T20:53:27.213426Z",
     "start_time": "2024-06-15T20:53:27.133232Z"
    }
   },
   "cell_type": "code",
   "source": "soup = BeautifulSoup(request.text, 'html.parser')",
   "id": "df6f1e6368412cfa",
   "outputs": [],
   "execution_count": 90
  },
  {
   "metadata": {
    "ExecuteTime": {
     "end_time": "2024-06-15T20:53:28.225974Z",
     "start_time": "2024-06-15T20:53:28.215286Z"
    }
   },
   "cell_type": "code",
   "source": [
    "questions_container = soup.find_all('ul', class_='list-unstyled mb-0 d-flex flex-column gap-3')[0]\n",
    "questions = questions_container.find_all('li')\n",
    "\n",
    "for index, question in enumerate(questions, 1):\n",
    "    try:\n",
    "        question_text = question.div.div.get('aria-label')\n",
    "\n",
    "        print(index)\n",
    "        print(question_text)\n",
    "        print()\n",
    "    except:\n",
    "        pass"
   ],
   "id": "dd0842f597b05b45",
   "outputs": [
    {
     "name": "stdout",
     "output_type": "stream",
     "text": [
      "1\n",
      "Define the term market .\n",
      "\n",
      "2\n",
      "What is meant by the term market share ?\n",
      "\n",
      "3\n",
      "What is the aim of marketing?\n",
      "\n",
      "4\n",
      "True or False? Wants are considered to be essential.\n",
      "\n",
      "5\n",
      "Define the term mass market .\n",
      "\n",
      "6\n",
      "Define the term brand .\n",
      "\n",
      "7\n",
      "State the formula for calculating market share .\n",
      "\n",
      "8\n",
      "Define the term niche market .\n",
      "\n",
      "9\n",
      "What is the purpose of branding ?\n",
      "\n",
      "10\n",
      "True or False? A dynamic market is one that is subject to rapid or continuous changes.\n",
      "\n",
      "11\n",
      "What is meant by the term primary research ?\n",
      "\n",
      "12\n",
      "What is meant by the term market segmentation ?\n",
      "\n",
      "13\n",
      "Define the term product orientation .\n",
      "\n",
      "14\n",
      "What is meant by the term secondary research ?\n",
      "\n",
      "15\n",
      "True or False? Primary research is cheaper and quicker than secondary research.\n",
      "\n",
      "16\n",
      "State how researcher bias can affect survey findings.\n",
      "\n",
      "17\n",
      "What is the purpose of market segmentation?\n",
      "\n",
      "18\n",
      "True or False? Primary market research may include purchasing market reports from specialist companies or accessing government statistics.\n",
      "\n",
      "19\n",
      "Define the term market orientation .\n",
      "\n",
      "20\n",
      "What is meant by the term test marketing ?\n",
      "\n",
      "21\n",
      "True or False? All consumers in a market segment behave in the same way.\n",
      "\n",
      "22\n",
      "Define the term market positioning .\n",
      "\n",
      "23\n",
      "What is a market map ?\n",
      "\n",
      "24\n",
      "True or False? A market map can show more than two criteria.\n",
      "\n",
      "25\n",
      "What is meant by the term market saturation ?\n",
      "\n",
      "26\n",
      "Define the term competitive advantage .\n",
      "\n",
      "27\n",
      "What is meant by the term product differentiation ?\n",
      "\n",
      "28\n",
      "Give two examples of sources of competitive advantage .\n",
      "\n",
      "34\n",
      "Define the term added value .\n",
      "\n",
      "35\n",
      "True or False? Adding value raises costs for a business.\n",
      "\n"
     ]
    }
   ],
   "execution_count": 91
  },
  {
   "metadata": {},
   "cell_type": "markdown",
   "source": "## Building the parser function",
   "id": "14e95b5575c37fee"
  },
  {
   "metadata": {
    "ExecuteTime": {
     "end_time": "2024-06-15T20:53:34.137824Z",
     "start_time": "2024-06-15T20:53:34.132974Z"
    }
   },
   "cell_type": "code",
   "source": [
    "def get_questions(url):\n",
    "    request = get(url)\n",
    "\n",
    "    if request.status_code != 200:\n",
    "        print('Error getting questions')\n",
    "        return\n",
    "\n",
    "    soup = BeautifulSoup(request.text, 'html.parser')\n",
    "\n",
    "    questions_container = soup.find_all('ul', class_='list-unstyled mb-0 d-flex flex-column gap-3')[0]\n",
    "    questions = questions_container.find_all('li')\n",
    "\n",
    "    questions_parsed = []\n",
    "    for index, question in enumerate(questions, 1):\n",
    "        try:\n",
    "            question_text = question.div.div.get('aria-label')\n",
    "\n",
    "            questions_parsed.append(question_text)\n",
    "        except:\n",
    "            pass\n",
    "\n",
    "    return questions_parsed"
   ],
   "id": "307552748d9c65da",
   "outputs": [],
   "execution_count": 92
  },
  {
   "metadata": {
    "ExecuteTime": {
     "end_time": "2024-06-15T20:53:43.980673Z",
     "start_time": "2024-06-15T20:53:37.839283Z"
    }
   },
   "cell_type": "code",
   "source": [
    "urls = [\n",
    "    (\n",
    "     'https://www.savemyexams.com/a-level/business/edexcel/17/flashcards/1-marketing-and-people/1-1-meeting-customer-needs/',\n",
    "     'meeting customer needs'),\n",
    "    (\n",
    "        'https://www.savemyexams.com/a-level/business/edexcel/17/flashcards/1-marketing-and-people/1-2-market/', \n",
    "        'market'\n",
    "    ), \n",
    "    (\n",
    "        'https://www.savemyexams.com/a-level/business/edexcel/17/flashcards/1-marketing-and-people/1-3-marketing-mix-and-strategy/', \n",
    "        'marketing mix and strategy'\n",
    "    ), \n",
    "    (\n",
    "        'https://www.savemyexams.com/a-level/business/edexcel/17/flashcards/1-marketing-and-people/1-4-managing-people/', \n",
    "        'managing people'\n",
    "    ), \n",
    "    (\n",
    "        'https://www.savemyexams.com/a-level/business/edexcel/17/flashcards/1-marketing-and-people/1-5-entrepreneurs-and-leaders/', \n",
    "        'entreprenuers and leaders'\n",
    "    ), \n",
    "]\n",
    "\n",
    "parsed_data = {\n",
    "    topic: get_questions(url) for url, topic in urls\n",
    "}"
   ],
   "id": "ea451a71f3ff09ac",
   "outputs": [],
   "execution_count": 93
  },
  {
   "metadata": {
    "ExecuteTime": {
     "end_time": "2024-06-15T20:53:43.984716Z",
     "start_time": "2024-06-15T20:53:43.982294Z"
    }
   },
   "cell_type": "code",
   "source": [
    "for topic, questions in parsed_data.items():\n",
    "    print(topic, len(questions), sep=': ')"
   ],
   "id": "f8bdd205e71b319a",
   "outputs": [
    {
     "name": "stdout",
     "output_type": "stream",
     "text": [
      "meeting customer needs: 30\n",
      "market: 50\n",
      "marketing mix and strategy: 50\n",
      "managing people: 50\n",
      "entreprenuers and leaders: 53\n"
     ]
    }
   ],
   "execution_count": 94
  },
  {
   "metadata": {},
   "cell_type": "markdown",
   "source": "## Data cleaning",
   "id": "f2feb834a6236049"
  },
  {
   "metadata": {
    "ExecuteTime": {
     "end_time": "2024-06-15T20:53:47.575492Z",
     "start_time": "2024-06-15T20:53:47.573619Z"
    }
   },
   "cell_type": "code",
   "source": [
    "import re\n",
    "import csv"
   ],
   "id": "3ebf0793e663ba3e",
   "outputs": [],
   "execution_count": 95
  },
  {
   "metadata": {
    "ExecuteTime": {
     "end_time": "2024-06-15T20:53:48.902303Z",
     "start_time": "2024-06-15T20:53:48.897279Z"
    }
   },
   "cell_type": "code",
   "source": [
    "def fix_punctuation(text):\n",
    "    text = re.sub(r' *\\?', '?', text)\n",
    "    text = re.sub(r' *\\.', '.', text)\n",
    "    text = re.sub(r' *\\!', '!', text)\n",
    "\n",
    "    return text "
   ],
   "id": "562b8f0d803d6435",
   "outputs": [],
   "execution_count": 96
  },
  {
   "metadata": {
    "ExecuteTime": {
     "end_time": "2024-06-15T20:53:50.706398Z",
     "start_time": "2024-06-15T20:53:50.701058Z"
    }
   },
   "cell_type": "code",
   "source": [
    "cleaned_data = []\n",
    "\n",
    "for topic, questions in parsed_data.items():\n",
    "    for question in questions:\n",
    "        cleaned_data.append((fix_punctuation(question), topic))\n",
    "        \n",
    "cleaned_data[:10]"
   ],
   "id": "461e1ec42797526e",
   "outputs": [
    {
     "data": {
      "text/plain": [
       "[('Define the term market.', 'meeting customer needs'),\n",
       " ('What is meant by the term market share?', 'meeting customer needs'),\n",
       " ('What is the aim of marketing?', 'meeting customer needs'),\n",
       " ('True or False? Wants are considered to be essential.',\n",
       "  'meeting customer needs'),\n",
       " ('Define the term mass market.', 'meeting customer needs'),\n",
       " ('Define the term brand.', 'meeting customer needs'),\n",
       " ('State the formula for calculating market share.', 'meeting customer needs'),\n",
       " ('Define the term niche market.', 'meeting customer needs'),\n",
       " ('What is the purpose of branding?', 'meeting customer needs'),\n",
       " ('True or False? A dynamic market is one that is subject to rapid or continuous changes.',\n",
       "  'meeting customer needs')]"
      ]
     },
     "execution_count": 97,
     "metadata": {},
     "output_type": "execute_result"
    }
   ],
   "execution_count": 97
  },
  {
   "metadata": {},
   "cell_type": "markdown",
   "source": "## Saving the data",
   "id": "16160e81a3184dc8"
  },
  {
   "metadata": {
    "ExecuteTime": {
     "end_time": "2024-06-15T20:53:53.245511Z",
     "start_time": "2024-06-15T20:53:53.242286Z"
    }
   },
   "cell_type": "code",
   "source": "import csv",
   "id": "226e4934ed8be9b1",
   "outputs": [],
   "execution_count": 98
  },
  {
   "metadata": {
    "ExecuteTime": {
     "end_time": "2024-06-15T20:53:54.278664Z",
     "start_time": "2024-06-15T20:53:54.274023Z"
    }
   },
   "cell_type": "code",
   "source": [
    "with open('../save_my_exams_data.csv', 'w', newline='') as csvfile:\n",
    "    fieldnames = ['Questions', 'Topic']\n",
    "    writer = csv.DictWriter(csvfile, fieldnames=fieldnames)\n",
    "    \n",
    "    writer.writeheader()\n",
    "    for question, topic in cleaned_data:\n",
    "        writer.writerow({'Questions': question, 'Topic': topic})"
   ],
   "id": "495d1193135e2b3c",
   "outputs": [],
   "execution_count": 99
  },
  {
   "metadata": {
    "ExecuteTime": {
     "end_time": "2024-06-15T20:53:56.371111Z",
     "start_time": "2024-06-15T20:53:56.368511Z"
    }
   },
   "cell_type": "code",
   "source": "from notebooks.utils import DatasetReader",
   "id": "470fd7397861de96",
   "outputs": [],
   "execution_count": 100
  },
  {
   "metadata": {
    "ExecuteTime": {
     "end_time": "2024-06-15T20:53:58.568175Z",
     "start_time": "2024-06-15T20:53:58.559964Z"
    }
   },
   "cell_type": "code",
   "source": "DatasetReader().read_from_file('../save_my_exams_data.csv')",
   "id": "8dba7bc1cf1ae781",
   "outputs": [
    {
     "data": {
      "text/plain": [
       "                                             Questions  \\\n",
       "0                              define the term market.   \n",
       "1              what is meant by the term market share?   \n",
       "2                        what is the aim of marketing?   \n",
       "3    true or false? wants are considered to be esse...   \n",
       "4                         define the term mass market.   \n",
       "..                                                 ...   \n",
       "228  what is meant by the term emotional intelligence?   \n",
       "229  true or false? entrepreneurs are often driven ...   \n",
       "230              what is meant by the term figurehead?   \n",
       "231  true or false? many entrepreneurs are driven m...   \n",
       "232  what is the difference between a strategist an...   \n",
       "\n",
       "                         Topic  \n",
       "0       meeting_customer_needs  \n",
       "1       meeting_customer_needs  \n",
       "2       meeting_customer_needs  \n",
       "3       meeting_customer_needs  \n",
       "4       meeting_customer_needs  \n",
       "..                         ...  \n",
       "228  entreprenuers_and_leaders  \n",
       "229  entreprenuers_and_leaders  \n",
       "230  entreprenuers_and_leaders  \n",
       "231  entreprenuers_and_leaders  \n",
       "232  entreprenuers_and_leaders  \n",
       "\n",
       "[233 rows x 2 columns]"
      ],
      "text/html": [
       "<div>\n",
       "<style scoped>\n",
       "    .dataframe tbody tr th:only-of-type {\n",
       "        vertical-align: middle;\n",
       "    }\n",
       "\n",
       "    .dataframe tbody tr th {\n",
       "        vertical-align: top;\n",
       "    }\n",
       "\n",
       "    .dataframe thead th {\n",
       "        text-align: right;\n",
       "    }\n",
       "</style>\n",
       "<table border=\"1\" class=\"dataframe\">\n",
       "  <thead>\n",
       "    <tr style=\"text-align: right;\">\n",
       "      <th></th>\n",
       "      <th>Questions</th>\n",
       "      <th>Topic</th>\n",
       "    </tr>\n",
       "  </thead>\n",
       "  <tbody>\n",
       "    <tr>\n",
       "      <th>0</th>\n",
       "      <td>define the term market.</td>\n",
       "      <td>meeting_customer_needs</td>\n",
       "    </tr>\n",
       "    <tr>\n",
       "      <th>1</th>\n",
       "      <td>what is meant by the term market share?</td>\n",
       "      <td>meeting_customer_needs</td>\n",
       "    </tr>\n",
       "    <tr>\n",
       "      <th>2</th>\n",
       "      <td>what is the aim of marketing?</td>\n",
       "      <td>meeting_customer_needs</td>\n",
       "    </tr>\n",
       "    <tr>\n",
       "      <th>3</th>\n",
       "      <td>true or false? wants are considered to be esse...</td>\n",
       "      <td>meeting_customer_needs</td>\n",
       "    </tr>\n",
       "    <tr>\n",
       "      <th>4</th>\n",
       "      <td>define the term mass market.</td>\n",
       "      <td>meeting_customer_needs</td>\n",
       "    </tr>\n",
       "    <tr>\n",
       "      <th>...</th>\n",
       "      <td>...</td>\n",
       "      <td>...</td>\n",
       "    </tr>\n",
       "    <tr>\n",
       "      <th>228</th>\n",
       "      <td>what is meant by the term emotional intelligence?</td>\n",
       "      <td>entreprenuers_and_leaders</td>\n",
       "    </tr>\n",
       "    <tr>\n",
       "      <th>229</th>\n",
       "      <td>true or false? entrepreneurs are often driven ...</td>\n",
       "      <td>entreprenuers_and_leaders</td>\n",
       "    </tr>\n",
       "    <tr>\n",
       "      <th>230</th>\n",
       "      <td>what is meant by the term figurehead?</td>\n",
       "      <td>entreprenuers_and_leaders</td>\n",
       "    </tr>\n",
       "    <tr>\n",
       "      <th>231</th>\n",
       "      <td>true or false? many entrepreneurs are driven m...</td>\n",
       "      <td>entreprenuers_and_leaders</td>\n",
       "    </tr>\n",
       "    <tr>\n",
       "      <th>232</th>\n",
       "      <td>what is the difference between a strategist an...</td>\n",
       "      <td>entreprenuers_and_leaders</td>\n",
       "    </tr>\n",
       "  </tbody>\n",
       "</table>\n",
       "<p>233 rows × 2 columns</p>\n",
       "</div>"
      ]
     },
     "execution_count": 101,
     "metadata": {},
     "output_type": "execute_result"
    }
   ],
   "execution_count": 101
  }
 ],
 "metadata": {
  "kernelspec": {
   "display_name": "Python 3",
   "language": "python",
   "name": "python3"
  },
  "language_info": {
   "codemirror_mode": {
    "name": "ipython",
    "version": 2
   },
   "file_extension": ".py",
   "mimetype": "text/x-python",
   "name": "python",
   "nbconvert_exporter": "python",
   "pygments_lexer": "ipython2",
   "version": "2.7.6"
  }
 },
 "nbformat": 4,
 "nbformat_minor": 5
}
