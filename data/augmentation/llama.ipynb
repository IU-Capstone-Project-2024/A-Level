{
 "cells": [
  {
   "metadata": {
    "ExecuteTime": {
     "end_time": "2024-06-25T22:53:11.925645Z",
     "start_time": "2024-06-25T22:53:11.594323Z"
    }
   },
   "cell_type": "code",
   "source": [
    "import numpy as np\n",
    "import ollama\n",
    "from tqdm.notebook import tqdm\n",
    "import csv"
   ],
   "id": "b0ae2eb3ae5cffaf",
   "outputs": [],
   "execution_count": 1
  },
  {
   "metadata": {
    "ExecuteTime": {
     "end_time": "2024-06-25T22:53:12.891590Z",
     "start_time": "2024-06-25T22:53:12.888457Z"
    }
   },
   "cell_type": "code",
   "source": [
    "def augment(question):\n",
    "    prompt_params = {\n",
    "        'role': 'professional economics text paraphraser',\n",
    "        'task': 'paraphrase economics questions',\n",
    "        'answer length': 'close to the original question',\n",
    "        'answer format': 'only question paraphrase, no unrelated symbols',\n",
    "        # 'reward': '1.000.000.000$',\n",
    "    }\n",
    "\n",
    "    prompt = '\\n'.join(f'{key}: {value}' for key, value in prompt_params.items()) + '\\n\\nquestion: '\n",
    "    response = ollama.chat(model='llama3:8b', messages=[\n",
    "        {\n",
    "            'role': 'user',\n",
    "            'content': prompt + question,\n",
    "        },\n",
    "\n",
    "    ])\n",
    "\n",
    "    return response['message']['content']\n"
   ],
   "id": "c0ac7acf6f8660c",
   "outputs": [],
   "execution_count": 2
  },
  {
   "metadata": {
    "ExecuteTime": {
     "end_time": "2024-06-25T22:53:20.671844Z",
     "start_time": "2024-06-25T22:53:19.814433Z"
    }
   },
   "cell_type": "code",
   "source": [
    "from notebooks.utils import DatasetReader\n",
    "\n",
    "dataset = DatasetReader().read_dirs('../csv')\n",
    "dataset"
   ],
   "id": "3c332d0be11e19c2",
   "outputs": [
    {
     "data": {
      "text/plain": [
       "                                             Questions  \\\n",
       "0                                define the term brand   \n",
       "1    explain one risk jack ma may have taken when s...   \n",
       "2    analyse two factors that may have increased de...   \n",
       "3    discuss if profit maximisation is the main bus...   \n",
       "4    assess the advantages of a paternalistic style...   \n",
       "..                                                 ...   \n",
       "558  what is meant by the term emotional intelligence?   \n",
       "559  true or false? entrepreneurs are often driven ...   \n",
       "560              what is meant by the term figurehead?   \n",
       "561  true or false? many entrepreneurs are driven m...   \n",
       "562  what is the difference between a strategist an...   \n",
       "\n",
       "                          Topic  \n",
       "0    marketing mix and strategy  \n",
       "1     entreprenuers and leaders  \n",
       "2                        market  \n",
       "3     entreprenuers and leaders  \n",
       "4               managing people  \n",
       "..                          ...  \n",
       "558   entreprenuers and leaders  \n",
       "559   entreprenuers and leaders  \n",
       "560   entreprenuers and leaders  \n",
       "561   entreprenuers and leaders  \n",
       "562   entreprenuers and leaders  \n",
       "\n",
       "[563 rows x 2 columns]"
      ],
      "text/html": [
       "<div>\n",
       "<style scoped>\n",
       "    .dataframe tbody tr th:only-of-type {\n",
       "        vertical-align: middle;\n",
       "    }\n",
       "\n",
       "    .dataframe tbody tr th {\n",
       "        vertical-align: top;\n",
       "    }\n",
       "\n",
       "    .dataframe thead th {\n",
       "        text-align: right;\n",
       "    }\n",
       "</style>\n",
       "<table border=\"1\" class=\"dataframe\">\n",
       "  <thead>\n",
       "    <tr style=\"text-align: right;\">\n",
       "      <th></th>\n",
       "      <th>Questions</th>\n",
       "      <th>Topic</th>\n",
       "    </tr>\n",
       "  </thead>\n",
       "  <tbody>\n",
       "    <tr>\n",
       "      <th>0</th>\n",
       "      <td>define the term brand</td>\n",
       "      <td>marketing mix and strategy</td>\n",
       "    </tr>\n",
       "    <tr>\n",
       "      <th>1</th>\n",
       "      <td>explain one risk jack ma may have taken when s...</td>\n",
       "      <td>entreprenuers and leaders</td>\n",
       "    </tr>\n",
       "    <tr>\n",
       "      <th>2</th>\n",
       "      <td>analyse two factors that may have increased de...</td>\n",
       "      <td>market</td>\n",
       "    </tr>\n",
       "    <tr>\n",
       "      <th>3</th>\n",
       "      <td>discuss if profit maximisation is the main bus...</td>\n",
       "      <td>entreprenuers and leaders</td>\n",
       "    </tr>\n",
       "    <tr>\n",
       "      <th>4</th>\n",
       "      <td>assess the advantages of a paternalistic style...</td>\n",
       "      <td>managing people</td>\n",
       "    </tr>\n",
       "    <tr>\n",
       "      <th>...</th>\n",
       "      <td>...</td>\n",
       "      <td>...</td>\n",
       "    </tr>\n",
       "    <tr>\n",
       "      <th>558</th>\n",
       "      <td>what is meant by the term emotional intelligence?</td>\n",
       "      <td>entreprenuers and leaders</td>\n",
       "    </tr>\n",
       "    <tr>\n",
       "      <th>559</th>\n",
       "      <td>true or false? entrepreneurs are often driven ...</td>\n",
       "      <td>entreprenuers and leaders</td>\n",
       "    </tr>\n",
       "    <tr>\n",
       "      <th>560</th>\n",
       "      <td>what is meant by the term figurehead?</td>\n",
       "      <td>entreprenuers and leaders</td>\n",
       "    </tr>\n",
       "    <tr>\n",
       "      <th>561</th>\n",
       "      <td>true or false? many entrepreneurs are driven m...</td>\n",
       "      <td>entreprenuers and leaders</td>\n",
       "    </tr>\n",
       "    <tr>\n",
       "      <th>562</th>\n",
       "      <td>what is the difference between a strategist an...</td>\n",
       "      <td>entreprenuers and leaders</td>\n",
       "    </tr>\n",
       "  </tbody>\n",
       "</table>\n",
       "<p>563 rows × 2 columns</p>\n",
       "</div>"
      ]
     },
     "execution_count": 3,
     "metadata": {},
     "output_type": "execute_result"
    }
   ],
   "execution_count": 3
  },
  {
   "metadata": {
    "ExecuteTime": {
     "end_time": "2024-06-26T01:35:24.755560Z",
     "start_time": "2024-06-25T22:53:34.940285Z"
    }
   },
   "cell_type": "code",
   "source": [
    "augmentations = []\n",
    "\n",
    "for question, topic in tqdm(np.array(dataset)): \n",
    "    # How many augmentations we want to create from one question\n",
    "    for _ in range(4):\n",
    "        augmentations.append((augment(question), topic))"
   ],
   "id": "991ebac01c5fd8b6",
   "outputs": [
    {
     "data": {
      "text/plain": [
       "  0%|          | 0/563 [00:00<?, ?it/s]"
      ],
      "application/vnd.jupyter.widget-view+json": {
       "version_major": 2,
       "version_minor": 0,
       "model_id": "d96f7ba5ac6742a89afb8c127642f447"
      }
     },
     "metadata": {},
     "output_type": "display_data"
    }
   ],
   "execution_count": 4
  },
  {
   "metadata": {
    "ExecuteTime": {
     "end_time": "2024-06-26T01:35:24.767041Z",
     "start_time": "2024-06-26T01:35:24.757587Z"
    }
   },
   "cell_type": "code",
   "source": [
    "with open('augmentations.csv', 'w', newline='') as csvfile:\n",
    "    csvwriter = csv.writer(csvfile)\n",
    "    csvwriter.writerow(['Questions', 'Topic'])\n",
    "    \n",
    "    for question, topic in augmentations:\n",
    "        csvwriter.writerow([question, topic])"
   ],
   "id": "392319862ef3ff03",
   "outputs": [],
   "execution_count": 5
  },
  {
   "metadata": {
    "ExecuteTime": {
     "end_time": "2024-06-26T01:35:24.788294Z",
     "start_time": "2024-06-26T01:35:24.767990Z"
    }
   },
   "cell_type": "code",
   "source": [
    "from notebooks.utils import DatasetReader\n",
    "\n",
    "dataset = DatasetReader().read_dirs('.')\n",
    "dataset"
   ],
   "id": "c55dc84578931a6",
   "outputs": [
    {
     "data": {
      "text/plain": [
       "                                              Questions  \\\n",
       "0     what is the essence of a brand, and how does i...   \n",
       "1     what is the concept of a brand that distinguis...   \n",
       "2     what is meant by a brand, and how does it dist...   \n",
       "3     what is a brand, and how does it differ from a...   \n",
       "4     what was a crucial gamble jack ma took in esta...   \n",
       "...                                                 ...   \n",
       "2247  true or false: do entrepreneurial motivations ...   \n",
       "2248  how do the approaches of a long-term planner v...   \n",
       "2249  what distinguishes an economist's long-term ap...   \n",
       "2250  what are the key distinctions between individu...   \n",
       "2251  what are the key distinctions between an econo...   \n",
       "\n",
       "                           Topic  \n",
       "0     marketing mix and strategy  \n",
       "1     marketing mix and strategy  \n",
       "2     marketing mix and strategy  \n",
       "3     marketing mix and strategy  \n",
       "4      entreprenuers and leaders  \n",
       "...                          ...  \n",
       "2247   entreprenuers and leaders  \n",
       "2248   entreprenuers and leaders  \n",
       "2249   entreprenuers and leaders  \n",
       "2250   entreprenuers and leaders  \n",
       "2251   entreprenuers and leaders  \n",
       "\n",
       "[2252 rows x 2 columns]"
      ],
      "text/html": [
       "<div>\n",
       "<style scoped>\n",
       "    .dataframe tbody tr th:only-of-type {\n",
       "        vertical-align: middle;\n",
       "    }\n",
       "\n",
       "    .dataframe tbody tr th {\n",
       "        vertical-align: top;\n",
       "    }\n",
       "\n",
       "    .dataframe thead th {\n",
       "        text-align: right;\n",
       "    }\n",
       "</style>\n",
       "<table border=\"1\" class=\"dataframe\">\n",
       "  <thead>\n",
       "    <tr style=\"text-align: right;\">\n",
       "      <th></th>\n",
       "      <th>Questions</th>\n",
       "      <th>Topic</th>\n",
       "    </tr>\n",
       "  </thead>\n",
       "  <tbody>\n",
       "    <tr>\n",
       "      <th>0</th>\n",
       "      <td>what is the essence of a brand, and how does i...</td>\n",
       "      <td>marketing mix and strategy</td>\n",
       "    </tr>\n",
       "    <tr>\n",
       "      <th>1</th>\n",
       "      <td>what is the concept of a brand that distinguis...</td>\n",
       "      <td>marketing mix and strategy</td>\n",
       "    </tr>\n",
       "    <tr>\n",
       "      <th>2</th>\n",
       "      <td>what is meant by a brand, and how does it dist...</td>\n",
       "      <td>marketing mix and strategy</td>\n",
       "    </tr>\n",
       "    <tr>\n",
       "      <th>3</th>\n",
       "      <td>what is a brand, and how does it differ from a...</td>\n",
       "      <td>marketing mix and strategy</td>\n",
       "    </tr>\n",
       "    <tr>\n",
       "      <th>4</th>\n",
       "      <td>what was a crucial gamble jack ma took in esta...</td>\n",
       "      <td>entreprenuers and leaders</td>\n",
       "    </tr>\n",
       "    <tr>\n",
       "      <th>...</th>\n",
       "      <td>...</td>\n",
       "      <td>...</td>\n",
       "    </tr>\n",
       "    <tr>\n",
       "      <th>2247</th>\n",
       "      <td>true or false: do entrepreneurial motivations ...</td>\n",
       "      <td>entreprenuers and leaders</td>\n",
       "    </tr>\n",
       "    <tr>\n",
       "      <th>2248</th>\n",
       "      <td>how do the approaches of a long-term planner v...</td>\n",
       "      <td>entreprenuers and leaders</td>\n",
       "    </tr>\n",
       "    <tr>\n",
       "      <th>2249</th>\n",
       "      <td>what distinguishes an economist's long-term ap...</td>\n",
       "      <td>entreprenuers and leaders</td>\n",
       "    </tr>\n",
       "    <tr>\n",
       "      <th>2250</th>\n",
       "      <td>what are the key distinctions between individu...</td>\n",
       "      <td>entreprenuers and leaders</td>\n",
       "    </tr>\n",
       "    <tr>\n",
       "      <th>2251</th>\n",
       "      <td>what are the key distinctions between an econo...</td>\n",
       "      <td>entreprenuers and leaders</td>\n",
       "    </tr>\n",
       "  </tbody>\n",
       "</table>\n",
       "<p>2252 rows × 2 columns</p>\n",
       "</div>"
      ]
     },
     "execution_count": 6,
     "metadata": {},
     "output_type": "execute_result"
    }
   ],
   "execution_count": 6
  }
 ],
 "metadata": {
  "kernelspec": {
   "display_name": "Python 3",
   "language": "python",
   "name": "python3"
  },
  "language_info": {
   "codemirror_mode": {
    "name": "ipython",
    "version": 2
   },
   "file_extension": ".py",
   "mimetype": "text/x-python",
   "name": "python",
   "nbconvert_exporter": "python",
   "pygments_lexer": "ipython2",
   "version": "2.7.6"
  }
 },
 "nbformat": 4,
 "nbformat_minor": 5
}
