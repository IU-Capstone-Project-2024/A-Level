{
 "cells": [
  {
   "cell_type": "code",
   "id": "initial_id",
   "metadata": {
    "collapsed": true,
    "ExecuteTime": {
     "end_time": "2024-07-11T14:24:47.477414Z",
     "start_time": "2024-07-11T14:24:46.183306Z"
    }
   },
   "source": [
    "import numpy as np\n",
    "\n",
    "from utils import DatasetReader\n",
    "from transformers import AutoTokenizer, AutoModel, RobertaModel, RobertaTokenizerFast\n",
    "import torch\n",
    "import torch.nn as nn\n",
    "from torch.utils.data import Dataset, DataLoader\n",
    "import matplotlib.pyplot as plt\n",
    "from tqdm.notebook import tqdm\n",
    "import gc\n",
    "from efficient_kan import KANLinear\n",
    "\n",
    "torch.backends.cuda.matmul.allow_fp16_reduced_precision_reduction = True\n",
    "device = torch.device(\"cuda\" if torch.cuda.is_available() else \"cpu\")\n",
    "device"
   ],
   "outputs": [
    {
     "data": {
      "text/plain": [
       "device(type='cuda')"
      ]
     },
     "execution_count": 1,
     "metadata": {},
     "output_type": "execute_result"
    }
   ],
   "execution_count": 1
  },
  {
   "metadata": {
    "ExecuteTime": {
     "end_time": "2024-07-11T14:24:49.776707Z",
     "start_time": "2024-07-11T14:24:47.478272Z"
    }
   },
   "cell_type": "code",
   "source": [
    "class Model(nn.Module):\n",
    "    def __init__(self, pretrained_name='distilroberta-base'):\n",
    "        super(Model, self).__init__()\n",
    "\n",
    "        self.tokenizer = RobertaTokenizerFast.from_pretrained(pretrained_name)\n",
    "        self.model = RobertaModel.from_pretrained(pretrained_name)\n",
    "\n",
    "        self.embedding_size = self.model.embeddings.word_embeddings.embedding_dim\n",
    "\n",
    "        self.fc = nn.Sequential(\n",
    "            KANLinear(in_features=self.embedding_size * 2, out_features=self.embedding_size),\n",
    "            KANLinear(in_features=self.embedding_size, out_features=self.embedding_size),\n",
    "            KANLinear(in_features=self.embedding_size, out_features=self.embedding_size // 2),\n",
    "            KANLinear(in_features=self.embedding_size // 2, out_features=5),\n",
    "        )\n",
    "\n",
    "    def forward(self, x: list[str]):\n",
    "        encoded_batch = self.tokenizer(x, padding=True, truncation=True, return_tensors='pt')\n",
    "        encoded_batch.to(self.model.device)\n",
    "\n",
    "        out = self.model(**encoded_batch).last_hidden_state\n",
    "\n",
    "        out = torch.concatenate([out[:, 0, :], out[:, -1, :]], dim=1)\n",
    "\n",
    "        out = self.fc(out)\n",
    "\n",
    "        del encoded_batch\n",
    "        return out\n",
    "\n",
    "\n",
    "Model()(['hello', 'world', 'I can put so many words here to explore how does the tokes work']).shape"
   ],
   "id": "d0ceb9159c6f7b58",
   "outputs": [
    {
     "data": {
      "text/plain": [
       "torch.Size([3, 5])"
      ]
     },
     "execution_count": 2,
     "metadata": {},
     "output_type": "execute_result"
    }
   ],
   "execution_count": 2
  },
  {
   "metadata": {
    "ExecuteTime": {
     "end_time": "2024-07-11T14:24:49.780442Z",
     "start_time": "2024-07-11T14:24:49.777697Z"
    }
   },
   "cell_type": "code",
   "source": [
    "class TextDataset(Dataset):\n",
    "    def __init__(self, data):\n",
    "        super(TextDataset, self).__init__()\n",
    "        self.data = np.array(data.iloc[:, 0])\n",
    "        self.labels = np.array(data.iloc[:, 1])\n",
    "\n",
    "    def __len__(self):\n",
    "        return len(self.labels)\n",
    "\n",
    "    def __getitem__(self, index):\n",
    "        return self.data[index], self.labels[index]"
   ],
   "id": "47f95b9fd969483b",
   "outputs": [],
   "execution_count": 3
  },
  {
   "metadata": {
    "ExecuteTime": {
     "end_time": "2024-07-11T14:24:49.820649Z",
     "start_time": "2024-07-11T14:24:49.782061Z"
    }
   },
   "cell_type": "code",
   "source": [
    "test_data, train_data = DatasetReader(encode_labels=True, test_size=0.2).read_dirs('../data')\n",
    "test_data, train_data = TextDataset(test_data), TextDataset(train_data)\n",
    "len(test_data), len(train_data)"
   ],
   "id": "27f7be081433f45",
   "outputs": [
    {
     "data": {
      "text/plain": [
       "(563, 2252)"
      ]
     },
     "execution_count": 4,
     "metadata": {},
     "output_type": "execute_result"
    }
   ],
   "execution_count": 4
  },
  {
   "metadata": {
    "ExecuteTime": {
     "end_time": "2024-07-11T14:24:49.823533Z",
     "start_time": "2024-07-11T14:24:49.821506Z"
    }
   },
   "cell_type": "code",
   "source": [
    "train_loader = DataLoader(train_data, batch_size=16, shuffle=True)\n",
    "test_loader = DataLoader(test_data, batch_size=16)"
   ],
   "id": "504964815984b165",
   "outputs": [],
   "execution_count": 5
  },
  {
   "metadata": {
    "ExecuteTime": {
     "end_time": "2024-07-11T14:24:49.828336Z",
     "start_time": "2024-07-11T14:24:49.824293Z"
    }
   },
   "cell_type": "code",
   "source": [
    "def train(model, loader, optimizer, criterion, device, _tqdm=False):\n",
    "    model = model.to(device)\n",
    "    model.train()\n",
    "\n",
    "    train_loss = 0\n",
    "\n",
    "    rng = tqdm(loader) if _tqdm else loader\n",
    "    for batch in rng:\n",
    "        data, label = batch\n",
    "        label = label.to(device)\n",
    "\n",
    "        loss = criterion(model(data), label)\n",
    "\n",
    "        optimizer.zero_grad()\n",
    "        loss.backward()\n",
    "        optimizer.step()\n",
    "\n",
    "        train_loss += loss.item()\n",
    "\n",
    "        del label\n",
    "        torch.cuda.empty_cache()\n",
    "        gc.collect()\n",
    "    return train_loss\n",
    "\n",
    "\n",
    "def test(model, loader, device, _tqdm=False):\n",
    "    correct_samples = 0\n",
    "    all_samples = 0\n",
    "\n",
    "    with torch.no_grad():\n",
    "        for batch in loader:\n",
    "            data, label = batch\n",
    "            label = label.to(device)\n",
    "            output = model(data)\n",
    "            prediction = torch.argmax(output, dim=1)\n",
    "            correct_samples += sum(label == prediction)\n",
    "            all_samples += len(label)\n",
    "\n",
    "            torch.cuda.empty_cache()\n",
    "            gc.collect()\n",
    "    return float(correct_samples / all_samples)\n"
   ],
   "id": "79dc7f0b3f1472c9",
   "outputs": [],
   "execution_count": 6
  },
  {
   "metadata": {
    "ExecuteTime": {
     "end_time": "2024-07-11T14:24:50.795832Z",
     "start_time": "2024-07-11T14:24:49.828929Z"
    }
   },
   "cell_type": "code",
   "source": [
    "criterion = nn.CrossEntropyLoss()\n",
    "model = Model(pretrained_name='distilroberta-base').to(device)\n",
    "optimizer = torch.optim.Adam(model.parameters(), lr=1e-4)\n",
    "\n",
    "train_losses = []\n",
    "train_accuracies = []\n",
    "test_accuracies = []"
   ],
   "id": "f486e9bbf0c1a1e",
   "outputs": [],
   "execution_count": 7
  },
  {
   "metadata": {
    "ExecuteTime": {
     "end_time": "2024-07-11T16:55:27.894847Z",
     "start_time": "2024-07-11T16:27:07.365712Z"
    }
   },
   "cell_type": "code",
   "source": [
    "for epoch in (bar := tqdm(range(30))):\n",
    "    train_loss = train(model, train_loader, optimizer, criterion, device, _tqdm=True)\n",
    "    train_losses.append(train_loss)\n",
    "\n",
    "    train_acc = test(model, train_loader, device, _tqdm=True)\n",
    "    test_acc = test(model, test_loader, device, _tqdm=True)\n",
    "\n",
    "    train_accuracies.append(train_acc)\n",
    "    test_accuracies.append(test_acc)\n",
    "\n",
    "    bar.set_postfix({'train_accuracy': train_acc, 'test_accuracy': test_acc})"
   ],
   "id": "58a4c33b5dcd86ef",
   "outputs": [
    {
     "data": {
      "text/plain": [
       "  0%|          | 0/30 [00:00<?, ?it/s]"
      ],
      "application/vnd.jupyter.widget-view+json": {
       "version_major": 2,
       "version_minor": 0,
       "model_id": "585f965cb611427d81ec68cb3d43f78c"
      }
     },
     "metadata": {},
     "output_type": "display_data"
    },
    {
     "data": {
      "text/plain": [
       "  0%|          | 0/141 [00:00<?, ?it/s]"
      ],
      "application/vnd.jupyter.widget-view+json": {
       "version_major": 2,
       "version_minor": 0,
       "model_id": "a6711511cfdc4b2faf9beee1e912d75e"
      }
     },
     "metadata": {},
     "output_type": "display_data"
    },
    {
     "data": {
      "text/plain": [
       "  0%|          | 0/141 [00:00<?, ?it/s]"
      ],
      "application/vnd.jupyter.widget-view+json": {
       "version_major": 2,
       "version_minor": 0,
       "model_id": "078b991385fd477ab1e28a8cec0272a9"
      }
     },
     "metadata": {},
     "output_type": "display_data"
    },
    {
     "data": {
      "text/plain": [
       "  0%|          | 0/141 [00:00<?, ?it/s]"
      ],
      "application/vnd.jupyter.widget-view+json": {
       "version_major": 2,
       "version_minor": 0,
       "model_id": "18e9cf1d0f76466db7e712dec690c863"
      }
     },
     "metadata": {},
     "output_type": "display_data"
    },
    {
     "data": {
      "text/plain": [
       "  0%|          | 0/141 [00:00<?, ?it/s]"
      ],
      "application/vnd.jupyter.widget-view+json": {
       "version_major": 2,
       "version_minor": 0,
       "model_id": "4d130fe0e6b449b0b4fcf074985461b2"
      }
     },
     "metadata": {},
     "output_type": "display_data"
    },
    {
     "data": {
      "text/plain": [
       "  0%|          | 0/141 [00:00<?, ?it/s]"
      ],
      "application/vnd.jupyter.widget-view+json": {
       "version_major": 2,
       "version_minor": 0,
       "model_id": "5cb837e9f9444d1f8c58e92f08bdd0fc"
      }
     },
     "metadata": {},
     "output_type": "display_data"
    },
    {
     "data": {
      "text/plain": [
       "  0%|          | 0/141 [00:00<?, ?it/s]"
      ],
      "application/vnd.jupyter.widget-view+json": {
       "version_major": 2,
       "version_minor": 0,
       "model_id": "f926ae7cbbf649f8ae0d20f2bdb71ad2"
      }
     },
     "metadata": {},
     "output_type": "display_data"
    },
    {
     "data": {
      "text/plain": [
       "  0%|          | 0/141 [00:00<?, ?it/s]"
      ],
      "application/vnd.jupyter.widget-view+json": {
       "version_major": 2,
       "version_minor": 0,
       "model_id": "bff7d3457eec4ac2838be8f8c989dd8a"
      }
     },
     "metadata": {},
     "output_type": "display_data"
    },
    {
     "data": {
      "text/plain": [
       "  0%|          | 0/141 [00:00<?, ?it/s]"
      ],
      "application/vnd.jupyter.widget-view+json": {
       "version_major": 2,
       "version_minor": 0,
       "model_id": "e7cd69d706094c51a2476d4abfe0d890"
      }
     },
     "metadata": {},
     "output_type": "display_data"
    },
    {
     "data": {
      "text/plain": [
       "  0%|          | 0/141 [00:00<?, ?it/s]"
      ],
      "application/vnd.jupyter.widget-view+json": {
       "version_major": 2,
       "version_minor": 0,
       "model_id": "09956457dd9f46469dd6f958decf18fa"
      }
     },
     "metadata": {},
     "output_type": "display_data"
    },
    {
     "data": {
      "text/plain": [
       "  0%|          | 0/141 [00:00<?, ?it/s]"
      ],
      "application/vnd.jupyter.widget-view+json": {
       "version_major": 2,
       "version_minor": 0,
       "model_id": "ef7c6b53001a4e5e8f1acb1e3e723deb"
      }
     },
     "metadata": {},
     "output_type": "display_data"
    },
    {
     "data": {
      "text/plain": [
       "  0%|          | 0/141 [00:00<?, ?it/s]"
      ],
      "application/vnd.jupyter.widget-view+json": {
       "version_major": 2,
       "version_minor": 0,
       "model_id": "0dbc1840e94a4aa6ab2e55173e7278b5"
      }
     },
     "metadata": {},
     "output_type": "display_data"
    },
    {
     "data": {
      "text/plain": [
       "  0%|          | 0/141 [00:00<?, ?it/s]"
      ],
      "application/vnd.jupyter.widget-view+json": {
       "version_major": 2,
       "version_minor": 0,
       "model_id": "021380838154422493b42f5c090dc041"
      }
     },
     "metadata": {},
     "output_type": "display_data"
    },
    {
     "data": {
      "text/plain": [
       "  0%|          | 0/141 [00:00<?, ?it/s]"
      ],
      "application/vnd.jupyter.widget-view+json": {
       "version_major": 2,
       "version_minor": 0,
       "model_id": "8c8fc038db604aeb90bfb53e28ed2d72"
      }
     },
     "metadata": {},
     "output_type": "display_data"
    },
    {
     "data": {
      "text/plain": [
       "  0%|          | 0/141 [00:00<?, ?it/s]"
      ],
      "application/vnd.jupyter.widget-view+json": {
       "version_major": 2,
       "version_minor": 0,
       "model_id": "49009168b3ea4c1d810468b4dc93678d"
      }
     },
     "metadata": {},
     "output_type": "display_data"
    },
    {
     "data": {
      "text/plain": [
       "  0%|          | 0/141 [00:00<?, ?it/s]"
      ],
      "application/vnd.jupyter.widget-view+json": {
       "version_major": 2,
       "version_minor": 0,
       "model_id": "13e2bff2c3654435a24bb67828b88524"
      }
     },
     "metadata": {},
     "output_type": "display_data"
    },
    {
     "data": {
      "text/plain": [
       "  0%|          | 0/141 [00:00<?, ?it/s]"
      ],
      "application/vnd.jupyter.widget-view+json": {
       "version_major": 2,
       "version_minor": 0,
       "model_id": "6960d3068b284676a7dfab45284f69c0"
      }
     },
     "metadata": {},
     "output_type": "display_data"
    },
    {
     "data": {
      "text/plain": [
       "  0%|          | 0/141 [00:00<?, ?it/s]"
      ],
      "application/vnd.jupyter.widget-view+json": {
       "version_major": 2,
       "version_minor": 0,
       "model_id": "6a1734123b1b4fb9b2e9bd8a7ded8402"
      }
     },
     "metadata": {},
     "output_type": "display_data"
    },
    {
     "data": {
      "text/plain": [
       "  0%|          | 0/141 [00:00<?, ?it/s]"
      ],
      "application/vnd.jupyter.widget-view+json": {
       "version_major": 2,
       "version_minor": 0,
       "model_id": "0c5974a1b3984044af9397761599dca9"
      }
     },
     "metadata": {},
     "output_type": "display_data"
    },
    {
     "data": {
      "text/plain": [
       "  0%|          | 0/141 [00:00<?, ?it/s]"
      ],
      "application/vnd.jupyter.widget-view+json": {
       "version_major": 2,
       "version_minor": 0,
       "model_id": "a58737b2510340b9970849abe90ded36"
      }
     },
     "metadata": {},
     "output_type": "display_data"
    },
    {
     "data": {
      "text/plain": [
       "  0%|          | 0/141 [00:00<?, ?it/s]"
      ],
      "application/vnd.jupyter.widget-view+json": {
       "version_major": 2,
       "version_minor": 0,
       "model_id": "0ce5b4de23984dcdbddac1f33b40dd30"
      }
     },
     "metadata": {},
     "output_type": "display_data"
    },
    {
     "data": {
      "text/plain": [
       "  0%|          | 0/141 [00:00<?, ?it/s]"
      ],
      "application/vnd.jupyter.widget-view+json": {
       "version_major": 2,
       "version_minor": 0,
       "model_id": "634ac0cac813425983a59d656b2d1efa"
      }
     },
     "metadata": {},
     "output_type": "display_data"
    },
    {
     "data": {
      "text/plain": [
       "  0%|          | 0/141 [00:00<?, ?it/s]"
      ],
      "application/vnd.jupyter.widget-view+json": {
       "version_major": 2,
       "version_minor": 0,
       "model_id": "e1454c2d07a34af2b275a3cb267654f0"
      }
     },
     "metadata": {},
     "output_type": "display_data"
    },
    {
     "data": {
      "text/plain": [
       "  0%|          | 0/141 [00:00<?, ?it/s]"
      ],
      "application/vnd.jupyter.widget-view+json": {
       "version_major": 2,
       "version_minor": 0,
       "model_id": "c6e6430aa98e4189b00fc5d35f0f9d47"
      }
     },
     "metadata": {},
     "output_type": "display_data"
    },
    {
     "data": {
      "text/plain": [
       "  0%|          | 0/141 [00:00<?, ?it/s]"
      ],
      "application/vnd.jupyter.widget-view+json": {
       "version_major": 2,
       "version_minor": 0,
       "model_id": "95a1a12bb1e2417da298a40a36394393"
      }
     },
     "metadata": {},
     "output_type": "display_data"
    },
    {
     "data": {
      "text/plain": [
       "  0%|          | 0/141 [00:00<?, ?it/s]"
      ],
      "application/vnd.jupyter.widget-view+json": {
       "version_major": 2,
       "version_minor": 0,
       "model_id": "538a3b7d73a541a688a0aa5ffc2cb111"
      }
     },
     "metadata": {},
     "output_type": "display_data"
    },
    {
     "data": {
      "text/plain": [
       "  0%|          | 0/141 [00:00<?, ?it/s]"
      ],
      "application/vnd.jupyter.widget-view+json": {
       "version_major": 2,
       "version_minor": 0,
       "model_id": "450383fb0998484db6b388b1a9176a34"
      }
     },
     "metadata": {},
     "output_type": "display_data"
    },
    {
     "data": {
      "text/plain": [
       "  0%|          | 0/141 [00:00<?, ?it/s]"
      ],
      "application/vnd.jupyter.widget-view+json": {
       "version_major": 2,
       "version_minor": 0,
       "model_id": "8298f8d2dd614cdc98d7001d9823b9f5"
      }
     },
     "metadata": {},
     "output_type": "display_data"
    },
    {
     "data": {
      "text/plain": [
       "  0%|          | 0/141 [00:00<?, ?it/s]"
      ],
      "application/vnd.jupyter.widget-view+json": {
       "version_major": 2,
       "version_minor": 0,
       "model_id": "065f529ee4ae4d95bb62107d7d1ae685"
      }
     },
     "metadata": {},
     "output_type": "display_data"
    },
    {
     "data": {
      "text/plain": [
       "  0%|          | 0/141 [00:00<?, ?it/s]"
      ],
      "application/vnd.jupyter.widget-view+json": {
       "version_major": 2,
       "version_minor": 0,
       "model_id": "50e54fb502de41af921bcece787fbdbf"
      }
     },
     "metadata": {},
     "output_type": "display_data"
    },
    {
     "data": {
      "text/plain": [
       "  0%|          | 0/141 [00:00<?, ?it/s]"
      ],
      "application/vnd.jupyter.widget-view+json": {
       "version_major": 2,
       "version_minor": 0,
       "model_id": "1375f1b7cdc54bbfac571430c0bd8f14"
      }
     },
     "metadata": {},
     "output_type": "display_data"
    }
   ],
   "execution_count": 13
  },
  {
   "metadata": {
    "ExecuteTime": {
     "end_time": "2024-07-11T17:11:41.944112Z",
     "start_time": "2024-07-11T17:11:41.776075Z"
    }
   },
   "cell_type": "code",
   "source": [
    "plt.plot(train_losses, label='train loss')\n",
    "plt.legend()\n",
    "plt.show()\n",
    "\n",
    "plt.plot(train_accuracies, label='train accuracy')\n",
    "plt.plot(test_accuracies, label='test accuracy')\n",
    "plt.plot([0.95] * len(test_accuracies), label='95%', c='blue')\n",
    "plt.plot([0.9] * len(test_accuracies), label='90%', c='hotpink')\n",
    "plt.plot([0.85] * len(test_accuracies), label='85%', c='purple')\n",
    "plt.legend()\n",
    "plt.show()"
   ],
   "id": "218eecbd328c5b59",
   "outputs": [
    {
     "data": {
      "text/plain": [
       "<Figure size 640x480 with 1 Axes>"
      ],
      "image/png": "[encoded data removed]"
     },
     "metadata": {},
     "output_type": "display_data"
    },
    {
     "data": {
      "text/plain": [
       "<Figure size 640x480 with 1 Axes>"
      ],
      "image/png": "[encoded data removed]"
     },
     "metadata": {},
     "output_type": "display_data"
    }
   ],
   "execution_count": 14
  }
 ],
 "metadata": {
  "kernelspec": {
   "display_name": "Python 3",
   "language": "python",
   "name": "python3"
  },
  "language_info": {
   "codemirror_mode": {
    "name": "ipython",
    "version": 2
   },
   "file_extension": ".py",
   "mimetype": "text/x-python",
   "name": "python",
   "nbconvert_exporter": "python",
   "pygments_lexer": "ipython2",
   "version": "2.7.6"
  }
 },
 "nbformat": 4,
 "nbformat_minor": 5
}
