{
 "cells": [
  {
   "cell_type": "code",
   "id": "initial_id",
   "metadata": {
    "collapsed": true,
    "ExecuteTime": {
     "end_time": "2024-07-14T21:58:40.854299Z",
     "start_time": "2024-07-14T21:58:38.932249Z"
    }
   },
   "source": [
    "import numpy as np\n",
    "\n",
    "from utils import DatasetReader\n",
    "from transformers import RobertaModel, RobertaTokenizerFast\n",
    "import torch\n",
    "import torch.nn as nn\n",
    "from torch.utils.data import Dataset, DataLoader\n",
    "import matplotlib.pyplot as plt\n",
    "from tqdm.notebook import tqdm\n",
    "from efficient_kan import KANLinear\n",
    "\n",
    "torch.backends.cuda.matmul.allow_fp16_reduced_precision_reduction = True\n",
    "device = torch.device(\"cuda\" if torch.cuda.is_available() else \"cpu\")\n",
    "device"
   ],
   "outputs": [
    {
     "data": {
      "text/plain": [
       "device(type='cuda')"
      ]
     },
     "execution_count": 1,
     "metadata": {},
     "output_type": "execute_result"
    }
   ],
   "execution_count": 1
  },
  {
   "metadata": {
    "ExecuteTime": {
     "end_time": "2024-07-14T21:58:42.500122Z",
     "start_time": "2024-07-14T21:58:40.950047Z"
    }
   },
   "cell_type": "code",
   "source": [
    "class Model(nn.Module):\n",
    "    def __init__(self, pretrained_name='distilroberta-base'):\n",
    "        super(Model, self).__init__()\n",
    "\n",
    "        self.tokenizer = RobertaTokenizerFast.from_pretrained(pretrained_name)\n",
    "        self.model = RobertaModel.from_pretrained(pretrained_name)\n",
    "\n",
    "        self.embedding_size = self.model.embeddings.word_embeddings.embedding_dim\n",
    "\n",
    "        self.fc = nn.Sequential(\n",
    "            KANLinear(in_features=self.embedding_size * 2, out_features=self.embedding_size),\n",
    "            KANLinear(in_features=self.embedding_size, out_features=self.embedding_size),\n",
    "            KANLinear(in_features=self.embedding_size, out_features=self.embedding_size // 2),\n",
    "            KANLinear(in_features=self.embedding_size // 2, out_features=5),\n",
    "        )\n",
    "\n",
    "    def forward(self, x: list[str]):\n",
    "        encoded_batch = self.tokenizer(x, padding=True, truncation=True, return_tensors='pt')\n",
    "        encoded_batch.to(self.model.device)\n",
    "\n",
    "        out = self.model(**encoded_batch).last_hidden_state\n",
    "\n",
    "        out = torch.concatenate([out[:, 0, :], out[:, -1, :]], dim=1)\n",
    "\n",
    "        out = self.fc(out)\n",
    "\n",
    "        del encoded_batch\n",
    "        return out\n",
    "\n",
    "\n",
    "Model()(['hello', 'world', 'I can put so many words here to explore how does the tokes work']).shape"
   ],
   "id": "d0ceb9159c6f7b58",
   "outputs": [
    {
     "data": {
      "text/plain": [
       "torch.Size([3, 5])"
      ]
     },
     "execution_count": 2,
     "metadata": {},
     "output_type": "execute_result"
    }
   ],
   "execution_count": 2
  },
  {
   "metadata": {
    "ExecuteTime": {
     "end_time": "2024-07-14T21:58:42.885422Z",
     "start_time": "2024-07-14T21:58:42.882608Z"
    }
   },
   "cell_type": "code",
   "source": [
    "class TextDataset(Dataset):\n",
    "    def __init__(self, data):\n",
    "        super(TextDataset, self).__init__()\n",
    "        self.data = np.array(data.iloc[:, 0])\n",
    "        self.labels = np.array(data.iloc[:, 1])\n",
    "\n",
    "    def __len__(self):\n",
    "        return len(self.labels)\n",
    "\n",
    "    def __getitem__(self, index):\n",
    "        return self.data[index], self.labels[index]"
   ],
   "id": "47f95b9fd969483b",
   "outputs": [],
   "execution_count": 3
  },
  {
   "metadata": {
    "ExecuteTime": {
     "end_time": "2024-07-14T21:58:44.578446Z",
     "start_time": "2024-07-14T21:58:44.560395Z"
    }
   },
   "cell_type": "code",
   "source": [
    "reader = DatasetReader(encode_labels=True, test_size=0.2)\n",
    "test_data, train_data = reader.read_dirs('../data')\n",
    "test_data, train_data = TextDataset(test_data), TextDataset(train_data)\n",
    "len(test_data), len(train_data)"
   ],
   "id": "27f7be081433f45",
   "outputs": [
    {
     "data": {
      "text/plain": [
       "(563, 2252)"
      ]
     },
     "execution_count": 4,
     "metadata": {},
     "output_type": "execute_result"
    }
   ],
   "execution_count": 4
  },
  {
   "metadata": {
    "ExecuteTime": {
     "end_time": "2024-07-14T21:58:46.490812Z",
     "start_time": "2024-07-14T21:58:46.487752Z"
    }
   },
   "cell_type": "code",
   "source": [
    "train_loader = DataLoader(train_data, batch_size=16, shuffle=True)\n",
    "test_loader = DataLoader(test_data, batch_size=16)"
   ],
   "id": "504964815984b165",
   "outputs": [],
   "execution_count": 5
  },
  {
   "metadata": {
    "ExecuteTime": {
     "end_time": "2024-07-14T21:58:47.926448Z",
     "start_time": "2024-07-14T21:58:47.922656Z"
    }
   },
   "cell_type": "code",
   "source": [
    "def train(model, loader, optimizer, criterion, device, _tqdm=False):\n",
    "    model = model.to(device)\n",
    "    model.train()\n",
    "\n",
    "    train_loss = 0\n",
    "\n",
    "    rng = tqdm(loader) if _tqdm else loader\n",
    "    for batch in rng:\n",
    "        data, label = batch\n",
    "        label = label.to(device)\n",
    "\n",
    "        loss = criterion(model(data), label)\n",
    "\n",
    "        optimizer.zero_grad()\n",
    "        loss.backward()\n",
    "        optimizer.step()\n",
    "\n",
    "        train_loss += loss.item()\n",
    "\n",
    "        del label\n",
    "        torch.cuda.empty_cache()\n",
    "        gc.collect()\n",
    "    return train_loss\n",
    "\n",
    "\n",
    "def test(model, loader, device, _tqdm=False):\n",
    "    correct_samples = 0\n",
    "    all_samples = 0\n",
    "\n",
    "    with torch.no_grad():\n",
    "        for batch in loader:\n",
    "            data, label = batch\n",
    "            label = label.to(device)\n",
    "            output = model(data)\n",
    "            prediction = torch.argmax(output, dim=1)\n",
    "            correct_samples += sum(label == prediction)\n",
    "            all_samples += len(label)\n",
    "\n",
    "            torch.cuda.empty_cache()\n",
    "            gc.collect()\n",
    "    return float(correct_samples / all_samples)\n"
   ],
   "id": "79dc7f0b3f1472c9",
   "outputs": [],
   "execution_count": 6
  },
  {
   "metadata": {
    "ExecuteTime": {
     "end_time": "2024-07-14T21:58:52.740548Z",
     "start_time": "2024-07-14T21:58:51.527634Z"
    }
   },
   "cell_type": "code",
   "source": [
    "criterion = nn.CrossEntropyLoss()\n",
    "model = Model(pretrained_name='distilroberta-base').to(device)\n",
    "optimizer = torch.optim.Adam(model.parameters(), lr=1e-4)\n",
    "\n",
    "train_losses = []\n",
    "train_accuracies = []\n",
    "test_accuracies = []"
   ],
   "id": "f486e9bbf0c1a1e",
   "outputs": [],
   "execution_count": 7
  },
  {
   "metadata": {
    "ExecuteTime": {
     "end_time": "2024-07-14T02:04:36.683451Z",
     "start_time": "2024-07-14T01:50:46.978629Z"
    }
   },
   "cell_type": "code",
   "source": [
    "for epoch in (bar := tqdm(range(15))):\n",
    "    train_loss = train(model, train_loader, optimizer, criterion, device, _tqdm=True)\n",
    "    train_losses.append(train_loss)\n",
    "\n",
    "    train_acc = test(model, train_loader, device, _tqdm=True)\n",
    "    test_acc = test(model, test_loader, device, _tqdm=True)\n",
    "\n",
    "    train_accuracies.append(train_acc)\n",
    "    test_accuracies.append(test_acc)\n",
    "\n",
    "    bar.set_postfix({'train_accuracy': train_acc, 'test_accuracy': test_acc})"
   ],
   "id": "58a4c33b5dcd86ef",
   "outputs": [
    {
     "data": {
      "text/plain": [
       "  0%|          | 0/15 [00:00<?, ?it/s]"
      ],
      "application/vnd.jupyter.widget-view+json": {
       "version_major": 2,
       "version_minor": 0,
       "model_id": "7ef3b41e3dae4360a2f00fe67b96a5e2"
      }
     },
     "metadata": {},
     "output_type": "display_data"
    },
    {
     "data": {
      "text/plain": [
       "  0%|          | 0/141 [00:00<?, ?it/s]"
      ],
      "application/vnd.jupyter.widget-view+json": {
       "version_major": 2,
       "version_minor": 0,
       "model_id": "b03aef651a4446338e2e9730cdba8785"
      }
     },
     "metadata": {},
     "output_type": "display_data"
    },
    {
     "data": {
      "text/plain": [
       "  0%|          | 0/141 [00:00<?, ?it/s]"
      ],
      "application/vnd.jupyter.widget-view+json": {
       "version_major": 2,
       "version_minor": 0,
       "model_id": "546ecd0d8a524e699490dd4de51f966a"
      }
     },
     "metadata": {},
     "output_type": "display_data"
    },
    {
     "data": {
      "text/plain": [
       "  0%|          | 0/141 [00:00<?, ?it/s]"
      ],
      "application/vnd.jupyter.widget-view+json": {
       "version_major": 2,
       "version_minor": 0,
       "model_id": "5706023f77964318a8f5a317a0185afd"
      }
     },
     "metadata": {},
     "output_type": "display_data"
    },
    {
     "data": {
      "text/plain": [
       "  0%|          | 0/141 [00:00<?, ?it/s]"
      ],
      "application/vnd.jupyter.widget-view+json": {
       "version_major": 2,
       "version_minor": 0,
       "model_id": "fc2a746c5061435abd16ab43635aafc5"
      }
     },
     "metadata": {},
     "output_type": "display_data"
    },
    {
     "data": {
      "text/plain": [
       "  0%|          | 0/141 [00:00<?, ?it/s]"
      ],
      "application/vnd.jupyter.widget-view+json": {
       "version_major": 2,
       "version_minor": 0,
       "model_id": "2ba2a0ed792f4e30a4cf6a5dffc288d7"
      }
     },
     "metadata": {},
     "output_type": "display_data"
    },
    {
     "data": {
      "text/plain": [
       "  0%|          | 0/141 [00:00<?, ?it/s]"
      ],
      "application/vnd.jupyter.widget-view+json": {
       "version_major": 2,
       "version_minor": 0,
       "model_id": "7b3184d0d14b4df78ff729ef07ee6388"
      }
     },
     "metadata": {},
     "output_type": "display_data"
    },
    {
     "data": {
      "text/plain": [
       "  0%|          | 0/141 [00:00<?, ?it/s]"
      ],
      "application/vnd.jupyter.widget-view+json": {
       "version_major": 2,
       "version_minor": 0,
       "model_id": "f1f9d8c7174845a2995735ea3e57392c"
      }
     },
     "metadata": {},
     "output_type": "display_data"
    },
    {
     "data": {
      "text/plain": [
       "  0%|          | 0/141 [00:00<?, ?it/s]"
      ],
      "application/vnd.jupyter.widget-view+json": {
       "version_major": 2,
       "version_minor": 0,
       "model_id": "813b3ea101174874999d3d8fee979f5d"
      }
     },
     "metadata": {},
     "output_type": "display_data"
    },
    {
     "data": {
      "text/plain": [
       "  0%|          | 0/141 [00:00<?, ?it/s]"
      ],
      "application/vnd.jupyter.widget-view+json": {
       "version_major": 2,
       "version_minor": 0,
       "model_id": "a15064fbe9d24361ab969ea1135eea15"
      }
     },
     "metadata": {},
     "output_type": "display_data"
    },
    {
     "data": {
      "text/plain": [
       "  0%|          | 0/141 [00:00<?, ?it/s]"
      ],
      "application/vnd.jupyter.widget-view+json": {
       "version_major": 2,
       "version_minor": 0,
       "model_id": "aa084ebbf5ca434eba89587faaaa3499"
      }
     },
     "metadata": {},
     "output_type": "display_data"
    },
    {
     "data": {
      "text/plain": [
       "  0%|          | 0/141 [00:00<?, ?it/s]"
      ],
      "application/vnd.jupyter.widget-view+json": {
       "version_major": 2,
       "version_minor": 0,
       "model_id": "4fb483c09369485a8bbfc1e904aaa1ff"
      }
     },
     "metadata": {},
     "output_type": "display_data"
    },
    {
     "data": {
      "text/plain": [
       "  0%|          | 0/141 [00:00<?, ?it/s]"
      ],
      "application/vnd.jupyter.widget-view+json": {
       "version_major": 2,
       "version_minor": 0,
       "model_id": "9f1c8b1865534f34adbc715911896672"
      }
     },
     "metadata": {},
     "output_type": "display_data"
    },
    {
     "data": {
      "text/plain": [
       "  0%|          | 0/141 [00:00<?, ?it/s]"
      ],
      "application/vnd.jupyter.widget-view+json": {
       "version_major": 2,
       "version_minor": 0,
       "model_id": "68cc5f21177741bbb8aa2850596133ad"
      }
     },
     "metadata": {},
     "output_type": "display_data"
    },
    {
     "data": {
      "text/plain": [
       "  0%|          | 0/141 [00:00<?, ?it/s]"
      ],
      "application/vnd.jupyter.widget-view+json": {
       "version_major": 2,
       "version_minor": 0,
       "model_id": "36d8c7aa2e5548f684ab2a0a9872aaa9"
      }
     },
     "metadata": {},
     "output_type": "display_data"
    },
    {
     "data": {
      "text/plain": [
       "  0%|          | 0/141 [00:00<?, ?it/s]"
      ],
      "application/vnd.jupyter.widget-view+json": {
       "version_major": 2,
       "version_minor": 0,
       "model_id": "4abf97303c41463aafc011dc83cf278b"
      }
     },
     "metadata": {},
     "output_type": "display_data"
    }
   ],
   "execution_count": 8
  },
  {
   "metadata": {
    "ExecuteTime": {
     "end_time": "2024-07-14T02:09:39.958427Z",
     "start_time": "2024-07-14T02:09:39.765121Z"
    }
   },
   "cell_type": "code",
   "source": [
    "plt.plot(train_losses, label='train loss')\n",
    "plt.legend()\n",
    "plt.show()\n",
    "\n",
    "plt.plot(train_accuracies, label='train accuracy')\n",
    "plt.plot(test_accuracies, label='test accuracy')\n",
    "plt.plot([0.95] * len(test_accuracies), label='95%', c='blue')\n",
    "plt.plot([0.9] * len(test_accuracies), label='90%', c='hotpink')\n",
    "plt.plot([0.85] * len(test_accuracies), label='85%', c='purple')\n",
    "plt.legend()\n",
    "plt.show()"
   ],
   "id": "218eecbd328c5b59",
   "outputs": [
    {
     "data": {
      "text/plain": [
       "<Figure size 640x480 with 1 Axes>"
      ],
      "image/png": "[encoded data removed]"
     },
     "metadata": {},
     "output_type": "display_data"
    },
    {
     "data": {
      "text/plain": [
       "<Figure size 640x480 with 1 Axes>"
      ],
      "image/png": "[encoded data removed]"
     },
     "metadata": {},
     "output_type": "display_data"
    }
   ],
   "execution_count": 9
  },
  {
   "metadata": {},
   "cell_type": "markdown",
   "source": "## Save model weights",
   "id": "1fbcc970d7722eac"
  },
  {
   "metadata": {
    "ExecuteTime": {
     "end_time": "2024-07-14T22:00:36.684199Z",
     "start_time": "2024-07-14T22:00:36.680582Z"
    }
   },
   "cell_type": "code",
   "source": [
    "import gc\n",
    "import json\n",
    "\n",
    "torch.cuda.empty_cache()\n",
    "torch.save(model.state_dict(), 'weights/roberta_kan_weights.pth')\n",
    "\n",
    "with open('weights/roberta_kan_encodings.json', 'w') as f:\n",
    "    json.dump(reader.get_encodings(), f)"
   ],
   "id": "c6ed910f9dd976ff",
   "outputs": [],
   "execution_count": 9
  },
  {
   "metadata": {},
   "cell_type": "markdown",
   "source": "## Model performance",
   "id": "dcd8a16889972402"
  },
  {
   "metadata": {
    "ExecuteTime": {
     "end_time": "2024-07-14T02:48:55.271998Z",
     "start_time": "2024-07-14T02:48:55.269617Z"
    }
   },
   "cell_type": "code",
   "source": "from time import time",
   "id": "da00c67afc7d2f63",
   "outputs": [],
   "execution_count": 41
  },
  {
   "metadata": {
    "ExecuteTime": {
     "end_time": "2024-07-14T02:48:59.549853Z",
     "start_time": "2024-07-14T02:48:57.381054Z"
    }
   },
   "cell_type": "code",
   "source": [
    "model = Model(pretrained_name='distilroberta-base')\n",
    "model.load_state_dict(torch.load('weights/roberta_kan_weights.pth'))\n",
    "model.eval()\n",
    "model.requires_grad_(False)"
   ],
   "id": "f620012f4f9717d1",
   "outputs": [
    {
     "data": {
      "text/plain": [
       "Model(\n",
       "  (model): RobertaModel(\n",
       "    (embeddings): RobertaEmbeddings(\n",
       "      (word_embeddings): Embedding(50265, 768, padding_idx=1)\n",
       "      (position_embeddings): Embedding(514, 768, padding_idx=1)\n",
       "      (token_type_embeddings): Embedding(1, 768)\n",
       "      (LayerNorm): LayerNorm((768,), eps=1e-05, elementwise_affine=True)\n",
       "      (dropout): Dropout(p=0.1, inplace=False)\n",
       "    )\n",
       "    (encoder): RobertaEncoder(\n",
       "      (layer): ModuleList(\n",
       "        (0-5): 6 x RobertaLayer(\n",
       "          (attention): RobertaAttention(\n",
       "            (self): RobertaSelfAttention(\n",
       "              (query): Linear(in_features=768, out_features=768, bias=True)\n",
       "              (key): Linear(in_features=768, out_features=768, bias=True)\n",
       "              (value): Linear(in_features=768, out_features=768, bias=True)\n",
       "              (dropout): Dropout(p=0.1, inplace=False)\n",
       "            )\n",
       "            (output): RobertaSelfOutput(\n",
       "              (dense): Linear(in_features=768, out_features=768, bias=True)\n",
       "              (LayerNorm): LayerNorm((768,), eps=1e-05, elementwise_affine=True)\n",
       "              (dropout): Dropout(p=0.1, inplace=False)\n",
       "            )\n",
       "          )\n",
       "          (intermediate): RobertaIntermediate(\n",
       "            (dense): Linear(in_features=768, out_features=3072, bias=True)\n",
       "            (intermediate_act_fn): GELUActivation()\n",
       "          )\n",
       "          (output): RobertaOutput(\n",
       "            (dense): Linear(in_features=3072, out_features=768, bias=True)\n",
       "            (LayerNorm): LayerNorm((768,), eps=1e-05, elementwise_affine=True)\n",
       "            (dropout): Dropout(p=0.1, inplace=False)\n",
       "          )\n",
       "        )\n",
       "      )\n",
       "    )\n",
       "    (pooler): RobertaPooler(\n",
       "      (dense): Linear(in_features=768, out_features=768, bias=True)\n",
       "      (activation): Tanh()\n",
       "    )\n",
       "  )\n",
       "  (fc): Sequential(\n",
       "    (0): KANLinear(\n",
       "      (base_activation): SiLU()\n",
       "    )\n",
       "    (1): KANLinear(\n",
       "      (base_activation): SiLU()\n",
       "    )\n",
       "    (2): KANLinear(\n",
       "      (base_activation): SiLU()\n",
       "    )\n",
       "    (3): KANLinear(\n",
       "      (base_activation): SiLU()\n",
       "    )\n",
       "  )\n",
       ")"
      ]
     },
     "execution_count": 42,
     "metadata": {},
     "output_type": "execute_result"
    }
   ],
   "execution_count": 42
  },
  {
   "metadata": {
    "ExecuteTime": {
     "end_time": "2024-07-14T02:53:02.263563Z",
     "start_time": "2024-07-14T02:52:10.857466Z"
    }
   },
   "cell_type": "code",
   "source": [
    "start = time()\n",
    "processed_samples = 0\n",
    "\n",
    "for batch in tqdm(train_loader):\n",
    "    for sample in batch[0]:\n",
    "        list(torch.softmax(model(sample), dim=1).view(-1).numpy())\n",
    "        processed_samples += 1\n",
    "\n",
    "end = time()"
   ],
   "id": "ea5ee7b9820c70e6",
   "outputs": [
    {
     "data": {
      "text/plain": [
       "  0%|          | 0/141 [00:00<?, ?it/s]"
      ],
      "application/vnd.jupyter.widget-view+json": {
       "version_major": 2,
       "version_minor": 0,
       "model_id": "2a7079a6c5b74771a323242d8502ced1"
      }
     },
     "metadata": {},
     "output_type": "display_data"
    }
   ],
   "execution_count": 60
  },
  {
   "metadata": {
    "ExecuteTime": {
     "end_time": "2024-07-14T02:53:05.229900Z",
     "start_time": "2024-07-14T02:53:05.227310Z"
    }
   },
   "cell_type": "code",
   "source": "end - start, processed_samples",
   "id": "e2377212887daff6",
   "outputs": [
    {
     "data": {
      "text/plain": [
       "(51.40423655509949, 2252)"
      ]
     },
     "execution_count": 62,
     "metadata": {},
     "output_type": "execute_result"
    }
   ],
   "execution_count": 62
  },
  {
   "metadata": {
    "ExecuteTime": {
     "end_time": "2024-07-14T02:55:19.476852Z",
     "start_time": "2024-07-14T02:55:19.455212Z"
    }
   },
   "cell_type": "code",
   "source": [
    "res = torch.softmax(model('magic'), dim=1).view(-1)\n",
    "list(res.numpy()), torch.argmax(res).item()"
   ],
   "id": "68bb53aa9b55802c",
   "outputs": [
    {
     "data": {
      "text/plain": [
       "([0.32286236, 0.041075744, 0.043721497, 0.23052247, 0.36181793], 4)"
      ]
     },
     "execution_count": 73,
     "metadata": {},
     "output_type": "execute_result"
    }
   ],
   "execution_count": 73
  }
 ],
 "metadata": {
  "kernelspec": {
   "display_name": "Python 3",
   "language": "python",
   "name": "python3"
  },
  "language_info": {
   "codemirror_mode": {
    "name": "ipython",
    "version": 2
   },
   "file_extension": ".py",
   "mimetype": "text/x-python",
   "name": "python",
   "nbconvert_exporter": "python",
   "pygments_lexer": "ipython2",
   "version": "2.7.6"
  }
 },
 "nbformat": 4,
 "nbformat_minor": 5
}
