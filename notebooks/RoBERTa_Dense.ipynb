{
 "cells": [
  {
   "cell_type": "code",
   "id": "initial_id",
   "metadata": {
    "collapsed": true,
    "ExecuteTime": {
     "end_time": "2024-06-21T00:01:12.072724Z",
     "start_time": "2024-06-21T00:01:09.992911Z"
    }
   },
   "source": [
    "import numpy as np\n",
    "\n",
    "from utils import DatasetReader\n",
    "from transformers import AutoTokenizer, AutoModel, RobertaModel, RobertaTokenizerFast\n",
    "import torch\n",
    "import torch.nn as nn\n",
    "from torch.utils.data import Dataset, DataLoader\n",
    "import matplotlib.pyplot as plt\n",
    "from tqdm.notebook import tqdm\n",
    "import gc\n",
    "\n",
    "torch.backends.cuda.matmul.allow_fp16_reduced_precision_reduction = True\n",
    "device = torch.device(\"cuda\" if torch.cuda.is_available() else \"cpu\")\n",
    "device"
   ],
   "outputs": [
    {
     "data": {
      "text/plain": [
       "device(type='cuda')"
      ]
     },
     "execution_count": 1,
     "metadata": {},
     "output_type": "execute_result"
    }
   ],
   "execution_count": 1
  },
  {
   "metadata": {},
   "cell_type": "markdown",
   "source": "## Prepare model",
   "id": "cc9ed0668ee55aac"
  },
  {
   "metadata": {
    "ExecuteTime": {
     "end_time": "2024-06-21T00:01:13.648374Z",
     "start_time": "2024-06-21T00:01:12.073786Z"
    }
   },
   "cell_type": "code",
   "source": [
    "class Model(nn.Module):\n",
    "    def __init__(self, pretrained_name='distilroberta-base'):\n",
    "        super(Model, self).__init__()\n",
    "\n",
    "        self.tokenizer = RobertaTokenizerFast.from_pretrained(pretrained_name)\n",
    "        self.model = RobertaModel.from_pretrained(pretrained_name)\n",
    "        # self.model.requires_grad_(False)\n",
    "\n",
    "        self.embedding_size = self.model.embeddings.word_embeddings.embedding_dim\n",
    "\n",
    "        self.fc = nn.Sequential(\n",
    "            nn.LazyLinear(out_features=self.embedding_size),\n",
    "            nn.Dropout(p=0.4),\n",
    "            nn.ReLU(),\n",
    "\n",
    "            nn.Linear(in_features=self.embedding_size, out_features=self.embedding_size//2),\n",
    "            nn.Dropout(p=0.3),\n",
    "            nn.ReLU(),\n",
    "            \n",
    "            nn.Linear(in_features=self.embedding_size//2, out_features=5),\n",
    "            nn.ReLU(),\n",
    "        )\n",
    "\n",
    "    def forward(self, x: list[str]):\n",
    "        encoded_batch = self.tokenizer(x, padding=True, truncation=True, return_tensors='pt')\n",
    "        encoded_batch.to(self.model.device)\n",
    "\n",
    "        out = self.model(**encoded_batch).last_hidden_state\n",
    "        \n",
    "        out = torch.concatenate([out[:, 0, :], out[:, -1, :]], dim=1)\n",
    "\n",
    "        out = self.fc(out)\n",
    "\n",
    "        del encoded_batch\n",
    "        return out\n",
    "\n",
    "\n",
    "Model()(['hello', 'world', 'I can put so many words here to explore how does the tokes work']).shape"
   ],
   "id": "6c3e0c46d7c9bca2",
   "outputs": [
    {
     "name": "stderr",
     "output_type": "stream",
     "text": [
      "/home/pc/Documents/Innopolis/Sum24/CapstoneProject/.venv/lib/python3.11/site-packages/torch/nn/modules/lazy.py:181: UserWarning: Lazy modules are a new feature under heavy development so changes to the API or functionality can happen at any moment.\n",
      "  warnings.warn('Lazy modules are a new feature under heavy development '\n"
     ]
    },
    {
     "data": {
      "text/plain": [
       "torch.Size([3, 5])"
      ]
     },
     "execution_count": 2,
     "metadata": {},
     "output_type": "execute_result"
    }
   ],
   "execution_count": 2
  },
  {
   "metadata": {},
   "cell_type": "markdown",
   "source": "## Load dataset",
   "id": "3e541b8c0910736b"
  },
  {
   "metadata": {
    "ExecuteTime": {
     "end_time": "2024-06-21T00:01:13.652194Z",
     "start_time": "2024-06-21T00:01:13.649397Z"
    }
   },
   "cell_type": "code",
   "source": [
    "class TextDataset(Dataset):\n",
    "    def __init__(self, data):\n",
    "        super(TextDataset, self).__init__()\n",
    "        self.data = np.array(data.iloc[:, 0])\n",
    "        self.labels = np.array(data.iloc[:, 1])\n",
    "\n",
    "    def __len__(self):\n",
    "        return len(self.labels)\n",
    "\n",
    "    def __getitem__(self, index):\n",
    "        return self.data[index], self.labels[index]"
   ],
   "id": "eb1566f3b65dd7ba",
   "outputs": [],
   "execution_count": 3
  },
  {
   "metadata": {
    "ExecuteTime": {
     "end_time": "2024-06-21T00:01:13.666221Z",
     "start_time": "2024-06-21T00:01:13.653412Z"
    }
   },
   "cell_type": "code",
   "source": [
    "test_data, train_data = DatasetReader(encode_labels=True, test_size=0.2).read_dir('../data')\n",
    "test_data, train_data = TextDataset(test_data), TextDataset(train_data)\n",
    "len(test_data), len(train_data)"
   ],
   "id": "19f84762dd13c7b6",
   "outputs": [
    {
     "data": {
      "text/plain": [
       "(112, 451)"
      ]
     },
     "execution_count": 4,
     "metadata": {},
     "output_type": "execute_result"
    }
   ],
   "execution_count": 4
  },
  {
   "metadata": {
    "ExecuteTime": {
     "end_time": "2024-06-21T00:01:13.668920Z",
     "start_time": "2024-06-21T00:01:13.666901Z"
    }
   },
   "cell_type": "code",
   "source": [
    "train_loader = DataLoader(train_data, batch_size=16, shuffle=True)\n",
    "test_loader = DataLoader(test_data, batch_size=16)"
   ],
   "id": "1fc96026f13b3d61",
   "outputs": [],
   "execution_count": 5
  },
  {
   "metadata": {},
   "cell_type": "markdown",
   "source": "## Training the model",
   "id": "51d2dc457a0208cb"
  },
  {
   "metadata": {
    "ExecuteTime": {
     "end_time": "2024-06-21T00:01:13.673183Z",
     "start_time": "2024-06-21T00:01:13.669616Z"
    }
   },
   "cell_type": "code",
   "source": [
    "def train(model, loader, optimizer, criterion, device, _tqdm=False):\n",
    "    model = model.to(device)\n",
    "    model.train()\n",
    "\n",
    "    train_loss = 0\n",
    "\n",
    "    rng = tqdm(loader) if _tqdm else loader\n",
    "    for batch in rng:\n",
    "        data, label = batch\n",
    "        label = label.to(device)\n",
    "\n",
    "        loss = criterion(model(data), label)\n",
    "\n",
    "        optimizer.zero_grad()\n",
    "        loss.backward()\n",
    "        optimizer.step()\n",
    "\n",
    "        train_loss += loss.item()\n",
    "\n",
    "        del label\n",
    "        torch.cuda.empty_cache()\n",
    "        gc.collect()\n",
    "    return train_loss\n",
    "\n",
    "\n",
    "def test(model, loader, device, _tqdm=False):\n",
    "    correct_samples = 0\n",
    "    all_samples = 0\n",
    "\n",
    "    with torch.no_grad():\n",
    "        for batch in loader:\n",
    "            data, label = batch\n",
    "            label = label.to(device)\n",
    "            output = model(data)\n",
    "            prediction = torch.argmax(output, dim=1)\n",
    "            correct_samples += sum(label == prediction)\n",
    "            all_samples += len(label)\n",
    "    \n",
    "            torch.cuda.empty_cache()\n",
    "            gc.collect()\n",
    "    return float(correct_samples / all_samples)\n"
   ],
   "id": "e7d701940ebf9a72",
   "outputs": [],
   "execution_count": 6
  },
  {
   "metadata": {
    "ExecuteTime": {
     "end_time": "2024-06-21T00:01:15.117666Z",
     "start_time": "2024-06-21T00:01:13.673825Z"
    }
   },
   "cell_type": "code",
   "source": [
    "criterion = nn.CrossEntropyLoss()\n",
    "model = Model(pretrained_name='distilroberta-base').to(device)\n",
    "optimizer = torch.optim.Adam(model.parameters(), lr=1e-4)\n",
    "\n",
    "train_losses = []\n",
    "train_accuracies = []\n",
    "test_accuracies = []"
   ],
   "id": "33871485dc50e640",
   "outputs": [
    {
     "name": "stderr",
     "output_type": "stream",
     "text": [
      "/home/pc/Documents/Innopolis/Sum24/CapstoneProject/.venv/lib/python3.11/site-packages/torch/nn/modules/lazy.py:181: UserWarning: Lazy modules are a new feature under heavy development so changes to the API or functionality can happen at any moment.\n",
      "  warnings.warn('Lazy modules are a new feature under heavy development '\n"
     ]
    }
   ],
   "execution_count": 7
  },
  {
   "metadata": {
    "ExecuteTime": {
     "end_time": "2024-06-21T00:10:15.475716Z",
     "start_time": "2024-06-21T00:01:15.118254Z"
    }
   },
   "cell_type": "code",
   "source": [
    "for epoch in (bar:=tqdm(range(40))):\n",
    "    train_loss = train(model, train_loader, optimizer, criterion, device, _tqdm=False)\n",
    "    train_losses.append(train_loss)\n",
    "    \n",
    "    train_acc = test(model, train_loader, device)\n",
    "    test_acc = test(model, test_loader, device)\n",
    "    \n",
    "    train_accuracies.append(train_acc)\n",
    "    test_accuracies.append(test_acc)\n",
    "    \n",
    "    bar.set_postfix({'train_accuracy': train_acc, 'test_accuracy': test_acc})"
   ],
   "id": "be4e24f2894dc1bb",
   "outputs": [
    {
     "data": {
      "text/plain": [
       "  0%|          | 0/40 [00:00<?, ?it/s]"
      ],
      "application/vnd.jupyter.widget-view+json": {
       "version_major": 2,
       "version_minor": 0,
       "model_id": "45f9944557de4ecca23ca3ad1ddce435"
      }
     },
     "metadata": {},
     "output_type": "display_data"
    }
   ],
   "execution_count": 8
  },
  {
   "metadata": {
    "ExecuteTime": {
     "end_time": "2024-06-21T00:10:22.297058Z",
     "start_time": "2024-06-21T00:10:22.140508Z"
    }
   },
   "cell_type": "code",
   "source": [
    "plt.plot(train_losses, label='train loss')\n",
    "plt.legend()\n",
    "plt.show()\n",
    "\n",
    "plt.plot(train_accuracies, label='train accuracy')\n",
    "plt.plot(test_accuracies, label='test accuracy')\n",
    "plt.plot([0.9]*len(test_accuracies), label='90%', c='hotpink')\n",
    "plt.plot([0.85]*len(test_accuracies), label='85%', c='yellow')\n",
    "plt.legend()\n",
    "plt.show()"
   ],
   "id": "e41d729dcca233f1",
   "outputs": [
    {
     "data": {
      "text/plain": [
       "<Figure size 640x480 with 1 Axes>"
      ],
      "image/png": "[encoded data removed]"
     },
     "metadata": {},
     "output_type": "display_data"
    },
    {
     "data": {
      "text/plain": [
       "<Figure size 640x480 with 1 Axes>"
      ],
      "image/png": "[encoded data removed]"
     },
     "metadata": {},
     "output_type": "display_data"
    }
   ],
   "execution_count": 10
  },
  {
   "metadata": {},
   "cell_type": "markdown",
   "source": "## Evaluating the model",
   "id": "62ca46cf89876af8"
  },
  {
   "metadata": {
    "ExecuteTime": {
     "end_time": "2024-06-21T00:10:15.644749Z",
     "start_time": "2024-06-21T00:10:15.642606Z"
    }
   },
   "cell_type": "code",
   "source": "",
   "id": "3359cbb55e07b481",
   "outputs": [],
   "execution_count": 9
  }
 ],
 "metadata": {
  "kernelspec": {
   "display_name": "Python 3",
   "language": "python",
   "name": "python3"
  },
  "language_info": {
   "codemirror_mode": {
    "name": "ipython",
    "version": 2
   },
   "file_extension": ".py",
   "mimetype": "text/x-python",
   "name": "python",
   "nbconvert_exporter": "python",
   "pygments_lexer": "ipython2",
   "version": "2.7.6"
  }
 },
 "nbformat": 4,
 "nbformat_minor": 5
}
