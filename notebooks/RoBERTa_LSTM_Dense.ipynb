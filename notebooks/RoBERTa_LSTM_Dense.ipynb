{
 "cells": [
  {
   "cell_type": "code",
   "id": "initial_id",
   "metadata": {
    "collapsed": true,
    "ExecuteTime": {
     "end_time": "2024-06-20T15:00:37.515141Z",
     "start_time": "2024-06-20T15:00:33.440217Z"
    }
   },
   "source": [
    "import numpy as np\n",
    "\n",
    "from utils import DatasetReader\n",
    "from transformers import AutoTokenizer, AutoModel, RobertaModel, RobertaTokenizerFast\n",
    "import torch\n",
    "import torch.nn as nn\n",
    "from torch.utils.data import Dataset, DataLoader\n",
    "\n",
    "device = torch.device(\"cuda\" if torch.cuda.is_available() else \"cpu\")\n",
    "device"
   ],
   "outputs": [
    {
     "data": {
      "text/plain": [
       "device(type='cuda')"
      ]
     },
     "execution_count": 2,
     "metadata": {},
     "output_type": "execute_result"
    }
   ],
   "execution_count": 2
  },
  {
   "metadata": {},
   "cell_type": "markdown",
   "source": "## Load embeddings",
   "id": "cc9ed0668ee55aac"
  },
  {
   "metadata": {
    "ExecuteTime": {
     "end_time": "2024-06-20T15:00:51.215086Z",
     "start_time": "2024-06-20T15:00:47.783190Z"
    }
   },
   "cell_type": "code",
   "source": [
    "class Model(nn.Module):\n",
    "    def __init__(self, pretrained_name='distilroberta-base'):\n",
    "        super(Model, self).__init__()\n",
    "\n",
    "        self.tokenizer = RobertaTokenizerFast.from_pretrained(pretrained_name)\n",
    "        self.model = RobertaModel.from_pretrained(pretrained_name)\n",
    "\n",
    "        self.embedding_size = self.model.embeddings.word_embeddings.embedding_dim\n",
    "\n",
    "        self.lstm_blocks_1 = nn.LSTM(input_size=self.embedding_size, hidden_size=self.embedding_size * 2,\n",
    "                                     num_layers=10, batch_first=True)\n",
    "\n",
    "        self.lstm_blocks_2 = nn.LSTM(input_size=self.embedding_size * 2, hidden_size=self.embedding_size,\n",
    "                                     num_layers=5, batch_first=True)\n",
    "\n",
    "    def forward(self, x: list[str]):\n",
    "        encoded_batch = self.tokenizer(x, padding=True, truncation=True, return_tensors='pt')\n",
    "        outputs = self.model(**encoded_batch).last_hidden_state\n",
    "\n",
    "        lstm_output, (_, _) = self.lstm_blocks_1(outputs)\n",
    "        _, (lstm_output, _) = self.lstm_blocks_2(lstm_output)\n",
    "\n",
    "        return lstm_output.reshape(len(x), self.embedding_size * self.lstm_blocks_2.num_layers)\n",
    "\n",
    "\n",
    "text_batch = [\"Hello, world!\",\n",
    "              \"Transformers are amazing.\",\n",
    "              \"One more text\",\n",
    "              \"And here are one one more text\",\n",
    "              \"ya eby sobak\"]\n",
    "\n",
    "b = Model()\n",
    "b(text_batch).shape"
   ],
   "id": "6c3e0c46d7c9bca2",
   "outputs": [
    {
     "data": {
      "text/plain": [
       "torch.Size([5, 3840])"
      ]
     },
     "execution_count": 3,
     "metadata": {},
     "output_type": "execute_result"
    }
   ],
   "execution_count": 3
  },
  {
   "metadata": {},
   "cell_type": "markdown",
   "source": "## Load dataset",
   "id": "3e541b8c0910736b"
  },
  {
   "metadata": {
    "ExecuteTime": {
     "end_time": "2024-06-20T15:01:02.685758Z",
     "start_time": "2024-06-20T15:01:02.670236Z"
    }
   },
   "cell_type": "code",
   "source": [
    "data = DatasetReader().read('../data/csv/clean_data.csv')\n",
    "data"
   ],
   "id": "2db6848c33fb07ef",
   "outputs": [
    {
     "data": {
      "text/plain": [
       "                                             Questions  \\\n",
       "0                                define the term brand   \n",
       "1    explain one risk jack ma may have taken when s...   \n",
       "2    analyse two factors that may have increased de...   \n",
       "3    discuss if profit maximisation is the main bus...   \n",
       "4    assess the advantages of a paternalistic style...   \n",
       "..                                                 ...   \n",
       "259  evaluate the likely value of each of the follo...   \n",
       "260  evaluate the likely value to mike watson of us...   \n",
       "261  briefly explain two reasons why levi roots con...   \n",
       "262  assess the likely implications for reggae regg...   \n",
       "263  evaluate the likely value of product trials to...   \n",
       "\n",
       "                          Topic  \n",
       "0    marketing_mix_and_strategy  \n",
       "1     entreprenuers_and_leaders  \n",
       "2                        market  \n",
       "3     entreprenuers_and_leaders  \n",
       "4               managing_people  \n",
       "..                          ...  \n",
       "259      meeting_customer_needs  \n",
       "260      meeting_customer_needs  \n",
       "261      meeting_customer_needs  \n",
       "262      meeting_customer_needs  \n",
       "263  marketing_mix_and_strategy  \n",
       "\n",
       "[264 rows x 2 columns]"
      ],
      "text/html": [
       "<div>\n",
       "<style scoped>\n",
       "    .dataframe tbody tr th:only-of-type {\n",
       "        vertical-align: middle;\n",
       "    }\n",
       "\n",
       "    .dataframe tbody tr th {\n",
       "        vertical-align: top;\n",
       "    }\n",
       "\n",
       "    .dataframe thead th {\n",
       "        text-align: right;\n",
       "    }\n",
       "</style>\n",
       "<table border=\"1\" class=\"dataframe\">\n",
       "  <thead>\n",
       "    <tr style=\"text-align: right;\">\n",
       "      <th></th>\n",
       "      <th>Questions</th>\n",
       "      <th>Topic</th>\n",
       "    </tr>\n",
       "  </thead>\n",
       "  <tbody>\n",
       "    <tr>\n",
       "      <th>0</th>\n",
       "      <td>define the term brand</td>\n",
       "      <td>marketing_mix_and_strategy</td>\n",
       "    </tr>\n",
       "    <tr>\n",
       "      <th>1</th>\n",
       "      <td>explain one risk jack ma may have taken when s...</td>\n",
       "      <td>entreprenuers_and_leaders</td>\n",
       "    </tr>\n",
       "    <tr>\n",
       "      <th>2</th>\n",
       "      <td>analyse two factors that may have increased de...</td>\n",
       "      <td>market</td>\n",
       "    </tr>\n",
       "    <tr>\n",
       "      <th>3</th>\n",
       "      <td>discuss if profit maximisation is the main bus...</td>\n",
       "      <td>entreprenuers_and_leaders</td>\n",
       "    </tr>\n",
       "    <tr>\n",
       "      <th>4</th>\n",
       "      <td>assess the advantages of a paternalistic style...</td>\n",
       "      <td>managing_people</td>\n",
       "    </tr>\n",
       "    <tr>\n",
       "      <th>...</th>\n",
       "      <td>...</td>\n",
       "      <td>...</td>\n",
       "    </tr>\n",
       "    <tr>\n",
       "      <th>259</th>\n",
       "      <td>evaluate the likely value of each of the follo...</td>\n",
       "      <td>meeting_customer_needs</td>\n",
       "    </tr>\n",
       "    <tr>\n",
       "      <th>260</th>\n",
       "      <td>evaluate the likely value to mike watson of us...</td>\n",
       "      <td>meeting_customer_needs</td>\n",
       "    </tr>\n",
       "    <tr>\n",
       "      <th>261</th>\n",
       "      <td>briefly explain two reasons why levi roots con...</td>\n",
       "      <td>meeting_customer_needs</td>\n",
       "    </tr>\n",
       "    <tr>\n",
       "      <th>262</th>\n",
       "      <td>assess the likely implications for reggae regg...</td>\n",
       "      <td>meeting_customer_needs</td>\n",
       "    </tr>\n",
       "    <tr>\n",
       "      <th>263</th>\n",
       "      <td>evaluate the likely value of product trials to...</td>\n",
       "      <td>marketing_mix_and_strategy</td>\n",
       "    </tr>\n",
       "  </tbody>\n",
       "</table>\n",
       "<p>264 rows × 2 columns</p>\n",
       "</div>"
      ]
     },
     "execution_count": 5,
     "metadata": {},
     "output_type": "execute_result"
    }
   ],
   "execution_count": 5
  },
  {
   "metadata": {},
   "cell_type": "code",
   "outputs": [],
   "execution_count": null,
   "source": [
    "class TextDataset(Dataset):\n",
    "    def __init__(self, data, labels):\n",
    "        super(TextDataset, self).__init__()\n",
    "        self.data = np.array(data)\n",
    "        self.labels = labels\n",
    "        \n",
    "    def __len__(self):\n",
    "        pass\n",
    "\n",
    "    def __getitem__(self, index):\n",
    "        pass"
   ],
   "id": "eb1566f3b65dd7ba"
  },
  {
   "metadata": {},
   "cell_type": "markdown",
   "source": "## Data preprocessing",
   "id": "b0eabf386107f069"
  },
  {
   "metadata": {},
   "cell_type": "code",
   "outputs": [],
   "execution_count": null,
   "source": "",
   "id": "59c844fcf0c33de4"
  },
  {
   "metadata": {},
   "cell_type": "markdown",
   "source": "## Spliting the data",
   "id": "287312e8efa19c0f"
  },
  {
   "metadata": {},
   "cell_type": "code",
   "outputs": [],
   "execution_count": null,
   "source": "",
   "id": "e4e3ea24a0120a92"
  },
  {
   "metadata": {},
   "cell_type": "markdown",
   "source": "## Training the model",
   "id": "51d2dc457a0208cb"
  },
  {
   "metadata": {},
   "cell_type": "code",
   "outputs": [],
   "execution_count": null,
   "source": "",
   "id": "e7d701940ebf9a72"
  },
  {
   "metadata": {},
   "cell_type": "markdown",
   "source": "## Evaluating the model",
   "id": "62ca46cf89876af8"
  },
  {
   "metadata": {},
   "cell_type": "code",
   "outputs": [],
   "execution_count": null,
   "source": "",
   "id": "b1900a90d6554481"
  }
 ],
 "metadata": {
  "kernelspec": {
   "display_name": "Python 3",
   "language": "python",
   "name": "python3"
  },
  "language_info": {
   "codemirror_mode": {
    "name": "ipython",
    "version": 2
   },
   "file_extension": ".py",
   "mimetype": "text/x-python",
   "name": "python",
   "nbconvert_exporter": "python",
   "pygments_lexer": "ipython2",
   "version": "2.7.6"
  }
 },
 "nbformat": 4,
 "nbformat_minor": 5
}
