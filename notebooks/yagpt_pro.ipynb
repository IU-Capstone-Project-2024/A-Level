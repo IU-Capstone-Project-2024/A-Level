{
 "cells": [
  {
   "cell_type": "code",
   "execution_count": 1,
   "id": "79eddfa2-ec0f-44b0-98f7-02c39f9be8ef",
   "metadata": {},
   "outputs": [
    {
     "data": {
      "text/html": [
       "<div>\n",
       "<style scoped>\n",
       "    .dataframe tbody tr th:only-of-type {\n",
       "        vertical-align: middle;\n",
       "    }\n",
       "\n",
       "    .dataframe tbody tr th {\n",
       "        vertical-align: top;\n",
       "    }\n",
       "\n",
       "    .dataframe thead th {\n",
       "        text-align: right;\n",
       "    }\n",
       "</style>\n",
       "<table border=\"1\" class=\"dataframe\">\n",
       "  <thead>\n",
       "    <tr style=\"text-align: right;\">\n",
       "      <th></th>\n",
       "      <th>Questions</th>\n",
       "      <th>Topic</th>\n",
       "      <th>Label</th>\n",
       "    </tr>\n",
       "  </thead>\n",
       "  <tbody>\n",
       "    <tr>\n",
       "      <th>0</th>\n",
       "      <td>Explain how the concept of opportunity cost ap...</td>\n",
       "      <td>entreprenuers and leaders</td>\n",
       "      <td>1</td>\n",
       "    </tr>\n",
       "    <tr>\n",
       "      <th>1</th>\n",
       "      <td>If nintendo reduces its console prices by 8% c...</td>\n",
       "      <td>market</td>\n",
       "      <td>3</td>\n",
       "    </tr>\n",
       "    <tr>\n",
       "      <th>2</th>\n",
       "      <td>Evaluate these two options and recommend which...</td>\n",
       "      <td>marketing mix and strategy</td>\n",
       "      <td>4</td>\n",
       "    </tr>\n",
       "    <tr>\n",
       "      <th>3</th>\n",
       "      <td>evaluate these two options and recommend whic...</td>\n",
       "      <td>meeting customer needs</td>\n",
       "      <td>5</td>\n",
       "    </tr>\n",
       "    <tr>\n",
       "      <th>4</th>\n",
       "      <td>Define the term ‘niche market’.</td>\n",
       "      <td>meeting customer needs</td>\n",
       "      <td>5</td>\n",
       "    </tr>\n",
       "    <tr>\n",
       "      <th>...</th>\n",
       "      <td>...</td>\n",
       "      <td>...</td>\n",
       "      <td>...</td>\n",
       "    </tr>\n",
       "    <tr>\n",
       "      <th>101</th>\n",
       "      <td>What is meant by market growth</td>\n",
       "      <td>meeting customer needs</td>\n",
       "      <td>5</td>\n",
       "    </tr>\n",
       "    <tr>\n",
       "      <th>102</th>\n",
       "      <td>Using this data calculate the income elasticit...</td>\n",
       "      <td>market</td>\n",
       "      <td>3</td>\n",
       "    </tr>\n",
       "    <tr>\n",
       "      <th>103</th>\n",
       "      <td>Analyse two non-price factors that could affec...</td>\n",
       "      <td>market</td>\n",
       "      <td>3</td>\n",
       "    </tr>\n",
       "    <tr>\n",
       "      <th>104</th>\n",
       "      <td>Evaluate the extent to which the non financial...</td>\n",
       "      <td>managing people</td>\n",
       "      <td>2</td>\n",
       "    </tr>\n",
       "    <tr>\n",
       "      <th>105</th>\n",
       "      <td>Using this data and extract b calculate to two...</td>\n",
       "      <td>meeting customer needs</td>\n",
       "      <td>5</td>\n",
       "    </tr>\n",
       "  </tbody>\n",
       "</table>\n",
       "<p>106 rows × 3 columns</p>\n",
       "</div>"
      ],
      "text/plain": [
       "                                             Questions  \\\n",
       "0    Explain how the concept of opportunity cost ap...   \n",
       "1    If nintendo reduces its console prices by 8% c...   \n",
       "2    Evaluate these two options and recommend which...   \n",
       "3     evaluate these two options and recommend whic...   \n",
       "4                      Define the term ‘niche market’.   \n",
       "..                                                 ...   \n",
       "101                     What is meant by market growth   \n",
       "102  Using this data calculate the income elasticit...   \n",
       "103  Analyse two non-price factors that could affec...   \n",
       "104  Evaluate the extent to which the non financial...   \n",
       "105  Using this data and extract b calculate to two...   \n",
       "\n",
       "                          Topic  Label  \n",
       "0     entreprenuers and leaders      1  \n",
       "1                        market      3  \n",
       "2    marketing mix and strategy      4  \n",
       "3        meeting customer needs      5  \n",
       "4        meeting customer needs      5  \n",
       "..                          ...    ...  \n",
       "101      meeting customer needs      5  \n",
       "102                      market      3  \n",
       "103                      market      3  \n",
       "104             managing people      2  \n",
       "105      meeting customer needs      5  \n",
       "\n",
       "[106 rows x 3 columns]"
      ]
     },
     "execution_count": 1,
     "metadata": {},
     "output_type": "execute_result"
    }
   ],
   "source": [
    "import pandas as pd\n",
    "from pathlib import Path\n",
    "from tqdm import tqdm\n",
    "import time\n",
    "\n",
    "DATA_DIR = Path('../data')\n",
    "\n",
    "test_df = pd.read_csv(DATA_DIR / 'preprocessed' / 'test.csv')\n",
    "topics = pd.read_csv(DATA_DIR / 'topics.csv')\n",
    "\n",
    "label_to_index = topics.set_index('Topic')['Number'].to_dict()\n",
    "\n",
    "test_df['Label'] = test_df['Topic'].apply(lambda x: label_to_index[x] + 1)\n",
    "test_df"
   ]
  },
  {
   "cell_type": "code",
   "execution_count": 2,
   "id": "18b717e0-bca0-4143-ba14-3d7fb559ea92",
   "metadata": {},
   "outputs": [
    {
     "data": {
      "text/plain": [
       "'1) entreprenuers and leaders, 2) managing people, 3) market, 4) marketing mix and strategy, 5) meeting customer needs'"
      ]
     },
     "execution_count": 2,
     "metadata": {},
     "output_type": "execute_result"
    }
   ],
   "source": [
    "topics_for_prompt = ''\n",
    "for num in topics['Number']:\n",
    "    topics_for_prompt += f'{num + 1}) {topics.loc[num, \"Topic\"]}, '\n",
    "topics_for_prompt = topics_for_prompt.rstrip(', ')  # Remove the trailing comma and space\n",
    "topics_for_prompt"
   ]
  },
  {
   "cell_type": "code",
   "execution_count": 3,
   "id": "57ae39cb-dd44-4fdb-8772-1c4efe18c5c7",
   "metadata": {},
   "outputs": [],
   "source": [
    "import requests\n",
    "import json\n",
    "from time import sleep\n",
    "\n",
    "url = \"https://llm.api.cloud.yandex.net/foundationModels/v1/completion\"\n",
    "headers = {\n",
    "    \"Content-Type\": \"application/json\",\n",
    "    \"Authorization\": \"Api-Key AQVNyNv0CVbumVtFMnhuEdcUURK2WHWLyIRezjJT\",\n",
    "}\n",
    "\n",
    "\n",
    "def compose_prompt(question):\n",
    "    prompt = {\n",
    "        \"modelUri\": \"gpt://b1g6odsice70le7mmg6d/yandexgpt-pro\",\n",
    "        \"completionOptions\": {\n",
    "            \"stream\": False,\n",
    "            \"temperature\": 0.1,\n",
    "            \"maxTokens\": \"2\",\n",
    "        },\n",
    "        \"messages\": [\n",
    "            {\n",
    "                \"role\": \"system\",\n",
    "                \"text\": f\"\"\"Your role is to classify British A-level exam questions into five topics: {topics_for_prompt}. Assign the appropriate topic number based on the question's theme and keywords.\"\"\",\n",
    "            },\n",
    "            {\"role\": \"user\", \"text\": \"define the term brand\"},\n",
    "            {\"role\": \"assistant\", \"text\": \"4\"},\n",
    "            {\n",
    "                \"role\": \"user\",\n",
    "                \"text\": \"explain one risk jack ma may have taken when setting up the alibaba group\",\n",
    "            },\n",
    "            {\"role\": \"assistant\", \"text\": \"1\"},\n",
    "            {\n",
    "                \"role\": \"user\",\n",
    "                \"text\": \"analyse two factors that may have increased demand for the alibaba group\",\n",
    "            },\n",
    "            {\"role\": \"assistant\", \"text\": \"3\"},\n",
    "            {\n",
    "                \"role\": \"user\",\n",
    "                \"text\": \"discuss if profit maximisation is the main business objective of the alibaba group\",\n",
    "            },\n",
    "            {\"role\": \"assistant\", \"text\": \"1\"},\n",
    "            {\n",
    "                \"role\": \"user\",\n",
    "                \"text\": \"assess the advantages of a paternalistic style of leadership for a business such as the alibaba group\",\n",
    "            },\n",
    "            {\"role\": \"assistant\", \"text\": \"2\"},\n",
    "            {\"role\": \"user\", \"text\": \"define the term product innovation \"},\n",
    "            {\"role\": \"assistant\", \"text\": \"5\"},\n",
    "            {\n",
    "                \"role\": \"user\",\n",
    "                \"text\": \"if nintendo reduces its console prices by 8% calculate the estimated percentage change in demand. you are advised to show your working\",\n",
    "            },\n",
    "            {\"role\": \"assistant\", \"text\": \"3\"},\n",
    "            {\n",
    "                \"role\": \"user\",\n",
    "                \"text\": \"analyse two different pricing strategies that nintendo might use to compete in the games console industry\",\n",
    "            },\n",
    "            {\"role\": \"assistant\", \"text\": \"4\"},\n",
    "            {\n",
    "                \"role\": \"user\",\n",
    "                \"text\": \"assess the benefits of a matrix organisational structure for a business such as nintendo\",\n",
    "            },\n",
    "            {\"role\": \"assistant\", \"text\": \"2\"},\n",
    "            {\n",
    "                \"role\": \"user\",\n",
    "                \"text\": \"Explain how the growth of the fitness market from 2015 to 2016 could have affected puregym\",\n",
    "            },\n",
    "            {\"role\": \"assistant\", \"text\": \"5\"},\n",
    "            {\n",
    "                \"role\": \"user\",\n",
    "                \"text\": f'Predict the topic number based on the provided question. The topics: {topics_for_prompt}. Please respond with the relevant topic NUMBER.\\n{question}\"',\n",
    "            },\n",
    "        ],\n",
    "    }\n",
    "    return prompt\n",
    "\n",
    "\n",
    "def yagpt_inference(question, url, headers):\n",
    "    sleep(1)\n",
    "    prompt = compose_prompt(question)\n",
    "    print(prompt)\n",
    "    response = requests.post(url, headers=headers, json=prompt)\n",
    "    result = response.text\n",
    "    response_dict = json.loads(result)\n",
    "    print(response_dict)\n",
    "    text_content = response_dict[\"result\"][\"alternatives\"][0][\"message\"][\"text\"]\n",
    "    return text_content"
   ]
  },
  {
   "cell_type": "code",
   "execution_count": 4,
   "id": "a5afbdcd-ba91-4852-b54d-426b88f76267",
   "metadata": {},
   "outputs": [
    {
     "data": {
      "text/html": [
       "<div>\n",
       "<style scoped>\n",
       "    .dataframe tbody tr th:only-of-type {\n",
       "        vertical-align: middle;\n",
       "    }\n",
       "\n",
       "    .dataframe tbody tr th {\n",
       "        vertical-align: top;\n",
       "    }\n",
       "\n",
       "    .dataframe thead th {\n",
       "        text-align: right;\n",
       "    }\n",
       "</style>\n",
       "<table border=\"1\" class=\"dataframe\">\n",
       "  <thead>\n",
       "    <tr style=\"text-align: right;\">\n",
       "      <th></th>\n",
       "      <th>Questions</th>\n",
       "      <th>Topic</th>\n",
       "      <th>Label</th>\n",
       "    </tr>\n",
       "  </thead>\n",
       "  <tbody>\n",
       "    <tr>\n",
       "      <th>85</th>\n",
       "      <td>Assess the advantages of market segmentation t...</td>\n",
       "      <td>meeting customer needs</td>\n",
       "      <td>5</td>\n",
       "    </tr>\n",
       "  </tbody>\n",
       "</table>\n",
       "</div>"
      ],
      "text/plain": [
       "                                            Questions                   Topic  \\\n",
       "85  Assess the advantages of market segmentation t...  meeting customer needs   \n",
       "\n",
       "    Label  \n",
       "85      5  "
      ]
     },
     "execution_count": 4,
     "metadata": {},
     "output_type": "execute_result"
    }
   ],
   "source": [
    "df = test_df.sample(1)\n",
    "df"
   ]
  },
  {
   "cell_type": "code",
   "execution_count": 5,
   "id": "9e0f2a66-0683-4355-964f-78fc8edce9d5",
   "metadata": {},
   "outputs": [],
   "source": [
    "def process_in_chunks(df, chunk_size, url, headers):\n",
    "    total_chunks = (len(df) - 1) // chunk_size + 1  \n",
    "\n",
    "    for chunk_index in range(total_chunks):\n",
    "        start_index = chunk_index * chunk_size\n",
    "        end_index = start_index + chunk_size\n",
    "        df_chunk = df.iloc[start_index:end_index]\n",
    "\n",
    "        tqdm.pandas(desc=f\"Processing chunk {chunk_index + 1}/{total_chunks}\")\n",
    "        df_chunk['Predicted Label'] = df_chunk['Questions'].progress_apply(yagpt_inference, args=(url, headers))\n",
    "        if chunk_index < total_chunks - 1:\n",
    "            print(\"\\nWaiting for 1 hour to avoid hitting the API limit...\")\n",
    "            for i in tqdm(range(3600), desc=\"Sleeping\"):\n",
    "                time.sleep(1)  # Sleep for 1 second at a time, updating the progress bar\n",
    "\n",
    "        if chunk_index == 0:\n",
    "            df_result = df_chunk\n",
    "        else:\n",
    "            df_result = pd.concat([df_result, df_chunk], ignore_index=True)\n",
    "\n",
    "    return df_result"
   ]
  },
  {
   "cell_type": "code",
   "execution_count": 6,
   "id": "604269e4-5187-47c0-981e-846683afe708",
   "metadata": {},
   "outputs": [
    {
     "name": "stderr",
     "output_type": "stream",
     "text": [
      "Processing chunk 1/2:   0%|                              | 0/80 [00:00<?, ?it/s]"
     ]
    },
    {
     "name": "stdout",
     "output_type": "stream",
     "text": [
      "{'modelUri': 'gpt://b1g6odsice70le7mmg6d/yandexgpt-pro', 'completionOptions': {'stream': False, 'temperature': 0.1, 'maxTokens': '2'}, 'messages': [{'role': 'system', 'text': \"Your role is to classify British A-level exam questions into five topics: 1) entreprenuers and leaders, 2) managing people, 3) market, 4) marketing mix and strategy, 5) meeting customer needs. Assign the appropriate topic number based on the question's theme and keywords.\"}, {'role': 'user', 'text': 'define the term brand'}, {'role': 'assistant', 'text': '4'}, {'role': 'user', 'text': 'explain one risk jack ma may have taken when setting up the alibaba group'}, {'role': 'assistant', 'text': '1'}, {'role': 'user', 'text': 'analyse two factors that may have increased demand for the alibaba group'}, {'role': 'assistant', 'text': '3'}, {'role': 'user', 'text': 'discuss if profit maximisation is the main business objective of the alibaba group'}, {'role': 'assistant', 'text': '1'}, {'role': 'user', 'text': 'assess the advantages of a paternalistic style of leadership for a business such as the alibaba group'}, {'role': 'assistant', 'text': '2'}, {'role': 'user', 'text': 'define the term product innovation '}, {'role': 'assistant', 'text': '5'}, {'role': 'user', 'text': 'if nintendo reduces its console prices by 8% calculate the estimated percentage change in demand. you are advised to show your working'}, {'role': 'assistant', 'text': '3'}, {'role': 'user', 'text': 'analyse two different pricing strategies that nintendo might use to compete in the games console industry'}, {'role': 'assistant', 'text': '4'}, {'role': 'user', 'text': 'assess the benefits of a matrix organisational structure for a business such as nintendo'}, {'role': 'assistant', 'text': '2'}, {'role': 'user', 'text': 'Explain how the growth of the fitness market from 2015 to 2016 could have affected puregym'}, {'role': 'assistant', 'text': '5'}, {'role': 'user', 'text': 'Predict the topic number based on the provided question. The topics: 1) entreprenuers and leaders, 2) managing people, 3) market, 4) marketing mix and strategy, 5) meeting customer needs. Please respond with the relevant topic NUMBER.\\nExplain how the concept of opportunity cost applies to david.\"'}]}\n"
     ]
    },
    {
     "name": "stderr",
     "output_type": "stream",
     "text": [
      "Processing chunk 1/2:   2%|▌                     | 2/80 [00:01<01:15,  1.03it/s]"
     ]
    },
    {
     "name": "stdout",
     "output_type": "stream",
     "text": [
      "{'result': {'alternatives': [{'message': {'role': 'assistant', 'text': '1'}, 'status': 'ALTERNATIVE_STATUS_TRUNCATED_FINAL'}], 'usage': {'inputTextTokens': '427', 'completionTokens': '2', 'totalTokens': '429'}, 'modelVersion': '07.03.2024'}}\n",
      "{'modelUri': 'gpt://b1g6odsice70le7mmg6d/yandexgpt-pro', 'completionOptions': {'stream': False, 'temperature': 0.1, 'maxTokens': '2'}, 'messages': [{'role': 'system', 'text': \"Your role is to classify British A-level exam questions into five topics: 1) entreprenuers and leaders, 2) managing people, 3) market, 4) marketing mix and strategy, 5) meeting customer needs. Assign the appropriate topic number based on the question's theme and keywords.\"}, {'role': 'user', 'text': 'define the term brand'}, {'role': 'assistant', 'text': '4'}, {'role': 'user', 'text': 'explain one risk jack ma may have taken when setting up the alibaba group'}, {'role': 'assistant', 'text': '1'}, {'role': 'user', 'text': 'analyse two factors that may have increased demand for the alibaba group'}, {'role': 'assistant', 'text': '3'}, {'role': 'user', 'text': 'discuss if profit maximisation is the main business objective of the alibaba group'}, {'role': 'assistant', 'text': '1'}, {'role': 'user', 'text': 'assess the advantages of a paternalistic style of leadership for a business such as the alibaba group'}, {'role': 'assistant', 'text': '2'}, {'role': 'user', 'text': 'define the term product innovation '}, {'role': 'assistant', 'text': '5'}, {'role': 'user', 'text': 'if nintendo reduces its console prices by 8% calculate the estimated percentage change in demand. you are advised to show your working'}, {'role': 'assistant', 'text': '3'}, {'role': 'user', 'text': 'analyse two different pricing strategies that nintendo might use to compete in the games console industry'}, {'role': 'assistant', 'text': '4'}, {'role': 'user', 'text': 'assess the benefits of a matrix organisational structure for a business such as nintendo'}, {'role': 'assistant', 'text': '2'}, {'role': 'user', 'text': 'Explain how the growth of the fitness market from 2015 to 2016 could have affected puregym'}, {'role': 'assistant', 'text': '5'}, {'role': 'user', 'text': 'Predict the topic number based on the provided question. The topics: 1) entreprenuers and leaders, 2) managing people, 3) market, 4) marketing mix and strategy, 5) meeting customer needs. Please respond with the relevant topic NUMBER.\\nIf nintendo reduces its console prices by 8% calculate the estimated percentage change in demand. you are advised to show your working\"'}]}\n"
     ]
    },
    {
     "name": "stderr",
     "output_type": "stream",
     "text": [
      "Processing chunk 1/2:   4%|▊                     | 3/80 [00:10<05:23,  4.20s/it]"
     ]
    },
    {
     "name": "stdout",
     "output_type": "stream",
     "text": [
      "{'result': {'alternatives': [{'message': {'role': 'assistant', 'text': '3'}, 'status': 'ALTERNATIVE_STATUS_TRUNCATED_FINAL'}], 'usage': {'inputTextTokens': '443', 'completionTokens': '2', 'totalTokens': '445'}, 'modelVersion': '07.03.2024'}}\n",
      "{'modelUri': 'gpt://b1g6odsice70le7mmg6d/yandexgpt-pro', 'completionOptions': {'stream': False, 'temperature': 0.1, 'maxTokens': '2'}, 'messages': [{'role': 'system', 'text': \"Your role is to classify British A-level exam questions into five topics: 1) entreprenuers and leaders, 2) managing people, 3) market, 4) marketing mix and strategy, 5) meeting customer needs. Assign the appropriate topic number based on the question's theme and keywords.\"}, {'role': 'user', 'text': 'define the term brand'}, {'role': 'assistant', 'text': '4'}, {'role': 'user', 'text': 'explain one risk jack ma may have taken when setting up the alibaba group'}, {'role': 'assistant', 'text': '1'}, {'role': 'user', 'text': 'analyse two factors that may have increased demand for the alibaba group'}, {'role': 'assistant', 'text': '3'}, {'role': 'user', 'text': 'discuss if profit maximisation is the main business objective of the alibaba group'}, {'role': 'assistant', 'text': '1'}, {'role': 'user', 'text': 'assess the advantages of a paternalistic style of leadership for a business such as the alibaba group'}, {'role': 'assistant', 'text': '2'}, {'role': 'user', 'text': 'define the term product innovation '}, {'role': 'assistant', 'text': '5'}, {'role': 'user', 'text': 'if nintendo reduces its console prices by 8% calculate the estimated percentage change in demand. you are advised to show your working'}, {'role': 'assistant', 'text': '3'}, {'role': 'user', 'text': 'analyse two different pricing strategies that nintendo might use to compete in the games console industry'}, {'role': 'assistant', 'text': '4'}, {'role': 'user', 'text': 'assess the benefits of a matrix organisational structure for a business such as nintendo'}, {'role': 'assistant', 'text': '2'}, {'role': 'user', 'text': 'Explain how the growth of the fitness market from 2015 to 2016 could have affected puregym'}, {'role': 'assistant', 'text': '5'}, {'role': 'user', 'text': 'Predict the topic number based on the provided question. The topics: 1) entreprenuers and leaders, 2) managing people, 3) market, 4) marketing mix and strategy, 5) meeting customer needs. Please respond with the relevant topic NUMBER.\\nEvaluate these two options and recommend which one is more likely to improve bon bon’s profitability.\"'}]}\n"
     ]
    },
    {
     "name": "stderr",
     "output_type": "stream",
     "text": [
      "Processing chunk 1/2:   5%|█                     | 4/80 [00:12<04:08,  3.26s/it]"
     ]
    },
    {
     "name": "stdout",
     "output_type": "stream",
     "text": [
      "{'result': {'alternatives': [{'message': {'role': 'assistant', 'text': '2'}, 'status': 'ALTERNATIVE_STATUS_TRUNCATED_FINAL'}], 'usage': {'inputTextTokens': '436', 'completionTokens': '2', 'totalTokens': '438'}, 'modelVersion': '07.03.2024'}}\n",
      "{'modelUri': 'gpt://b1g6odsice70le7mmg6d/yandexgpt-pro', 'completionOptions': {'stream': False, 'temperature': 0.1, 'maxTokens': '2'}, 'messages': [{'role': 'system', 'text': \"Your role is to classify British A-level exam questions into five topics: 1) entreprenuers and leaders, 2) managing people, 3) market, 4) marketing mix and strategy, 5) meeting customer needs. Assign the appropriate topic number based on the question's theme and keywords.\"}, {'role': 'user', 'text': 'define the term brand'}, {'role': 'assistant', 'text': '4'}, {'role': 'user', 'text': 'explain one risk jack ma may have taken when setting up the alibaba group'}, {'role': 'assistant', 'text': '1'}, {'role': 'user', 'text': 'analyse two factors that may have increased demand for the alibaba group'}, {'role': 'assistant', 'text': '3'}, {'role': 'user', 'text': 'discuss if profit maximisation is the main business objective of the alibaba group'}, {'role': 'assistant', 'text': '1'}, {'role': 'user', 'text': 'assess the advantages of a paternalistic style of leadership for a business such as the alibaba group'}, {'role': 'assistant', 'text': '2'}, {'role': 'user', 'text': 'define the term product innovation '}, {'role': 'assistant', 'text': '5'}, {'role': 'user', 'text': 'if nintendo reduces its console prices by 8% calculate the estimated percentage change in demand. you are advised to show your working'}, {'role': 'assistant', 'text': '3'}, {'role': 'user', 'text': 'analyse two different pricing strategies that nintendo might use to compete in the games console industry'}, {'role': 'assistant', 'text': '4'}, {'role': 'user', 'text': 'assess the benefits of a matrix organisational structure for a business such as nintendo'}, {'role': 'assistant', 'text': '2'}, {'role': 'user', 'text': 'Explain how the growth of the fitness market from 2015 to 2016 could have affected puregym'}, {'role': 'assistant', 'text': '5'}, {'role': 'user', 'text': 'Predict the topic number based on the provided question. The topics: 1) entreprenuers and leaders, 2) managing people, 3) market, 4) marketing mix and strategy, 5) meeting customer needs. Please respond with the relevant topic NUMBER.\\n evaluate these two options and recommend which option would help maria allen meet her sales target\"'}]}\n"
     ]
    },
    {
     "name": "stderr",
     "output_type": "stream",
     "text": [
      "Processing chunk 1/2:   6%|█▍                    | 5/80 [00:13<03:20,  2.67s/it]"
     ]
    },
    {
     "name": "stdout",
     "output_type": "stream",
     "text": [
      "{'result': {'alternatives': [{'message': {'role': 'assistant', 'text': '2'}, 'status': 'ALTERNATIVE_STATUS_TRUNCATED_FINAL'}], 'usage': {'inputTextTokens': '434', 'completionTokens': '2', 'totalTokens': '436'}, 'modelVersion': '07.03.2024'}}\n",
      "{'modelUri': 'gpt://b1g6odsice70le7mmg6d/yandexgpt-pro', 'completionOptions': {'stream': False, 'temperature': 0.1, 'maxTokens': '2'}, 'messages': [{'role': 'system', 'text': \"Your role is to classify British A-level exam questions into five topics: 1) entreprenuers and leaders, 2) managing people, 3) market, 4) marketing mix and strategy, 5) meeting customer needs. Assign the appropriate topic number based on the question's theme and keywords.\"}, {'role': 'user', 'text': 'define the term brand'}, {'role': 'assistant', 'text': '4'}, {'role': 'user', 'text': 'explain one risk jack ma may have taken when setting up the alibaba group'}, {'role': 'assistant', 'text': '1'}, {'role': 'user', 'text': 'analyse two factors that may have increased demand for the alibaba group'}, {'role': 'assistant', 'text': '3'}, {'role': 'user', 'text': 'discuss if profit maximisation is the main business objective of the alibaba group'}, {'role': 'assistant', 'text': '1'}, {'role': 'user', 'text': 'assess the advantages of a paternalistic style of leadership for a business such as the alibaba group'}, {'role': 'assistant', 'text': '2'}, {'role': 'user', 'text': 'define the term product innovation '}, {'role': 'assistant', 'text': '5'}, {'role': 'user', 'text': 'if nintendo reduces its console prices by 8% calculate the estimated percentage change in demand. you are advised to show your working'}, {'role': 'assistant', 'text': '3'}, {'role': 'user', 'text': 'analyse two different pricing strategies that nintendo might use to compete in the games console industry'}, {'role': 'assistant', 'text': '4'}, {'role': 'user', 'text': 'assess the benefits of a matrix organisational structure for a business such as nintendo'}, {'role': 'assistant', 'text': '2'}, {'role': 'user', 'text': 'Explain how the growth of the fitness market from 2015 to 2016 could have affected puregym'}, {'role': 'assistant', 'text': '5'}, {'role': 'user', 'text': 'Predict the topic number based on the provided question. The topics: 1) entreprenuers and leaders, 2) managing people, 3) market, 4) marketing mix and strategy, 5) meeting customer needs. Please respond with the relevant topic NUMBER.\\nDefine the term ‘niche market’.\"'}]}\n"
     ]
    },
    {
     "name": "stderr",
     "output_type": "stream",
     "text": [
      "Processing chunk 1/2:   8%|█▋                    | 6/80 [00:15<02:53,  2.35s/it]"
     ]
    },
    {
     "name": "stdout",
     "output_type": "stream",
     "text": [
      "{'result': {'alternatives': [{'message': {'role': 'assistant', 'text': '3'}, 'status': 'ALTERNATIVE_STATUS_TRUNCATED_FINAL'}], 'usage': {'inputTextTokens': '425', 'completionTokens': '2', 'totalTokens': '427'}, 'modelVersion': '07.03.2024'}}\n",
      "{'modelUri': 'gpt://b1g6odsice70le7mmg6d/yandexgpt-pro', 'completionOptions': {'stream': False, 'temperature': 0.1, 'maxTokens': '2'}, 'messages': [{'role': 'system', 'text': \"Your role is to classify British A-level exam questions into five topics: 1) entreprenuers and leaders, 2) managing people, 3) market, 4) marketing mix and strategy, 5) meeting customer needs. Assign the appropriate topic number based on the question's theme and keywords.\"}, {'role': 'user', 'text': 'define the term brand'}, {'role': 'assistant', 'text': '4'}, {'role': 'user', 'text': 'explain one risk jack ma may have taken when setting up the alibaba group'}, {'role': 'assistant', 'text': '1'}, {'role': 'user', 'text': 'analyse two factors that may have increased demand for the alibaba group'}, {'role': 'assistant', 'text': '3'}, {'role': 'user', 'text': 'discuss if profit maximisation is the main business objective of the alibaba group'}, {'role': 'assistant', 'text': '1'}, {'role': 'user', 'text': 'assess the advantages of a paternalistic style of leadership for a business such as the alibaba group'}, {'role': 'assistant', 'text': '2'}, {'role': 'user', 'text': 'define the term product innovation '}, {'role': 'assistant', 'text': '5'}, {'role': 'user', 'text': 'if nintendo reduces its console prices by 8% calculate the estimated percentage change in demand. you are advised to show your working'}, {'role': 'assistant', 'text': '3'}, {'role': 'user', 'text': 'analyse two different pricing strategies that nintendo might use to compete in the games console industry'}, {'role': 'assistant', 'text': '4'}, {'role': 'user', 'text': 'assess the benefits of a matrix organisational structure for a business such as nintendo'}, {'role': 'assistant', 'text': '2'}, {'role': 'user', 'text': 'Explain how the growth of the fitness market from 2015 to 2016 could have affected puregym'}, {'role': 'assistant', 'text': '5'}, {'role': 'user', 'text': 'Predict the topic number based on the provided question. The topics: 1) entreprenuers and leaders, 2) managing people, 3) market, 4) marketing mix and strategy, 5) meeting customer needs. Please respond with the relevant topic NUMBER.\\nExplain how the growth of the fitness market from 2015 to 2016 could have affected puregym\"'}]}\n"
     ]
    },
    {
     "name": "stderr",
     "output_type": "stream",
     "text": [
      "Processing chunk 1/2:   9%|█▉                    | 7/80 [00:17<02:35,  2.13s/it]"
     ]
    },
    {
     "name": "stdout",
     "output_type": "stream",
     "text": [
      "{'result': {'alternatives': [{'message': {'role': 'assistant', 'text': '3'}, 'status': 'ALTERNATIVE_STATUS_TRUNCATED_FINAL'}], 'usage': {'inputTextTokens': '442', 'completionTokens': '2', 'totalTokens': '444'}, 'modelVersion': '07.03.2024'}}\n",
      "{'modelUri': 'gpt://b1g6odsice70le7mmg6d/yandexgpt-pro', 'completionOptions': {'stream': False, 'temperature': 0.1, 'maxTokens': '2'}, 'messages': [{'role': 'system', 'text': \"Your role is to classify British A-level exam questions into five topics: 1) entreprenuers and leaders, 2) managing people, 3) market, 4) marketing mix and strategy, 5) meeting customer needs. Assign the appropriate topic number based on the question's theme and keywords.\"}, {'role': 'user', 'text': 'define the term brand'}, {'role': 'assistant', 'text': '4'}, {'role': 'user', 'text': 'explain one risk jack ma may have taken when setting up the alibaba group'}, {'role': 'assistant', 'text': '1'}, {'role': 'user', 'text': 'analyse two factors that may have increased demand for the alibaba group'}, {'role': 'assistant', 'text': '3'}, {'role': 'user', 'text': 'discuss if profit maximisation is the main business objective of the alibaba group'}, {'role': 'assistant', 'text': '1'}, {'role': 'user', 'text': 'assess the advantages of a paternalistic style of leadership for a business such as the alibaba group'}, {'role': 'assistant', 'text': '2'}, {'role': 'user', 'text': 'define the term product innovation '}, {'role': 'assistant', 'text': '5'}, {'role': 'user', 'text': 'if nintendo reduces its console prices by 8% calculate the estimated percentage change in demand. you are advised to show your working'}, {'role': 'assistant', 'text': '3'}, {'role': 'user', 'text': 'analyse two different pricing strategies that nintendo might use to compete in the games console industry'}, {'role': 'assistant', 'text': '4'}, {'role': 'user', 'text': 'assess the benefits of a matrix organisational structure for a business such as nintendo'}, {'role': 'assistant', 'text': '2'}, {'role': 'user', 'text': 'Explain how the growth of the fitness market from 2015 to 2016 could have affected puregym'}, {'role': 'assistant', 'text': '5'}, {'role': 'user', 'text': 'Predict the topic number based on the provided question. The topics: 1) entreprenuers and leaders, 2) managing people, 3) market, 4) marketing mix and strategy, 5) meeting customer needs. Please respond with the relevant topic NUMBER.\\nAssess the advantages for innocent of test marketing its products\"'}]}\n"
     ]
    },
    {
     "name": "stderr",
     "output_type": "stream",
     "text": [
      "Processing chunk 1/2:  10%|██▏                   | 8/80 [00:18<02:22,  1.98s/it]"
     ]
    },
    {
     "name": "stdout",
     "output_type": "stream",
     "text": [
      "{'result': {'alternatives': [{'message': {'role': 'assistant', 'text': '4'}, 'status': 'ALTERNATIVE_STATUS_TRUNCATED_FINAL'}], 'usage': {'inputTextTokens': '428', 'completionTokens': '2', 'totalTokens': '430'}, 'modelVersion': '07.03.2024'}}\n",
      "{'modelUri': 'gpt://b1g6odsice70le7mmg6d/yandexgpt-pro', 'completionOptions': {'stream': False, 'temperature': 0.1, 'maxTokens': '2'}, 'messages': [{'role': 'system', 'text': \"Your role is to classify British A-level exam questions into five topics: 1) entreprenuers and leaders, 2) managing people, 3) market, 4) marketing mix and strategy, 5) meeting customer needs. Assign the appropriate topic number based on the question's theme and keywords.\"}, {'role': 'user', 'text': 'define the term brand'}, {'role': 'assistant', 'text': '4'}, {'role': 'user', 'text': 'explain one risk jack ma may have taken when setting up the alibaba group'}, {'role': 'assistant', 'text': '1'}, {'role': 'user', 'text': 'analyse two factors that may have increased demand for the alibaba group'}, {'role': 'assistant', 'text': '3'}, {'role': 'user', 'text': 'discuss if profit maximisation is the main business objective of the alibaba group'}, {'role': 'assistant', 'text': '1'}, {'role': 'user', 'text': 'assess the advantages of a paternalistic style of leadership for a business such as the alibaba group'}, {'role': 'assistant', 'text': '2'}, {'role': 'user', 'text': 'define the term product innovation '}, {'role': 'assistant', 'text': '5'}, {'role': 'user', 'text': 'if nintendo reduces its console prices by 8% calculate the estimated percentage change in demand. you are advised to show your working'}, {'role': 'assistant', 'text': '3'}, {'role': 'user', 'text': 'analyse two different pricing strategies that nintendo might use to compete in the games console industry'}, {'role': 'assistant', 'text': '4'}, {'role': 'user', 'text': 'assess the benefits of a matrix organisational structure for a business such as nintendo'}, {'role': 'assistant', 'text': '2'}, {'role': 'user', 'text': 'Explain how the growth of the fitness market from 2015 to 2016 could have affected puregym'}, {'role': 'assistant', 'text': '5'}, {'role': 'user', 'text': 'Predict the topic number based on the provided question. The topics: 1) entreprenuers and leaders, 2) managing people, 3) market, 4) marketing mix and strategy, 5) meeting customer needs. Please respond with the relevant topic NUMBER.\\nDefine the term ‚product differentiationa\"'}]}\n"
     ]
    },
    {
     "name": "stderr",
     "output_type": "stream",
     "text": [
      "Processing chunk 1/2:  11%|██▍                   | 9/80 [00:20<02:15,  1.91s/it]"
     ]
    },
    {
     "name": "stdout",
     "output_type": "stream",
     "text": [
      "{'result': {'alternatives': [{'message': {'role': 'assistant', 'text': '4'}, 'status': 'ALTERNATIVE_STATUS_TRUNCATED_FINAL'}], 'usage': {'inputTextTokens': '425', 'completionTokens': '2', 'totalTokens': '427'}, 'modelVersion': '07.03.2024'}}\n",
      "{'modelUri': 'gpt://b1g6odsice70le7mmg6d/yandexgpt-pro', 'completionOptions': {'stream': False, 'temperature': 0.1, 'maxTokens': '2'}, 'messages': [{'role': 'system', 'text': \"Your role is to classify British A-level exam questions into five topics: 1) entreprenuers and leaders, 2) managing people, 3) market, 4) marketing mix and strategy, 5) meeting customer needs. Assign the appropriate topic number based on the question's theme and keywords.\"}, {'role': 'user', 'text': 'define the term brand'}, {'role': 'assistant', 'text': '4'}, {'role': 'user', 'text': 'explain one risk jack ma may have taken when setting up the alibaba group'}, {'role': 'assistant', 'text': '1'}, {'role': 'user', 'text': 'analyse two factors that may have increased demand for the alibaba group'}, {'role': 'assistant', 'text': '3'}, {'role': 'user', 'text': 'discuss if profit maximisation is the main business objective of the alibaba group'}, {'role': 'assistant', 'text': '1'}, {'role': 'user', 'text': 'assess the advantages of a paternalistic style of leadership for a business such as the alibaba group'}, {'role': 'assistant', 'text': '2'}, {'role': 'user', 'text': 'define the term product innovation '}, {'role': 'assistant', 'text': '5'}, {'role': 'user', 'text': 'if nintendo reduces its console prices by 8% calculate the estimated percentage change in demand. you are advised to show your working'}, {'role': 'assistant', 'text': '3'}, {'role': 'user', 'text': 'analyse two different pricing strategies that nintendo might use to compete in the games console industry'}, {'role': 'assistant', 'text': '4'}, {'role': 'user', 'text': 'assess the benefits of a matrix organisational structure for a business such as nintendo'}, {'role': 'assistant', 'text': '2'}, {'role': 'user', 'text': 'Explain how the growth of the fitness market from 2015 to 2016 could have affected puregym'}, {'role': 'assistant', 'text': '5'}, {'role': 'user', 'text': 'Predict the topic number based on the provided question. The topics: 1) entreprenuers and leaders, 2) managing people, 3) market, 4) marketing mix and strategy, 5) meeting customer needs. Please respond with the relevant topic NUMBER.\\nDefine the term brand\"'}]}\n"
     ]
    },
    {
     "name": "stderr",
     "output_type": "stream",
     "text": [
      "Processing chunk 1/2:  12%|██▋                  | 10/80 [00:22<02:07,  1.83s/it]"
     ]
    },
    {
     "name": "stdout",
     "output_type": "stream",
     "text": [
      "{'result': {'alternatives': [{'message': {'role': 'assistant', 'text': '4'}, 'status': 'ALTERNATIVE_STATUS_TRUNCATED_FINAL'}], 'usage': {'inputTextTokens': '421', 'completionTokens': '2', 'totalTokens': '423'}, 'modelVersion': '07.03.2024'}}\n",
      "{'modelUri': 'gpt://b1g6odsice70le7mmg6d/yandexgpt-pro', 'completionOptions': {'stream': False, 'temperature': 0.1, 'maxTokens': '2'}, 'messages': [{'role': 'system', 'text': \"Your role is to classify British A-level exam questions into five topics: 1) entreprenuers and leaders, 2) managing people, 3) market, 4) marketing mix and strategy, 5) meeting customer needs. Assign the appropriate topic number based on the question's theme and keywords.\"}, {'role': 'user', 'text': 'define the term brand'}, {'role': 'assistant', 'text': '4'}, {'role': 'user', 'text': 'explain one risk jack ma may have taken when setting up the alibaba group'}, {'role': 'assistant', 'text': '1'}, {'role': 'user', 'text': 'analyse two factors that may have increased demand for the alibaba group'}, {'role': 'assistant', 'text': '3'}, {'role': 'user', 'text': 'discuss if profit maximisation is the main business objective of the alibaba group'}, {'role': 'assistant', 'text': '1'}, {'role': 'user', 'text': 'assess the advantages of a paternalistic style of leadership for a business such as the alibaba group'}, {'role': 'assistant', 'text': '2'}, {'role': 'user', 'text': 'define the term product innovation '}, {'role': 'assistant', 'text': '5'}, {'role': 'user', 'text': 'if nintendo reduces its console prices by 8% calculate the estimated percentage change in demand. you are advised to show your working'}, {'role': 'assistant', 'text': '3'}, {'role': 'user', 'text': 'analyse two different pricing strategies that nintendo might use to compete in the games console industry'}, {'role': 'assistant', 'text': '4'}, {'role': 'user', 'text': 'assess the benefits of a matrix organisational structure for a business such as nintendo'}, {'role': 'assistant', 'text': '2'}, {'role': 'user', 'text': 'Explain how the growth of the fitness market from 2015 to 2016 could have affected puregym'}, {'role': 'assistant', 'text': '5'}, {'role': 'user', 'text': 'Predict the topic number based on the provided question. The topics: 1) entreprenuers and leaders, 2) managing people, 3) market, 4) marketing mix and strategy, 5) meeting customer needs. Please respond with the relevant topic NUMBER.\\nDefine the term demand\"'}]}\n"
     ]
    },
    {
     "name": "stderr",
     "output_type": "stream",
     "text": [
      "Processing chunk 1/2:  14%|██▉                  | 11/80 [00:24<02:14,  1.95s/it]"
     ]
    },
    {
     "name": "stdout",
     "output_type": "stream",
     "text": [
      "{'result': {'alternatives': [{'message': {'role': 'assistant', 'text': '3'}, 'status': 'ALTERNATIVE_STATUS_TRUNCATED_FINAL'}], 'usage': {'inputTextTokens': '421', 'completionTokens': '2', 'totalTokens': '423'}, 'modelVersion': '07.03.2024'}}\n",
      "{'modelUri': 'gpt://b1g6odsice70le7mmg6d/yandexgpt-pro', 'completionOptions': {'stream': False, 'temperature': 0.1, 'maxTokens': '2'}, 'messages': [{'role': 'system', 'text': \"Your role is to classify British A-level exam questions into five topics: 1) entreprenuers and leaders, 2) managing people, 3) market, 4) marketing mix and strategy, 5) meeting customer needs. Assign the appropriate topic number based on the question's theme and keywords.\"}, {'role': 'user', 'text': 'define the term brand'}, {'role': 'assistant', 'text': '4'}, {'role': 'user', 'text': 'explain one risk jack ma may have taken when setting up the alibaba group'}, {'role': 'assistant', 'text': '1'}, {'role': 'user', 'text': 'analyse two factors that may have increased demand for the alibaba group'}, {'role': 'assistant', 'text': '3'}, {'role': 'user', 'text': 'discuss if profit maximisation is the main business objective of the alibaba group'}, {'role': 'assistant', 'text': '1'}, {'role': 'user', 'text': 'assess the advantages of a paternalistic style of leadership for a business such as the alibaba group'}, {'role': 'assistant', 'text': '2'}, {'role': 'user', 'text': 'define the term product innovation '}, {'role': 'assistant', 'text': '5'}, {'role': 'user', 'text': 'if nintendo reduces its console prices by 8% calculate the estimated percentage change in demand. you are advised to show your working'}, {'role': 'assistant', 'text': '3'}, {'role': 'user', 'text': 'analyse two different pricing strategies that nintendo might use to compete in the games console industry'}, {'role': 'assistant', 'text': '4'}, {'role': 'user', 'text': 'assess the benefits of a matrix organisational structure for a business such as nintendo'}, {'role': 'assistant', 'text': '2'}, {'role': 'user', 'text': 'Explain how the growth of the fitness market from 2015 to 2016 could have affected puregym'}, {'role': 'assistant', 'text': '5'}, {'role': 'user', 'text': 'Predict the topic number based on the provided question. The topics: 1) entreprenuers and leaders, 2) managing people, 3) market, 4) marketing mix and strategy, 5) meeting customer needs. Please respond with the relevant topic NUMBER.\\nAssess the likely implications for reggae reggae sauce of being market orientated.\"'}]}\n"
     ]
    },
    {
     "name": "stderr",
     "output_type": "stream",
     "text": [
      "Processing chunk 1/2:  15%|███▏                 | 12/80 [00:27<02:31,  2.23s/it]"
     ]
    },
    {
     "name": "stdout",
     "output_type": "stream",
     "text": [
      "{'result': {'alternatives': [{'message': {'role': 'assistant', 'text': '4'}, 'status': 'ALTERNATIVE_STATUS_TRUNCATED_FINAL'}], 'usage': {'inputTextTokens': '433', 'completionTokens': '2', 'totalTokens': '435'}, 'modelVersion': '07.03.2024'}}\n",
      "{'modelUri': 'gpt://b1g6odsice70le7mmg6d/yandexgpt-pro', 'completionOptions': {'stream': False, 'temperature': 0.1, 'maxTokens': '2'}, 'messages': [{'role': 'system', 'text': \"Your role is to classify British A-level exam questions into five topics: 1) entreprenuers and leaders, 2) managing people, 3) market, 4) marketing mix and strategy, 5) meeting customer needs. Assign the appropriate topic number based on the question's theme and keywords.\"}, {'role': 'user', 'text': 'define the term brand'}, {'role': 'assistant', 'text': '4'}, {'role': 'user', 'text': 'explain one risk jack ma may have taken when setting up the alibaba group'}, {'role': 'assistant', 'text': '1'}, {'role': 'user', 'text': 'analyse two factors that may have increased demand for the alibaba group'}, {'role': 'assistant', 'text': '3'}, {'role': 'user', 'text': 'discuss if profit maximisation is the main business objective of the alibaba group'}, {'role': 'assistant', 'text': '1'}, {'role': 'user', 'text': 'assess the advantages of a paternalistic style of leadership for a business such as the alibaba group'}, {'role': 'assistant', 'text': '2'}, {'role': 'user', 'text': 'define the term product innovation '}, {'role': 'assistant', 'text': '5'}, {'role': 'user', 'text': 'if nintendo reduces its console prices by 8% calculate the estimated percentage change in demand. you are advised to show your working'}, {'role': 'assistant', 'text': '3'}, {'role': 'user', 'text': 'analyse two different pricing strategies that nintendo might use to compete in the games console industry'}, {'role': 'assistant', 'text': '4'}, {'role': 'user', 'text': 'assess the benefits of a matrix organisational structure for a business such as nintendo'}, {'role': 'assistant', 'text': '2'}, {'role': 'user', 'text': 'Explain how the growth of the fitness market from 2015 to 2016 could have affected puregym'}, {'role': 'assistant', 'text': '5'}, {'role': 'user', 'text': 'Predict the topic number based on the provided question. The topics: 1) entreprenuers and leaders, 2) managing people, 3) market, 4) marketing mix and strategy, 5) meeting customer needs. Please respond with the relevant topic NUMBER.\\nUsing the case study, explain how dean’s business, arrive ’n’ shine, adds value.\"'}]}\n"
     ]
    },
    {
     "name": "stderr",
     "output_type": "stream",
     "text": [
      "Processing chunk 1/2:  16%|███▍                 | 13/80 [00:29<02:19,  2.09s/it]"
     ]
    },
    {
     "name": "stdout",
     "output_type": "stream",
     "text": [
      "{'result': {'alternatives': [{'message': {'role': 'assistant', 'text': '2'}, 'status': 'ALTERNATIVE_STATUS_TRUNCATED_FINAL'}], 'usage': {'inputTextTokens': '438', 'completionTokens': '2', 'totalTokens': '440'}, 'modelVersion': '07.03.2024'}}\n",
      "{'modelUri': 'gpt://b1g6odsice70le7mmg6d/yandexgpt-pro', 'completionOptions': {'stream': False, 'temperature': 0.1, 'maxTokens': '2'}, 'messages': [{'role': 'system', 'text': \"Your role is to classify British A-level exam questions into five topics: 1) entreprenuers and leaders, 2) managing people, 3) market, 4) marketing mix and strategy, 5) meeting customer needs. Assign the appropriate topic number based on the question's theme and keywords.\"}, {'role': 'user', 'text': 'define the term brand'}, {'role': 'assistant', 'text': '4'}, {'role': 'user', 'text': 'explain one risk jack ma may have taken when setting up the alibaba group'}, {'role': 'assistant', 'text': '1'}, {'role': 'user', 'text': 'analyse two factors that may have increased demand for the alibaba group'}, {'role': 'assistant', 'text': '3'}, {'role': 'user', 'text': 'discuss if profit maximisation is the main business objective of the alibaba group'}, {'role': 'assistant', 'text': '1'}, {'role': 'user', 'text': 'assess the advantages of a paternalistic style of leadership for a business such as the alibaba group'}, {'role': 'assistant', 'text': '2'}, {'role': 'user', 'text': 'define the term product innovation '}, {'role': 'assistant', 'text': '5'}, {'role': 'user', 'text': 'if nintendo reduces its console prices by 8% calculate the estimated percentage change in demand. you are advised to show your working'}, {'role': 'assistant', 'text': '3'}, {'role': 'user', 'text': 'analyse two different pricing strategies that nintendo might use to compete in the games console industry'}, {'role': 'assistant', 'text': '4'}, {'role': 'user', 'text': 'assess the benefits of a matrix organisational structure for a business such as nintendo'}, {'role': 'assistant', 'text': '2'}, {'role': 'user', 'text': 'Explain how the growth of the fitness market from 2015 to 2016 could have affected puregym'}, {'role': 'assistant', 'text': '5'}, {'role': 'user', 'text': 'Predict the topic number based on the provided question. The topics: 1) entreprenuers and leaders, 2) managing people, 3) market, 4) marketing mix and strategy, 5) meeting customer needs. Please respond with the relevant topic NUMBER.\\nAnalyse one reason why peter’s resilience might be important to the long-term success of complete car cosmetics.\"'}]}\n"
     ]
    },
    {
     "name": "stderr",
     "output_type": "stream",
     "text": [
      "Processing chunk 1/2:  18%|███▋                 | 14/80 [00:30<02:10,  1.98s/it]"
     ]
    },
    {
     "name": "stdout",
     "output_type": "stream",
     "text": [
      "{'result': {'alternatives': [{'message': {'role': 'assistant', 'text': '2'}, 'status': 'ALTERNATIVE_STATUS_TRUNCATED_FINAL'}], 'usage': {'inputTextTokens': '440', 'completionTokens': '2', 'totalTokens': '442'}, 'modelVersion': '07.03.2024'}}\n",
      "{'modelUri': 'gpt://b1g6odsice70le7mmg6d/yandexgpt-pro', 'completionOptions': {'stream': False, 'temperature': 0.1, 'maxTokens': '2'}, 'messages': [{'role': 'system', 'text': \"Your role is to classify British A-level exam questions into five topics: 1) entreprenuers and leaders, 2) managing people, 3) market, 4) marketing mix and strategy, 5) meeting customer needs. Assign the appropriate topic number based on the question's theme and keywords.\"}, {'role': 'user', 'text': 'define the term brand'}, {'role': 'assistant', 'text': '4'}, {'role': 'user', 'text': 'explain one risk jack ma may have taken when setting up the alibaba group'}, {'role': 'assistant', 'text': '1'}, {'role': 'user', 'text': 'analyse two factors that may have increased demand for the alibaba group'}, {'role': 'assistant', 'text': '3'}, {'role': 'user', 'text': 'discuss if profit maximisation is the main business objective of the alibaba group'}, {'role': 'assistant', 'text': '1'}, {'role': 'user', 'text': 'assess the advantages of a paternalistic style of leadership for a business such as the alibaba group'}, {'role': 'assistant', 'text': '2'}, {'role': 'user', 'text': 'define the term product innovation '}, {'role': 'assistant', 'text': '5'}, {'role': 'user', 'text': 'if nintendo reduces its console prices by 8% calculate the estimated percentage change in demand. you are advised to show your working'}, {'role': 'assistant', 'text': '3'}, {'role': 'user', 'text': 'analyse two different pricing strategies that nintendo might use to compete in the games console industry'}, {'role': 'assistant', 'text': '4'}, {'role': 'user', 'text': 'assess the benefits of a matrix organisational structure for a business such as nintendo'}, {'role': 'assistant', 'text': '2'}, {'role': 'user', 'text': 'Explain how the growth of the fitness market from 2015 to 2016 could have affected puregym'}, {'role': 'assistant', 'text': '5'}, {'role': 'user', 'text': 'Predict the topic number based on the provided question. The topics: 1) entreprenuers and leaders, 2) managing people, 3) market, 4) marketing mix and strategy, 5) meeting customer needs. Please respond with the relevant topic NUMBER.\\nAssess whether social trends might affect the design mix for ape snacks’ coconut snacks.\"'}]}\n"
     ]
    },
    {
     "name": "stderr",
     "output_type": "stream",
     "text": [
      "Processing chunk 1/2:  19%|███▉                 | 15/80 [00:32<02:03,  1.91s/it]"
     ]
    },
    {
     "name": "stdout",
     "output_type": "stream",
     "text": [
      "{'result': {'alternatives': [{'message': {'role': 'assistant', 'text': '4'}, 'status': 'ALTERNATIVE_STATUS_TRUNCATED_FINAL'}], 'usage': {'inputTextTokens': '434', 'completionTokens': '2', 'totalTokens': '436'}, 'modelVersion': '07.03.2024'}}\n",
      "{'modelUri': 'gpt://b1g6odsice70le7mmg6d/yandexgpt-pro', 'completionOptions': {'stream': False, 'temperature': 0.1, 'maxTokens': '2'}, 'messages': [{'role': 'system', 'text': \"Your role is to classify British A-level exam questions into five topics: 1) entreprenuers and leaders, 2) managing people, 3) market, 4) marketing mix and strategy, 5) meeting customer needs. Assign the appropriate topic number based on the question's theme and keywords.\"}, {'role': 'user', 'text': 'define the term brand'}, {'role': 'assistant', 'text': '4'}, {'role': 'user', 'text': 'explain one risk jack ma may have taken when setting up the alibaba group'}, {'role': 'assistant', 'text': '1'}, {'role': 'user', 'text': 'analyse two factors that may have increased demand for the alibaba group'}, {'role': 'assistant', 'text': '3'}, {'role': 'user', 'text': 'discuss if profit maximisation is the main business objective of the alibaba group'}, {'role': 'assistant', 'text': '1'}, {'role': 'user', 'text': 'assess the advantages of a paternalistic style of leadership for a business such as the alibaba group'}, {'role': 'assistant', 'text': '2'}, {'role': 'user', 'text': 'define the term product innovation '}, {'role': 'assistant', 'text': '5'}, {'role': 'user', 'text': 'if nintendo reduces its console prices by 8% calculate the estimated percentage change in demand. you are advised to show your working'}, {'role': 'assistant', 'text': '3'}, {'role': 'user', 'text': 'analyse two different pricing strategies that nintendo might use to compete in the games console industry'}, {'role': 'assistant', 'text': '4'}, {'role': 'user', 'text': 'assess the benefits of a matrix organisational structure for a business such as nintendo'}, {'role': 'assistant', 'text': '2'}, {'role': 'user', 'text': 'Explain how the growth of the fitness market from 2015 to 2016 could have affected puregym'}, {'role': 'assistant', 'text': '5'}, {'role': 'user', 'text': 'Predict the topic number based on the provided question. The topics: 1) entreprenuers and leaders, 2) managing people, 3) market, 4) marketing mix and strategy, 5) meeting customer needs. Please respond with the relevant topic NUMBER.\\nAssess if there is a trade-off between social objectives and profit for these farmers\"'}]}\n"
     ]
    },
    {
     "name": "stderr",
     "output_type": "stream",
     "text": [
      "Processing chunk 1/2:  20%|████▏                | 16/80 [00:44<05:04,  4.75s/it]"
     ]
    },
    {
     "name": "stdout",
     "output_type": "stream",
     "text": [
      "{'result': {'alternatives': [{'message': {'role': 'assistant', 'text': '2'}, 'status': 'ALTERNATIVE_STATUS_TRUNCATED_FINAL'}], 'usage': {'inputTextTokens': '434', 'completionTokens': '2', 'totalTokens': '436'}, 'modelVersion': '07.03.2024'}}\n",
      "{'modelUri': 'gpt://b1g6odsice70le7mmg6d/yandexgpt-pro', 'completionOptions': {'stream': False, 'temperature': 0.1, 'maxTokens': '2'}, 'messages': [{'role': 'system', 'text': \"Your role is to classify British A-level exam questions into five topics: 1) entreprenuers and leaders, 2) managing people, 3) market, 4) marketing mix and strategy, 5) meeting customer needs. Assign the appropriate topic number based on the question's theme and keywords.\"}, {'role': 'user', 'text': 'define the term brand'}, {'role': 'assistant', 'text': '4'}, {'role': 'user', 'text': 'explain one risk jack ma may have taken when setting up the alibaba group'}, {'role': 'assistant', 'text': '1'}, {'role': 'user', 'text': 'analyse two factors that may have increased demand for the alibaba group'}, {'role': 'assistant', 'text': '3'}, {'role': 'user', 'text': 'discuss if profit maximisation is the main business objective of the alibaba group'}, {'role': 'assistant', 'text': '1'}, {'role': 'user', 'text': 'assess the advantages of a paternalistic style of leadership for a business such as the alibaba group'}, {'role': 'assistant', 'text': '2'}, {'role': 'user', 'text': 'define the term product innovation '}, {'role': 'assistant', 'text': '5'}, {'role': 'user', 'text': 'if nintendo reduces its console prices by 8% calculate the estimated percentage change in demand. you are advised to show your working'}, {'role': 'assistant', 'text': '3'}, {'role': 'user', 'text': 'analyse two different pricing strategies that nintendo might use to compete in the games console industry'}, {'role': 'assistant', 'text': '4'}, {'role': 'user', 'text': 'assess the benefits of a matrix organisational structure for a business such as nintendo'}, {'role': 'assistant', 'text': '2'}, {'role': 'user', 'text': 'Explain how the growth of the fitness market from 2015 to 2016 could have affected puregym'}, {'role': 'assistant', 'text': '5'}, {'role': 'user', 'text': 'Predict the topic number based on the provided question. The topics: 1) entreprenuers and leaders, 2) managing people, 3) market, 4) marketing mix and strategy, 5) meeting customer needs. Please respond with the relevant topic NUMBER.\\nExplain one reason why hydra creative might use an extension strategy.\"'}]}\n"
     ]
    },
    {
     "name": "stderr",
     "output_type": "stream",
     "text": [
      "Processing chunk 1/2:  21%|████▍                | 17/80 [00:45<04:01,  3.83s/it]"
     ]
    },
    {
     "name": "stdout",
     "output_type": "stream",
     "text": [
      "{'result': {'alternatives': [{'message': {'role': 'assistant', 'text': '4'}, 'status': 'ALTERNATIVE_STATUS_TRUNCATED_FINAL'}], 'usage': {'inputTextTokens': '429', 'completionTokens': '2', 'totalTokens': '431'}, 'modelVersion': '07.03.2024'}}\n",
      "{'modelUri': 'gpt://b1g6odsice70le7mmg6d/yandexgpt-pro', 'completionOptions': {'stream': False, 'temperature': 0.1, 'maxTokens': '2'}, 'messages': [{'role': 'system', 'text': \"Your role is to classify British A-level exam questions into five topics: 1) entreprenuers and leaders, 2) managing people, 3) market, 4) marketing mix and strategy, 5) meeting customer needs. Assign the appropriate topic number based on the question's theme and keywords.\"}, {'role': 'user', 'text': 'define the term brand'}, {'role': 'assistant', 'text': '4'}, {'role': 'user', 'text': 'explain one risk jack ma may have taken when setting up the alibaba group'}, {'role': 'assistant', 'text': '1'}, {'role': 'user', 'text': 'analyse two factors that may have increased demand for the alibaba group'}, {'role': 'assistant', 'text': '3'}, {'role': 'user', 'text': 'discuss if profit maximisation is the main business objective of the alibaba group'}, {'role': 'assistant', 'text': '1'}, {'role': 'user', 'text': 'assess the advantages of a paternalistic style of leadership for a business such as the alibaba group'}, {'role': 'assistant', 'text': '2'}, {'role': 'user', 'text': 'define the term product innovation '}, {'role': 'assistant', 'text': '5'}, {'role': 'user', 'text': 'if nintendo reduces its console prices by 8% calculate the estimated percentage change in demand. you are advised to show your working'}, {'role': 'assistant', 'text': '3'}, {'role': 'user', 'text': 'analyse two different pricing strategies that nintendo might use to compete in the games console industry'}, {'role': 'assistant', 'text': '4'}, {'role': 'user', 'text': 'assess the benefits of a matrix organisational structure for a business such as nintendo'}, {'role': 'assistant', 'text': '2'}, {'role': 'user', 'text': 'Explain how the growth of the fitness market from 2015 to 2016 could have affected puregym'}, {'role': 'assistant', 'text': '5'}, {'role': 'user', 'text': 'Predict the topic number based on the provided question. The topics: 1) entreprenuers and leaders, 2) managing people, 3) market, 4) marketing mix and strategy, 5) meeting customer needs. Please respond with the relevant topic NUMBER.\\nDiscuss how competition in the airline market may affect customers.\"'}]}\n"
     ]
    },
    {
     "name": "stderr",
     "output_type": "stream",
     "text": [
      "Processing chunk 1/2:  22%|████▋                | 18/80 [00:47<03:17,  3.19s/it]"
     ]
    },
    {
     "name": "stdout",
     "output_type": "stream",
     "text": [
      "{'result': {'alternatives': [{'message': {'role': 'assistant', 'text': '3'}, 'status': 'ALTERNATIVE_STATUS_TRUNCATED_FINAL'}], 'usage': {'inputTextTokens': '427', 'completionTokens': '2', 'totalTokens': '429'}, 'modelVersion': '07.03.2024'}}\n",
      "{'modelUri': 'gpt://b1g6odsice70le7mmg6d/yandexgpt-pro', 'completionOptions': {'stream': False, 'temperature': 0.1, 'maxTokens': '2'}, 'messages': [{'role': 'system', 'text': \"Your role is to classify British A-level exam questions into five topics: 1) entreprenuers and leaders, 2) managing people, 3) market, 4) marketing mix and strategy, 5) meeting customer needs. Assign the appropriate topic number based on the question's theme and keywords.\"}, {'role': 'user', 'text': 'define the term brand'}, {'role': 'assistant', 'text': '4'}, {'role': 'user', 'text': 'explain one risk jack ma may have taken when setting up the alibaba group'}, {'role': 'assistant', 'text': '1'}, {'role': 'user', 'text': 'analyse two factors that may have increased demand for the alibaba group'}, {'role': 'assistant', 'text': '3'}, {'role': 'user', 'text': 'discuss if profit maximisation is the main business objective of the alibaba group'}, {'role': 'assistant', 'text': '1'}, {'role': 'user', 'text': 'assess the advantages of a paternalistic style of leadership for a business such as the alibaba group'}, {'role': 'assistant', 'text': '2'}, {'role': 'user', 'text': 'define the term product innovation '}, {'role': 'assistant', 'text': '5'}, {'role': 'user', 'text': 'if nintendo reduces its console prices by 8% calculate the estimated percentage change in demand. you are advised to show your working'}, {'role': 'assistant', 'text': '3'}, {'role': 'user', 'text': 'analyse two different pricing strategies that nintendo might use to compete in the games console industry'}, {'role': 'assistant', 'text': '4'}, {'role': 'user', 'text': 'assess the benefits of a matrix organisational structure for a business such as nintendo'}, {'role': 'assistant', 'text': '2'}, {'role': 'user', 'text': 'Explain how the growth of the fitness market from 2015 to 2016 could have affected puregym'}, {'role': 'assistant', 'text': '5'}, {'role': 'user', 'text': 'Predict the topic number based on the provided question. The topics: 1) entreprenuers and leaders, 2) managing people, 3) market, 4) marketing mix and strategy, 5) meeting customer needs. Please respond with the relevant topic NUMBER.\\nAnalyse two possible difficulties primark might face from selling to a mass market\"'}]}\n"
     ]
    },
    {
     "name": "stderr",
     "output_type": "stream",
     "text": [
      "Processing chunk 1/2:  24%|████▉                | 19/80 [00:49<02:45,  2.72s/it]"
     ]
    },
    {
     "name": "stdout",
     "output_type": "stream",
     "text": [
      "{'result': {'alternatives': [{'message': {'role': 'assistant', 'text': '2'}, 'status': 'ALTERNATIVE_STATUS_TRUNCATED_FINAL'}], 'usage': {'inputTextTokens': '432', 'completionTokens': '2', 'totalTokens': '434'}, 'modelVersion': '07.03.2024'}}\n",
      "{'modelUri': 'gpt://b1g6odsice70le7mmg6d/yandexgpt-pro', 'completionOptions': {'stream': False, 'temperature': 0.1, 'maxTokens': '2'}, 'messages': [{'role': 'system', 'text': \"Your role is to classify British A-level exam questions into five topics: 1) entreprenuers and leaders, 2) managing people, 3) market, 4) marketing mix and strategy, 5) meeting customer needs. Assign the appropriate topic number based on the question's theme and keywords.\"}, {'role': 'user', 'text': 'define the term brand'}, {'role': 'assistant', 'text': '4'}, {'role': 'user', 'text': 'explain one risk jack ma may have taken when setting up the alibaba group'}, {'role': 'assistant', 'text': '1'}, {'role': 'user', 'text': 'analyse two factors that may have increased demand for the alibaba group'}, {'role': 'assistant', 'text': '3'}, {'role': 'user', 'text': 'discuss if profit maximisation is the main business objective of the alibaba group'}, {'role': 'assistant', 'text': '1'}, {'role': 'user', 'text': 'assess the advantages of a paternalistic style of leadership for a business such as the alibaba group'}, {'role': 'assistant', 'text': '2'}, {'role': 'user', 'text': 'define the term product innovation '}, {'role': 'assistant', 'text': '5'}, {'role': 'user', 'text': 'if nintendo reduces its console prices by 8% calculate the estimated percentage change in demand. you are advised to show your working'}, {'role': 'assistant', 'text': '3'}, {'role': 'user', 'text': 'analyse two different pricing strategies that nintendo might use to compete in the games console industry'}, {'role': 'assistant', 'text': '4'}, {'role': 'user', 'text': 'assess the benefits of a matrix organisational structure for a business such as nintendo'}, {'role': 'assistant', 'text': '2'}, {'role': 'user', 'text': 'Explain how the growth of the fitness market from 2015 to 2016 could have affected puregym'}, {'role': 'assistant', 'text': '5'}, {'role': 'user', 'text': 'Predict the topic number based on the provided question. The topics: 1) entreprenuers and leaders, 2) managing people, 3) market, 4) marketing mix and strategy, 5) meeting customer needs. Please respond with the relevant topic NUMBER.\\nDefine the term ‘entrepreneur’\"'}]}\n"
     ]
    },
    {
     "name": "stderr",
     "output_type": "stream",
     "text": [
      "Processing chunk 1/2:  25%|█████▎               | 20/80 [00:50<02:24,  2.40s/it]"
     ]
    },
    {
     "name": "stdout",
     "output_type": "stream",
     "text": [
      "{'result': {'alternatives': [{'message': {'role': 'assistant', 'text': '1'}, 'status': 'ALTERNATIVE_STATUS_TRUNCATED_FINAL'}], 'usage': {'inputTextTokens': '424', 'completionTokens': '2', 'totalTokens': '426'}, 'modelVersion': '07.03.2024'}}\n",
      "{'modelUri': 'gpt://b1g6odsice70le7mmg6d/yandexgpt-pro', 'completionOptions': {'stream': False, 'temperature': 0.1, 'maxTokens': '2'}, 'messages': [{'role': 'system', 'text': \"Your role is to classify British A-level exam questions into five topics: 1) entreprenuers and leaders, 2) managing people, 3) market, 4) marketing mix and strategy, 5) meeting customer needs. Assign the appropriate topic number based on the question's theme and keywords.\"}, {'role': 'user', 'text': 'define the term brand'}, {'role': 'assistant', 'text': '4'}, {'role': 'user', 'text': 'explain one risk jack ma may have taken when setting up the alibaba group'}, {'role': 'assistant', 'text': '1'}, {'role': 'user', 'text': 'analyse two factors that may have increased demand for the alibaba group'}, {'role': 'assistant', 'text': '3'}, {'role': 'user', 'text': 'discuss if profit maximisation is the main business objective of the alibaba group'}, {'role': 'assistant', 'text': '1'}, {'role': 'user', 'text': 'assess the advantages of a paternalistic style of leadership for a business such as the alibaba group'}, {'role': 'assistant', 'text': '2'}, {'role': 'user', 'text': 'define the term product innovation '}, {'role': 'assistant', 'text': '5'}, {'role': 'user', 'text': 'if nintendo reduces its console prices by 8% calculate the estimated percentage change in demand. you are advised to show your working'}, {'role': 'assistant', 'text': '3'}, {'role': 'user', 'text': 'analyse two different pricing strategies that nintendo might use to compete in the games console industry'}, {'role': 'assistant', 'text': '4'}, {'role': 'user', 'text': 'assess the benefits of a matrix organisational structure for a business such as nintendo'}, {'role': 'assistant', 'text': '2'}, {'role': 'user', 'text': 'Explain how the growth of the fitness market from 2015 to 2016 could have affected puregym'}, {'role': 'assistant', 'text': '5'}, {'role': 'user', 'text': 'Predict the topic number based on the provided question. The topics: 1) entreprenuers and leaders, 2) managing people, 3) market, 4) marketing mix and strategy, 5) meeting customer needs. Please respond with the relevant topic NUMBER.\\nExamine why the primary research findings provided in evidence b might be considered as insufficient as a basis for the morris brown clc developing a leisure library.\"'}]}\n"
     ]
    },
    {
     "name": "stderr",
     "output_type": "stream",
     "text": [
      "Processing chunk 1/2:  26%|█████▌               | 21/80 [00:56<03:13,  3.28s/it]"
     ]
    },
    {
     "name": "stdout",
     "output_type": "stream",
     "text": [
      "{'result': {'alternatives': [{'message': {'role': 'assistant', 'text': '2'}, 'status': 'ALTERNATIVE_STATUS_TRUNCATED_FINAL'}], 'usage': {'inputTextTokens': '447', 'completionTokens': '2', 'totalTokens': '449'}, 'modelVersion': '07.03.2024'}}\n",
      "{'modelUri': 'gpt://b1g6odsice70le7mmg6d/yandexgpt-pro', 'completionOptions': {'stream': False, 'temperature': 0.1, 'maxTokens': '2'}, 'messages': [{'role': 'system', 'text': \"Your role is to classify British A-level exam questions into five topics: 1) entreprenuers and leaders, 2) managing people, 3) market, 4) marketing mix and strategy, 5) meeting customer needs. Assign the appropriate topic number based on the question's theme and keywords.\"}, {'role': 'user', 'text': 'define the term brand'}, {'role': 'assistant', 'text': '4'}, {'role': 'user', 'text': 'explain one risk jack ma may have taken when setting up the alibaba group'}, {'role': 'assistant', 'text': '1'}, {'role': 'user', 'text': 'analyse two factors that may have increased demand for the alibaba group'}, {'role': 'assistant', 'text': '3'}, {'role': 'user', 'text': 'discuss if profit maximisation is the main business objective of the alibaba group'}, {'role': 'assistant', 'text': '1'}, {'role': 'user', 'text': 'assess the advantages of a paternalistic style of leadership for a business such as the alibaba group'}, {'role': 'assistant', 'text': '2'}, {'role': 'user', 'text': 'define the term product innovation '}, {'role': 'assistant', 'text': '5'}, {'role': 'user', 'text': 'if nintendo reduces its console prices by 8% calculate the estimated percentage change in demand. you are advised to show your working'}, {'role': 'assistant', 'text': '3'}, {'role': 'user', 'text': 'analyse two different pricing strategies that nintendo might use to compete in the games console industry'}, {'role': 'assistant', 'text': '4'}, {'role': 'user', 'text': 'assess the benefits of a matrix organisational structure for a business such as nintendo'}, {'role': 'assistant', 'text': '2'}, {'role': 'user', 'text': 'Explain how the growth of the fitness market from 2015 to 2016 could have affected puregym'}, {'role': 'assistant', 'text': '5'}, {'role': 'user', 'text': 'Predict the topic number based on the provided question. The topics: 1) entreprenuers and leaders, 2) managing people, 3) market, 4) marketing mix and strategy, 5) meeting customer needs. Please respond with the relevant topic NUMBER.\\nAssess whether a unique selling point usp is the most important factor in determining a pricing strategy for a premium priced hotel, such as the good hotel\"'}]}\n"
     ]
    },
    {
     "name": "stderr",
     "output_type": "stream",
     "text": [
      "Processing chunk 1/2:  28%|█████▊               | 22/80 [00:57<02:42,  2.80s/it]"
     ]
    },
    {
     "name": "stdout",
     "output_type": "stream",
     "text": [
      "{'result': {'alternatives': [{'message': {'role': 'assistant', 'text': '4'}, 'status': 'ALTERNATIVE_STATUS_TRUNCATED_FINAL'}], 'usage': {'inputTextTokens': '447', 'completionTokens': '2', 'totalTokens': '449'}, 'modelVersion': '07.03.2024'}}\n",
      "{'modelUri': 'gpt://b1g6odsice70le7mmg6d/yandexgpt-pro', 'completionOptions': {'stream': False, 'temperature': 0.1, 'maxTokens': '2'}, 'messages': [{'role': 'system', 'text': \"Your role is to classify British A-level exam questions into five topics: 1) entreprenuers and leaders, 2) managing people, 3) market, 4) marketing mix and strategy, 5) meeting customer needs. Assign the appropriate topic number based on the question's theme and keywords.\"}, {'role': 'user', 'text': 'define the term brand'}, {'role': 'assistant', 'text': '4'}, {'role': 'user', 'text': 'explain one risk jack ma may have taken when setting up the alibaba group'}, {'role': 'assistant', 'text': '1'}, {'role': 'user', 'text': 'analyse two factors that may have increased demand for the alibaba group'}, {'role': 'assistant', 'text': '3'}, {'role': 'user', 'text': 'discuss if profit maximisation is the main business objective of the alibaba group'}, {'role': 'assistant', 'text': '1'}, {'role': 'user', 'text': 'assess the advantages of a paternalistic style of leadership for a business such as the alibaba group'}, {'role': 'assistant', 'text': '2'}, {'role': 'user', 'text': 'define the term product innovation '}, {'role': 'assistant', 'text': '5'}, {'role': 'user', 'text': 'if nintendo reduces its console prices by 8% calculate the estimated percentage change in demand. you are advised to show your working'}, {'role': 'assistant', 'text': '3'}, {'role': 'user', 'text': 'analyse two different pricing strategies that nintendo might use to compete in the games console industry'}, {'role': 'assistant', 'text': '4'}, {'role': 'user', 'text': 'assess the benefits of a matrix organisational structure for a business such as nintendo'}, {'role': 'assistant', 'text': '2'}, {'role': 'user', 'text': 'Explain how the growth of the fitness market from 2015 to 2016 could have affected puregym'}, {'role': 'assistant', 'text': '5'}, {'role': 'user', 'text': 'Predict the topic number based on the provided question. The topics: 1) entreprenuers and leaders, 2) managing people, 3) market, 4) marketing mix and strategy, 5) meeting customer needs. Please respond with the relevant topic NUMBER.\\nUsing the data, calculate the income elasticity of demand yed for primark in you are advised to show your working\"'}]}\n"
     ]
    },
    {
     "name": "stderr",
     "output_type": "stream",
     "text": [
      "Processing chunk 1/2:  29%|██████               | 23/80 [00:59<02:18,  2.43s/it]"
     ]
    },
    {
     "name": "stdout",
     "output_type": "stream",
     "text": [
      "{'result': {'alternatives': [{'message': {'role': 'assistant', 'text': '4'}, 'status': 'ALTERNATIVE_STATUS_TRUNCATED_FINAL'}], 'usage': {'inputTextTokens': '440', 'completionTokens': '2', 'totalTokens': '442'}, 'modelVersion': '07.03.2024'}}\n",
      "{'modelUri': 'gpt://b1g6odsice70le7mmg6d/yandexgpt-pro', 'completionOptions': {'stream': False, 'temperature': 0.1, 'maxTokens': '2'}, 'messages': [{'role': 'system', 'text': \"Your role is to classify British A-level exam questions into five topics: 1) entreprenuers and leaders, 2) managing people, 3) market, 4) marketing mix and strategy, 5) meeting customer needs. Assign the appropriate topic number based on the question's theme and keywords.\"}, {'role': 'user', 'text': 'define the term brand'}, {'role': 'assistant', 'text': '4'}, {'role': 'user', 'text': 'explain one risk jack ma may have taken when setting up the alibaba group'}, {'role': 'assistant', 'text': '1'}, {'role': 'user', 'text': 'analyse two factors that may have increased demand for the alibaba group'}, {'role': 'assistant', 'text': '3'}, {'role': 'user', 'text': 'discuss if profit maximisation is the main business objective of the alibaba group'}, {'role': 'assistant', 'text': '1'}, {'role': 'user', 'text': 'assess the advantages of a paternalistic style of leadership for a business such as the alibaba group'}, {'role': 'assistant', 'text': '2'}, {'role': 'user', 'text': 'define the term product innovation '}, {'role': 'assistant', 'text': '5'}, {'role': 'user', 'text': 'if nintendo reduces its console prices by 8% calculate the estimated percentage change in demand. you are advised to show your working'}, {'role': 'assistant', 'text': '3'}, {'role': 'user', 'text': 'analyse two different pricing strategies that nintendo might use to compete in the games console industry'}, {'role': 'assistant', 'text': '4'}, {'role': 'user', 'text': 'assess the benefits of a matrix organisational structure for a business such as nintendo'}, {'role': 'assistant', 'text': '2'}, {'role': 'user', 'text': 'Explain how the growth of the fitness market from 2015 to 2016 could have affected puregym'}, {'role': 'assistant', 'text': '5'}, {'role': 'user', 'text': 'Predict the topic number based on the provided question. The topics: 1) entreprenuers and leaders, 2) managing people, 3) market, 4) marketing mix and strategy, 5) meeting customer needs. Please respond with the relevant topic NUMBER.\\nEvaluate these two options and recommend which one is most suitable for taco bell to increase its sales in brazil.\"'}]}\n"
     ]
    },
    {
     "name": "stderr",
     "output_type": "stream",
     "text": [
      "Processing chunk 1/2:  30%|██████▎              | 24/80 [01:00<02:01,  2.18s/it]"
     ]
    },
    {
     "name": "stdout",
     "output_type": "stream",
     "text": [
      "{'result': {'alternatives': [{'message': {'role': 'assistant', 'text': '4'}, 'status': 'ALTERNATIVE_STATUS_TRUNCATED_FINAL'}], 'usage': {'inputTextTokens': '440', 'completionTokens': '2', 'totalTokens': '442'}, 'modelVersion': '07.03.2024'}}\n",
      "{'modelUri': 'gpt://b1g6odsice70le7mmg6d/yandexgpt-pro', 'completionOptions': {'stream': False, 'temperature': 0.1, 'maxTokens': '2'}, 'messages': [{'role': 'system', 'text': \"Your role is to classify British A-level exam questions into five topics: 1) entreprenuers and leaders, 2) managing people, 3) market, 4) marketing mix and strategy, 5) meeting customer needs. Assign the appropriate topic number based on the question's theme and keywords.\"}, {'role': 'user', 'text': 'define the term brand'}, {'role': 'assistant', 'text': '4'}, {'role': 'user', 'text': 'explain one risk jack ma may have taken when setting up the alibaba group'}, {'role': 'assistant', 'text': '1'}, {'role': 'user', 'text': 'analyse two factors that may have increased demand for the alibaba group'}, {'role': 'assistant', 'text': '3'}, {'role': 'user', 'text': 'discuss if profit maximisation is the main business objective of the alibaba group'}, {'role': 'assistant', 'text': '1'}, {'role': 'user', 'text': 'assess the advantages of a paternalistic style of leadership for a business such as the alibaba group'}, {'role': 'assistant', 'text': '2'}, {'role': 'user', 'text': 'define the term product innovation '}, {'role': 'assistant', 'text': '5'}, {'role': 'user', 'text': 'if nintendo reduces its console prices by 8% calculate the estimated percentage change in demand. you are advised to show your working'}, {'role': 'assistant', 'text': '3'}, {'role': 'user', 'text': 'analyse two different pricing strategies that nintendo might use to compete in the games console industry'}, {'role': 'assistant', 'text': '4'}, {'role': 'user', 'text': 'assess the benefits of a matrix organisational structure for a business such as nintendo'}, {'role': 'assistant', 'text': '2'}, {'role': 'user', 'text': 'Explain how the growth of the fitness market from 2015 to 2016 could have affected puregym'}, {'role': 'assistant', 'text': '5'}, {'role': 'user', 'text': 'Predict the topic number based on the provided question. The topics: 1) entreprenuers and leaders, 2) managing people, 3) market, 4) marketing mix and strategy, 5) meeting customer needs. Please respond with the relevant topic NUMBER.\\nDefine the term product innovation \"'}]}\n"
     ]
    },
    {
     "name": "stderr",
     "output_type": "stream",
     "text": [
      "Processing chunk 1/2:  31%|██████▌              | 25/80 [01:02<01:52,  2.04s/it]"
     ]
    },
    {
     "name": "stdout",
     "output_type": "stream",
     "text": [
      "{'result': {'alternatives': [{'message': {'role': 'assistant', 'text': '5'}, 'status': 'ALTERNATIVE_STATUS_TRUNCATED_FINAL'}], 'usage': {'inputTextTokens': '422', 'completionTokens': '2', 'totalTokens': '424'}, 'modelVersion': '07.03.2024'}}\n",
      "{'modelUri': 'gpt://b1g6odsice70le7mmg6d/yandexgpt-pro', 'completionOptions': {'stream': False, 'temperature': 0.1, 'maxTokens': '2'}, 'messages': [{'role': 'system', 'text': \"Your role is to classify British A-level exam questions into five topics: 1) entreprenuers and leaders, 2) managing people, 3) market, 4) marketing mix and strategy, 5) meeting customer needs. Assign the appropriate topic number based on the question's theme and keywords.\"}, {'role': 'user', 'text': 'define the term brand'}, {'role': 'assistant', 'text': '4'}, {'role': 'user', 'text': 'explain one risk jack ma may have taken when setting up the alibaba group'}, {'role': 'assistant', 'text': '1'}, {'role': 'user', 'text': 'analyse two factors that may have increased demand for the alibaba group'}, {'role': 'assistant', 'text': '3'}, {'role': 'user', 'text': 'discuss if profit maximisation is the main business objective of the alibaba group'}, {'role': 'assistant', 'text': '1'}, {'role': 'user', 'text': 'assess the advantages of a paternalistic style of leadership for a business such as the alibaba group'}, {'role': 'assistant', 'text': '2'}, {'role': 'user', 'text': 'define the term product innovation '}, {'role': 'assistant', 'text': '5'}, {'role': 'user', 'text': 'if nintendo reduces its console prices by 8% calculate the estimated percentage change in demand. you are advised to show your working'}, {'role': 'assistant', 'text': '3'}, {'role': 'user', 'text': 'analyse two different pricing strategies that nintendo might use to compete in the games console industry'}, {'role': 'assistant', 'text': '4'}, {'role': 'user', 'text': 'assess the benefits of a matrix organisational structure for a business such as nintendo'}, {'role': 'assistant', 'text': '2'}, {'role': 'user', 'text': 'Explain how the growth of the fitness market from 2015 to 2016 could have affected puregym'}, {'role': 'assistant', 'text': '5'}, {'role': 'user', 'text': 'Predict the topic number based on the provided question. The topics: 1) entreprenuers and leaders, 2) managing people, 3) market, 4) marketing mix and strategy, 5) meeting customer needs. Please respond with the relevant topic NUMBER.\\nDefine the term ‘quantitative data’.\"'}]}\n"
     ]
    },
    {
     "name": "stderr",
     "output_type": "stream",
     "text": [
      "Processing chunk 1/2:  32%|██████▊              | 26/80 [01:10<03:32,  3.94s/it]"
     ]
    },
    {
     "name": "stdout",
     "output_type": "stream",
     "text": [
      "{'result': {'alternatives': [{'message': {'role': 'assistant', 'text': '4'}, 'status': 'ALTERNATIVE_STATUS_TRUNCATED_FINAL'}], 'usage': {'inputTextTokens': '425', 'completionTokens': '2', 'totalTokens': '427'}, 'modelVersion': '07.03.2024'}}\n",
      "{'modelUri': 'gpt://b1g6odsice70le7mmg6d/yandexgpt-pro', 'completionOptions': {'stream': False, 'temperature': 0.1, 'maxTokens': '2'}, 'messages': [{'role': 'system', 'text': \"Your role is to classify British A-level exam questions into five topics: 1) entreprenuers and leaders, 2) managing people, 3) market, 4) marketing mix and strategy, 5) meeting customer needs. Assign the appropriate topic number based on the question's theme and keywords.\"}, {'role': 'user', 'text': 'define the term brand'}, {'role': 'assistant', 'text': '4'}, {'role': 'user', 'text': 'explain one risk jack ma may have taken when setting up the alibaba group'}, {'role': 'assistant', 'text': '1'}, {'role': 'user', 'text': 'analyse two factors that may have increased demand for the alibaba group'}, {'role': 'assistant', 'text': '3'}, {'role': 'user', 'text': 'discuss if profit maximisation is the main business objective of the alibaba group'}, {'role': 'assistant', 'text': '1'}, {'role': 'user', 'text': 'assess the advantages of a paternalistic style of leadership for a business such as the alibaba group'}, {'role': 'assistant', 'text': '2'}, {'role': 'user', 'text': 'define the term product innovation '}, {'role': 'assistant', 'text': '5'}, {'role': 'user', 'text': 'if nintendo reduces its console prices by 8% calculate the estimated percentage change in demand. you are advised to show your working'}, {'role': 'assistant', 'text': '3'}, {'role': 'user', 'text': 'analyse two different pricing strategies that nintendo might use to compete in the games console industry'}, {'role': 'assistant', 'text': '4'}, {'role': 'user', 'text': 'assess the benefits of a matrix organisational structure for a business such as nintendo'}, {'role': 'assistant', 'text': '2'}, {'role': 'user', 'text': 'Explain how the growth of the fitness market from 2015 to 2016 could have affected puregym'}, {'role': 'assistant', 'text': '5'}, {'role': 'user', 'text': 'Predict the topic number based on the provided question. The topics: 1) entreprenuers and leaders, 2) managing people, 3) market, 4) marketing mix and strategy, 5) meeting customer needs. Please respond with the relevant topic NUMBER.\\nCalculate the percentage change in quantity demanded of coca-cola. you are advised to show your working.\"'}]}\n"
     ]
    },
    {
     "name": "stderr",
     "output_type": "stream",
     "text": [
      "Processing chunk 1/2:  34%|███████              | 27/80 [01:12<02:52,  3.25s/it]"
     ]
    },
    {
     "name": "stdout",
     "output_type": "stream",
     "text": [
      "{'result': {'alternatives': [{'message': {'role': 'assistant', 'text': '3'}, 'status': 'ALTERNATIVE_STATUS_TRUNCATED_FINAL'}], 'usage': {'inputTextTokens': '437', 'completionTokens': '2', 'totalTokens': '439'}, 'modelVersion': '07.03.2024'}}\n",
      "{'modelUri': 'gpt://b1g6odsice70le7mmg6d/yandexgpt-pro', 'completionOptions': {'stream': False, 'temperature': 0.1, 'maxTokens': '2'}, 'messages': [{'role': 'system', 'text': \"Your role is to classify British A-level exam questions into five topics: 1) entreprenuers and leaders, 2) managing people, 3) market, 4) marketing mix and strategy, 5) meeting customer needs. Assign the appropriate topic number based on the question's theme and keywords.\"}, {'role': 'user', 'text': 'define the term brand'}, {'role': 'assistant', 'text': '4'}, {'role': 'user', 'text': 'explain one risk jack ma may have taken when setting up the alibaba group'}, {'role': 'assistant', 'text': '1'}, {'role': 'user', 'text': 'analyse two factors that may have increased demand for the alibaba group'}, {'role': 'assistant', 'text': '3'}, {'role': 'user', 'text': 'discuss if profit maximisation is the main business objective of the alibaba group'}, {'role': 'assistant', 'text': '1'}, {'role': 'user', 'text': 'assess the advantages of a paternalistic style of leadership for a business such as the alibaba group'}, {'role': 'assistant', 'text': '2'}, {'role': 'user', 'text': 'define the term product innovation '}, {'role': 'assistant', 'text': '5'}, {'role': 'user', 'text': 'if nintendo reduces its console prices by 8% calculate the estimated percentage change in demand. you are advised to show your working'}, {'role': 'assistant', 'text': '3'}, {'role': 'user', 'text': 'analyse two different pricing strategies that nintendo might use to compete in the games console industry'}, {'role': 'assistant', 'text': '4'}, {'role': 'user', 'text': 'assess the benefits of a matrix organisational structure for a business such as nintendo'}, {'role': 'assistant', 'text': '2'}, {'role': 'user', 'text': 'Explain how the growth of the fitness market from 2015 to 2016 could have affected puregym'}, {'role': 'assistant', 'text': '5'}, {'role': 'user', 'text': 'Predict the topic number based on the provided question. The topics: 1) entreprenuers and leaders, 2) managing people, 3) market, 4) marketing mix and strategy, 5) meeting customer needs. Please respond with the relevant topic NUMBER.\\nAssess the advantages to oppo of using these methods when developing its brand.\"'}]}\n"
     ]
    },
    {
     "name": "stderr",
     "output_type": "stream",
     "text": [
      "Processing chunk 1/2:  35%|███████▎             | 28/80 [01:14<02:25,  2.80s/it]"
     ]
    },
    {
     "name": "stdout",
     "output_type": "stream",
     "text": [
      "{'result': {'alternatives': [{'message': {'role': 'assistant', 'text': '4'}, 'status': 'ALTERNATIVE_STATUS_TRUNCATED_FINAL'}], 'usage': {'inputTextTokens': '432', 'completionTokens': '2', 'totalTokens': '434'}, 'modelVersion': '07.03.2024'}}\n",
      "{'modelUri': 'gpt://b1g6odsice70le7mmg6d/yandexgpt-pro', 'completionOptions': {'stream': False, 'temperature': 0.1, 'maxTokens': '2'}, 'messages': [{'role': 'system', 'text': \"Your role is to classify British A-level exam questions into five topics: 1) entreprenuers and leaders, 2) managing people, 3) market, 4) marketing mix and strategy, 5) meeting customer needs. Assign the appropriate topic number based on the question's theme and keywords.\"}, {'role': 'user', 'text': 'define the term brand'}, {'role': 'assistant', 'text': '4'}, {'role': 'user', 'text': 'explain one risk jack ma may have taken when setting up the alibaba group'}, {'role': 'assistant', 'text': '1'}, {'role': 'user', 'text': 'analyse two factors that may have increased demand for the alibaba group'}, {'role': 'assistant', 'text': '3'}, {'role': 'user', 'text': 'discuss if profit maximisation is the main business objective of the alibaba group'}, {'role': 'assistant', 'text': '1'}, {'role': 'user', 'text': 'assess the advantages of a paternalistic style of leadership for a business such as the alibaba group'}, {'role': 'assistant', 'text': '2'}, {'role': 'user', 'text': 'define the term product innovation '}, {'role': 'assistant', 'text': '5'}, {'role': 'user', 'text': 'if nintendo reduces its console prices by 8% calculate the estimated percentage change in demand. you are advised to show your working'}, {'role': 'assistant', 'text': '3'}, {'role': 'user', 'text': 'analyse two different pricing strategies that nintendo might use to compete in the games console industry'}, {'role': 'assistant', 'text': '4'}, {'role': 'user', 'text': 'assess the benefits of a matrix organisational structure for a business such as nintendo'}, {'role': 'assistant', 'text': '2'}, {'role': 'user', 'text': 'Explain how the growth of the fitness market from 2015 to 2016 could have affected puregym'}, {'role': 'assistant', 'text': '5'}, {'role': 'user', 'text': 'Predict the topic number based on the provided question. The topics: 1) entreprenuers and leaders, 2) managing people, 3) market, 4) marketing mix and strategy, 5) meeting customer needs. Please respond with the relevant topic NUMBER.\\nAnalyse two benefits for a company, such as emirates, of using social media.\"'}]}\n"
     ]
    },
    {
     "name": "stderr",
     "output_type": "stream",
     "text": [
      "Processing chunk 1/2:  36%|███████▌             | 29/80 [01:16<02:20,  2.76s/it]"
     ]
    },
    {
     "name": "stdout",
     "output_type": "stream",
     "text": [
      "{'result': {'alternatives': [{'message': {'role': 'assistant', 'text': '4'}, 'status': 'ALTERNATIVE_STATUS_TRUNCATED_FINAL'}], 'usage': {'inputTextTokens': '434', 'completionTokens': '2', 'totalTokens': '436'}, 'modelVersion': '07.03.2024'}}\n",
      "{'modelUri': 'gpt://b1g6odsice70le7mmg6d/yandexgpt-pro', 'completionOptions': {'stream': False, 'temperature': 0.1, 'maxTokens': '2'}, 'messages': [{'role': 'system', 'text': \"Your role is to classify British A-level exam questions into five topics: 1) entreprenuers and leaders, 2) managing people, 3) market, 4) marketing mix and strategy, 5) meeting customer needs. Assign the appropriate topic number based on the question's theme and keywords.\"}, {'role': 'user', 'text': 'define the term brand'}, {'role': 'assistant', 'text': '4'}, {'role': 'user', 'text': 'explain one risk jack ma may have taken when setting up the alibaba group'}, {'role': 'assistant', 'text': '1'}, {'role': 'user', 'text': 'analyse two factors that may have increased demand for the alibaba group'}, {'role': 'assistant', 'text': '3'}, {'role': 'user', 'text': 'discuss if profit maximisation is the main business objective of the alibaba group'}, {'role': 'assistant', 'text': '1'}, {'role': 'user', 'text': 'assess the advantages of a paternalistic style of leadership for a business such as the alibaba group'}, {'role': 'assistant', 'text': '2'}, {'role': 'user', 'text': 'define the term product innovation '}, {'role': 'assistant', 'text': '5'}, {'role': 'user', 'text': 'if nintendo reduces its console prices by 8% calculate the estimated percentage change in demand. you are advised to show your working'}, {'role': 'assistant', 'text': '3'}, {'role': 'user', 'text': 'analyse two different pricing strategies that nintendo might use to compete in the games console industry'}, {'role': 'assistant', 'text': '4'}, {'role': 'user', 'text': 'assess the benefits of a matrix organisational structure for a business such as nintendo'}, {'role': 'assistant', 'text': '2'}, {'role': 'user', 'text': 'Explain how the growth of the fitness market from 2015 to 2016 could have affected puregym'}, {'role': 'assistant', 'text': '5'}, {'role': 'user', 'text': 'Predict the topic number based on the provided question. The topics: 1) entreprenuers and leaders, 2) managing people, 3) market, 4) marketing mix and strategy, 5) meeting customer needs. Please respond with the relevant topic NUMBER.\\nAnalyse two advantages of using focus groups for a business such as skechers\"'}]}\n"
     ]
    },
    {
     "name": "stderr",
     "output_type": "stream",
     "text": [
      "Processing chunk 1/2:  38%|███████▉             | 30/80 [01:18<02:02,  2.45s/it]"
     ]
    },
    {
     "name": "stdout",
     "output_type": "stream",
     "text": [
      "{'result': {'alternatives': [{'message': {'role': 'assistant', 'text': '4'}, 'status': 'ALTERNATIVE_STATUS_TRUNCATED_FINAL'}], 'usage': {'inputTextTokens': '433', 'completionTokens': '2', 'totalTokens': '435'}, 'modelVersion': '07.03.2024'}}\n",
      "{'modelUri': 'gpt://b1g6odsice70le7mmg6d/yandexgpt-pro', 'completionOptions': {'stream': False, 'temperature': 0.1, 'maxTokens': '2'}, 'messages': [{'role': 'system', 'text': \"Your role is to classify British A-level exam questions into five topics: 1) entreprenuers and leaders, 2) managing people, 3) market, 4) marketing mix and strategy, 5) meeting customer needs. Assign the appropriate topic number based on the question's theme and keywords.\"}, {'role': 'user', 'text': 'define the term brand'}, {'role': 'assistant', 'text': '4'}, {'role': 'user', 'text': 'explain one risk jack ma may have taken when setting up the alibaba group'}, {'role': 'assistant', 'text': '1'}, {'role': 'user', 'text': 'analyse two factors that may have increased demand for the alibaba group'}, {'role': 'assistant', 'text': '3'}, {'role': 'user', 'text': 'discuss if profit maximisation is the main business objective of the alibaba group'}, {'role': 'assistant', 'text': '1'}, {'role': 'user', 'text': 'assess the advantages of a paternalistic style of leadership for a business such as the alibaba group'}, {'role': 'assistant', 'text': '2'}, {'role': 'user', 'text': 'define the term product innovation '}, {'role': 'assistant', 'text': '5'}, {'role': 'user', 'text': 'if nintendo reduces its console prices by 8% calculate the estimated percentage change in demand. you are advised to show your working'}, {'role': 'assistant', 'text': '3'}, {'role': 'user', 'text': 'analyse two different pricing strategies that nintendo might use to compete in the games console industry'}, {'role': 'assistant', 'text': '4'}, {'role': 'user', 'text': 'assess the benefits of a matrix organisational structure for a business such as nintendo'}, {'role': 'assistant', 'text': '2'}, {'role': 'user', 'text': 'Explain how the growth of the fitness market from 2015 to 2016 could have affected puregym'}, {'role': 'assistant', 'text': '5'}, {'role': 'user', 'text': 'Predict the topic number based on the provided question. The topics: 1) entreprenuers and leaders, 2) managing people, 3) market, 4) marketing mix and strategy, 5) meeting customer needs. Please respond with the relevant topic NUMBER.\\nAssess the importance to primark of having ethical sourcing as a business objective\"'}]}\n"
     ]
    },
    {
     "name": "stderr",
     "output_type": "stream",
     "text": [
      "Processing chunk 1/2:  39%|████████▏            | 31/80 [01:31<04:36,  5.65s/it]"
     ]
    },
    {
     "name": "stdout",
     "output_type": "stream",
     "text": [
      "{'result': {'alternatives': [{'message': {'role': 'assistant', 'text': '2'}, 'status': 'ALTERNATIVE_STATUS_TRUNCATED_FINAL'}], 'usage': {'inputTextTokens': '432', 'completionTokens': '2', 'totalTokens': '434'}, 'modelVersion': '07.03.2024'}}\n",
      "{'modelUri': 'gpt://b1g6odsice70le7mmg6d/yandexgpt-pro', 'completionOptions': {'stream': False, 'temperature': 0.1, 'maxTokens': '2'}, 'messages': [{'role': 'system', 'text': \"Your role is to classify British A-level exam questions into five topics: 1) entreprenuers and leaders, 2) managing people, 3) market, 4) marketing mix and strategy, 5) meeting customer needs. Assign the appropriate topic number based on the question's theme and keywords.\"}, {'role': 'user', 'text': 'define the term brand'}, {'role': 'assistant', 'text': '4'}, {'role': 'user', 'text': 'explain one risk jack ma may have taken when setting up the alibaba group'}, {'role': 'assistant', 'text': '1'}, {'role': 'user', 'text': 'analyse two factors that may have increased demand for the alibaba group'}, {'role': 'assistant', 'text': '3'}, {'role': 'user', 'text': 'discuss if profit maximisation is the main business objective of the alibaba group'}, {'role': 'assistant', 'text': '1'}, {'role': 'user', 'text': 'assess the advantages of a paternalistic style of leadership for a business such as the alibaba group'}, {'role': 'assistant', 'text': '2'}, {'role': 'user', 'text': 'define the term product innovation '}, {'role': 'assistant', 'text': '5'}, {'role': 'user', 'text': 'if nintendo reduces its console prices by 8% calculate the estimated percentage change in demand. you are advised to show your working'}, {'role': 'assistant', 'text': '3'}, {'role': 'user', 'text': 'analyse two different pricing strategies that nintendo might use to compete in the games console industry'}, {'role': 'assistant', 'text': '4'}, {'role': 'user', 'text': 'assess the benefits of a matrix organisational structure for a business such as nintendo'}, {'role': 'assistant', 'text': '2'}, {'role': 'user', 'text': 'Explain how the growth of the fitness market from 2015 to 2016 could have affected puregym'}, {'role': 'assistant', 'text': '5'}, {'role': 'user', 'text': 'Predict the topic number based on the provided question. The topics: 1) entreprenuers and leaders, 2) managing people, 3) market, 4) marketing mix and strategy, 5) meeting customer needs. Please respond with the relevant topic NUMBER.\\nDiscuss the benefits for vaibhav anant of using secondary market research when starting his business.\"'}]}\n"
     ]
    },
    {
     "name": "stderr",
     "output_type": "stream",
     "text": [
      "Processing chunk 1/2:  40%|████████▍            | 32/80 [01:33<03:33,  4.45s/it]"
     ]
    },
    {
     "name": "stdout",
     "output_type": "stream",
     "text": [
      "{'result': {'alternatives': [{'message': {'role': 'assistant', 'text': '3'}, 'status': 'ALTERNATIVE_STATUS_TRUNCATED_FINAL'}], 'usage': {'inputTextTokens': '435', 'completionTokens': '2', 'totalTokens': '437'}, 'modelVersion': '07.03.2024'}}\n",
      "{'modelUri': 'gpt://b1g6odsice70le7mmg6d/yandexgpt-pro', 'completionOptions': {'stream': False, 'temperature': 0.1, 'maxTokens': '2'}, 'messages': [{'role': 'system', 'text': \"Your role is to classify British A-level exam questions into five topics: 1) entreprenuers and leaders, 2) managing people, 3) market, 4) marketing mix and strategy, 5) meeting customer needs. Assign the appropriate topic number based on the question's theme and keywords.\"}, {'role': 'user', 'text': 'define the term brand'}, {'role': 'assistant', 'text': '4'}, {'role': 'user', 'text': 'explain one risk jack ma may have taken when setting up the alibaba group'}, {'role': 'assistant', 'text': '1'}, {'role': 'user', 'text': 'analyse two factors that may have increased demand for the alibaba group'}, {'role': 'assistant', 'text': '3'}, {'role': 'user', 'text': 'discuss if profit maximisation is the main business objective of the alibaba group'}, {'role': 'assistant', 'text': '1'}, {'role': 'user', 'text': 'assess the advantages of a paternalistic style of leadership for a business such as the alibaba group'}, {'role': 'assistant', 'text': '2'}, {'role': 'user', 'text': 'define the term product innovation '}, {'role': 'assistant', 'text': '5'}, {'role': 'user', 'text': 'if nintendo reduces its console prices by 8% calculate the estimated percentage change in demand. you are advised to show your working'}, {'role': 'assistant', 'text': '3'}, {'role': 'user', 'text': 'analyse two different pricing strategies that nintendo might use to compete in the games console industry'}, {'role': 'assistant', 'text': '4'}, {'role': 'user', 'text': 'assess the benefits of a matrix organisational structure for a business such as nintendo'}, {'role': 'assistant', 'text': '2'}, {'role': 'user', 'text': 'Explain how the growth of the fitness market from 2015 to 2016 could have affected puregym'}, {'role': 'assistant', 'text': '5'}, {'role': 'user', 'text': 'Predict the topic number based on the provided question. The topics: 1) entreprenuers and leaders, 2) managing people, 3) market, 4) marketing mix and strategy, 5) meeting customer needs. Please respond with the relevant topic NUMBER.\\nBriefly explain two reasons why levi roots conducted product trials.\"'}]}\n"
     ]
    },
    {
     "name": "stderr",
     "output_type": "stream",
     "text": [
      "Processing chunk 1/2:  41%|████████▋            | 33/80 [01:37<03:23,  4.34s/it]"
     ]
    },
    {
     "name": "stdout",
     "output_type": "stream",
     "text": [
      "{'result': {'alternatives': [{'message': {'role': 'assistant', 'text': '4'}, 'status': 'ALTERNATIVE_STATUS_TRUNCATED_FINAL'}], 'usage': {'inputTextTokens': '429', 'completionTokens': '2', 'totalTokens': '431'}, 'modelVersion': '07.03.2024'}}\n",
      "{'modelUri': 'gpt://b1g6odsice70le7mmg6d/yandexgpt-pro', 'completionOptions': {'stream': False, 'temperature': 0.1, 'maxTokens': '2'}, 'messages': [{'role': 'system', 'text': \"Your role is to classify British A-level exam questions into five topics: 1) entreprenuers and leaders, 2) managing people, 3) market, 4) marketing mix and strategy, 5) meeting customer needs. Assign the appropriate topic number based on the question's theme and keywords.\"}, {'role': 'user', 'text': 'define the term brand'}, {'role': 'assistant', 'text': '4'}, {'role': 'user', 'text': 'explain one risk jack ma may have taken when setting up the alibaba group'}, {'role': 'assistant', 'text': '1'}, {'role': 'user', 'text': 'analyse two factors that may have increased demand for the alibaba group'}, {'role': 'assistant', 'text': '3'}, {'role': 'user', 'text': 'discuss if profit maximisation is the main business objective of the alibaba group'}, {'role': 'assistant', 'text': '1'}, {'role': 'user', 'text': 'assess the advantages of a paternalistic style of leadership for a business such as the alibaba group'}, {'role': 'assistant', 'text': '2'}, {'role': 'user', 'text': 'define the term product innovation '}, {'role': 'assistant', 'text': '5'}, {'role': 'user', 'text': 'if nintendo reduces its console prices by 8% calculate the estimated percentage change in demand. you are advised to show your working'}, {'role': 'assistant', 'text': '3'}, {'role': 'user', 'text': 'analyse two different pricing strategies that nintendo might use to compete in the games console industry'}, {'role': 'assistant', 'text': '4'}, {'role': 'user', 'text': 'assess the benefits of a matrix organisational structure for a business such as nintendo'}, {'role': 'assistant', 'text': '2'}, {'role': 'user', 'text': 'Explain how the growth of the fitness market from 2015 to 2016 could have affected puregym'}, {'role': 'assistant', 'text': '5'}, {'role': 'user', 'text': 'Predict the topic number based on the provided question. The topics: 1) entreprenuers and leaders, 2) managing people, 3) market, 4) marketing mix and strategy, 5) meeting customer needs. Please respond with the relevant topic NUMBER.\\nEvaluate whether toms should focus on cost efficiency or social objectives to survive in the markets in which it operates.\"'}]}\n"
     ]
    },
    {
     "name": "stderr",
     "output_type": "stream",
     "text": [
      "Processing chunk 1/2:  42%|████████▉            | 34/80 [01:39<02:46,  3.62s/it]"
     ]
    },
    {
     "name": "stdout",
     "output_type": "stream",
     "text": [
      "{'result': {'alternatives': [{'message': {'role': 'assistant', 'text': '2'}, 'status': 'ALTERNATIVE_STATUS_TRUNCATED_FINAL'}], 'usage': {'inputTextTokens': '439', 'completionTokens': '2', 'totalTokens': '441'}, 'modelVersion': '07.03.2024'}}\n",
      "{'modelUri': 'gpt://b1g6odsice70le7mmg6d/yandexgpt-pro', 'completionOptions': {'stream': False, 'temperature': 0.1, 'maxTokens': '2'}, 'messages': [{'role': 'system', 'text': \"Your role is to classify British A-level exam questions into five topics: 1) entreprenuers and leaders, 2) managing people, 3) market, 4) marketing mix and strategy, 5) meeting customer needs. Assign the appropriate topic number based on the question's theme and keywords.\"}, {'role': 'user', 'text': 'define the term brand'}, {'role': 'assistant', 'text': '4'}, {'role': 'user', 'text': 'explain one risk jack ma may have taken when setting up the alibaba group'}, {'role': 'assistant', 'text': '1'}, {'role': 'user', 'text': 'analyse two factors that may have increased demand for the alibaba group'}, {'role': 'assistant', 'text': '3'}, {'role': 'user', 'text': 'discuss if profit maximisation is the main business objective of the alibaba group'}, {'role': 'assistant', 'text': '1'}, {'role': 'user', 'text': 'assess the advantages of a paternalistic style of leadership for a business such as the alibaba group'}, {'role': 'assistant', 'text': '2'}, {'role': 'user', 'text': 'define the term product innovation '}, {'role': 'assistant', 'text': '5'}, {'role': 'user', 'text': 'if nintendo reduces its console prices by 8% calculate the estimated percentage change in demand. you are advised to show your working'}, {'role': 'assistant', 'text': '3'}, {'role': 'user', 'text': 'analyse two different pricing strategies that nintendo might use to compete in the games console industry'}, {'role': 'assistant', 'text': '4'}, {'role': 'user', 'text': 'assess the benefits of a matrix organisational structure for a business such as nintendo'}, {'role': 'assistant', 'text': '2'}, {'role': 'user', 'text': 'Explain how the growth of the fitness market from 2015 to 2016 could have affected puregym'}, {'role': 'assistant', 'text': '5'}, {'role': 'user', 'text': 'Predict the topic number based on the provided question. The topics: 1) entreprenuers and leaders, 2) managing people, 3) market, 4) marketing mix and strategy, 5) meeting customer needs. Please respond with the relevant topic NUMBER.\\nDiscuss the extent to which the motivational objectives of mike watson might differ from those of a typical private sector entrepreneur.\"'}]}\n"
     ]
    },
    {
     "name": "stderr",
     "output_type": "stream",
     "text": [
      "Processing chunk 1/2:  44%|█████████▏           | 35/80 [01:42<02:32,  3.40s/it]"
     ]
    },
    {
     "name": "stdout",
     "output_type": "stream",
     "text": [
      "{'result': {'alternatives': [{'message': {'role': 'assistant', 'text': '1'}, 'status': 'ALTERNATIVE_STATUS_TRUNCATED_FINAL'}], 'usage': {'inputTextTokens': '441', 'completionTokens': '2', 'totalTokens': '443'}, 'modelVersion': '07.03.2024'}}\n",
      "{'modelUri': 'gpt://b1g6odsice70le7mmg6d/yandexgpt-pro', 'completionOptions': {'stream': False, 'temperature': 0.1, 'maxTokens': '2'}, 'messages': [{'role': 'system', 'text': \"Your role is to classify British A-level exam questions into five topics: 1) entreprenuers and leaders, 2) managing people, 3) market, 4) marketing mix and strategy, 5) meeting customer needs. Assign the appropriate topic number based on the question's theme and keywords.\"}, {'role': 'user', 'text': 'define the term brand'}, {'role': 'assistant', 'text': '4'}, {'role': 'user', 'text': 'explain one risk jack ma may have taken when setting up the alibaba group'}, {'role': 'assistant', 'text': '1'}, {'role': 'user', 'text': 'analyse two factors that may have increased demand for the alibaba group'}, {'role': 'assistant', 'text': '3'}, {'role': 'user', 'text': 'discuss if profit maximisation is the main business objective of the alibaba group'}, {'role': 'assistant', 'text': '1'}, {'role': 'user', 'text': 'assess the advantages of a paternalistic style of leadership for a business such as the alibaba group'}, {'role': 'assistant', 'text': '2'}, {'role': 'user', 'text': 'define the term product innovation '}, {'role': 'assistant', 'text': '5'}, {'role': 'user', 'text': 'if nintendo reduces its console prices by 8% calculate the estimated percentage change in demand. you are advised to show your working'}, {'role': 'assistant', 'text': '3'}, {'role': 'user', 'text': 'analyse two different pricing strategies that nintendo might use to compete in the games console industry'}, {'role': 'assistant', 'text': '4'}, {'role': 'user', 'text': 'assess the benefits of a matrix organisational structure for a business such as nintendo'}, {'role': 'assistant', 'text': '2'}, {'role': 'user', 'text': 'Explain how the growth of the fitness market from 2015 to 2016 could have affected puregym'}, {'role': 'assistant', 'text': '5'}, {'role': 'user', 'text': 'Predict the topic number based on the provided question. The topics: 1) entreprenuers and leaders, 2) managing people, 3) market, 4) marketing mix and strategy, 5) meeting customer needs. Please respond with the relevant topic NUMBER.\\nAssess the benefits of a matrix organisational structure for a business such as nintendo\"'}]}\n"
     ]
    },
    {
     "name": "stderr",
     "output_type": "stream",
     "text": [
      "Processing chunk 1/2:  45%|█████████▍           | 36/80 [01:44<02:06,  2.87s/it]"
     ]
    },
    {
     "name": "stdout",
     "output_type": "stream",
     "text": [
      "{'result': {'alternatives': [{'message': {'role': 'assistant', 'text': '2'}, 'status': 'ALTERNATIVE_STATUS_TRUNCATED_FINAL'}], 'usage': {'inputTextTokens': '434', 'completionTokens': '2', 'totalTokens': '436'}, 'modelVersion': '07.03.2024'}}\n",
      "{'modelUri': 'gpt://b1g6odsice70le7mmg6d/yandexgpt-pro', 'completionOptions': {'stream': False, 'temperature': 0.1, 'maxTokens': '2'}, 'messages': [{'role': 'system', 'text': \"Your role is to classify British A-level exam questions into five topics: 1) entreprenuers and leaders, 2) managing people, 3) market, 4) marketing mix and strategy, 5) meeting customer needs. Assign the appropriate topic number based on the question's theme and keywords.\"}, {'role': 'user', 'text': 'define the term brand'}, {'role': 'assistant', 'text': '4'}, {'role': 'user', 'text': 'explain one risk jack ma may have taken when setting up the alibaba group'}, {'role': 'assistant', 'text': '1'}, {'role': 'user', 'text': 'analyse two factors that may have increased demand for the alibaba group'}, {'role': 'assistant', 'text': '3'}, {'role': 'user', 'text': 'discuss if profit maximisation is the main business objective of the alibaba group'}, {'role': 'assistant', 'text': '1'}, {'role': 'user', 'text': 'assess the advantages of a paternalistic style of leadership for a business such as the alibaba group'}, {'role': 'assistant', 'text': '2'}, {'role': 'user', 'text': 'define the term product innovation '}, {'role': 'assistant', 'text': '5'}, {'role': 'user', 'text': 'if nintendo reduces its console prices by 8% calculate the estimated percentage change in demand. you are advised to show your working'}, {'role': 'assistant', 'text': '3'}, {'role': 'user', 'text': 'analyse two different pricing strategies that nintendo might use to compete in the games console industry'}, {'role': 'assistant', 'text': '4'}, {'role': 'user', 'text': 'assess the benefits of a matrix organisational structure for a business such as nintendo'}, {'role': 'assistant', 'text': '2'}, {'role': 'user', 'text': 'Explain how the growth of the fitness market from 2015 to 2016 could have affected puregym'}, {'role': 'assistant', 'text': '5'}, {'role': 'user', 'text': 'Predict the topic number based on the provided question. The topics: 1) entreprenuers and leaders, 2) managing people, 3) market, 4) marketing mix and strategy, 5) meeting customer needs. Please respond with the relevant topic NUMBER.\\nDefine the term ‚market share\"'}]}\n"
     ]
    },
    {
     "name": "stderr",
     "output_type": "stream",
     "text": [
      "Processing chunk 1/2:  46%|█████████▋           | 37/80 [01:45<01:48,  2.53s/it]"
     ]
    },
    {
     "name": "stdout",
     "output_type": "stream",
     "text": [
      "{'result': {'alternatives': [{'message': {'role': 'assistant', 'text': '3'}, 'status': 'ALTERNATIVE_STATUS_TRUNCATED_FINAL'}], 'usage': {'inputTextTokens': '424', 'completionTokens': '2', 'totalTokens': '426'}, 'modelVersion': '07.03.2024'}}\n",
      "{'modelUri': 'gpt://b1g6odsice70le7mmg6d/yandexgpt-pro', 'completionOptions': {'stream': False, 'temperature': 0.1, 'maxTokens': '2'}, 'messages': [{'role': 'system', 'text': \"Your role is to classify British A-level exam questions into five topics: 1) entreprenuers and leaders, 2) managing people, 3) market, 4) marketing mix and strategy, 5) meeting customer needs. Assign the appropriate topic number based on the question's theme and keywords.\"}, {'role': 'user', 'text': 'define the term brand'}, {'role': 'assistant', 'text': '4'}, {'role': 'user', 'text': 'explain one risk jack ma may have taken when setting up the alibaba group'}, {'role': 'assistant', 'text': '1'}, {'role': 'user', 'text': 'analyse two factors that may have increased demand for the alibaba group'}, {'role': 'assistant', 'text': '3'}, {'role': 'user', 'text': 'discuss if profit maximisation is the main business objective of the alibaba group'}, {'role': 'assistant', 'text': '1'}, {'role': 'user', 'text': 'assess the advantages of a paternalistic style of leadership for a business such as the alibaba group'}, {'role': 'assistant', 'text': '2'}, {'role': 'user', 'text': 'define the term product innovation '}, {'role': 'assistant', 'text': '5'}, {'role': 'user', 'text': 'if nintendo reduces its console prices by 8% calculate the estimated percentage change in demand. you are advised to show your working'}, {'role': 'assistant', 'text': '3'}, {'role': 'user', 'text': 'analyse two different pricing strategies that nintendo might use to compete in the games console industry'}, {'role': 'assistant', 'text': '4'}, {'role': 'user', 'text': 'assess the benefits of a matrix organisational structure for a business such as nintendo'}, {'role': 'assistant', 'text': '2'}, {'role': 'user', 'text': 'Explain how the growth of the fitness market from 2015 to 2016 could have affected puregym'}, {'role': 'assistant', 'text': '5'}, {'role': 'user', 'text': 'Predict the topic number based on the provided question. The topics: 1) entreprenuers and leaders, 2) managing people, 3) market, 4) marketing mix and strategy, 5) meeting customer needs. Please respond with the relevant topic NUMBER.\\nDiscuss if profit maximisation is the main business objective of the alibaba group\"'}]}\n"
     ]
    },
    {
     "name": "stderr",
     "output_type": "stream",
     "text": [
      "Processing chunk 1/2:  48%|█████████▉           | 38/80 [01:47<01:36,  2.29s/it]"
     ]
    },
    {
     "name": "stdout",
     "output_type": "stream",
     "text": [
      "{'result': {'alternatives': [{'message': {'role': 'assistant', 'text': '1'}, 'status': 'ALTERNATIVE_STATUS_TRUNCATED_FINAL'}], 'usage': {'inputTextTokens': '432', 'completionTokens': '2', 'totalTokens': '434'}, 'modelVersion': '07.03.2024'}}\n",
      "{'modelUri': 'gpt://b1g6odsice70le7mmg6d/yandexgpt-pro', 'completionOptions': {'stream': False, 'temperature': 0.1, 'maxTokens': '2'}, 'messages': [{'role': 'system', 'text': \"Your role is to classify British A-level exam questions into five topics: 1) entreprenuers and leaders, 2) managing people, 3) market, 4) marketing mix and strategy, 5) meeting customer needs. Assign the appropriate topic number based on the question's theme and keywords.\"}, {'role': 'user', 'text': 'define the term brand'}, {'role': 'assistant', 'text': '4'}, {'role': 'user', 'text': 'explain one risk jack ma may have taken when setting up the alibaba group'}, {'role': 'assistant', 'text': '1'}, {'role': 'user', 'text': 'analyse two factors that may have increased demand for the alibaba group'}, {'role': 'assistant', 'text': '3'}, {'role': 'user', 'text': 'discuss if profit maximisation is the main business objective of the alibaba group'}, {'role': 'assistant', 'text': '1'}, {'role': 'user', 'text': 'assess the advantages of a paternalistic style of leadership for a business such as the alibaba group'}, {'role': 'assistant', 'text': '2'}, {'role': 'user', 'text': 'define the term product innovation '}, {'role': 'assistant', 'text': '5'}, {'role': 'user', 'text': 'if nintendo reduces its console prices by 8% calculate the estimated percentage change in demand. you are advised to show your working'}, {'role': 'assistant', 'text': '3'}, {'role': 'user', 'text': 'analyse two different pricing strategies that nintendo might use to compete in the games console industry'}, {'role': 'assistant', 'text': '4'}, {'role': 'user', 'text': 'assess the benefits of a matrix organisational structure for a business such as nintendo'}, {'role': 'assistant', 'text': '2'}, {'role': 'user', 'text': 'Explain how the growth of the fitness market from 2015 to 2016 could have affected puregym'}, {'role': 'assistant', 'text': '5'}, {'role': 'user', 'text': 'Predict the topic number based on the provided question. The topics: 1) entreprenuers and leaders, 2) managing people, 3) market, 4) marketing mix and strategy, 5) meeting customer needs. Please respond with the relevant topic NUMBER.\\nDiscuss the benefits, for a business such as kapgel, of using part-time and temporary employees.\"'}]}\n"
     ]
    },
    {
     "name": "stderr",
     "output_type": "stream",
     "text": [
      "Processing chunk 1/2:  49%|██████████▏          | 39/80 [01:49<01:25,  2.10s/it]"
     ]
    },
    {
     "name": "stdout",
     "output_type": "stream",
     "text": [
      "{'result': {'alternatives': [{'message': {'role': 'assistant', 'text': '2'}, 'status': 'ALTERNATIVE_STATUS_TRUNCATED_FINAL'}], 'usage': {'inputTextTokens': '437', 'completionTokens': '2', 'totalTokens': '439'}, 'modelVersion': '07.03.2024'}}\n",
      "{'modelUri': 'gpt://b1g6odsice70le7mmg6d/yandexgpt-pro', 'completionOptions': {'stream': False, 'temperature': 0.1, 'maxTokens': '2'}, 'messages': [{'role': 'system', 'text': \"Your role is to classify British A-level exam questions into five topics: 1) entreprenuers and leaders, 2) managing people, 3) market, 4) marketing mix and strategy, 5) meeting customer needs. Assign the appropriate topic number based on the question's theme and keywords.\"}, {'role': 'user', 'text': 'define the term brand'}, {'role': 'assistant', 'text': '4'}, {'role': 'user', 'text': 'explain one risk jack ma may have taken when setting up the alibaba group'}, {'role': 'assistant', 'text': '1'}, {'role': 'user', 'text': 'analyse two factors that may have increased demand for the alibaba group'}, {'role': 'assistant', 'text': '3'}, {'role': 'user', 'text': 'discuss if profit maximisation is the main business objective of the alibaba group'}, {'role': 'assistant', 'text': '1'}, {'role': 'user', 'text': 'assess the advantages of a paternalistic style of leadership for a business such as the alibaba group'}, {'role': 'assistant', 'text': '2'}, {'role': 'user', 'text': 'define the term product innovation '}, {'role': 'assistant', 'text': '5'}, {'role': 'user', 'text': 'if nintendo reduces its console prices by 8% calculate the estimated percentage change in demand. you are advised to show your working'}, {'role': 'assistant', 'text': '3'}, {'role': 'user', 'text': 'analyse two different pricing strategies that nintendo might use to compete in the games console industry'}, {'role': 'assistant', 'text': '4'}, {'role': 'user', 'text': 'assess the benefits of a matrix organisational structure for a business such as nintendo'}, {'role': 'assistant', 'text': '2'}, {'role': 'user', 'text': 'Explain how the growth of the fitness market from 2015 to 2016 could have affected puregym'}, {'role': 'assistant', 'text': '5'}, {'role': 'user', 'text': 'Predict the topic number based on the provided question. The topics: 1) entreprenuers and leaders, 2) managing people, 3) market, 4) marketing mix and strategy, 5) meeting customer needs. Please respond with the relevant topic NUMBER.\\nExplain two factors that could affect the supply of superjam’s products.\"'}]}\n"
     ]
    },
    {
     "name": "stderr",
     "output_type": "stream",
     "text": [
      "Processing chunk 1/2:  50%|██████████▌          | 40/80 [01:50<01:18,  1.96s/it]"
     ]
    },
    {
     "name": "stdout",
     "output_type": "stream",
     "text": [
      "{'result': {'alternatives': [{'message': {'role': 'assistant', 'text': '3'}, 'status': 'ALTERNATIVE_STATUS_TRUNCATED_FINAL'}], 'usage': {'inputTextTokens': '431', 'completionTokens': '2', 'totalTokens': '433'}, 'modelVersion': '07.03.2024'}}\n",
      "{'modelUri': 'gpt://b1g6odsice70le7mmg6d/yandexgpt-pro', 'completionOptions': {'stream': False, 'temperature': 0.1, 'maxTokens': '2'}, 'messages': [{'role': 'system', 'text': \"Your role is to classify British A-level exam questions into five topics: 1) entreprenuers and leaders, 2) managing people, 3) market, 4) marketing mix and strategy, 5) meeting customer needs. Assign the appropriate topic number based on the question's theme and keywords.\"}, {'role': 'user', 'text': 'define the term brand'}, {'role': 'assistant', 'text': '4'}, {'role': 'user', 'text': 'explain one risk jack ma may have taken when setting up the alibaba group'}, {'role': 'assistant', 'text': '1'}, {'role': 'user', 'text': 'analyse two factors that may have increased demand for the alibaba group'}, {'role': 'assistant', 'text': '3'}, {'role': 'user', 'text': 'discuss if profit maximisation is the main business objective of the alibaba group'}, {'role': 'assistant', 'text': '1'}, {'role': 'user', 'text': 'assess the advantages of a paternalistic style of leadership for a business such as the alibaba group'}, {'role': 'assistant', 'text': '2'}, {'role': 'user', 'text': 'define the term product innovation '}, {'role': 'assistant', 'text': '5'}, {'role': 'user', 'text': 'if nintendo reduces its console prices by 8% calculate the estimated percentage change in demand. you are advised to show your working'}, {'role': 'assistant', 'text': '3'}, {'role': 'user', 'text': 'analyse two different pricing strategies that nintendo might use to compete in the games console industry'}, {'role': 'assistant', 'text': '4'}, {'role': 'user', 'text': 'assess the benefits of a matrix organisational structure for a business such as nintendo'}, {'role': 'assistant', 'text': '2'}, {'role': 'user', 'text': 'Explain how the growth of the fitness market from 2015 to 2016 could have affected puregym'}, {'role': 'assistant', 'text': '5'}, {'role': 'user', 'text': 'Predict the topic number based on the provided question. The topics: 1) entreprenuers and leaders, 2) managing people, 3) market, 4) marketing mix and strategy, 5) meeting customer needs. Please respond with the relevant topic NUMBER.\\nAnalyse two entrepreneurial characteristics shown by vaibhav anant that may have helped bambrew to succeed.\"'}]}\n"
     ]
    },
    {
     "name": "stderr",
     "output_type": "stream",
     "text": [
      "Processing chunk 1/2:  51%|██████████▊          | 41/80 [01:52<01:17,  1.98s/it]"
     ]
    },
    {
     "name": "stdout",
     "output_type": "stream",
     "text": [
      "{'result': {'alternatives': [{'message': {'role': 'assistant', 'text': '1'}, 'status': 'ALTERNATIVE_STATUS_TRUNCATED_FINAL'}], 'usage': {'inputTextTokens': '439', 'completionTokens': '2', 'totalTokens': '441'}, 'modelVersion': '07.03.2024'}}\n",
      "{'modelUri': 'gpt://b1g6odsice70le7mmg6d/yandexgpt-pro', 'completionOptions': {'stream': False, 'temperature': 0.1, 'maxTokens': '2'}, 'messages': [{'role': 'system', 'text': \"Your role is to classify British A-level exam questions into five topics: 1) entreprenuers and leaders, 2) managing people, 3) market, 4) marketing mix and strategy, 5) meeting customer needs. Assign the appropriate topic number based on the question's theme and keywords.\"}, {'role': 'user', 'text': 'define the term brand'}, {'role': 'assistant', 'text': '4'}, {'role': 'user', 'text': 'explain one risk jack ma may have taken when setting up the alibaba group'}, {'role': 'assistant', 'text': '1'}, {'role': 'user', 'text': 'analyse two factors that may have increased demand for the alibaba group'}, {'role': 'assistant', 'text': '3'}, {'role': 'user', 'text': 'discuss if profit maximisation is the main business objective of the alibaba group'}, {'role': 'assistant', 'text': '1'}, {'role': 'user', 'text': 'assess the advantages of a paternalistic style of leadership for a business such as the alibaba group'}, {'role': 'assistant', 'text': '2'}, {'role': 'user', 'text': 'define the term product innovation '}, {'role': 'assistant', 'text': '5'}, {'role': 'user', 'text': 'if nintendo reduces its console prices by 8% calculate the estimated percentage change in demand. you are advised to show your working'}, {'role': 'assistant', 'text': '3'}, {'role': 'user', 'text': 'analyse two different pricing strategies that nintendo might use to compete in the games console industry'}, {'role': 'assistant', 'text': '4'}, {'role': 'user', 'text': 'assess the benefits of a matrix organisational structure for a business such as nintendo'}, {'role': 'assistant', 'text': '2'}, {'role': 'user', 'text': 'Explain how the growth of the fitness market from 2015 to 2016 could have affected puregym'}, {'role': 'assistant', 'text': '5'}, {'role': 'user', 'text': 'Predict the topic number based on the provided question. The topics: 1) entreprenuers and leaders, 2) managing people, 3) market, 4) marketing mix and strategy, 5) meeting customer needs. Please respond with the relevant topic NUMBER.\\nEvaluate the importance of income as a key motive for dean to become an entrepreneur.\"'}]}\n"
     ]
    },
    {
     "name": "stderr",
     "output_type": "stream",
     "text": [
      "Processing chunk 1/2:  52%|███████████          | 42/80 [01:54<01:12,  1.91s/it]"
     ]
    },
    {
     "name": "stdout",
     "output_type": "stream",
     "text": [
      "{'result': {'alternatives': [{'message': {'role': 'assistant', 'text': '1'}, 'status': 'ALTERNATIVE_STATUS_TRUNCATED_FINAL'}], 'usage': {'inputTextTokens': '434', 'completionTokens': '2', 'totalTokens': '436'}, 'modelVersion': '07.03.2024'}}\n",
      "{'modelUri': 'gpt://b1g6odsice70le7mmg6d/yandexgpt-pro', 'completionOptions': {'stream': False, 'temperature': 0.1, 'maxTokens': '2'}, 'messages': [{'role': 'system', 'text': \"Your role is to classify British A-level exam questions into five topics: 1) entreprenuers and leaders, 2) managing people, 3) market, 4) marketing mix and strategy, 5) meeting customer needs. Assign the appropriate topic number based on the question's theme and keywords.\"}, {'role': 'user', 'text': 'define the term brand'}, {'role': 'assistant', 'text': '4'}, {'role': 'user', 'text': 'explain one risk jack ma may have taken when setting up the alibaba group'}, {'role': 'assistant', 'text': '1'}, {'role': 'user', 'text': 'analyse two factors that may have increased demand for the alibaba group'}, {'role': 'assistant', 'text': '3'}, {'role': 'user', 'text': 'discuss if profit maximisation is the main business objective of the alibaba group'}, {'role': 'assistant', 'text': '1'}, {'role': 'user', 'text': 'assess the advantages of a paternalistic style of leadership for a business such as the alibaba group'}, {'role': 'assistant', 'text': '2'}, {'role': 'user', 'text': 'define the term product innovation '}, {'role': 'assistant', 'text': '5'}, {'role': 'user', 'text': 'if nintendo reduces its console prices by 8% calculate the estimated percentage change in demand. you are advised to show your working'}, {'role': 'assistant', 'text': '3'}, {'role': 'user', 'text': 'analyse two different pricing strategies that nintendo might use to compete in the games console industry'}, {'role': 'assistant', 'text': '4'}, {'role': 'user', 'text': 'assess the benefits of a matrix organisational structure for a business such as nintendo'}, {'role': 'assistant', 'text': '2'}, {'role': 'user', 'text': 'Explain how the growth of the fitness market from 2015 to 2016 could have affected puregym'}, {'role': 'assistant', 'text': '5'}, {'role': 'user', 'text': 'Predict the topic number based on the provided question. The topics: 1) entreprenuers and leaders, 2) managing people, 3) market, 4) marketing mix and strategy, 5) meeting customer needs. Please respond with the relevant topic NUMBER.\\nDefine the term ‘social media’.\"'}]}\n"
     ]
    },
    {
     "name": "stderr",
     "output_type": "stream",
     "text": [
      "Processing chunk 1/2:  54%|███████████▎         | 43/80 [01:57<01:18,  2.13s/it]"
     ]
    },
    {
     "name": "stdout",
     "output_type": "stream",
     "text": [
      "{'result': {'alternatives': [{'message': {'role': 'assistant', 'text': '4'}, 'status': 'ALTERNATIVE_STATUS_TRUNCATED_FINAL'}], 'usage': {'inputTextTokens': '424', 'completionTokens': '2', 'totalTokens': '426'}, 'modelVersion': '07.03.2024'}}\n",
      "{'modelUri': 'gpt://b1g6odsice70le7mmg6d/yandexgpt-pro', 'completionOptions': {'stream': False, 'temperature': 0.1, 'maxTokens': '2'}, 'messages': [{'role': 'system', 'text': \"Your role is to classify British A-level exam questions into five topics: 1) entreprenuers and leaders, 2) managing people, 3) market, 4) marketing mix and strategy, 5) meeting customer needs. Assign the appropriate topic number based on the question's theme and keywords.\"}, {'role': 'user', 'text': 'define the term brand'}, {'role': 'assistant', 'text': '4'}, {'role': 'user', 'text': 'explain one risk jack ma may have taken when setting up the alibaba group'}, {'role': 'assistant', 'text': '1'}, {'role': 'user', 'text': 'analyse two factors that may have increased demand for the alibaba group'}, {'role': 'assistant', 'text': '3'}, {'role': 'user', 'text': 'discuss if profit maximisation is the main business objective of the alibaba group'}, {'role': 'assistant', 'text': '1'}, {'role': 'user', 'text': 'assess the advantages of a paternalistic style of leadership for a business such as the alibaba group'}, {'role': 'assistant', 'text': '2'}, {'role': 'user', 'text': 'define the term product innovation '}, {'role': 'assistant', 'text': '5'}, {'role': 'user', 'text': 'if nintendo reduces its console prices by 8% calculate the estimated percentage change in demand. you are advised to show your working'}, {'role': 'assistant', 'text': '3'}, {'role': 'user', 'text': 'analyse two different pricing strategies that nintendo might use to compete in the games console industry'}, {'role': 'assistant', 'text': '4'}, {'role': 'user', 'text': 'assess the benefits of a matrix organisational structure for a business such as nintendo'}, {'role': 'assistant', 'text': '2'}, {'role': 'user', 'text': 'Explain how the growth of the fitness market from 2015 to 2016 could have affected puregym'}, {'role': 'assistant', 'text': '5'}, {'role': 'user', 'text': 'Predict the topic number based on the provided question. The topics: 1) entreprenuers and leaders, 2) managing people, 3) market, 4) marketing mix and strategy, 5) meeting customer needs. Please respond with the relevant topic NUMBER.\\nConstruct a market map to illustrate the impact of m s’s decision to aim its clothing range at a younger target market\"'}]}\n"
     ]
    },
    {
     "name": "stderr",
     "output_type": "stream",
     "text": [
      "Processing chunk 1/2:  55%|███████████▌         | 44/80 [02:00<01:28,  2.45s/it]"
     ]
    },
    {
     "name": "stdout",
     "output_type": "stream",
     "text": [
      "{'result': {'alternatives': [{'message': {'role': 'assistant', 'text': '3'}, 'status': 'ALTERNATIVE_STATUS_TRUNCATED_FINAL'}], 'usage': {'inputTextTokens': '441', 'completionTokens': '2', 'totalTokens': '443'}, 'modelVersion': '07.03.2024'}}\n",
      "{'modelUri': 'gpt://b1g6odsice70le7mmg6d/yandexgpt-pro', 'completionOptions': {'stream': False, 'temperature': 0.1, 'maxTokens': '2'}, 'messages': [{'role': 'system', 'text': \"Your role is to classify British A-level exam questions into five topics: 1) entreprenuers and leaders, 2) managing people, 3) market, 4) marketing mix and strategy, 5) meeting customer needs. Assign the appropriate topic number based on the question's theme and keywords.\"}, {'role': 'user', 'text': 'define the term brand'}, {'role': 'assistant', 'text': '4'}, {'role': 'user', 'text': 'explain one risk jack ma may have taken when setting up the alibaba group'}, {'role': 'assistant', 'text': '1'}, {'role': 'user', 'text': 'analyse two factors that may have increased demand for the alibaba group'}, {'role': 'assistant', 'text': '3'}, {'role': 'user', 'text': 'discuss if profit maximisation is the main business objective of the alibaba group'}, {'role': 'assistant', 'text': '1'}, {'role': 'user', 'text': 'assess the advantages of a paternalistic style of leadership for a business such as the alibaba group'}, {'role': 'assistant', 'text': '2'}, {'role': 'user', 'text': 'define the term product innovation '}, {'role': 'assistant', 'text': '5'}, {'role': 'user', 'text': 'if nintendo reduces its console prices by 8% calculate the estimated percentage change in demand. you are advised to show your working'}, {'role': 'assistant', 'text': '3'}, {'role': 'user', 'text': 'analyse two different pricing strategies that nintendo might use to compete in the games console industry'}, {'role': 'assistant', 'text': '4'}, {'role': 'user', 'text': 'assess the benefits of a matrix organisational structure for a business such as nintendo'}, {'role': 'assistant', 'text': '2'}, {'role': 'user', 'text': 'Explain how the growth of the fitness market from 2015 to 2016 could have affected puregym'}, {'role': 'assistant', 'text': '5'}, {'role': 'user', 'text': 'Predict the topic number based on the provided question. The topics: 1) entreprenuers and leaders, 2) managing people, 3) market, 4) marketing mix and strategy, 5) meeting customer needs. Please respond with the relevant topic NUMBER.\\nUsing extract c, calculate to 2 decimal places, the percentage change in sales revenue for skechers between and you are advised to show your working\"'}]}\n"
     ]
    },
    {
     "name": "stderr",
     "output_type": "stream",
     "text": [
      "Processing chunk 1/2:  56%|███████████▊         | 45/80 [02:03<01:29,  2.54s/it]"
     ]
    },
    {
     "name": "stdout",
     "output_type": "stream",
     "text": [
      "{'result': {'alternatives': [{'message': {'role': 'assistant', 'text': '4'}, 'status': 'ALTERNATIVE_STATUS_TRUNCATED_FINAL'}], 'usage': {'inputTextTokens': '447', 'completionTokens': '2', 'totalTokens': '449'}, 'modelVersion': '07.03.2024'}}\n",
      "{'modelUri': 'gpt://b1g6odsice70le7mmg6d/yandexgpt-pro', 'completionOptions': {'stream': False, 'temperature': 0.1, 'maxTokens': '2'}, 'messages': [{'role': 'system', 'text': \"Your role is to classify British A-level exam questions into five topics: 1) entreprenuers and leaders, 2) managing people, 3) market, 4) marketing mix and strategy, 5) meeting customer needs. Assign the appropriate topic number based on the question's theme and keywords.\"}, {'role': 'user', 'text': 'define the term brand'}, {'role': 'assistant', 'text': '4'}, {'role': 'user', 'text': 'explain one risk jack ma may have taken when setting up the alibaba group'}, {'role': 'assistant', 'text': '1'}, {'role': 'user', 'text': 'analyse two factors that may have increased demand for the alibaba group'}, {'role': 'assistant', 'text': '3'}, {'role': 'user', 'text': 'discuss if profit maximisation is the main business objective of the alibaba group'}, {'role': 'assistant', 'text': '1'}, {'role': 'user', 'text': 'assess the advantages of a paternalistic style of leadership for a business such as the alibaba group'}, {'role': 'assistant', 'text': '2'}, {'role': 'user', 'text': 'define the term product innovation '}, {'role': 'assistant', 'text': '5'}, {'role': 'user', 'text': 'if nintendo reduces its console prices by 8% calculate the estimated percentage change in demand. you are advised to show your working'}, {'role': 'assistant', 'text': '3'}, {'role': 'user', 'text': 'analyse two different pricing strategies that nintendo might use to compete in the games console industry'}, {'role': 'assistant', 'text': '4'}, {'role': 'user', 'text': 'assess the benefits of a matrix organisational structure for a business such as nintendo'}, {'role': 'assistant', 'text': '2'}, {'role': 'user', 'text': 'Explain how the growth of the fitness market from 2015 to 2016 could have affected puregym'}, {'role': 'assistant', 'text': '5'}, {'role': 'user', 'text': 'Predict the topic number based on the provided question. The topics: 1) entreprenuers and leaders, 2) managing people, 3) market, 4) marketing mix and strategy, 5) meeting customer needs. Please respond with the relevant topic NUMBER.\\nExplain one way in which a business such as bon bon’s adds value to the products it sells.\"'}]}\n"
     ]
    },
    {
     "name": "stderr",
     "output_type": "stream",
     "text": [
      "Processing chunk 1/2:  57%|████████████         | 46/80 [02:04<01:18,  2.30s/it]"
     ]
    },
    {
     "name": "stdout",
     "output_type": "stream",
     "text": [
      "{'result': {'alternatives': [{'message': {'role': 'assistant', 'text': '2'}, 'status': 'ALTERNATIVE_STATUS_TRUNCATED_FINAL'}], 'usage': {'inputTextTokens': '437', 'completionTokens': '2', 'totalTokens': '439'}, 'modelVersion': '07.03.2024'}}\n",
      "{'modelUri': 'gpt://b1g6odsice70le7mmg6d/yandexgpt-pro', 'completionOptions': {'stream': False, 'temperature': 0.1, 'maxTokens': '2'}, 'messages': [{'role': 'system', 'text': \"Your role is to classify British A-level exam questions into five topics: 1) entreprenuers and leaders, 2) managing people, 3) market, 4) marketing mix and strategy, 5) meeting customer needs. Assign the appropriate topic number based on the question's theme and keywords.\"}, {'role': 'user', 'text': 'define the term brand'}, {'role': 'assistant', 'text': '4'}, {'role': 'user', 'text': 'explain one risk jack ma may have taken when setting up the alibaba group'}, {'role': 'assistant', 'text': '1'}, {'role': 'user', 'text': 'analyse two factors that may have increased demand for the alibaba group'}, {'role': 'assistant', 'text': '3'}, {'role': 'user', 'text': 'discuss if profit maximisation is the main business objective of the alibaba group'}, {'role': 'assistant', 'text': '1'}, {'role': 'user', 'text': 'assess the advantages of a paternalistic style of leadership for a business such as the alibaba group'}, {'role': 'assistant', 'text': '2'}, {'role': 'user', 'text': 'define the term product innovation '}, {'role': 'assistant', 'text': '5'}, {'role': 'user', 'text': 'if nintendo reduces its console prices by 8% calculate the estimated percentage change in demand. you are advised to show your working'}, {'role': 'assistant', 'text': '3'}, {'role': 'user', 'text': 'analyse two different pricing strategies that nintendo might use to compete in the games console industry'}, {'role': 'assistant', 'text': '4'}, {'role': 'user', 'text': 'assess the benefits of a matrix organisational structure for a business such as nintendo'}, {'role': 'assistant', 'text': '2'}, {'role': 'user', 'text': 'Explain how the growth of the fitness market from 2015 to 2016 could have affected puregym'}, {'role': 'assistant', 'text': '5'}, {'role': 'user', 'text': 'Predict the topic number based on the provided question. The topics: 1) entreprenuers and leaders, 2) managing people, 3) market, 4) marketing mix and strategy, 5) meeting customer needs. Please respond with the relevant topic NUMBER.\\nDefine the term ‘product portfolio’\"'}]}\n"
     ]
    },
    {
     "name": "stderr",
     "output_type": "stream",
     "text": [
      "Processing chunk 1/2:  59%|████████████▎        | 47/80 [02:08<01:31,  2.78s/it]"
     ]
    },
    {
     "name": "stdout",
     "output_type": "stream",
     "text": [
      "{'result': {'alternatives': [{'message': {'role': 'assistant', 'text': '4'}, 'status': 'ALTERNATIVE_STATUS_TRUNCATED_FINAL'}], 'usage': {'inputTextTokens': '424', 'completionTokens': '2', 'totalTokens': '426'}, 'modelVersion': '07.03.2024'}}\n",
      "{'modelUri': 'gpt://b1g6odsice70le7mmg6d/yandexgpt-pro', 'completionOptions': {'stream': False, 'temperature': 0.1, 'maxTokens': '2'}, 'messages': [{'role': 'system', 'text': \"Your role is to classify British A-level exam questions into five topics: 1) entreprenuers and leaders, 2) managing people, 3) market, 4) marketing mix and strategy, 5) meeting customer needs. Assign the appropriate topic number based on the question's theme and keywords.\"}, {'role': 'user', 'text': 'define the term brand'}, {'role': 'assistant', 'text': '4'}, {'role': 'user', 'text': 'explain one risk jack ma may have taken when setting up the alibaba group'}, {'role': 'assistant', 'text': '1'}, {'role': 'user', 'text': 'analyse two factors that may have increased demand for the alibaba group'}, {'role': 'assistant', 'text': '3'}, {'role': 'user', 'text': 'discuss if profit maximisation is the main business objective of the alibaba group'}, {'role': 'assistant', 'text': '1'}, {'role': 'user', 'text': 'assess the advantages of a paternalistic style of leadership for a business such as the alibaba group'}, {'role': 'assistant', 'text': '2'}, {'role': 'user', 'text': 'define the term product innovation '}, {'role': 'assistant', 'text': '5'}, {'role': 'user', 'text': 'if nintendo reduces its console prices by 8% calculate the estimated percentage change in demand. you are advised to show your working'}, {'role': 'assistant', 'text': '3'}, {'role': 'user', 'text': 'analyse two different pricing strategies that nintendo might use to compete in the games console industry'}, {'role': 'assistant', 'text': '4'}, {'role': 'user', 'text': 'assess the benefits of a matrix organisational structure for a business such as nintendo'}, {'role': 'assistant', 'text': '2'}, {'role': 'user', 'text': 'Explain how the growth of the fitness market from 2015 to 2016 could have affected puregym'}, {'role': 'assistant', 'text': '5'}, {'role': 'user', 'text': 'Predict the topic number based on the provided question. The topics: 1) entreprenuers and leaders, 2) managing people, 3) market, 4) marketing mix and strategy, 5) meeting customer needs. Please respond with the relevant topic NUMBER.\\nAssess the likely benefits to a company such as ssp of using non-financial techniques to motivate employees\"'}]}\n"
     ]
    },
    {
     "name": "stderr",
     "output_type": "stream",
     "text": [
      "Processing chunk 1/2:  60%|████████████▌        | 48/80 [02:10<01:17,  2.43s/it]"
     ]
    },
    {
     "name": "stdout",
     "output_type": "stream",
     "text": [
      "{'result': {'alternatives': [{'message': {'role': 'assistant', 'text': '2'}, 'status': 'ALTERNATIVE_STATUS_TRUNCATED_FINAL'}], 'usage': {'inputTextTokens': '438', 'completionTokens': '2', 'totalTokens': '440'}, 'modelVersion': '07.03.2024'}}\n",
      "{'modelUri': 'gpt://b1g6odsice70le7mmg6d/yandexgpt-pro', 'completionOptions': {'stream': False, 'temperature': 0.1, 'maxTokens': '2'}, 'messages': [{'role': 'system', 'text': \"Your role is to classify British A-level exam questions into five topics: 1) entreprenuers and leaders, 2) managing people, 3) market, 4) marketing mix and strategy, 5) meeting customer needs. Assign the appropriate topic number based on the question's theme and keywords.\"}, {'role': 'user', 'text': 'define the term brand'}, {'role': 'assistant', 'text': '4'}, {'role': 'user', 'text': 'explain one risk jack ma may have taken when setting up the alibaba group'}, {'role': 'assistant', 'text': '1'}, {'role': 'user', 'text': 'analyse two factors that may have increased demand for the alibaba group'}, {'role': 'assistant', 'text': '3'}, {'role': 'user', 'text': 'discuss if profit maximisation is the main business objective of the alibaba group'}, {'role': 'assistant', 'text': '1'}, {'role': 'user', 'text': 'assess the advantages of a paternalistic style of leadership for a business such as the alibaba group'}, {'role': 'assistant', 'text': '2'}, {'role': 'user', 'text': 'define the term product innovation '}, {'role': 'assistant', 'text': '5'}, {'role': 'user', 'text': 'if nintendo reduces its console prices by 8% calculate the estimated percentage change in demand. you are advised to show your working'}, {'role': 'assistant', 'text': '3'}, {'role': 'user', 'text': 'analyse two different pricing strategies that nintendo might use to compete in the games console industry'}, {'role': 'assistant', 'text': '4'}, {'role': 'user', 'text': 'assess the benefits of a matrix organisational structure for a business such as nintendo'}, {'role': 'assistant', 'text': '2'}, {'role': 'user', 'text': 'Explain how the growth of the fitness market from 2015 to 2016 could have affected puregym'}, {'role': 'assistant', 'text': '5'}, {'role': 'user', 'text': 'Predict the topic number based on the provided question. The topics: 1) entreprenuers and leaders, 2) managing people, 3) market, 4) marketing mix and strategy, 5) meeting customer needs. Please respond with the relevant topic NUMBER.\\nConstruct a supply and demand diagram to show the impact of a decrease in the price of milk and cream on the ice cream market.\"'}]}\n"
     ]
    },
    {
     "name": "stderr",
     "output_type": "stream",
     "text": [
      "Processing chunk 1/2:  61%|████████████▊        | 49/80 [02:12<01:08,  2.20s/it]"
     ]
    },
    {
     "name": "stdout",
     "output_type": "stream",
     "text": [
      "{'result': {'alternatives': [{'message': {'role': 'assistant', 'text': '4'}, 'status': 'ALTERNATIVE_STATUS_TRUNCATED_FINAL'}], 'usage': {'inputTextTokens': '442', 'completionTokens': '2', 'totalTokens': '444'}, 'modelVersion': '07.03.2024'}}\n",
      "{'modelUri': 'gpt://b1g6odsice70le7mmg6d/yandexgpt-pro', 'completionOptions': {'stream': False, 'temperature': 0.1, 'maxTokens': '2'}, 'messages': [{'role': 'system', 'text': \"Your role is to classify British A-level exam questions into five topics: 1) entreprenuers and leaders, 2) managing people, 3) market, 4) marketing mix and strategy, 5) meeting customer needs. Assign the appropriate topic number based on the question's theme and keywords.\"}, {'role': 'user', 'text': 'define the term brand'}, {'role': 'assistant', 'text': '4'}, {'role': 'user', 'text': 'explain one risk jack ma may have taken when setting up the alibaba group'}, {'role': 'assistant', 'text': '1'}, {'role': 'user', 'text': 'analyse two factors that may have increased demand for the alibaba group'}, {'role': 'assistant', 'text': '3'}, {'role': 'user', 'text': 'discuss if profit maximisation is the main business objective of the alibaba group'}, {'role': 'assistant', 'text': '1'}, {'role': 'user', 'text': 'assess the advantages of a paternalistic style of leadership for a business such as the alibaba group'}, {'role': 'assistant', 'text': '2'}, {'role': 'user', 'text': 'define the term product innovation '}, {'role': 'assistant', 'text': '5'}, {'role': 'user', 'text': 'if nintendo reduces its console prices by 8% calculate the estimated percentage change in demand. you are advised to show your working'}, {'role': 'assistant', 'text': '3'}, {'role': 'user', 'text': 'analyse two different pricing strategies that nintendo might use to compete in the games console industry'}, {'role': 'assistant', 'text': '4'}, {'role': 'user', 'text': 'assess the benefits of a matrix organisational structure for a business such as nintendo'}, {'role': 'assistant', 'text': '2'}, {'role': 'user', 'text': 'Explain how the growth of the fitness market from 2015 to 2016 could have affected puregym'}, {'role': 'assistant', 'text': '5'}, {'role': 'user', 'text': 'Predict the topic number based on the provided question. The topics: 1) entreprenuers and leaders, 2) managing people, 3) market, 4) marketing mix and strategy, 5) meeting customer needs. Please respond with the relevant topic NUMBER.\\nWhat is meant by niche market\"'}]}\n"
     ]
    },
    {
     "name": "stderr",
     "output_type": "stream",
     "text": [
      "Processing chunk 1/2:  62%|█████████████▏       | 50/80 [02:16<01:23,  2.77s/it]"
     ]
    },
    {
     "name": "stdout",
     "output_type": "stream",
     "text": [
      "{'result': {'alternatives': [{'message': {'role': 'assistant', 'text': '3'}, 'status': 'ALTERNATIVE_STATUS_TRUNCATED_FINAL'}], 'usage': {'inputTextTokens': '423', 'completionTokens': '2', 'totalTokens': '425'}, 'modelVersion': '07.03.2024'}}\n",
      "{'modelUri': 'gpt://b1g6odsice70le7mmg6d/yandexgpt-pro', 'completionOptions': {'stream': False, 'temperature': 0.1, 'maxTokens': '2'}, 'messages': [{'role': 'system', 'text': \"Your role is to classify British A-level exam questions into five topics: 1) entreprenuers and leaders, 2) managing people, 3) market, 4) marketing mix and strategy, 5) meeting customer needs. Assign the appropriate topic number based on the question's theme and keywords.\"}, {'role': 'user', 'text': 'define the term brand'}, {'role': 'assistant', 'text': '4'}, {'role': 'user', 'text': 'explain one risk jack ma may have taken when setting up the alibaba group'}, {'role': 'assistant', 'text': '1'}, {'role': 'user', 'text': 'analyse two factors that may have increased demand for the alibaba group'}, {'role': 'assistant', 'text': '3'}, {'role': 'user', 'text': 'discuss if profit maximisation is the main business objective of the alibaba group'}, {'role': 'assistant', 'text': '1'}, {'role': 'user', 'text': 'assess the advantages of a paternalistic style of leadership for a business such as the alibaba group'}, {'role': 'assistant', 'text': '2'}, {'role': 'user', 'text': 'define the term product innovation '}, {'role': 'assistant', 'text': '5'}, {'role': 'user', 'text': 'if nintendo reduces its console prices by 8% calculate the estimated percentage change in demand. you are advised to show your working'}, {'role': 'assistant', 'text': '3'}, {'role': 'user', 'text': 'analyse two different pricing strategies that nintendo might use to compete in the games console industry'}, {'role': 'assistant', 'text': '4'}, {'role': 'user', 'text': 'assess the benefits of a matrix organisational structure for a business such as nintendo'}, {'role': 'assistant', 'text': '2'}, {'role': 'user', 'text': 'Explain how the growth of the fitness market from 2015 to 2016 could have affected puregym'}, {'role': 'assistant', 'text': '5'}, {'role': 'user', 'text': 'Predict the topic number based on the provided question. The topics: 1) entreprenuers and leaders, 2) managing people, 3) market, 4) marketing mix and strategy, 5) meeting customer needs. Please respond with the relevant topic NUMBER.\\nCalculate the price elasticity of demand ped for a superdry t-shirt if the price decreases by 10% and sales increase from 120,000 to  150,000 you are advised to show your working\"'}]}\n"
     ]
    },
    {
     "name": "stderr",
     "output_type": "stream",
     "text": [
      "Processing chunk 1/2:  64%|█████████████▍       | 51/80 [02:17<01:10,  2.43s/it]"
     ]
    },
    {
     "name": "stdout",
     "output_type": "stream",
     "text": [
      "{'result': {'alternatives': [{'message': {'role': 'assistant', 'text': '4'}, 'status': 'ALTERNATIVE_STATUS_TRUNCATED_FINAL'}], 'usage': {'inputTextTokens': '468', 'completionTokens': '2', 'totalTokens': '470'}, 'modelVersion': '07.03.2024'}}\n",
      "{'modelUri': 'gpt://b1g6odsice70le7mmg6d/yandexgpt-pro', 'completionOptions': {'stream': False, 'temperature': 0.1, 'maxTokens': '2'}, 'messages': [{'role': 'system', 'text': \"Your role is to classify British A-level exam questions into five topics: 1) entreprenuers and leaders, 2) managing people, 3) market, 4) marketing mix and strategy, 5) meeting customer needs. Assign the appropriate topic number based on the question's theme and keywords.\"}, {'role': 'user', 'text': 'define the term brand'}, {'role': 'assistant', 'text': '4'}, {'role': 'user', 'text': 'explain one risk jack ma may have taken when setting up the alibaba group'}, {'role': 'assistant', 'text': '1'}, {'role': 'user', 'text': 'analyse two factors that may have increased demand for the alibaba group'}, {'role': 'assistant', 'text': '3'}, {'role': 'user', 'text': 'discuss if profit maximisation is the main business objective of the alibaba group'}, {'role': 'assistant', 'text': '1'}, {'role': 'user', 'text': 'assess the advantages of a paternalistic style of leadership for a business such as the alibaba group'}, {'role': 'assistant', 'text': '2'}, {'role': 'user', 'text': 'define the term product innovation '}, {'role': 'assistant', 'text': '5'}, {'role': 'user', 'text': 'if nintendo reduces its console prices by 8% calculate the estimated percentage change in demand. you are advised to show your working'}, {'role': 'assistant', 'text': '3'}, {'role': 'user', 'text': 'analyse two different pricing strategies that nintendo might use to compete in the games console industry'}, {'role': 'assistant', 'text': '4'}, {'role': 'user', 'text': 'assess the benefits of a matrix organisational structure for a business such as nintendo'}, {'role': 'assistant', 'text': '2'}, {'role': 'user', 'text': 'Explain how the growth of the fitness market from 2015 to 2016 could have affected puregym'}, {'role': 'assistant', 'text': '5'}, {'role': 'user', 'text': 'Predict the topic number based on the provided question. The topics: 1) entreprenuers and leaders, 2) managing people, 3) market, 4) marketing mix and strategy, 5) meeting customer needs. Please respond with the relevant topic NUMBER.\\nUsing the case study, explain the difference between entrepreneurial characteristics and entrepreneurial motives.\"'}]}\n"
     ]
    },
    {
     "name": "stderr",
     "output_type": "stream",
     "text": [
      "Processing chunk 1/2:  65%|█████████████▋       | 52/80 [02:20<01:11,  2.56s/it]"
     ]
    },
    {
     "name": "stdout",
     "output_type": "stream",
     "text": [
      "{'result': {'alternatives': [{'message': {'role': 'assistant', 'text': '1'}, 'status': 'ALTERNATIVE_STATUS_TRUNCATED_FINAL'}], 'usage': {'inputTextTokens': '434', 'completionTokens': '2', 'totalTokens': '436'}, 'modelVersion': '07.03.2024'}}\n",
      "{'modelUri': 'gpt://b1g6odsice70le7mmg6d/yandexgpt-pro', 'completionOptions': {'stream': False, 'temperature': 0.1, 'maxTokens': '2'}, 'messages': [{'role': 'system', 'text': \"Your role is to classify British A-level exam questions into five topics: 1) entreprenuers and leaders, 2) managing people, 3) market, 4) marketing mix and strategy, 5) meeting customer needs. Assign the appropriate topic number based on the question's theme and keywords.\"}, {'role': 'user', 'text': 'define the term brand'}, {'role': 'assistant', 'text': '4'}, {'role': 'user', 'text': 'explain one risk jack ma may have taken when setting up the alibaba group'}, {'role': 'assistant', 'text': '1'}, {'role': 'user', 'text': 'analyse two factors that may have increased demand for the alibaba group'}, {'role': 'assistant', 'text': '3'}, {'role': 'user', 'text': 'discuss if profit maximisation is the main business objective of the alibaba group'}, {'role': 'assistant', 'text': '1'}, {'role': 'user', 'text': 'assess the advantages of a paternalistic style of leadership for a business such as the alibaba group'}, {'role': 'assistant', 'text': '2'}, {'role': 'user', 'text': 'define the term product innovation '}, {'role': 'assistant', 'text': '5'}, {'role': 'user', 'text': 'if nintendo reduces its console prices by 8% calculate the estimated percentage change in demand. you are advised to show your working'}, {'role': 'assistant', 'text': '3'}, {'role': 'user', 'text': 'analyse two different pricing strategies that nintendo might use to compete in the games console industry'}, {'role': 'assistant', 'text': '4'}, {'role': 'user', 'text': 'assess the benefits of a matrix organisational structure for a business such as nintendo'}, {'role': 'assistant', 'text': '2'}, {'role': 'user', 'text': 'Explain how the growth of the fitness market from 2015 to 2016 could have affected puregym'}, {'role': 'assistant', 'text': '5'}, {'role': 'user', 'text': 'Predict the topic number based on the provided question. The topics: 1) entreprenuers and leaders, 2) managing people, 3) market, 4) marketing mix and strategy, 5) meeting customer needs. Please respond with the relevant topic NUMBER.\\nExplain why it was a good idea for maria to locate her business in the sadlers wells area of islington, london.\"'}]}\n"
     ]
    },
    {
     "name": "stderr",
     "output_type": "stream",
     "text": [
      "Processing chunk 1/2:  66%|█████████████▉       | 53/80 [02:23<01:09,  2.56s/it]"
     ]
    },
    {
     "name": "stdout",
     "output_type": "stream",
     "text": [
      "{'result': {'alternatives': [{'message': {'role': 'assistant', 'text': '3'}, 'status': 'ALTERNATIVE_STATUS_TRUNCATED_FINAL'}], 'usage': {'inputTextTokens': '443', 'completionTokens': '2', 'totalTokens': '445'}, 'modelVersion': '07.03.2024'}}\n",
      "{'modelUri': 'gpt://b1g6odsice70le7mmg6d/yandexgpt-pro', 'completionOptions': {'stream': False, 'temperature': 0.1, 'maxTokens': '2'}, 'messages': [{'role': 'system', 'text': \"Your role is to classify British A-level exam questions into five topics: 1) entreprenuers and leaders, 2) managing people, 3) market, 4) marketing mix and strategy, 5) meeting customer needs. Assign the appropriate topic number based on the question's theme and keywords.\"}, {'role': 'user', 'text': 'define the term brand'}, {'role': 'assistant', 'text': '4'}, {'role': 'user', 'text': 'explain one risk jack ma may have taken when setting up the alibaba group'}, {'role': 'assistant', 'text': '1'}, {'role': 'user', 'text': 'analyse two factors that may have increased demand for the alibaba group'}, {'role': 'assistant', 'text': '3'}, {'role': 'user', 'text': 'discuss if profit maximisation is the main business objective of the alibaba group'}, {'role': 'assistant', 'text': '1'}, {'role': 'user', 'text': 'assess the advantages of a paternalistic style of leadership for a business such as the alibaba group'}, {'role': 'assistant', 'text': '2'}, {'role': 'user', 'text': 'define the term product innovation '}, {'role': 'assistant', 'text': '5'}, {'role': 'user', 'text': 'if nintendo reduces its console prices by 8% calculate the estimated percentage change in demand. you are advised to show your working'}, {'role': 'assistant', 'text': '3'}, {'role': 'user', 'text': 'analyse two different pricing strategies that nintendo might use to compete in the games console industry'}, {'role': 'assistant', 'text': '4'}, {'role': 'user', 'text': 'assess the benefits of a matrix organisational structure for a business such as nintendo'}, {'role': 'assistant', 'text': '2'}, {'role': 'user', 'text': 'Explain how the growth of the fitness market from 2015 to 2016 could have affected puregym'}, {'role': 'assistant', 'text': '5'}, {'role': 'user', 'text': 'Predict the topic number based on the provided question. The topics: 1) entreprenuers and leaders, 2) managing people, 3) market, 4) marketing mix and strategy, 5) meeting customer needs. Please respond with the relevant topic NUMBER.\\nAnalyse two factors that are likely to affect the demand for innocent products\"'}]}\n"
     ]
    },
    {
     "name": "stderr",
     "output_type": "stream",
     "text": [
      "Processing chunk 1/2:  68%|██████████████▏      | 54/80 [02:24<00:58,  2.27s/it]"
     ]
    },
    {
     "name": "stdout",
     "output_type": "stream",
     "text": [
      "{'result': {'alternatives': [{'message': {'role': 'assistant', 'text': '3'}, 'status': 'ALTERNATIVE_STATUS_TRUNCATED_FINAL'}], 'usage': {'inputTextTokens': '431', 'completionTokens': '2', 'totalTokens': '433'}, 'modelVersion': '07.03.2024'}}\n",
      "{'modelUri': 'gpt://b1g6odsice70le7mmg6d/yandexgpt-pro', 'completionOptions': {'stream': False, 'temperature': 0.1, 'maxTokens': '2'}, 'messages': [{'role': 'system', 'text': \"Your role is to classify British A-level exam questions into five topics: 1) entreprenuers and leaders, 2) managing people, 3) market, 4) marketing mix and strategy, 5) meeting customer needs. Assign the appropriate topic number based on the question's theme and keywords.\"}, {'role': 'user', 'text': 'define the term brand'}, {'role': 'assistant', 'text': '4'}, {'role': 'user', 'text': 'explain one risk jack ma may have taken when setting up the alibaba group'}, {'role': 'assistant', 'text': '1'}, {'role': 'user', 'text': 'analyse two factors that may have increased demand for the alibaba group'}, {'role': 'assistant', 'text': '3'}, {'role': 'user', 'text': 'discuss if profit maximisation is the main business objective of the alibaba group'}, {'role': 'assistant', 'text': '1'}, {'role': 'user', 'text': 'assess the advantages of a paternalistic style of leadership for a business such as the alibaba group'}, {'role': 'assistant', 'text': '2'}, {'role': 'user', 'text': 'define the term product innovation '}, {'role': 'assistant', 'text': '5'}, {'role': 'user', 'text': 'if nintendo reduces its console prices by 8% calculate the estimated percentage change in demand. you are advised to show your working'}, {'role': 'assistant', 'text': '3'}, {'role': 'user', 'text': 'analyse two different pricing strategies that nintendo might use to compete in the games console industry'}, {'role': 'assistant', 'text': '4'}, {'role': 'user', 'text': 'assess the benefits of a matrix organisational structure for a business such as nintendo'}, {'role': 'assistant', 'text': '2'}, {'role': 'user', 'text': 'Explain how the growth of the fitness market from 2015 to 2016 could have affected puregym'}, {'role': 'assistant', 'text': '5'}, {'role': 'user', 'text': 'Predict the topic number based on the provided question. The topics: 1) entreprenuers and leaders, 2) managing people, 3) market, 4) marketing mix and strategy, 5) meeting customer needs. Please respond with the relevant topic NUMBER.\\nAssess two ways david’s salon might achieve competitive advantage.\"'}]}\n"
     ]
    },
    {
     "name": "stderr",
     "output_type": "stream",
     "text": [
      "Processing chunk 1/2:  69%|██████████████▍      | 55/80 [02:26<00:53,  2.16s/it]"
     ]
    },
    {
     "name": "stdout",
     "output_type": "stream",
     "text": [
      "{'result': {'alternatives': [{'message': {'role': 'assistant', 'text': '2'}, 'status': 'ALTERNATIVE_STATUS_TRUNCATED_FINAL'}], 'usage': {'inputTextTokens': '429', 'completionTokens': '2', 'totalTokens': '431'}, 'modelVersion': '07.03.2024'}}\n",
      "{'modelUri': 'gpt://b1g6odsice70le7mmg6d/yandexgpt-pro', 'completionOptions': {'stream': False, 'temperature': 0.1, 'maxTokens': '2'}, 'messages': [{'role': 'system', 'text': \"Your role is to classify British A-level exam questions into five topics: 1) entreprenuers and leaders, 2) managing people, 3) market, 4) marketing mix and strategy, 5) meeting customer needs. Assign the appropriate topic number based on the question's theme and keywords.\"}, {'role': 'user', 'text': 'define the term brand'}, {'role': 'assistant', 'text': '4'}, {'role': 'user', 'text': 'explain one risk jack ma may have taken when setting up the alibaba group'}, {'role': 'assistant', 'text': '1'}, {'role': 'user', 'text': 'analyse two factors that may have increased demand for the alibaba group'}, {'role': 'assistant', 'text': '3'}, {'role': 'user', 'text': 'discuss if profit maximisation is the main business objective of the alibaba group'}, {'role': 'assistant', 'text': '1'}, {'role': 'user', 'text': 'assess the advantages of a paternalistic style of leadership for a business such as the alibaba group'}, {'role': 'assistant', 'text': '2'}, {'role': 'user', 'text': 'define the term product innovation '}, {'role': 'assistant', 'text': '5'}, {'role': 'user', 'text': 'if nintendo reduces its console prices by 8% calculate the estimated percentage change in demand. you are advised to show your working'}, {'role': 'assistant', 'text': '3'}, {'role': 'user', 'text': 'analyse two different pricing strategies that nintendo might use to compete in the games console industry'}, {'role': 'assistant', 'text': '4'}, {'role': 'user', 'text': 'assess the benefits of a matrix organisational structure for a business such as nintendo'}, {'role': 'assistant', 'text': '2'}, {'role': 'user', 'text': 'Explain how the growth of the fitness market from 2015 to 2016 could have affected puregym'}, {'role': 'assistant', 'text': '5'}, {'role': 'user', 'text': 'Predict the topic number based on the provided question. The topics: 1) entreprenuers and leaders, 2) managing people, 3) market, 4) marketing mix and strategy, 5) meeting customer needs. Please respond with the relevant topic NUMBER.\\nEvaluate whether the change in the organisational structure at tata motors is likely to lead to an increase in its efficiency.\"'}]}\n"
     ]
    },
    {
     "name": "stderr",
     "output_type": "stream",
     "text": [
      "Processing chunk 1/2:  70%|██████████████▋      | 56/80 [02:28<00:48,  2.00s/it]"
     ]
    },
    {
     "name": "stdout",
     "output_type": "stream",
     "text": [
      "{'result': {'alternatives': [{'message': {'role': 'assistant', 'text': '2'}, 'status': 'ALTERNATIVE_STATUS_TRUNCATED_FINAL'}], 'usage': {'inputTextTokens': '441', 'completionTokens': '2', 'totalTokens': '443'}, 'modelVersion': '07.03.2024'}}\n",
      "{'modelUri': 'gpt://b1g6odsice70le7mmg6d/yandexgpt-pro', 'completionOptions': {'stream': False, 'temperature': 0.1, 'maxTokens': '2'}, 'messages': [{'role': 'system', 'text': \"Your role is to classify British A-level exam questions into five topics: 1) entreprenuers and leaders, 2) managing people, 3) market, 4) marketing mix and strategy, 5) meeting customer needs. Assign the appropriate topic number based on the question's theme and keywords.\"}, {'role': 'user', 'text': 'define the term brand'}, {'role': 'assistant', 'text': '4'}, {'role': 'user', 'text': 'explain one risk jack ma may have taken when setting up the alibaba group'}, {'role': 'assistant', 'text': '1'}, {'role': 'user', 'text': 'analyse two factors that may have increased demand for the alibaba group'}, {'role': 'assistant', 'text': '3'}, {'role': 'user', 'text': 'discuss if profit maximisation is the main business objective of the alibaba group'}, {'role': 'assistant', 'text': '1'}, {'role': 'user', 'text': 'assess the advantages of a paternalistic style of leadership for a business such as the alibaba group'}, {'role': 'assistant', 'text': '2'}, {'role': 'user', 'text': 'define the term product innovation '}, {'role': 'assistant', 'text': '5'}, {'role': 'user', 'text': 'if nintendo reduces its console prices by 8% calculate the estimated percentage change in demand. you are advised to show your working'}, {'role': 'assistant', 'text': '3'}, {'role': 'user', 'text': 'analyse two different pricing strategies that nintendo might use to compete in the games console industry'}, {'role': 'assistant', 'text': '4'}, {'role': 'user', 'text': 'assess the benefits of a matrix organisational structure for a business such as nintendo'}, {'role': 'assistant', 'text': '2'}, {'role': 'user', 'text': 'Explain how the growth of the fitness market from 2015 to 2016 could have affected puregym'}, {'role': 'assistant', 'text': '5'}, {'role': 'user', 'text': 'Predict the topic number based on the provided question. The topics: 1) entreprenuers and leaders, 2) managing people, 3) market, 4) marketing mix and strategy, 5) meeting customer needs. Please respond with the relevant topic NUMBER.\\nEvaluate why product trials might be useful to arrive ‘n’ shine.\"'}]}\n"
     ]
    },
    {
     "name": "stderr",
     "output_type": "stream",
     "text": [
      "Processing chunk 1/2:  71%|██████████████▉      | 57/80 [02:30<00:44,  1.95s/it]"
     ]
    },
    {
     "name": "stdout",
     "output_type": "stream",
     "text": [
      "{'result': {'alternatives': [{'message': {'role': 'assistant', 'text': '4'}, 'status': 'ALTERNATIVE_STATUS_TRUNCATED_FINAL'}], 'usage': {'inputTextTokens': '431', 'completionTokens': '2', 'totalTokens': '433'}, 'modelVersion': '07.03.2024'}}\n",
      "{'modelUri': 'gpt://b1g6odsice70le7mmg6d/yandexgpt-pro', 'completionOptions': {'stream': False, 'temperature': 0.1, 'maxTokens': '2'}, 'messages': [{'role': 'system', 'text': \"Your role is to classify British A-level exam questions into five topics: 1) entreprenuers and leaders, 2) managing people, 3) market, 4) marketing mix and strategy, 5) meeting customer needs. Assign the appropriate topic number based on the question's theme and keywords.\"}, {'role': 'user', 'text': 'define the term brand'}, {'role': 'assistant', 'text': '4'}, {'role': 'user', 'text': 'explain one risk jack ma may have taken when setting up the alibaba group'}, {'role': 'assistant', 'text': '1'}, {'role': 'user', 'text': 'analyse two factors that may have increased demand for the alibaba group'}, {'role': 'assistant', 'text': '3'}, {'role': 'user', 'text': 'discuss if profit maximisation is the main business objective of the alibaba group'}, {'role': 'assistant', 'text': '1'}, {'role': 'user', 'text': 'assess the advantages of a paternalistic style of leadership for a business such as the alibaba group'}, {'role': 'assistant', 'text': '2'}, {'role': 'user', 'text': 'define the term product innovation '}, {'role': 'assistant', 'text': '5'}, {'role': 'user', 'text': 'if nintendo reduces its console prices by 8% calculate the estimated percentage change in demand. you are advised to show your working'}, {'role': 'assistant', 'text': '3'}, {'role': 'user', 'text': 'analyse two different pricing strategies that nintendo might use to compete in the games console industry'}, {'role': 'assistant', 'text': '4'}, {'role': 'user', 'text': 'assess the benefits of a matrix organisational structure for a business such as nintendo'}, {'role': 'assistant', 'text': '2'}, {'role': 'user', 'text': 'Explain how the growth of the fitness market from 2015 to 2016 could have affected puregym'}, {'role': 'assistant', 'text': '5'}, {'role': 'user', 'text': 'Predict the topic number based on the provided question. The topics: 1) entreprenuers and leaders, 2) managing people, 3) market, 4) marketing mix and strategy, 5) meeting customer needs. Please respond with the relevant topic NUMBER.\\nCalculate the price elasticity of demand ped for the television you are advised to show your working\"'}]}\n"
     ]
    },
    {
     "name": "stderr",
     "output_type": "stream",
     "text": [
      "Processing chunk 1/2:  72%|███████████████▏     | 58/80 [02:32<00:42,  1.92s/it]"
     ]
    },
    {
     "name": "stdout",
     "output_type": "stream",
     "text": [
      "{'result': {'alternatives': [{'message': {'role': 'assistant', 'text': '4'}, 'status': 'ALTERNATIVE_STATUS_TRUNCATED_FINAL'}], 'usage': {'inputTextTokens': '434', 'completionTokens': '2', 'totalTokens': '436'}, 'modelVersion': '07.03.2024'}}\n",
      "{'modelUri': 'gpt://b1g6odsice70le7mmg6d/yandexgpt-pro', 'completionOptions': {'stream': False, 'temperature': 0.1, 'maxTokens': '2'}, 'messages': [{'role': 'system', 'text': \"Your role is to classify British A-level exam questions into five topics: 1) entreprenuers and leaders, 2) managing people, 3) market, 4) marketing mix and strategy, 5) meeting customer needs. Assign the appropriate topic number based on the question's theme and keywords.\"}, {'role': 'user', 'text': 'define the term brand'}, {'role': 'assistant', 'text': '4'}, {'role': 'user', 'text': 'explain one risk jack ma may have taken when setting up the alibaba group'}, {'role': 'assistant', 'text': '1'}, {'role': 'user', 'text': 'analyse two factors that may have increased demand for the alibaba group'}, {'role': 'assistant', 'text': '3'}, {'role': 'user', 'text': 'discuss if profit maximisation is the main business objective of the alibaba group'}, {'role': 'assistant', 'text': '1'}, {'role': 'user', 'text': 'assess the advantages of a paternalistic style of leadership for a business such as the alibaba group'}, {'role': 'assistant', 'text': '2'}, {'role': 'user', 'text': 'define the term product innovation '}, {'role': 'assistant', 'text': '5'}, {'role': 'user', 'text': 'if nintendo reduces its console prices by 8% calculate the estimated percentage change in demand. you are advised to show your working'}, {'role': 'assistant', 'text': '3'}, {'role': 'user', 'text': 'analyse two different pricing strategies that nintendo might use to compete in the games console industry'}, {'role': 'assistant', 'text': '4'}, {'role': 'user', 'text': 'assess the benefits of a matrix organisational structure for a business such as nintendo'}, {'role': 'assistant', 'text': '2'}, {'role': 'user', 'text': 'Explain how the growth of the fitness market from 2015 to 2016 could have affected puregym'}, {'role': 'assistant', 'text': '5'}, {'role': 'user', 'text': 'Predict the topic number based on the provided question. The topics: 1) entreprenuers and leaders, 2) managing people, 3) market, 4) marketing mix and strategy, 5) meeting customer needs. Please respond with the relevant topic NUMBER.\\nExplain how market orientation could benefit hydra creative.\"'}]}\n"
     ]
    },
    {
     "name": "stderr",
     "output_type": "stream",
     "text": [
      "Processing chunk 1/2:  74%|███████████████▍     | 59/80 [02:33<00:39,  1.90s/it]"
     ]
    },
    {
     "name": "stdout",
     "output_type": "stream",
     "text": [
      "{'result': {'alternatives': [{'message': {'role': 'assistant', 'text': '4'}, 'status': 'ALTERNATIVE_STATUS_TRUNCATED_FINAL'}], 'usage': {'inputTextTokens': '426', 'completionTokens': '2', 'totalTokens': '428'}, 'modelVersion': '07.03.2024'}}\n",
      "{'modelUri': 'gpt://b1g6odsice70le7mmg6d/yandexgpt-pro', 'completionOptions': {'stream': False, 'temperature': 0.1, 'maxTokens': '2'}, 'messages': [{'role': 'system', 'text': \"Your role is to classify British A-level exam questions into five topics: 1) entreprenuers and leaders, 2) managing people, 3) market, 4) marketing mix and strategy, 5) meeting customer needs. Assign the appropriate topic number based on the question's theme and keywords.\"}, {'role': 'user', 'text': 'define the term brand'}, {'role': 'assistant', 'text': '4'}, {'role': 'user', 'text': 'explain one risk jack ma may have taken when setting up the alibaba group'}, {'role': 'assistant', 'text': '1'}, {'role': 'user', 'text': 'analyse two factors that may have increased demand for the alibaba group'}, {'role': 'assistant', 'text': '3'}, {'role': 'user', 'text': 'discuss if profit maximisation is the main business objective of the alibaba group'}, {'role': 'assistant', 'text': '1'}, {'role': 'user', 'text': 'assess the advantages of a paternalistic style of leadership for a business such as the alibaba group'}, {'role': 'assistant', 'text': '2'}, {'role': 'user', 'text': 'define the term product innovation '}, {'role': 'assistant', 'text': '5'}, {'role': 'user', 'text': 'if nintendo reduces its console prices by 8% calculate the estimated percentage change in demand. you are advised to show your working'}, {'role': 'assistant', 'text': '3'}, {'role': 'user', 'text': 'analyse two different pricing strategies that nintendo might use to compete in the games console industry'}, {'role': 'assistant', 'text': '4'}, {'role': 'user', 'text': 'assess the benefits of a matrix organisational structure for a business such as nintendo'}, {'role': 'assistant', 'text': '2'}, {'role': 'user', 'text': 'Explain how the growth of the fitness market from 2015 to 2016 could have affected puregym'}, {'role': 'assistant', 'text': '5'}, {'role': 'user', 'text': 'Predict the topic number based on the provided question. The topics: 1) entreprenuers and leaders, 2) managing people, 3) market, 4) marketing mix and strategy, 5) meeting customer needs. Please respond with the relevant topic NUMBER.\\nEvaluate whether toms should focus on cost efficiency or social objectives to survive in the markets in which it operates\"'}]}\n"
     ]
    },
    {
     "name": "stderr",
     "output_type": "stream",
     "text": [
      "Processing chunk 1/2:  75%|███████████████▊     | 60/80 [02:35<00:36,  1.82s/it]"
     ]
    },
    {
     "name": "stdout",
     "output_type": "stream",
     "text": [
      "{'result': {'alternatives': [{'message': {'role': 'assistant', 'text': '2'}, 'status': 'ALTERNATIVE_STATUS_TRUNCATED_FINAL'}], 'usage': {'inputTextTokens': '439', 'completionTokens': '2', 'totalTokens': '441'}, 'modelVersion': '07.03.2024'}}\n",
      "{'modelUri': 'gpt://b1g6odsice70le7mmg6d/yandexgpt-pro', 'completionOptions': {'stream': False, 'temperature': 0.1, 'maxTokens': '2'}, 'messages': [{'role': 'system', 'text': \"Your role is to classify British A-level exam questions into five topics: 1) entreprenuers and leaders, 2) managing people, 3) market, 4) marketing mix and strategy, 5) meeting customer needs. Assign the appropriate topic number based on the question's theme and keywords.\"}, {'role': 'user', 'text': 'define the term brand'}, {'role': 'assistant', 'text': '4'}, {'role': 'user', 'text': 'explain one risk jack ma may have taken when setting up the alibaba group'}, {'role': 'assistant', 'text': '1'}, {'role': 'user', 'text': 'analyse two factors that may have increased demand for the alibaba group'}, {'role': 'assistant', 'text': '3'}, {'role': 'user', 'text': 'discuss if profit maximisation is the main business objective of the alibaba group'}, {'role': 'assistant', 'text': '1'}, {'role': 'user', 'text': 'assess the advantages of a paternalistic style of leadership for a business such as the alibaba group'}, {'role': 'assistant', 'text': '2'}, {'role': 'user', 'text': 'define the term product innovation '}, {'role': 'assistant', 'text': '5'}, {'role': 'user', 'text': 'if nintendo reduces its console prices by 8% calculate the estimated percentage change in demand. you are advised to show your working'}, {'role': 'assistant', 'text': '3'}, {'role': 'user', 'text': 'analyse two different pricing strategies that nintendo might use to compete in the games console industry'}, {'role': 'assistant', 'text': '4'}, {'role': 'user', 'text': 'assess the benefits of a matrix organisational structure for a business such as nintendo'}, {'role': 'assistant', 'text': '2'}, {'role': 'user', 'text': 'Explain how the growth of the fitness market from 2015 to 2016 could have affected puregym'}, {'role': 'assistant', 'text': '5'}, {'role': 'user', 'text': 'Predict the topic number based on the provided question. The topics: 1) entreprenuers and leaders, 2) managing people, 3) market, 4) marketing mix and strategy, 5) meeting customer needs. Please respond with the relevant topic NUMBER.\\nAssess the impact on deutsche bank of the changes made to its organisational structure.\"'}]}\n"
     ]
    },
    {
     "name": "stderr",
     "output_type": "stream",
     "text": [
      "Processing chunk 1/2:  76%|████████████████     | 61/80 [02:37<00:34,  1.83s/it]"
     ]
    },
    {
     "name": "stdout",
     "output_type": "stream",
     "text": [
      "{'result': {'alternatives': [{'message': {'role': 'assistant', 'text': '2'}, 'status': 'ALTERNATIVE_STATUS_TRUNCATED_FINAL'}], 'usage': {'inputTextTokens': '434', 'completionTokens': '2', 'totalTokens': '436'}, 'modelVersion': '07.03.2024'}}\n",
      "{'modelUri': 'gpt://b1g6odsice70le7mmg6d/yandexgpt-pro', 'completionOptions': {'stream': False, 'temperature': 0.1, 'maxTokens': '2'}, 'messages': [{'role': 'system', 'text': \"Your role is to classify British A-level exam questions into five topics: 1) entreprenuers and leaders, 2) managing people, 3) market, 4) marketing mix and strategy, 5) meeting customer needs. Assign the appropriate topic number based on the question's theme and keywords.\"}, {'role': 'user', 'text': 'define the term brand'}, {'role': 'assistant', 'text': '4'}, {'role': 'user', 'text': 'explain one risk jack ma may have taken when setting up the alibaba group'}, {'role': 'assistant', 'text': '1'}, {'role': 'user', 'text': 'analyse two factors that may have increased demand for the alibaba group'}, {'role': 'assistant', 'text': '3'}, {'role': 'user', 'text': 'discuss if profit maximisation is the main business objective of the alibaba group'}, {'role': 'assistant', 'text': '1'}, {'role': 'user', 'text': 'assess the advantages of a paternalistic style of leadership for a business such as the alibaba group'}, {'role': 'assistant', 'text': '2'}, {'role': 'user', 'text': 'define the term product innovation '}, {'role': 'assistant', 'text': '5'}, {'role': 'user', 'text': 'if nintendo reduces its console prices by 8% calculate the estimated percentage change in demand. you are advised to show your working'}, {'role': 'assistant', 'text': '3'}, {'role': 'user', 'text': 'analyse two different pricing strategies that nintendo might use to compete in the games console industry'}, {'role': 'assistant', 'text': '4'}, {'role': 'user', 'text': 'assess the benefits of a matrix organisational structure for a business such as nintendo'}, {'role': 'assistant', 'text': '2'}, {'role': 'user', 'text': 'Explain how the growth of the fitness market from 2015 to 2016 could have affected puregym'}, {'role': 'assistant', 'text': '5'}, {'role': 'user', 'text': 'Predict the topic number based on the provided question. The topics: 1) entreprenuers and leaders, 2) managing people, 3) market, 4) marketing mix and strategy, 5) meeting customer needs. Please respond with the relevant topic NUMBER.\\nExplain two likely reasons why shivani’s jewellery business’s turnover has increased.\"'}]}\n"
     ]
    },
    {
     "name": "stderr",
     "output_type": "stream",
     "text": [
      "Processing chunk 1/2:  78%|████████████████▎    | 62/80 [02:40<00:39,  2.17s/it]"
     ]
    },
    {
     "name": "stdout",
     "output_type": "stream",
     "text": [
      "{'result': {'alternatives': [{'message': {'role': 'assistant', 'text': '3'}, 'status': 'ALTERNATIVE_STATUS_TRUNCATED_FINAL'}], 'usage': {'inputTextTokens': '434', 'completionTokens': '2', 'totalTokens': '436'}, 'modelVersion': '07.03.2024'}}\n",
      "{'modelUri': 'gpt://b1g6odsice70le7mmg6d/yandexgpt-pro', 'completionOptions': {'stream': False, 'temperature': 0.1, 'maxTokens': '2'}, 'messages': [{'role': 'system', 'text': \"Your role is to classify British A-level exam questions into five topics: 1) entreprenuers and leaders, 2) managing people, 3) market, 4) marketing mix and strategy, 5) meeting customer needs. Assign the appropriate topic number based on the question's theme and keywords.\"}, {'role': 'user', 'text': 'define the term brand'}, {'role': 'assistant', 'text': '4'}, {'role': 'user', 'text': 'explain one risk jack ma may have taken when setting up the alibaba group'}, {'role': 'assistant', 'text': '1'}, {'role': 'user', 'text': 'analyse two factors that may have increased demand for the alibaba group'}, {'role': 'assistant', 'text': '3'}, {'role': 'user', 'text': 'discuss if profit maximisation is the main business objective of the alibaba group'}, {'role': 'assistant', 'text': '1'}, {'role': 'user', 'text': 'assess the advantages of a paternalistic style of leadership for a business such as the alibaba group'}, {'role': 'assistant', 'text': '2'}, {'role': 'user', 'text': 'define the term product innovation '}, {'role': 'assistant', 'text': '5'}, {'role': 'user', 'text': 'if nintendo reduces its console prices by 8% calculate the estimated percentage change in demand. you are advised to show your working'}, {'role': 'assistant', 'text': '3'}, {'role': 'user', 'text': 'analyse two different pricing strategies that nintendo might use to compete in the games console industry'}, {'role': 'assistant', 'text': '4'}, {'role': 'user', 'text': 'assess the benefits of a matrix organisational structure for a business such as nintendo'}, {'role': 'assistant', 'text': '2'}, {'role': 'user', 'text': 'Explain how the growth of the fitness market from 2015 to 2016 could have affected puregym'}, {'role': 'assistant', 'text': '5'}, {'role': 'user', 'text': 'Predict the topic number based on the provided question. The topics: 1) entreprenuers and leaders, 2) managing people, 3) market, 4) marketing mix and strategy, 5) meeting customer needs. Please respond with the relevant topic NUMBER.\\nEvaluate the possible consequences to cebu home of maria using this approach to pricing her products.\"'}]}\n"
     ]
    },
    {
     "name": "stderr",
     "output_type": "stream",
     "text": [
      "Processing chunk 1/2:  79%|████████████████▌    | 63/80 [02:41<00:34,  2.01s/it]"
     ]
    },
    {
     "name": "stdout",
     "output_type": "stream",
     "text": [
      "{'result': {'alternatives': [{'message': {'role': 'assistant', 'text': '2'}, 'status': 'ALTERNATIVE_STATUS_TRUNCATED_FINAL'}], 'usage': {'inputTextTokens': '436', 'completionTokens': '2', 'totalTokens': '438'}, 'modelVersion': '07.03.2024'}}\n",
      "{'modelUri': 'gpt://b1g6odsice70le7mmg6d/yandexgpt-pro', 'completionOptions': {'stream': False, 'temperature': 0.1, 'maxTokens': '2'}, 'messages': [{'role': 'system', 'text': \"Your role is to classify British A-level exam questions into five topics: 1) entreprenuers and leaders, 2) managing people, 3) market, 4) marketing mix and strategy, 5) meeting customer needs. Assign the appropriate topic number based on the question's theme and keywords.\"}, {'role': 'user', 'text': 'define the term brand'}, {'role': 'assistant', 'text': '4'}, {'role': 'user', 'text': 'explain one risk jack ma may have taken when setting up the alibaba group'}, {'role': 'assistant', 'text': '1'}, {'role': 'user', 'text': 'analyse two factors that may have increased demand for the alibaba group'}, {'role': 'assistant', 'text': '3'}, {'role': 'user', 'text': 'discuss if profit maximisation is the main business objective of the alibaba group'}, {'role': 'assistant', 'text': '1'}, {'role': 'user', 'text': 'assess the advantages of a paternalistic style of leadership for a business such as the alibaba group'}, {'role': 'assistant', 'text': '2'}, {'role': 'user', 'text': 'define the term product innovation '}, {'role': 'assistant', 'text': '5'}, {'role': 'user', 'text': 'if nintendo reduces its console prices by 8% calculate the estimated percentage change in demand. you are advised to show your working'}, {'role': 'assistant', 'text': '3'}, {'role': 'user', 'text': 'analyse two different pricing strategies that nintendo might use to compete in the games console industry'}, {'role': 'assistant', 'text': '4'}, {'role': 'user', 'text': 'assess the benefits of a matrix organisational structure for a business such as nintendo'}, {'role': 'assistant', 'text': '2'}, {'role': 'user', 'text': 'Explain how the growth of the fitness market from 2015 to 2016 could have affected puregym'}, {'role': 'assistant', 'text': '5'}, {'role': 'user', 'text': 'Predict the topic number based on the provided question. The topics: 1) entreprenuers and leaders, 2) managing people, 3) market, 4) marketing mix and strategy, 5) meeting customer needs. Please respond with the relevant topic NUMBER.\\nDefine the term ‚secondary market researcha\"'}]}\n"
     ]
    },
    {
     "name": "stderr",
     "output_type": "stream",
     "text": [
      "Processing chunk 1/2:  80%|████████████████▊    | 64/80 [02:43<00:30,  1.90s/it]"
     ]
    },
    {
     "name": "stdout",
     "output_type": "stream",
     "text": [
      "{'result': {'alternatives': [{'message': {'role': 'assistant', 'text': '3'}, 'status': 'ALTERNATIVE_STATUS_TRUNCATED_FINAL'}], 'usage': {'inputTextTokens': '426', 'completionTokens': '2', 'totalTokens': '428'}, 'modelVersion': '07.03.2024'}}\n",
      "{'modelUri': 'gpt://b1g6odsice70le7mmg6d/yandexgpt-pro', 'completionOptions': {'stream': False, 'temperature': 0.1, 'maxTokens': '2'}, 'messages': [{'role': 'system', 'text': \"Your role is to classify British A-level exam questions into five topics: 1) entreprenuers and leaders, 2) managing people, 3) market, 4) marketing mix and strategy, 5) meeting customer needs. Assign the appropriate topic number based on the question's theme and keywords.\"}, {'role': 'user', 'text': 'define the term brand'}, {'role': 'assistant', 'text': '4'}, {'role': 'user', 'text': 'explain one risk jack ma may have taken when setting up the alibaba group'}, {'role': 'assistant', 'text': '1'}, {'role': 'user', 'text': 'analyse two factors that may have increased demand for the alibaba group'}, {'role': 'assistant', 'text': '3'}, {'role': 'user', 'text': 'discuss if profit maximisation is the main business objective of the alibaba group'}, {'role': 'assistant', 'text': '1'}, {'role': 'user', 'text': 'assess the advantages of a paternalistic style of leadership for a business such as the alibaba group'}, {'role': 'assistant', 'text': '2'}, {'role': 'user', 'text': 'define the term product innovation '}, {'role': 'assistant', 'text': '5'}, {'role': 'user', 'text': 'if nintendo reduces its console prices by 8% calculate the estimated percentage change in demand. you are advised to show your working'}, {'role': 'assistant', 'text': '3'}, {'role': 'user', 'text': 'analyse two different pricing strategies that nintendo might use to compete in the games console industry'}, {'role': 'assistant', 'text': '4'}, {'role': 'user', 'text': 'assess the benefits of a matrix organisational structure for a business such as nintendo'}, {'role': 'assistant', 'text': '2'}, {'role': 'user', 'text': 'Explain how the growth of the fitness market from 2015 to 2016 could have affected puregym'}, {'role': 'assistant', 'text': '5'}, {'role': 'user', 'text': 'Predict the topic number based on the provided question. The topics: 1) entreprenuers and leaders, 2) managing people, 3) market, 4) marketing mix and strategy, 5) meeting customer needs. Please respond with the relevant topic NUMBER.\\nWhat is meant by sponsorship?\"'}]}\n"
     ]
    },
    {
     "name": "stderr",
     "output_type": "stream",
     "text": [
      "Processing chunk 1/2:  81%|█████████████████    | 65/80 [02:48<00:43,  2.90s/it]"
     ]
    },
    {
     "name": "stdout",
     "output_type": "stream",
     "text": [
      "{'result': {'alternatives': [{'message': {'role': 'assistant', 'text': '4'}, 'status': 'ALTERNATIVE_STATUS_TRUNCATED_FINAL'}], 'usage': {'inputTextTokens': '422', 'completionTokens': '2', 'totalTokens': '424'}, 'modelVersion': '07.03.2024'}}\n",
      "{'modelUri': 'gpt://b1g6odsice70le7mmg6d/yandexgpt-pro', 'completionOptions': {'stream': False, 'temperature': 0.1, 'maxTokens': '2'}, 'messages': [{'role': 'system', 'text': \"Your role is to classify British A-level exam questions into five topics: 1) entreprenuers and leaders, 2) managing people, 3) market, 4) marketing mix and strategy, 5) meeting customer needs. Assign the appropriate topic number based on the question's theme and keywords.\"}, {'role': 'user', 'text': 'define the term brand'}, {'role': 'assistant', 'text': '4'}, {'role': 'user', 'text': 'explain one risk jack ma may have taken when setting up the alibaba group'}, {'role': 'assistant', 'text': '1'}, {'role': 'user', 'text': 'analyse two factors that may have increased demand for the alibaba group'}, {'role': 'assistant', 'text': '3'}, {'role': 'user', 'text': 'discuss if profit maximisation is the main business objective of the alibaba group'}, {'role': 'assistant', 'text': '1'}, {'role': 'user', 'text': 'assess the advantages of a paternalistic style of leadership for a business such as the alibaba group'}, {'role': 'assistant', 'text': '2'}, {'role': 'user', 'text': 'define the term product innovation '}, {'role': 'assistant', 'text': '5'}, {'role': 'user', 'text': 'if nintendo reduces its console prices by 8% calculate the estimated percentage change in demand. you are advised to show your working'}, {'role': 'assistant', 'text': '3'}, {'role': 'user', 'text': 'analyse two different pricing strategies that nintendo might use to compete in the games console industry'}, {'role': 'assistant', 'text': '4'}, {'role': 'user', 'text': 'assess the benefits of a matrix organisational structure for a business such as nintendo'}, {'role': 'assistant', 'text': '2'}, {'role': 'user', 'text': 'Explain how the growth of the fitness market from 2015 to 2016 could have affected puregym'}, {'role': 'assistant', 'text': '5'}, {'role': 'user', 'text': 'Predict the topic number based on the provided question. The topics: 1) entreprenuers and leaders, 2) managing people, 3) market, 4) marketing mix and strategy, 5) meeting customer needs. Please respond with the relevant topic NUMBER.\\nEvaluate these two options and recommend which option would be most suitable for a company that operates in a dynamic market such as mt\"'}]}\n"
     ]
    },
    {
     "name": "stderr",
     "output_type": "stream",
     "text": [
      "Processing chunk 1/2:  82%|█████████████████▎   | 66/80 [02:50<00:35,  2.55s/it]"
     ]
    },
    {
     "name": "stdout",
     "output_type": "stream",
     "text": [
      "{'result': {'alternatives': [{'message': {'role': 'assistant', 'text': '4'}, 'status': 'ALTERNATIVE_STATUS_TRUNCATED_FINAL'}], 'usage': {'inputTextTokens': '442', 'completionTokens': '2', 'totalTokens': '444'}, 'modelVersion': '07.03.2024'}}\n",
      "{'modelUri': 'gpt://b1g6odsice70le7mmg6d/yandexgpt-pro', 'completionOptions': {'stream': False, 'temperature': 0.1, 'maxTokens': '2'}, 'messages': [{'role': 'system', 'text': \"Your role is to classify British A-level exam questions into five topics: 1) entreprenuers and leaders, 2) managing people, 3) market, 4) marketing mix and strategy, 5) meeting customer needs. Assign the appropriate topic number based on the question's theme and keywords.\"}, {'role': 'user', 'text': 'define the term brand'}, {'role': 'assistant', 'text': '4'}, {'role': 'user', 'text': 'explain one risk jack ma may have taken when setting up the alibaba group'}, {'role': 'assistant', 'text': '1'}, {'role': 'user', 'text': 'analyse two factors that may have increased demand for the alibaba group'}, {'role': 'assistant', 'text': '3'}, {'role': 'user', 'text': 'discuss if profit maximisation is the main business objective of the alibaba group'}, {'role': 'assistant', 'text': '1'}, {'role': 'user', 'text': 'assess the advantages of a paternalistic style of leadership for a business such as the alibaba group'}, {'role': 'assistant', 'text': '2'}, {'role': 'user', 'text': 'define the term product innovation '}, {'role': 'assistant', 'text': '5'}, {'role': 'user', 'text': 'if nintendo reduces its console prices by 8% calculate the estimated percentage change in demand. you are advised to show your working'}, {'role': 'assistant', 'text': '3'}, {'role': 'user', 'text': 'analyse two different pricing strategies that nintendo might use to compete in the games console industry'}, {'role': 'assistant', 'text': '4'}, {'role': 'user', 'text': 'assess the benefits of a matrix organisational structure for a business such as nintendo'}, {'role': 'assistant', 'text': '2'}, {'role': 'user', 'text': 'Explain how the growth of the fitness market from 2015 to 2016 could have affected puregym'}, {'role': 'assistant', 'text': '5'}, {'role': 'user', 'text': 'Predict the topic number based on the provided question. The topics: 1) entreprenuers and leaders, 2) managing people, 3) market, 4) marketing mix and strategy, 5) meeting customer needs. Please respond with the relevant topic NUMBER.\\nAssess the extent to which market mapping may have been useful to emirates in growing its business.\"'}]}\n"
     ]
    },
    {
     "name": "stderr",
     "output_type": "stream",
     "text": [
      "Processing chunk 1/2:  84%|█████████████████▌   | 67/80 [02:53<00:33,  2.55s/it]"
     ]
    },
    {
     "name": "stdout",
     "output_type": "stream",
     "text": [
      "{'result': {'alternatives': [{'message': {'role': 'assistant', 'text': '3'}, 'status': 'ALTERNATIVE_STATUS_TRUNCATED_FINAL'}], 'usage': {'inputTextTokens': '436', 'completionTokens': '2', 'totalTokens': '438'}, 'modelVersion': '07.03.2024'}}\n",
      "{'modelUri': 'gpt://b1g6odsice70le7mmg6d/yandexgpt-pro', 'completionOptions': {'stream': False, 'temperature': 0.1, 'maxTokens': '2'}, 'messages': [{'role': 'system', 'text': \"Your role is to classify British A-level exam questions into five topics: 1) entreprenuers and leaders, 2) managing people, 3) market, 4) marketing mix and strategy, 5) meeting customer needs. Assign the appropriate topic number based on the question's theme and keywords.\"}, {'role': 'user', 'text': 'define the term brand'}, {'role': 'assistant', 'text': '4'}, {'role': 'user', 'text': 'explain one risk jack ma may have taken when setting up the alibaba group'}, {'role': 'assistant', 'text': '1'}, {'role': 'user', 'text': 'analyse two factors that may have increased demand for the alibaba group'}, {'role': 'assistant', 'text': '3'}, {'role': 'user', 'text': 'discuss if profit maximisation is the main business objective of the alibaba group'}, {'role': 'assistant', 'text': '1'}, {'role': 'user', 'text': 'assess the advantages of a paternalistic style of leadership for a business such as the alibaba group'}, {'role': 'assistant', 'text': '2'}, {'role': 'user', 'text': 'define the term product innovation '}, {'role': 'assistant', 'text': '5'}, {'role': 'user', 'text': 'if nintendo reduces its console prices by 8% calculate the estimated percentage change in demand. you are advised to show your working'}, {'role': 'assistant', 'text': '3'}, {'role': 'user', 'text': 'analyse two different pricing strategies that nintendo might use to compete in the games console industry'}, {'role': 'assistant', 'text': '4'}, {'role': 'user', 'text': 'assess the benefits of a matrix organisational structure for a business such as nintendo'}, {'role': 'assistant', 'text': '2'}, {'role': 'user', 'text': 'Explain how the growth of the fitness market from 2015 to 2016 could have affected puregym'}, {'role': 'assistant', 'text': '5'}, {'role': 'user', 'text': 'Predict the topic number based on the provided question. The topics: 1) entreprenuers and leaders, 2) managing people, 3) market, 4) marketing mix and strategy, 5) meeting customer needs. Please respond with the relevant topic NUMBER.\\nAssess the extent to which the boston matrix may help superdry compete in the clothing market\"'}]}\n"
     ]
    },
    {
     "name": "stderr",
     "output_type": "stream",
     "text": [
      "Processing chunk 1/2:  85%|█████████████████▊   | 68/80 [02:55<00:31,  2.62s/it]"
     ]
    },
    {
     "name": "stdout",
     "output_type": "stream",
     "text": [
      "{'result': {'alternatives': [{'message': {'role': 'assistant', 'text': '4'}, 'status': 'ALTERNATIVE_STATUS_TRUNCATED_FINAL'}], 'usage': {'inputTextTokens': '436', 'completionTokens': '2', 'totalTokens': '438'}, 'modelVersion': '07.03.2024'}}\n",
      "{'modelUri': 'gpt://b1g6odsice70le7mmg6d/yandexgpt-pro', 'completionOptions': {'stream': False, 'temperature': 0.1, 'maxTokens': '2'}, 'messages': [{'role': 'system', 'text': \"Your role is to classify British A-level exam questions into five topics: 1) entreprenuers and leaders, 2) managing people, 3) market, 4) marketing mix and strategy, 5) meeting customer needs. Assign the appropriate topic number based on the question's theme and keywords.\"}, {'role': 'user', 'text': 'define the term brand'}, {'role': 'assistant', 'text': '4'}, {'role': 'user', 'text': 'explain one risk jack ma may have taken when setting up the alibaba group'}, {'role': 'assistant', 'text': '1'}, {'role': 'user', 'text': 'analyse two factors that may have increased demand for the alibaba group'}, {'role': 'assistant', 'text': '3'}, {'role': 'user', 'text': 'discuss if profit maximisation is the main business objective of the alibaba group'}, {'role': 'assistant', 'text': '1'}, {'role': 'user', 'text': 'assess the advantages of a paternalistic style of leadership for a business such as the alibaba group'}, {'role': 'assistant', 'text': '2'}, {'role': 'user', 'text': 'define the term product innovation '}, {'role': 'assistant', 'text': '5'}, {'role': 'user', 'text': 'if nintendo reduces its console prices by 8% calculate the estimated percentage change in demand. you are advised to show your working'}, {'role': 'assistant', 'text': '3'}, {'role': 'user', 'text': 'analyse two different pricing strategies that nintendo might use to compete in the games console industry'}, {'role': 'assistant', 'text': '4'}, {'role': 'user', 'text': 'assess the benefits of a matrix organisational structure for a business such as nintendo'}, {'role': 'assistant', 'text': '2'}, {'role': 'user', 'text': 'Explain how the growth of the fitness market from 2015 to 2016 could have affected puregym'}, {'role': 'assistant', 'text': '5'}, {'role': 'user', 'text': 'Predict the topic number based on the provided question. The topics: 1) entreprenuers and leaders, 2) managing people, 3) market, 4) marketing mix and strategy, 5) meeting customer needs. Please respond with the relevant topic NUMBER.\\nUsing the data in extract a, calculate the change in value of sugar-free sweets sales predicted between 2018 and 2023. state your answer to 2 decimal places. you are advised to show your working.\"'}]}\n"
     ]
    },
    {
     "name": "stderr",
     "output_type": "stream",
     "text": [
      "Processing chunk 1/2:  86%|██████████████████   | 69/80 [02:57<00:25,  2.35s/it]"
     ]
    },
    {
     "name": "stdout",
     "output_type": "stream",
     "text": [
      "{'result': {'alternatives': [{'message': {'role': 'assistant', 'text': '4'}, 'status': 'ALTERNATIVE_STATUS_TRUNCATED_FINAL'}], 'usage': {'inputTextTokens': '466', 'completionTokens': '2', 'totalTokens': '468'}, 'modelVersion': '07.03.2024'}}\n",
      "{'modelUri': 'gpt://b1g6odsice70le7mmg6d/yandexgpt-pro', 'completionOptions': {'stream': False, 'temperature': 0.1, 'maxTokens': '2'}, 'messages': [{'role': 'system', 'text': \"Your role is to classify British A-level exam questions into five topics: 1) entreprenuers and leaders, 2) managing people, 3) market, 4) marketing mix and strategy, 5) meeting customer needs. Assign the appropriate topic number based on the question's theme and keywords.\"}, {'role': 'user', 'text': 'define the term brand'}, {'role': 'assistant', 'text': '4'}, {'role': 'user', 'text': 'explain one risk jack ma may have taken when setting up the alibaba group'}, {'role': 'assistant', 'text': '1'}, {'role': 'user', 'text': 'analyse two factors that may have increased demand for the alibaba group'}, {'role': 'assistant', 'text': '3'}, {'role': 'user', 'text': 'discuss if profit maximisation is the main business objective of the alibaba group'}, {'role': 'assistant', 'text': '1'}, {'role': 'user', 'text': 'assess the advantages of a paternalistic style of leadership for a business such as the alibaba group'}, {'role': 'assistant', 'text': '2'}, {'role': 'user', 'text': 'define the term product innovation '}, {'role': 'assistant', 'text': '5'}, {'role': 'user', 'text': 'if nintendo reduces its console prices by 8% calculate the estimated percentage change in demand. you are advised to show your working'}, {'role': 'assistant', 'text': '3'}, {'role': 'user', 'text': 'analyse two different pricing strategies that nintendo might use to compete in the games console industry'}, {'role': 'assistant', 'text': '4'}, {'role': 'user', 'text': 'assess the benefits of a matrix organisational structure for a business such as nintendo'}, {'role': 'assistant', 'text': '2'}, {'role': 'user', 'text': 'Explain how the growth of the fitness market from 2015 to 2016 could have affected puregym'}, {'role': 'assistant', 'text': '5'}, {'role': 'user', 'text': 'Predict the topic number based on the provided question. The topics: 1) entreprenuers and leaders, 2) managing people, 3) market, 4) marketing mix and strategy, 5) meeting customer needs. Please respond with the relevant topic NUMBER.\\nAnalyse two possible benefits for deutsche bank of using collective bargaining to negotiate redundancy payments with its employees.\"'}]}\n"
     ]
    },
    {
     "name": "stderr",
     "output_type": "stream",
     "text": [
      "Processing chunk 1/2:  88%|██████████████████▍  | 70/80 [03:05<00:38,  3.89s/it]"
     ]
    },
    {
     "name": "stdout",
     "output_type": "stream",
     "text": [
      "{'result': {'alternatives': [{'message': {'role': 'assistant', 'text': '2'}, 'status': 'ALTERNATIVE_STATUS_TRUNCATED_FINAL'}], 'usage': {'inputTextTokens': '438', 'completionTokens': '2', 'totalTokens': '440'}, 'modelVersion': '07.03.2024'}}\n",
      "{'modelUri': 'gpt://b1g6odsice70le7mmg6d/yandexgpt-pro', 'completionOptions': {'stream': False, 'temperature': 0.1, 'maxTokens': '2'}, 'messages': [{'role': 'system', 'text': \"Your role is to classify British A-level exam questions into five topics: 1) entreprenuers and leaders, 2) managing people, 3) market, 4) marketing mix and strategy, 5) meeting customer needs. Assign the appropriate topic number based on the question's theme and keywords.\"}, {'role': 'user', 'text': 'define the term brand'}, {'role': 'assistant', 'text': '4'}, {'role': 'user', 'text': 'explain one risk jack ma may have taken when setting up the alibaba group'}, {'role': 'assistant', 'text': '1'}, {'role': 'user', 'text': 'analyse two factors that may have increased demand for the alibaba group'}, {'role': 'assistant', 'text': '3'}, {'role': 'user', 'text': 'discuss if profit maximisation is the main business objective of the alibaba group'}, {'role': 'assistant', 'text': '1'}, {'role': 'user', 'text': 'assess the advantages of a paternalistic style of leadership for a business such as the alibaba group'}, {'role': 'assistant', 'text': '2'}, {'role': 'user', 'text': 'define the term product innovation '}, {'role': 'assistant', 'text': '5'}, {'role': 'user', 'text': 'if nintendo reduces its console prices by 8% calculate the estimated percentage change in demand. you are advised to show your working'}, {'role': 'assistant', 'text': '3'}, {'role': 'user', 'text': 'analyse two different pricing strategies that nintendo might use to compete in the games console industry'}, {'role': 'assistant', 'text': '4'}, {'role': 'user', 'text': 'assess the benefits of a matrix organisational structure for a business such as nintendo'}, {'role': 'assistant', 'text': '2'}, {'role': 'user', 'text': 'Explain how the growth of the fitness market from 2015 to 2016 could have affected puregym'}, {'role': 'assistant', 'text': '5'}, {'role': 'user', 'text': 'Predict the topic number based on the provided question. The topics: 1) entreprenuers and leaders, 2) managing people, 3) market, 4) marketing mix and strategy, 5) meeting customer needs. Please respond with the relevant topic NUMBER.\\nExplain how a flexible workforce might benefit ssp\"'}]}\n"
     ]
    },
    {
     "name": "stderr",
     "output_type": "stream",
     "text": [
      "Processing chunk 1/2:  89%|██████████████████▋  | 71/80 [03:12<00:44,  4.95s/it]"
     ]
    },
    {
     "name": "stdout",
     "output_type": "stream",
     "text": [
      "{'result': {'alternatives': [{'message': {'role': 'assistant', 'text': '2'}, 'status': 'ALTERNATIVE_STATUS_TRUNCATED_FINAL'}], 'usage': {'inputTextTokens': '426', 'completionTokens': '2', 'totalTokens': '428'}, 'modelVersion': '07.03.2024'}}\n",
      "{'modelUri': 'gpt://b1g6odsice70le7mmg6d/yandexgpt-pro', 'completionOptions': {'stream': False, 'temperature': 0.1, 'maxTokens': '2'}, 'messages': [{'role': 'system', 'text': \"Your role is to classify British A-level exam questions into five topics: 1) entreprenuers and leaders, 2) managing people, 3) market, 4) marketing mix and strategy, 5) meeting customer needs. Assign the appropriate topic number based on the question's theme and keywords.\"}, {'role': 'user', 'text': 'define the term brand'}, {'role': 'assistant', 'text': '4'}, {'role': 'user', 'text': 'explain one risk jack ma may have taken when setting up the alibaba group'}, {'role': 'assistant', 'text': '1'}, {'role': 'user', 'text': 'analyse two factors that may have increased demand for the alibaba group'}, {'role': 'assistant', 'text': '3'}, {'role': 'user', 'text': 'discuss if profit maximisation is the main business objective of the alibaba group'}, {'role': 'assistant', 'text': '1'}, {'role': 'user', 'text': 'assess the advantages of a paternalistic style of leadership for a business such as the alibaba group'}, {'role': 'assistant', 'text': '2'}, {'role': 'user', 'text': 'define the term product innovation '}, {'role': 'assistant', 'text': '5'}, {'role': 'user', 'text': 'if nintendo reduces its console prices by 8% calculate the estimated percentage change in demand. you are advised to show your working'}, {'role': 'assistant', 'text': '3'}, {'role': 'user', 'text': 'analyse two different pricing strategies that nintendo might use to compete in the games console industry'}, {'role': 'assistant', 'text': '4'}, {'role': 'user', 'text': 'assess the benefits of a matrix organisational structure for a business such as nintendo'}, {'role': 'assistant', 'text': '2'}, {'role': 'user', 'text': 'Explain how the growth of the fitness market from 2015 to 2016 could have affected puregym'}, {'role': 'assistant', 'text': '5'}, {'role': 'user', 'text': 'Predict the topic number based on the provided question. The topics: 1) entreprenuers and leaders, 2) managing people, 3) market, 4) marketing mix and strategy, 5) meeting customer needs. Please respond with the relevant topic NUMBER.\\nEvaluate the likely value of product trials to fitness retreat ltd.\"'}]}\n"
     ]
    },
    {
     "name": "stderr",
     "output_type": "stream",
     "text": [
      "Processing chunk 1/2:  90%|██████████████████▉  | 72/80 [03:14<00:32,  4.00s/it]"
     ]
    },
    {
     "name": "stdout",
     "output_type": "stream",
     "text": [
      "{'result': {'alternatives': [{'message': {'role': 'assistant', 'text': '4'}, 'status': 'ALTERNATIVE_STATUS_TRUNCATED_FINAL'}], 'usage': {'inputTextTokens': '430', 'completionTokens': '2', 'totalTokens': '432'}, 'modelVersion': '07.03.2024'}}\n",
      "{'modelUri': 'gpt://b1g6odsice70le7mmg6d/yandexgpt-pro', 'completionOptions': {'stream': False, 'temperature': 0.1, 'maxTokens': '2'}, 'messages': [{'role': 'system', 'text': \"Your role is to classify British A-level exam questions into five topics: 1) entreprenuers and leaders, 2) managing people, 3) market, 4) marketing mix and strategy, 5) meeting customer needs. Assign the appropriate topic number based on the question's theme and keywords.\"}, {'role': 'user', 'text': 'define the term brand'}, {'role': 'assistant', 'text': '4'}, {'role': 'user', 'text': 'explain one risk jack ma may have taken when setting up the alibaba group'}, {'role': 'assistant', 'text': '1'}, {'role': 'user', 'text': 'analyse two factors that may have increased demand for the alibaba group'}, {'role': 'assistant', 'text': '3'}, {'role': 'user', 'text': 'discuss if profit maximisation is the main business objective of the alibaba group'}, {'role': 'assistant', 'text': '1'}, {'role': 'user', 'text': 'assess the advantages of a paternalistic style of leadership for a business such as the alibaba group'}, {'role': 'assistant', 'text': '2'}, {'role': 'user', 'text': 'define the term product innovation '}, {'role': 'assistant', 'text': '5'}, {'role': 'user', 'text': 'if nintendo reduces its console prices by 8% calculate the estimated percentage change in demand. you are advised to show your working'}, {'role': 'assistant', 'text': '3'}, {'role': 'user', 'text': 'analyse two different pricing strategies that nintendo might use to compete in the games console industry'}, {'role': 'assistant', 'text': '4'}, {'role': 'user', 'text': 'assess the benefits of a matrix organisational structure for a business such as nintendo'}, {'role': 'assistant', 'text': '2'}, {'role': 'user', 'text': 'Explain how the growth of the fitness market from 2015 to 2016 could have affected puregym'}, {'role': 'assistant', 'text': '5'}, {'role': 'user', 'text': 'Predict the topic number based on the provided question. The topics: 1) entreprenuers and leaders, 2) managing people, 3) market, 4) marketing mix and strategy, 5) meeting customer needs. Please respond with the relevant topic NUMBER.\\nAssess two factors that could influence the price elasticity of demand for m&s’s clothing range\"'}]}\n"
     ]
    },
    {
     "name": "stderr",
     "output_type": "stream",
     "text": [
      "Processing chunk 1/2:  91%|███████████████████▏ | 73/80 [03:20<00:33,  4.77s/it]"
     ]
    },
    {
     "name": "stdout",
     "output_type": "stream",
     "text": [
      "{'result': {'alternatives': [{'message': {'role': 'assistant', 'text': '4'}, 'status': 'ALTERNATIVE_STATUS_TRUNCATED_FINAL'}], 'usage': {'inputTextTokens': '437', 'completionTokens': '2', 'totalTokens': '439'}, 'modelVersion': '07.03.2024'}}\n",
      "{'modelUri': 'gpt://b1g6odsice70le7mmg6d/yandexgpt-pro', 'completionOptions': {'stream': False, 'temperature': 0.1, 'maxTokens': '2'}, 'messages': [{'role': 'system', 'text': \"Your role is to classify British A-level exam questions into five topics: 1) entreprenuers and leaders, 2) managing people, 3) market, 4) marketing mix and strategy, 5) meeting customer needs. Assign the appropriate topic number based on the question's theme and keywords.\"}, {'role': 'user', 'text': 'define the term brand'}, {'role': 'assistant', 'text': '4'}, {'role': 'user', 'text': 'explain one risk jack ma may have taken when setting up the alibaba group'}, {'role': 'assistant', 'text': '1'}, {'role': 'user', 'text': 'analyse two factors that may have increased demand for the alibaba group'}, {'role': 'assistant', 'text': '3'}, {'role': 'user', 'text': 'discuss if profit maximisation is the main business objective of the alibaba group'}, {'role': 'assistant', 'text': '1'}, {'role': 'user', 'text': 'assess the advantages of a paternalistic style of leadership for a business such as the alibaba group'}, {'role': 'assistant', 'text': '2'}, {'role': 'user', 'text': 'define the term product innovation '}, {'role': 'assistant', 'text': '5'}, {'role': 'user', 'text': 'if nintendo reduces its console prices by 8% calculate the estimated percentage change in demand. you are advised to show your working'}, {'role': 'assistant', 'text': '3'}, {'role': 'user', 'text': 'analyse two different pricing strategies that nintendo might use to compete in the games console industry'}, {'role': 'assistant', 'text': '4'}, {'role': 'user', 'text': 'assess the benefits of a matrix organisational structure for a business such as nintendo'}, {'role': 'assistant', 'text': '2'}, {'role': 'user', 'text': 'Explain how the growth of the fitness market from 2015 to 2016 could have affected puregym'}, {'role': 'assistant', 'text': '5'}, {'role': 'user', 'text': 'Predict the topic number based on the provided question. The topics: 1) entreprenuers and leaders, 2) managing people, 3) market, 4) marketing mix and strategy, 5) meeting customer needs. Please respond with the relevant topic NUMBER.\\nCalculate, to 2 decimal places, the percentage fall in the price of an omega seamaster watch\"'}]}\n"
     ]
    },
    {
     "name": "stderr",
     "output_type": "stream",
     "text": [
      "Processing chunk 1/2:  92%|███████████████████▍ | 74/80 [03:27<00:32,  5.34s/it]"
     ]
    },
    {
     "name": "stdout",
     "output_type": "stream",
     "text": [
      "{'result': {'alternatives': [{'message': {'role': 'assistant', 'text': '4'}, 'status': 'ALTERNATIVE_STATUS_TRUNCATED_FINAL'}], 'usage': {'inputTextTokens': '437', 'completionTokens': '2', 'totalTokens': '439'}, 'modelVersion': '07.03.2024'}}\n",
      "{'modelUri': 'gpt://b1g6odsice70le7mmg6d/yandexgpt-pro', 'completionOptions': {'stream': False, 'temperature': 0.1, 'maxTokens': '2'}, 'messages': [{'role': 'system', 'text': \"Your role is to classify British A-level exam questions into five topics: 1) entreprenuers and leaders, 2) managing people, 3) market, 4) marketing mix and strategy, 5) meeting customer needs. Assign the appropriate topic number based on the question's theme and keywords.\"}, {'role': 'user', 'text': 'define the term brand'}, {'role': 'assistant', 'text': '4'}, {'role': 'user', 'text': 'explain one risk jack ma may have taken when setting up the alibaba group'}, {'role': 'assistant', 'text': '1'}, {'role': 'user', 'text': 'analyse two factors that may have increased demand for the alibaba group'}, {'role': 'assistant', 'text': '3'}, {'role': 'user', 'text': 'discuss if profit maximisation is the main business objective of the alibaba group'}, {'role': 'assistant', 'text': '1'}, {'role': 'user', 'text': 'assess the advantages of a paternalistic style of leadership for a business such as the alibaba group'}, {'role': 'assistant', 'text': '2'}, {'role': 'user', 'text': 'define the term product innovation '}, {'role': 'assistant', 'text': '5'}, {'role': 'user', 'text': 'if nintendo reduces its console prices by 8% calculate the estimated percentage change in demand. you are advised to show your working'}, {'role': 'assistant', 'text': '3'}, {'role': 'user', 'text': 'analyse two different pricing strategies that nintendo might use to compete in the games console industry'}, {'role': 'assistant', 'text': '4'}, {'role': 'user', 'text': 'assess the benefits of a matrix organisational structure for a business such as nintendo'}, {'role': 'assistant', 'text': '2'}, {'role': 'user', 'text': 'Explain how the growth of the fitness market from 2015 to 2016 could have affected puregym'}, {'role': 'assistant', 'text': '5'}, {'role': 'user', 'text': 'Predict the topic number based on the provided question. The topics: 1) entreprenuers and leaders, 2) managing people, 3) market, 4) marketing mix and strategy, 5) meeting customer needs. Please respond with the relevant topic NUMBER.\\nWhat is meant by competitive pricing\"'}]}\n"
     ]
    },
    {
     "name": "stderr",
     "output_type": "stream",
     "text": [
      "Processing chunk 1/2:  94%|███████████████████▋ | 75/80 [03:29<00:21,  4.26s/it]"
     ]
    },
    {
     "name": "stdout",
     "output_type": "stream",
     "text": [
      "{'result': {'alternatives': [{'message': {'role': 'assistant', 'text': '4'}, 'status': 'ALTERNATIVE_STATUS_TRUNCATED_FINAL'}], 'usage': {'inputTextTokens': '423', 'completionTokens': '2', 'totalTokens': '425'}, 'modelVersion': '07.03.2024'}}\n",
      "{'modelUri': 'gpt://b1g6odsice70le7mmg6d/yandexgpt-pro', 'completionOptions': {'stream': False, 'temperature': 0.1, 'maxTokens': '2'}, 'messages': [{'role': 'system', 'text': \"Your role is to classify British A-level exam questions into five topics: 1) entreprenuers and leaders, 2) managing people, 3) market, 4) marketing mix and strategy, 5) meeting customer needs. Assign the appropriate topic number based on the question's theme and keywords.\"}, {'role': 'user', 'text': 'define the term brand'}, {'role': 'assistant', 'text': '4'}, {'role': 'user', 'text': 'explain one risk jack ma may have taken when setting up the alibaba group'}, {'role': 'assistant', 'text': '1'}, {'role': 'user', 'text': 'analyse two factors that may have increased demand for the alibaba group'}, {'role': 'assistant', 'text': '3'}, {'role': 'user', 'text': 'discuss if profit maximisation is the main business objective of the alibaba group'}, {'role': 'assistant', 'text': '1'}, {'role': 'user', 'text': 'assess the advantages of a paternalistic style of leadership for a business such as the alibaba group'}, {'role': 'assistant', 'text': '2'}, {'role': 'user', 'text': 'define the term product innovation '}, {'role': 'assistant', 'text': '5'}, {'role': 'user', 'text': 'if nintendo reduces its console prices by 8% calculate the estimated percentage change in demand. you are advised to show your working'}, {'role': 'assistant', 'text': '3'}, {'role': 'user', 'text': 'analyse two different pricing strategies that nintendo might use to compete in the games console industry'}, {'role': 'assistant', 'text': '4'}, {'role': 'user', 'text': 'assess the benefits of a matrix organisational structure for a business such as nintendo'}, {'role': 'assistant', 'text': '2'}, {'role': 'user', 'text': 'Explain how the growth of the fitness market from 2015 to 2016 could have affected puregym'}, {'role': 'assistant', 'text': '5'}, {'role': 'user', 'text': 'Predict the topic number based on the provided question. The topics: 1) entreprenuers and leaders, 2) managing people, 3) market, 4) marketing mix and strategy, 5) meeting customer needs. Please respond with the relevant topic NUMBER.\\nAssess two methods mars could use to promote its new protein bars\"'}]}\n"
     ]
    },
    {
     "name": "stderr",
     "output_type": "stream",
     "text": [
      "Processing chunk 1/2:  95%|███████████████████▉ | 76/80 [03:31<00:14,  3.50s/it]"
     ]
    },
    {
     "name": "stdout",
     "output_type": "stream",
     "text": [
      "{'result': {'alternatives': [{'message': {'role': 'assistant', 'text': '4'}, 'status': 'ALTERNATIVE_STATUS_TRUNCATED_FINAL'}], 'usage': {'inputTextTokens': '430', 'completionTokens': '2', 'totalTokens': '432'}, 'modelVersion': '07.03.2024'}}\n",
      "{'modelUri': 'gpt://b1g6odsice70le7mmg6d/yandexgpt-pro', 'completionOptions': {'stream': False, 'temperature': 0.1, 'maxTokens': '2'}, 'messages': [{'role': 'system', 'text': \"Your role is to classify British A-level exam questions into five topics: 1) entreprenuers and leaders, 2) managing people, 3) market, 4) marketing mix and strategy, 5) meeting customer needs. Assign the appropriate topic number based on the question's theme and keywords.\"}, {'role': 'user', 'text': 'define the term brand'}, {'role': 'assistant', 'text': '4'}, {'role': 'user', 'text': 'explain one risk jack ma may have taken when setting up the alibaba group'}, {'role': 'assistant', 'text': '1'}, {'role': 'user', 'text': 'analyse two factors that may have increased demand for the alibaba group'}, {'role': 'assistant', 'text': '3'}, {'role': 'user', 'text': 'discuss if profit maximisation is the main business objective of the alibaba group'}, {'role': 'assistant', 'text': '1'}, {'role': 'user', 'text': 'assess the advantages of a paternalistic style of leadership for a business such as the alibaba group'}, {'role': 'assistant', 'text': '2'}, {'role': 'user', 'text': 'define the term product innovation '}, {'role': 'assistant', 'text': '5'}, {'role': 'user', 'text': 'if nintendo reduces its console prices by 8% calculate the estimated percentage change in demand. you are advised to show your working'}, {'role': 'assistant', 'text': '3'}, {'role': 'user', 'text': 'analyse two different pricing strategies that nintendo might use to compete in the games console industry'}, {'role': 'assistant', 'text': '4'}, {'role': 'user', 'text': 'assess the benefits of a matrix organisational structure for a business such as nintendo'}, {'role': 'assistant', 'text': '2'}, {'role': 'user', 'text': 'Explain how the growth of the fitness market from 2015 to 2016 could have affected puregym'}, {'role': 'assistant', 'text': '5'}, {'role': 'user', 'text': 'Predict the topic number based on the provided question. The topics: 1) entreprenuers and leaders, 2) managing people, 3) market, 4) marketing mix and strategy, 5) meeting customer needs. Please respond with the relevant topic NUMBER.\\nExplain how m&s could build its clothing brand\"'}]}\n"
     ]
    },
    {
     "name": "stderr",
     "output_type": "stream",
     "text": [
      "Processing chunk 1/2:  96%|████████████████████▏| 77/80 [03:32<00:08,  2.97s/it]"
     ]
    },
    {
     "name": "stdout",
     "output_type": "stream",
     "text": [
      "{'result': {'alternatives': [{'message': {'role': 'assistant', 'text': '4'}, 'status': 'ALTERNATIVE_STATUS_TRUNCATED_FINAL'}], 'usage': {'inputTextTokens': '427', 'completionTokens': '2', 'totalTokens': '429'}, 'modelVersion': '07.03.2024'}}\n",
      "{'modelUri': 'gpt://b1g6odsice70le7mmg6d/yandexgpt-pro', 'completionOptions': {'stream': False, 'temperature': 0.1, 'maxTokens': '2'}, 'messages': [{'role': 'system', 'text': \"Your role is to classify British A-level exam questions into five topics: 1) entreprenuers and leaders, 2) managing people, 3) market, 4) marketing mix and strategy, 5) meeting customer needs. Assign the appropriate topic number based on the question's theme and keywords.\"}, {'role': 'user', 'text': 'define the term brand'}, {'role': 'assistant', 'text': '4'}, {'role': 'user', 'text': 'explain one risk jack ma may have taken when setting up the alibaba group'}, {'role': 'assistant', 'text': '1'}, {'role': 'user', 'text': 'analyse two factors that may have increased demand for the alibaba group'}, {'role': 'assistant', 'text': '3'}, {'role': 'user', 'text': 'discuss if profit maximisation is the main business objective of the alibaba group'}, {'role': 'assistant', 'text': '1'}, {'role': 'user', 'text': 'assess the advantages of a paternalistic style of leadership for a business such as the alibaba group'}, {'role': 'assistant', 'text': '2'}, {'role': 'user', 'text': 'define the term product innovation '}, {'role': 'assistant', 'text': '5'}, {'role': 'user', 'text': 'if nintendo reduces its console prices by 8% calculate the estimated percentage change in demand. you are advised to show your working'}, {'role': 'assistant', 'text': '3'}, {'role': 'user', 'text': 'analyse two different pricing strategies that nintendo might use to compete in the games console industry'}, {'role': 'assistant', 'text': '4'}, {'role': 'user', 'text': 'assess the benefits of a matrix organisational structure for a business such as nintendo'}, {'role': 'assistant', 'text': '2'}, {'role': 'user', 'text': 'Explain how the growth of the fitness market from 2015 to 2016 could have affected puregym'}, {'role': 'assistant', 'text': '5'}, {'role': 'user', 'text': 'Predict the topic number based on the provided question. The topics: 1) entreprenuers and leaders, 2) managing people, 3) market, 4) marketing mix and strategy, 5) meeting customer needs. Please respond with the relevant topic NUMBER.\\nAssess the likely impact of price comparison websites on supermarkets in the uk.\"'}]}\n"
     ]
    },
    {
     "name": "stderr",
     "output_type": "stream",
     "text": [
      "Processing chunk 1/2:  98%|████████████████████▍| 78/80 [03:34<00:05,  2.57s/it]"
     ]
    },
    {
     "name": "stdout",
     "output_type": "stream",
     "text": [
      "{'result': {'alternatives': [{'message': {'role': 'assistant', 'text': '3'}, 'status': 'ALTERNATIVE_STATUS_TRUNCATED_FINAL'}], 'usage': {'inputTextTokens': '433', 'completionTokens': '2', 'totalTokens': '435'}, 'modelVersion': '07.03.2024'}}\n",
      "{'modelUri': 'gpt://b1g6odsice70le7mmg6d/yandexgpt-pro', 'completionOptions': {'stream': False, 'temperature': 0.1, 'maxTokens': '2'}, 'messages': [{'role': 'system', 'text': \"Your role is to classify British A-level exam questions into five topics: 1) entreprenuers and leaders, 2) managing people, 3) market, 4) marketing mix and strategy, 5) meeting customer needs. Assign the appropriate topic number based on the question's theme and keywords.\"}, {'role': 'user', 'text': 'define the term brand'}, {'role': 'assistant', 'text': '4'}, {'role': 'user', 'text': 'explain one risk jack ma may have taken when setting up the alibaba group'}, {'role': 'assistant', 'text': '1'}, {'role': 'user', 'text': 'analyse two factors that may have increased demand for the alibaba group'}, {'role': 'assistant', 'text': '3'}, {'role': 'user', 'text': 'discuss if profit maximisation is the main business objective of the alibaba group'}, {'role': 'assistant', 'text': '1'}, {'role': 'user', 'text': 'assess the advantages of a paternalistic style of leadership for a business such as the alibaba group'}, {'role': 'assistant', 'text': '2'}, {'role': 'user', 'text': 'define the term product innovation '}, {'role': 'assistant', 'text': '5'}, {'role': 'user', 'text': 'if nintendo reduces its console prices by 8% calculate the estimated percentage change in demand. you are advised to show your working'}, {'role': 'assistant', 'text': '3'}, {'role': 'user', 'text': 'analyse two different pricing strategies that nintendo might use to compete in the games console industry'}, {'role': 'assistant', 'text': '4'}, {'role': 'user', 'text': 'assess the benefits of a matrix organisational structure for a business such as nintendo'}, {'role': 'assistant', 'text': '2'}, {'role': 'user', 'text': 'Explain how the growth of the fitness market from 2015 to 2016 could have affected puregym'}, {'role': 'assistant', 'text': '5'}, {'role': 'user', 'text': 'Predict the topic number based on the provided question. The topics: 1) entreprenuers and leaders, 2) managing people, 3) market, 4) marketing mix and strategy, 5) meeting customer needs. Please respond with the relevant topic NUMBER.\\nWhat is meant by span of control?\"'}]}\n"
     ]
    },
    {
     "name": "stderr",
     "output_type": "stream",
     "text": [
      "Processing chunk 1/2:  99%|████████████████████▋| 79/80 [03:36<00:02,  2.29s/it]"
     ]
    },
    {
     "name": "stdout",
     "output_type": "stream",
     "text": [
      "{'result': {'alternatives': [{'message': {'role': 'assistant', 'text': '2'}, 'status': 'ALTERNATIVE_STATUS_TRUNCATED_FINAL'}], 'usage': {'inputTextTokens': '424', 'completionTokens': '2', 'totalTokens': '426'}, 'modelVersion': '07.03.2024'}}\n",
      "{'modelUri': 'gpt://b1g6odsice70le7mmg6d/yandexgpt-pro', 'completionOptions': {'stream': False, 'temperature': 0.1, 'maxTokens': '2'}, 'messages': [{'role': 'system', 'text': \"Your role is to classify British A-level exam questions into five topics: 1) entreprenuers and leaders, 2) managing people, 3) market, 4) marketing mix and strategy, 5) meeting customer needs. Assign the appropriate topic number based on the question's theme and keywords.\"}, {'role': 'user', 'text': 'define the term brand'}, {'role': 'assistant', 'text': '4'}, {'role': 'user', 'text': 'explain one risk jack ma may have taken when setting up the alibaba group'}, {'role': 'assistant', 'text': '1'}, {'role': 'user', 'text': 'analyse two factors that may have increased demand for the alibaba group'}, {'role': 'assistant', 'text': '3'}, {'role': 'user', 'text': 'discuss if profit maximisation is the main business objective of the alibaba group'}, {'role': 'assistant', 'text': '1'}, {'role': 'user', 'text': 'assess the advantages of a paternalistic style of leadership for a business such as the alibaba group'}, {'role': 'assistant', 'text': '2'}, {'role': 'user', 'text': 'define the term product innovation '}, {'role': 'assistant', 'text': '5'}, {'role': 'user', 'text': 'if nintendo reduces its console prices by 8% calculate the estimated percentage change in demand. you are advised to show your working'}, {'role': 'assistant', 'text': '3'}, {'role': 'user', 'text': 'analyse two different pricing strategies that nintendo might use to compete in the games console industry'}, {'role': 'assistant', 'text': '4'}, {'role': 'user', 'text': 'assess the benefits of a matrix organisational structure for a business such as nintendo'}, {'role': 'assistant', 'text': '2'}, {'role': 'user', 'text': 'Explain how the growth of the fitness market from 2015 to 2016 could have affected puregym'}, {'role': 'assistant', 'text': '5'}, {'role': 'user', 'text': 'Predict the topic number based on the provided question. The topics: 1) entreprenuers and leaders, 2) managing people, 3) market, 4) marketing mix and strategy, 5) meeting customer needs. Please respond with the relevant topic NUMBER.\\nAnalyse two factors that might influence the price elasticity of demand (ped) for ice cream.\"'}]}\n"
     ]
    },
    {
     "name": "stderr",
     "output_type": "stream",
     "text": [
      "Processing chunk 1/2: 100%|█████████████████████| 80/80 [03:38<00:00,  2.25s/it]"
     ]
    },
    {
     "name": "stdout",
     "output_type": "stream",
     "text": [
      "{'result': {'alternatives': [{'message': {'role': 'assistant', 'text': '3'}, 'status': 'ALTERNATIVE_STATUS_TRUNCATED_FINAL'}], 'usage': {'inputTextTokens': '435', 'completionTokens': '2', 'totalTokens': '437'}, 'modelVersion': '07.03.2024'}}\n",
      "{'modelUri': 'gpt://b1g6odsice70le7mmg6d/yandexgpt-pro', 'completionOptions': {'stream': False, 'temperature': 0.1, 'maxTokens': '2'}, 'messages': [{'role': 'system', 'text': \"Your role is to classify British A-level exam questions into five topics: 1) entreprenuers and leaders, 2) managing people, 3) market, 4) marketing mix and strategy, 5) meeting customer needs. Assign the appropriate topic number based on the question's theme and keywords.\"}, {'role': 'user', 'text': 'define the term brand'}, {'role': 'assistant', 'text': '4'}, {'role': 'user', 'text': 'explain one risk jack ma may have taken when setting up the alibaba group'}, {'role': 'assistant', 'text': '1'}, {'role': 'user', 'text': 'analyse two factors that may have increased demand for the alibaba group'}, {'role': 'assistant', 'text': '3'}, {'role': 'user', 'text': 'discuss if profit maximisation is the main business objective of the alibaba group'}, {'role': 'assistant', 'text': '1'}, {'role': 'user', 'text': 'assess the advantages of a paternalistic style of leadership for a business such as the alibaba group'}, {'role': 'assistant', 'text': '2'}, {'role': 'user', 'text': 'define the term product innovation '}, {'role': 'assistant', 'text': '5'}, {'role': 'user', 'text': 'if nintendo reduces its console prices by 8% calculate the estimated percentage change in demand. you are advised to show your working'}, {'role': 'assistant', 'text': '3'}, {'role': 'user', 'text': 'analyse two different pricing strategies that nintendo might use to compete in the games console industry'}, {'role': 'assistant', 'text': '4'}, {'role': 'user', 'text': 'assess the benefits of a matrix organisational structure for a business such as nintendo'}, {'role': 'assistant', 'text': '2'}, {'role': 'user', 'text': 'Explain how the growth of the fitness market from 2015 to 2016 could have affected puregym'}, {'role': 'assistant', 'text': '5'}, {'role': 'user', 'text': 'Predict the topic number based on the provided question. The topics: 1) entreprenuers and leaders, 2) managing people, 3) market, 4) marketing mix and strategy, 5) meeting customer needs. Please respond with the relevant topic NUMBER.\\nUsing the case study, explain one reason why it might be important for tony to be self-confident.\"'}]}\n"
     ]
    },
    {
     "name": "stderr",
     "output_type": "stream",
     "text": [
      "Processing chunk 1/2: 100%|█████████████████████| 80/80 [03:39<00:00,  2.75s/it]\n",
      "/var/folders/8_/cdypz21908z67f0vvpr9mdy80000gn/T/ipykernel_38107/3780304646.py:10: SettingWithCopyWarning: \n",
      "A value is trying to be set on a copy of a slice from a DataFrame.\n",
      "Try using .loc[row_indexer,col_indexer] = value instead\n",
      "\n",
      "See the caveats in the documentation: https://pandas.pydata.org/pandas-docs/stable/user_guide/indexing.html#returning-a-view-versus-a-copy\n",
      "  df_chunk['Predicted Label'] = df_chunk['Questions'].progress_apply(yagpt_inference, args=(url, headers))\n"
     ]
    },
    {
     "name": "stdout",
     "output_type": "stream",
     "text": [
      "{'result': {'alternatives': [{'message': {'role': 'assistant', 'text': '1'}, 'status': 'ALTERNATIVE_STATUS_TRUNCATED_FINAL'}], 'usage': {'inputTextTokens': '439', 'completionTokens': '2', 'totalTokens': '441'}, 'modelVersion': '07.03.2024'}}\n",
      "\n",
      "Waiting for 1 hour to avoid hitting the API limit...\n"
     ]
    },
    {
     "name": "stderr",
     "output_type": "stream",
     "text": [
      "Sleeping: 100%|███████████████████████████| 3600/3600 [1:00:22<00:00,  1.01s/it]\n",
      "Processing chunk 2/2:   0%|                              | 0/26 [00:00<?, ?it/s]"
     ]
    },
    {
     "name": "stdout",
     "output_type": "stream",
     "text": [
      "{'modelUri': 'gpt://b1g6odsice70le7mmg6d/yandexgpt-pro', 'completionOptions': {'stream': False, 'temperature': 0.1, 'maxTokens': '2'}, 'messages': [{'role': 'system', 'text': \"Your role is to classify British A-level exam questions into five topics: 1) entreprenuers and leaders, 2) managing people, 3) market, 4) marketing mix and strategy, 5) meeting customer needs. Assign the appropriate topic number based on the question's theme and keywords.\"}, {'role': 'user', 'text': 'define the term brand'}, {'role': 'assistant', 'text': '4'}, {'role': 'user', 'text': 'explain one risk jack ma may have taken when setting up the alibaba group'}, {'role': 'assistant', 'text': '1'}, {'role': 'user', 'text': 'analyse two factors that may have increased demand for the alibaba group'}, {'role': 'assistant', 'text': '3'}, {'role': 'user', 'text': 'discuss if profit maximisation is the main business objective of the alibaba group'}, {'role': 'assistant', 'text': '1'}, {'role': 'user', 'text': 'assess the advantages of a paternalistic style of leadership for a business such as the alibaba group'}, {'role': 'assistant', 'text': '2'}, {'role': 'user', 'text': 'define the term product innovation '}, {'role': 'assistant', 'text': '5'}, {'role': 'user', 'text': 'if nintendo reduces its console prices by 8% calculate the estimated percentage change in demand. you are advised to show your working'}, {'role': 'assistant', 'text': '3'}, {'role': 'user', 'text': 'analyse two different pricing strategies that nintendo might use to compete in the games console industry'}, {'role': 'assistant', 'text': '4'}, {'role': 'user', 'text': 'assess the benefits of a matrix organisational structure for a business such as nintendo'}, {'role': 'assistant', 'text': '2'}, {'role': 'user', 'text': 'Explain how the growth of the fitness market from 2015 to 2016 could have affected puregym'}, {'role': 'assistant', 'text': '5'}, {'role': 'user', 'text': 'Predict the topic number based on the provided question. The topics: 1) entreprenuers and leaders, 2) managing people, 3) market, 4) marketing mix and strategy, 5) meeting customer needs. Please respond with the relevant topic NUMBER.\\nConstruct a supply and demand diagram to illustrate the likely impact of changing consumer tastes on burger king\"'}]}\n"
     ]
    },
    {
     "name": "stderr",
     "output_type": "stream",
     "text": [
      "Processing chunk 2/2:   8%|█▋                    | 2/26 [00:03<00:44,  1.87s/it]"
     ]
    },
    {
     "name": "stdout",
     "output_type": "stream",
     "text": [
      "{'result': {'alternatives': [{'message': {'role': 'assistant', 'text': '3'}, 'status': 'ALTERNATIVE_STATUS_TRUNCATED_FINAL'}], 'usage': {'inputTextTokens': '435', 'completionTokens': '2', 'totalTokens': '437'}, 'modelVersion': '07.03.2024'}}\n",
      "{'modelUri': 'gpt://b1g6odsice70le7mmg6d/yandexgpt-pro', 'completionOptions': {'stream': False, 'temperature': 0.1, 'maxTokens': '2'}, 'messages': [{'role': 'system', 'text': \"Your role is to classify British A-level exam questions into five topics: 1) entreprenuers and leaders, 2) managing people, 3) market, 4) marketing mix and strategy, 5) meeting customer needs. Assign the appropriate topic number based on the question's theme and keywords.\"}, {'role': 'user', 'text': 'define the term brand'}, {'role': 'assistant', 'text': '4'}, {'role': 'user', 'text': 'explain one risk jack ma may have taken when setting up the alibaba group'}, {'role': 'assistant', 'text': '1'}, {'role': 'user', 'text': 'analyse two factors that may have increased demand for the alibaba group'}, {'role': 'assistant', 'text': '3'}, {'role': 'user', 'text': 'discuss if profit maximisation is the main business objective of the alibaba group'}, {'role': 'assistant', 'text': '1'}, {'role': 'user', 'text': 'assess the advantages of a paternalistic style of leadership for a business such as the alibaba group'}, {'role': 'assistant', 'text': '2'}, {'role': 'user', 'text': 'define the term product innovation '}, {'role': 'assistant', 'text': '5'}, {'role': 'user', 'text': 'if nintendo reduces its console prices by 8% calculate the estimated percentage change in demand. you are advised to show your working'}, {'role': 'assistant', 'text': '3'}, {'role': 'user', 'text': 'analyse two different pricing strategies that nintendo might use to compete in the games console industry'}, {'role': 'assistant', 'text': '4'}, {'role': 'user', 'text': 'assess the benefits of a matrix organisational structure for a business such as nintendo'}, {'role': 'assistant', 'text': '2'}, {'role': 'user', 'text': 'Explain how the growth of the fitness market from 2015 to 2016 could have affected puregym'}, {'role': 'assistant', 'text': '5'}, {'role': 'user', 'text': 'Predict the topic number based on the provided question. The topics: 1) entreprenuers and leaders, 2) managing people, 3) market, 4) marketing mix and strategy, 5) meeting customer needs. Please respond with the relevant topic NUMBER.\\nAssess the advantages for a company, such as coca-cola, of using face-to-face surveys when collecting market data.\"'}]}\n"
     ]
    },
    {
     "name": "stderr",
     "output_type": "stream",
     "text": [
      "Processing chunk 2/2:  12%|██▌                   | 3/26 [00:06<00:47,  2.08s/it]"
     ]
    },
    {
     "name": "stdout",
     "output_type": "stream",
     "text": [
      "{'result': {'alternatives': [{'message': {'role': 'assistant', 'text': '3'}, 'status': 'ALTERNATIVE_STATUS_TRUNCATED_FINAL'}], 'usage': {'inputTextTokens': '444', 'completionTokens': '2', 'totalTokens': '446'}, 'modelVersion': '07.03.2024'}}\n",
      "{'modelUri': 'gpt://b1g6odsice70le7mmg6d/yandexgpt-pro', 'completionOptions': {'stream': False, 'temperature': 0.1, 'maxTokens': '2'}, 'messages': [{'role': 'system', 'text': \"Your role is to classify British A-level exam questions into five topics: 1) entreprenuers and leaders, 2) managing people, 3) market, 4) marketing mix and strategy, 5) meeting customer needs. Assign the appropriate topic number based on the question's theme and keywords.\"}, {'role': 'user', 'text': 'define the term brand'}, {'role': 'assistant', 'text': '4'}, {'role': 'user', 'text': 'explain one risk jack ma may have taken when setting up the alibaba group'}, {'role': 'assistant', 'text': '1'}, {'role': 'user', 'text': 'analyse two factors that may have increased demand for the alibaba group'}, {'role': 'assistant', 'text': '3'}, {'role': 'user', 'text': 'discuss if profit maximisation is the main business objective of the alibaba group'}, {'role': 'assistant', 'text': '1'}, {'role': 'user', 'text': 'assess the advantages of a paternalistic style of leadership for a business such as the alibaba group'}, {'role': 'assistant', 'text': '2'}, {'role': 'user', 'text': 'define the term product innovation '}, {'role': 'assistant', 'text': '5'}, {'role': 'user', 'text': 'if nintendo reduces its console prices by 8% calculate the estimated percentage change in demand. you are advised to show your working'}, {'role': 'assistant', 'text': '3'}, {'role': 'user', 'text': 'analyse two different pricing strategies that nintendo might use to compete in the games console industry'}, {'role': 'assistant', 'text': '4'}, {'role': 'user', 'text': 'assess the benefits of a matrix organisational structure for a business such as nintendo'}, {'role': 'assistant', 'text': '2'}, {'role': 'user', 'text': 'Explain how the growth of the fitness market from 2015 to 2016 could have affected puregym'}, {'role': 'assistant', 'text': '5'}, {'role': 'user', 'text': 'Predict the topic number based on the provided question. The topics: 1) entreprenuers and leaders, 2) managing people, 3) market, 4) marketing mix and strategy, 5) meeting customer needs. Please respond with the relevant topic NUMBER.\\nExplain two factors that could affect the demand for anna’s cakes.\"'}]}\n"
     ]
    },
    {
     "name": "stderr",
     "output_type": "stream",
     "text": [
      "Processing chunk 2/2:  15%|███▍                  | 4/26 [00:07<00:42,  1.95s/it]"
     ]
    },
    {
     "name": "stdout",
     "output_type": "stream",
     "text": [
      "{'result': {'alternatives': [{'message': {'role': 'assistant', 'text': '3'}, 'status': 'ALTERNATIVE_STATUS_TRUNCATED_FINAL'}], 'usage': {'inputTextTokens': '431', 'completionTokens': '2', 'totalTokens': '433'}, 'modelVersion': '07.03.2024'}}\n",
      "{'modelUri': 'gpt://b1g6odsice70le7mmg6d/yandexgpt-pro', 'completionOptions': {'stream': False, 'temperature': 0.1, 'maxTokens': '2'}, 'messages': [{'role': 'system', 'text': \"Your role is to classify British A-level exam questions into five topics: 1) entreprenuers and leaders, 2) managing people, 3) market, 4) marketing mix and strategy, 5) meeting customer needs. Assign the appropriate topic number based on the question's theme and keywords.\"}, {'role': 'user', 'text': 'define the term brand'}, {'role': 'assistant', 'text': '4'}, {'role': 'user', 'text': 'explain one risk jack ma may have taken when setting up the alibaba group'}, {'role': 'assistant', 'text': '1'}, {'role': 'user', 'text': 'analyse two factors that may have increased demand for the alibaba group'}, {'role': 'assistant', 'text': '3'}, {'role': 'user', 'text': 'discuss if profit maximisation is the main business objective of the alibaba group'}, {'role': 'assistant', 'text': '1'}, {'role': 'user', 'text': 'assess the advantages of a paternalistic style of leadership for a business such as the alibaba group'}, {'role': 'assistant', 'text': '2'}, {'role': 'user', 'text': 'define the term product innovation '}, {'role': 'assistant', 'text': '5'}, {'role': 'user', 'text': 'if nintendo reduces its console prices by 8% calculate the estimated percentage change in demand. you are advised to show your working'}, {'role': 'assistant', 'text': '3'}, {'role': 'user', 'text': 'analyse two different pricing strategies that nintendo might use to compete in the games console industry'}, {'role': 'assistant', 'text': '4'}, {'role': 'user', 'text': 'assess the benefits of a matrix organisational structure for a business such as nintendo'}, {'role': 'assistant', 'text': '2'}, {'role': 'user', 'text': 'Explain how the growth of the fitness market from 2015 to 2016 could have affected puregym'}, {'role': 'assistant', 'text': '5'}, {'role': 'user', 'text': 'Predict the topic number based on the provided question. The topics: 1) entreprenuers and leaders, 2) managing people, 3) market, 4) marketing mix and strategy, 5) meeting customer needs. Please respond with the relevant topic NUMBER.\\nUsing the above data, calculate the total amount of redundancy payments made by deutsche bank. you are advised to show your workings.\"'}]}\n"
     ]
    },
    {
     "name": "stderr",
     "output_type": "stream",
     "text": [
      "Processing chunk 2/2:  19%|████▏                 | 5/26 [00:09<00:40,  1.91s/it]"
     ]
    },
    {
     "name": "stdout",
     "output_type": "stream",
     "text": [
      "{'result': {'alternatives': [{'message': {'role': 'assistant', 'text': '2'}, 'status': 'ALTERNATIVE_STATUS_TRUNCATED_FINAL'}], 'usage': {'inputTextTokens': '443', 'completionTokens': '2', 'totalTokens': '445'}, 'modelVersion': '07.03.2024'}}\n",
      "{'modelUri': 'gpt://b1g6odsice70le7mmg6d/yandexgpt-pro', 'completionOptions': {'stream': False, 'temperature': 0.1, 'maxTokens': '2'}, 'messages': [{'role': 'system', 'text': \"Your role is to classify British A-level exam questions into five topics: 1) entreprenuers and leaders, 2) managing people, 3) market, 4) marketing mix and strategy, 5) meeting customer needs. Assign the appropriate topic number based on the question's theme and keywords.\"}, {'role': 'user', 'text': 'define the term brand'}, {'role': 'assistant', 'text': '4'}, {'role': 'user', 'text': 'explain one risk jack ma may have taken when setting up the alibaba group'}, {'role': 'assistant', 'text': '1'}, {'role': 'user', 'text': 'analyse two factors that may have increased demand for the alibaba group'}, {'role': 'assistant', 'text': '3'}, {'role': 'user', 'text': 'discuss if profit maximisation is the main business objective of the alibaba group'}, {'role': 'assistant', 'text': '1'}, {'role': 'user', 'text': 'assess the advantages of a paternalistic style of leadership for a business such as the alibaba group'}, {'role': 'assistant', 'text': '2'}, {'role': 'user', 'text': 'define the term product innovation '}, {'role': 'assistant', 'text': '5'}, {'role': 'user', 'text': 'if nintendo reduces its console prices by 8% calculate the estimated percentage change in demand. you are advised to show your working'}, {'role': 'assistant', 'text': '3'}, {'role': 'user', 'text': 'analyse two different pricing strategies that nintendo might use to compete in the games console industry'}, {'role': 'assistant', 'text': '4'}, {'role': 'user', 'text': 'assess the benefits of a matrix organisational structure for a business such as nintendo'}, {'role': 'assistant', 'text': '2'}, {'role': 'user', 'text': 'Explain how the growth of the fitness market from 2015 to 2016 could have affected puregym'}, {'role': 'assistant', 'text': '5'}, {'role': 'user', 'text': 'Predict the topic number based on the provided question. The topics: 1) entreprenuers and leaders, 2) managing people, 3) market, 4) marketing mix and strategy, 5) meeting customer needs. Please respond with the relevant topic NUMBER.\\nAssess the likely impact of price comparison websites on supermarkets in the uk.\"'}]}\n"
     ]
    },
    {
     "name": "stderr",
     "output_type": "stream",
     "text": [
      "Processing chunk 2/2:  23%|█████                 | 6/26 [00:11<00:39,  1.99s/it]"
     ]
    },
    {
     "name": "stdout",
     "output_type": "stream",
     "text": [
      "{'result': {'alternatives': [{'message': {'role': 'assistant', 'text': '3'}, 'status': 'ALTERNATIVE_STATUS_TRUNCATED_FINAL'}], 'usage': {'inputTextTokens': '433', 'completionTokens': '2', 'totalTokens': '435'}, 'modelVersion': '07.03.2024'}}\n",
      "{'modelUri': 'gpt://b1g6odsice70le7mmg6d/yandexgpt-pro', 'completionOptions': {'stream': False, 'temperature': 0.1, 'maxTokens': '2'}, 'messages': [{'role': 'system', 'text': \"Your role is to classify British A-level exam questions into five topics: 1) entreprenuers and leaders, 2) managing people, 3) market, 4) marketing mix and strategy, 5) meeting customer needs. Assign the appropriate topic number based on the question's theme and keywords.\"}, {'role': 'user', 'text': 'define the term brand'}, {'role': 'assistant', 'text': '4'}, {'role': 'user', 'text': 'explain one risk jack ma may have taken when setting up the alibaba group'}, {'role': 'assistant', 'text': '1'}, {'role': 'user', 'text': 'analyse two factors that may have increased demand for the alibaba group'}, {'role': 'assistant', 'text': '3'}, {'role': 'user', 'text': 'discuss if profit maximisation is the main business objective of the alibaba group'}, {'role': 'assistant', 'text': '1'}, {'role': 'user', 'text': 'assess the advantages of a paternalistic style of leadership for a business such as the alibaba group'}, {'role': 'assistant', 'text': '2'}, {'role': 'user', 'text': 'define the term product innovation '}, {'role': 'assistant', 'text': '5'}, {'role': 'user', 'text': 'if nintendo reduces its console prices by 8% calculate the estimated percentage change in demand. you are advised to show your working'}, {'role': 'assistant', 'text': '3'}, {'role': 'user', 'text': 'analyse two different pricing strategies that nintendo might use to compete in the games console industry'}, {'role': 'assistant', 'text': '4'}, {'role': 'user', 'text': 'assess the benefits of a matrix organisational structure for a business such as nintendo'}, {'role': 'assistant', 'text': '2'}, {'role': 'user', 'text': 'Explain how the growth of the fitness market from 2015 to 2016 could have affected puregym'}, {'role': 'assistant', 'text': '5'}, {'role': 'user', 'text': 'Predict the topic number based on the provided question. The topics: 1) entreprenuers and leaders, 2) managing people, 3) market, 4) marketing mix and strategy, 5) meeting customer needs. Please respond with the relevant topic NUMBER.\\nAssess the advantages of market segmentation to a business in the chocolate market.\"'}]}\n"
     ]
    },
    {
     "name": "stderr",
     "output_type": "stream",
     "text": [
      "Processing chunk 2/2:  27%|█████▉                | 7/26 [00:14<00:42,  2.23s/it]"
     ]
    },
    {
     "name": "stdout",
     "output_type": "stream",
     "text": [
      "{'result': {'alternatives': [{'message': {'role': 'assistant', 'text': '3'}, 'status': 'ALTERNATIVE_STATUS_TRUNCATED_FINAL'}], 'usage': {'inputTextTokens': '431', 'completionTokens': '2', 'totalTokens': '433'}, 'modelVersion': '07.03.2024'}}\n",
      "{'modelUri': 'gpt://b1g6odsice70le7mmg6d/yandexgpt-pro', 'completionOptions': {'stream': False, 'temperature': 0.1, 'maxTokens': '2'}, 'messages': [{'role': 'system', 'text': \"Your role is to classify British A-level exam questions into five topics: 1) entreprenuers and leaders, 2) managing people, 3) market, 4) marketing mix and strategy, 5) meeting customer needs. Assign the appropriate topic number based on the question's theme and keywords.\"}, {'role': 'user', 'text': 'define the term brand'}, {'role': 'assistant', 'text': '4'}, {'role': 'user', 'text': 'explain one risk jack ma may have taken when setting up the alibaba group'}, {'role': 'assistant', 'text': '1'}, {'role': 'user', 'text': 'analyse two factors that may have increased demand for the alibaba group'}, {'role': 'assistant', 'text': '3'}, {'role': 'user', 'text': 'discuss if profit maximisation is the main business objective of the alibaba group'}, {'role': 'assistant', 'text': '1'}, {'role': 'user', 'text': 'assess the advantages of a paternalistic style of leadership for a business such as the alibaba group'}, {'role': 'assistant', 'text': '2'}, {'role': 'user', 'text': 'define the term product innovation '}, {'role': 'assistant', 'text': '5'}, {'role': 'user', 'text': 'if nintendo reduces its console prices by 8% calculate the estimated percentage change in demand. you are advised to show your working'}, {'role': 'assistant', 'text': '3'}, {'role': 'user', 'text': 'analyse two different pricing strategies that nintendo might use to compete in the games console industry'}, {'role': 'assistant', 'text': '4'}, {'role': 'user', 'text': 'assess the benefits of a matrix organisational structure for a business such as nintendo'}, {'role': 'assistant', 'text': '2'}, {'role': 'user', 'text': 'Explain how the growth of the fitness market from 2015 to 2016 could have affected puregym'}, {'role': 'assistant', 'text': '5'}, {'role': 'user', 'text': 'Predict the topic number based on the provided question. The topics: 1) entreprenuers and leaders, 2) managing people, 3) market, 4) marketing mix and strategy, 5) meeting customer needs. Please respond with the relevant topic NUMBER.\\nAssess two factors that could cause a change in demand for ape snacks.\"'}]}\n"
     ]
    },
    {
     "name": "stderr",
     "output_type": "stream",
     "text": [
      "Processing chunk 2/2:  31%|██████▊               | 8/26 [00:16<00:37,  2.09s/it]"
     ]
    },
    {
     "name": "stdout",
     "output_type": "stream",
     "text": [
      "{'result': {'alternatives': [{'message': {'role': 'assistant', 'text': '3'}, 'status': 'ALTERNATIVE_STATUS_TRUNCATED_FINAL'}], 'usage': {'inputTextTokens': '432', 'completionTokens': '2', 'totalTokens': '434'}, 'modelVersion': '07.03.2024'}}\n",
      "{'modelUri': 'gpt://b1g6odsice70le7mmg6d/yandexgpt-pro', 'completionOptions': {'stream': False, 'temperature': 0.1, 'maxTokens': '2'}, 'messages': [{'role': 'system', 'text': \"Your role is to classify British A-level exam questions into five topics: 1) entreprenuers and leaders, 2) managing people, 3) market, 4) marketing mix and strategy, 5) meeting customer needs. Assign the appropriate topic number based on the question's theme and keywords.\"}, {'role': 'user', 'text': 'define the term brand'}, {'role': 'assistant', 'text': '4'}, {'role': 'user', 'text': 'explain one risk jack ma may have taken when setting up the alibaba group'}, {'role': 'assistant', 'text': '1'}, {'role': 'user', 'text': 'analyse two factors that may have increased demand for the alibaba group'}, {'role': 'assistant', 'text': '3'}, {'role': 'user', 'text': 'discuss if profit maximisation is the main business objective of the alibaba group'}, {'role': 'assistant', 'text': '1'}, {'role': 'user', 'text': 'assess the advantages of a paternalistic style of leadership for a business such as the alibaba group'}, {'role': 'assistant', 'text': '2'}, {'role': 'user', 'text': 'define the term product innovation '}, {'role': 'assistant', 'text': '5'}, {'role': 'user', 'text': 'if nintendo reduces its console prices by 8% calculate the estimated percentage change in demand. you are advised to show your working'}, {'role': 'assistant', 'text': '3'}, {'role': 'user', 'text': 'analyse two different pricing strategies that nintendo might use to compete in the games console industry'}, {'role': 'assistant', 'text': '4'}, {'role': 'user', 'text': 'assess the benefits of a matrix organisational structure for a business such as nintendo'}, {'role': 'assistant', 'text': '2'}, {'role': 'user', 'text': 'Explain how the growth of the fitness market from 2015 to 2016 could have affected puregym'}, {'role': 'assistant', 'text': '5'}, {'role': 'user', 'text': 'Predict the topic number based on the provided question. The topics: 1) entreprenuers and leaders, 2) managing people, 3) market, 4) marketing mix and strategy, 5) meeting customer needs. Please respond with the relevant topic NUMBER.\\nAnalyse two advantages for ocado of having cost efficiency as a main business objective\"'}]}\n"
     ]
    },
    {
     "name": "stderr",
     "output_type": "stream",
     "text": [
      "Processing chunk 2/2:  35%|███████▌              | 9/26 [00:18<00:33,  1.98s/it]"
     ]
    },
    {
     "name": "stdout",
     "output_type": "stream",
     "text": [
      "{'result': {'alternatives': [{'message': {'role': 'assistant', 'text': '2'}, 'status': 'ALTERNATIVE_STATUS_TRUNCATED_FINAL'}], 'usage': {'inputTextTokens': '433', 'completionTokens': '2', 'totalTokens': '435'}, 'modelVersion': '07.03.2024'}}\n",
      "{'modelUri': 'gpt://b1g6odsice70le7mmg6d/yandexgpt-pro', 'completionOptions': {'stream': False, 'temperature': 0.1, 'maxTokens': '2'}, 'messages': [{'role': 'system', 'text': \"Your role is to classify British A-level exam questions into five topics: 1) entreprenuers and leaders, 2) managing people, 3) market, 4) marketing mix and strategy, 5) meeting customer needs. Assign the appropriate topic number based on the question's theme and keywords.\"}, {'role': 'user', 'text': 'define the term brand'}, {'role': 'assistant', 'text': '4'}, {'role': 'user', 'text': 'explain one risk jack ma may have taken when setting up the alibaba group'}, {'role': 'assistant', 'text': '1'}, {'role': 'user', 'text': 'analyse two factors that may have increased demand for the alibaba group'}, {'role': 'assistant', 'text': '3'}, {'role': 'user', 'text': 'discuss if profit maximisation is the main business objective of the alibaba group'}, {'role': 'assistant', 'text': '1'}, {'role': 'user', 'text': 'assess the advantages of a paternalistic style of leadership for a business such as the alibaba group'}, {'role': 'assistant', 'text': '2'}, {'role': 'user', 'text': 'define the term product innovation '}, {'role': 'assistant', 'text': '5'}, {'role': 'user', 'text': 'if nintendo reduces its console prices by 8% calculate the estimated percentage change in demand. you are advised to show your working'}, {'role': 'assistant', 'text': '3'}, {'role': 'user', 'text': 'analyse two different pricing strategies that nintendo might use to compete in the games console industry'}, {'role': 'assistant', 'text': '4'}, {'role': 'user', 'text': 'assess the benefits of a matrix organisational structure for a business such as nintendo'}, {'role': 'assistant', 'text': '2'}, {'role': 'user', 'text': 'Explain how the growth of the fitness market from 2015 to 2016 could have affected puregym'}, {'role': 'assistant', 'text': '5'}, {'role': 'user', 'text': 'Predict the topic number based on the provided question. The topics: 1) entreprenuers and leaders, 2) managing people, 3) market, 4) marketing mix and strategy, 5) meeting customer needs. Please respond with the relevant topic NUMBER.\\nAssess two likely benefits for puregym of its managers using a paternalistic leadership style\"'}]}\n"
     ]
    },
    {
     "name": "stderr",
     "output_type": "stream",
     "text": [
      "Processing chunk 2/2:  38%|████████             | 10/26 [00:20<00:34,  2.13s/it]"
     ]
    },
    {
     "name": "stdout",
     "output_type": "stream",
     "text": [
      "{'result': {'alternatives': [{'message': {'role': 'assistant', 'text': '2'}, 'status': 'ALTERNATIVE_STATUS_TRUNCATED_FINAL'}], 'usage': {'inputTextTokens': '435', 'completionTokens': '2', 'totalTokens': '437'}, 'modelVersion': '07.03.2024'}}\n",
      "{'modelUri': 'gpt://b1g6odsice70le7mmg6d/yandexgpt-pro', 'completionOptions': {'stream': False, 'temperature': 0.1, 'maxTokens': '2'}, 'messages': [{'role': 'system', 'text': \"Your role is to classify British A-level exam questions into five topics: 1) entreprenuers and leaders, 2) managing people, 3) market, 4) marketing mix and strategy, 5) meeting customer needs. Assign the appropriate topic number based on the question's theme and keywords.\"}, {'role': 'user', 'text': 'define the term brand'}, {'role': 'assistant', 'text': '4'}, {'role': 'user', 'text': 'explain one risk jack ma may have taken when setting up the alibaba group'}, {'role': 'assistant', 'text': '1'}, {'role': 'user', 'text': 'analyse two factors that may have increased demand for the alibaba group'}, {'role': 'assistant', 'text': '3'}, {'role': 'user', 'text': 'discuss if profit maximisation is the main business objective of the alibaba group'}, {'role': 'assistant', 'text': '1'}, {'role': 'user', 'text': 'assess the advantages of a paternalistic style of leadership for a business such as the alibaba group'}, {'role': 'assistant', 'text': '2'}, {'role': 'user', 'text': 'define the term product innovation '}, {'role': 'assistant', 'text': '5'}, {'role': 'user', 'text': 'if nintendo reduces its console prices by 8% calculate the estimated percentage change in demand. you are advised to show your working'}, {'role': 'assistant', 'text': '3'}, {'role': 'user', 'text': 'analyse two different pricing strategies that nintendo might use to compete in the games console industry'}, {'role': 'assistant', 'text': '4'}, {'role': 'user', 'text': 'assess the benefits of a matrix organisational structure for a business such as nintendo'}, {'role': 'assistant', 'text': '2'}, {'role': 'user', 'text': 'Explain how the growth of the fitness market from 2015 to 2016 could have affected puregym'}, {'role': 'assistant', 'text': '5'}, {'role': 'user', 'text': 'Predict the topic number based on the provided question. The topics: 1) entreprenuers and leaders, 2) managing people, 3) market, 4) marketing mix and strategy, 5) meeting customer needs. Please respond with the relevant topic NUMBER.\\nDefine the term ‘customer loyalty’.\"'}]}\n"
     ]
    },
    {
     "name": "stderr",
     "output_type": "stream",
     "text": [
      "Processing chunk 2/2:  42%|████████▉            | 11/26 [00:22<00:32,  2.20s/it]"
     ]
    },
    {
     "name": "stdout",
     "output_type": "stream",
     "text": [
      "{'result': {'alternatives': [{'message': {'role': 'assistant', 'text': '5'}, 'status': 'ALTERNATIVE_STATUS_TRUNCATED_FINAL'}], 'usage': {'inputTextTokens': '424', 'completionTokens': '2', 'totalTokens': '426'}, 'modelVersion': '07.03.2024'}}\n",
      "{'modelUri': 'gpt://b1g6odsice70le7mmg6d/yandexgpt-pro', 'completionOptions': {'stream': False, 'temperature': 0.1, 'maxTokens': '2'}, 'messages': [{'role': 'system', 'text': \"Your role is to classify British A-level exam questions into five topics: 1) entreprenuers and leaders, 2) managing people, 3) market, 4) marketing mix and strategy, 5) meeting customer needs. Assign the appropriate topic number based on the question's theme and keywords.\"}, {'role': 'user', 'text': 'define the term brand'}, {'role': 'assistant', 'text': '4'}, {'role': 'user', 'text': 'explain one risk jack ma may have taken when setting up the alibaba group'}, {'role': 'assistant', 'text': '1'}, {'role': 'user', 'text': 'analyse two factors that may have increased demand for the alibaba group'}, {'role': 'assistant', 'text': '3'}, {'role': 'user', 'text': 'discuss if profit maximisation is the main business objective of the alibaba group'}, {'role': 'assistant', 'text': '1'}, {'role': 'user', 'text': 'assess the advantages of a paternalistic style of leadership for a business such as the alibaba group'}, {'role': 'assistant', 'text': '2'}, {'role': 'user', 'text': 'define the term product innovation '}, {'role': 'assistant', 'text': '5'}, {'role': 'user', 'text': 'if nintendo reduces its console prices by 8% calculate the estimated percentage change in demand. you are advised to show your working'}, {'role': 'assistant', 'text': '3'}, {'role': 'user', 'text': 'analyse two different pricing strategies that nintendo might use to compete in the games console industry'}, {'role': 'assistant', 'text': '4'}, {'role': 'user', 'text': 'assess the benefits of a matrix organisational structure for a business such as nintendo'}, {'role': 'assistant', 'text': '2'}, {'role': 'user', 'text': 'Explain how the growth of the fitness market from 2015 to 2016 could have affected puregym'}, {'role': 'assistant', 'text': '5'}, {'role': 'user', 'text': 'Predict the topic number based on the provided question. The topics: 1) entreprenuers and leaders, 2) managing people, 3) market, 4) marketing mix and strategy, 5) meeting customer needs. Please respond with the relevant topic NUMBER.\\nAssess why providing added value might be particularly important for any fold enterprise.\"'}]}\n"
     ]
    },
    {
     "name": "stderr",
     "output_type": "stream",
     "text": [
      "Processing chunk 2/2:  46%|█████████▋           | 12/26 [00:24<00:28,  2.02s/it]"
     ]
    },
    {
     "name": "stdout",
     "output_type": "stream",
     "text": [
      "{'result': {'alternatives': [{'message': {'role': 'assistant', 'text': '2'}, 'status': 'ALTERNATIVE_STATUS_TRUNCATED_FINAL'}], 'usage': {'inputTextTokens': '431', 'completionTokens': '2', 'totalTokens': '433'}, 'modelVersion': '07.03.2024'}}\n",
      "{'modelUri': 'gpt://b1g6odsice70le7mmg6d/yandexgpt-pro', 'completionOptions': {'stream': False, 'temperature': 0.1, 'maxTokens': '2'}, 'messages': [{'role': 'system', 'text': \"Your role is to classify British A-level exam questions into five topics: 1) entreprenuers and leaders, 2) managing people, 3) market, 4) marketing mix and strategy, 5) meeting customer needs. Assign the appropriate topic number based on the question's theme and keywords.\"}, {'role': 'user', 'text': 'define the term brand'}, {'role': 'assistant', 'text': '4'}, {'role': 'user', 'text': 'explain one risk jack ma may have taken when setting up the alibaba group'}, {'role': 'assistant', 'text': '1'}, {'role': 'user', 'text': 'analyse two factors that may have increased demand for the alibaba group'}, {'role': 'assistant', 'text': '3'}, {'role': 'user', 'text': 'discuss if profit maximisation is the main business objective of the alibaba group'}, {'role': 'assistant', 'text': '1'}, {'role': 'user', 'text': 'assess the advantages of a paternalistic style of leadership for a business such as the alibaba group'}, {'role': 'assistant', 'text': '2'}, {'role': 'user', 'text': 'define the term product innovation '}, {'role': 'assistant', 'text': '5'}, {'role': 'user', 'text': 'if nintendo reduces its console prices by 8% calculate the estimated percentage change in demand. you are advised to show your working'}, {'role': 'assistant', 'text': '3'}, {'role': 'user', 'text': 'analyse two different pricing strategies that nintendo might use to compete in the games console industry'}, {'role': 'assistant', 'text': '4'}, {'role': 'user', 'text': 'assess the benefits of a matrix organisational structure for a business such as nintendo'}, {'role': 'assistant', 'text': '2'}, {'role': 'user', 'text': 'Explain how the growth of the fitness market from 2015 to 2016 could have affected puregym'}, {'role': 'assistant', 'text': '5'}, {'role': 'user', 'text': 'Predict the topic number based on the provided question. The topics: 1) entreprenuers and leaders, 2) managing people, 3) market, 4) marketing mix and strategy, 5) meeting customer needs. Please respond with the relevant topic NUMBER.\\nEvaluate the extent to which nike’s distribution strategy is likely to contribute to its future success.\"'}]}\n"
     ]
    },
    {
     "name": "stderr",
     "output_type": "stream",
     "text": [
      "Processing chunk 2/2:  50%|██████████▌          | 13/26 [00:26<00:25,  1.95s/it]"
     ]
    },
    {
     "name": "stdout",
     "output_type": "stream",
     "text": [
      "{'result': {'alternatives': [{'message': {'role': 'assistant', 'text': '4'}, 'status': 'ALTERNATIVE_STATUS_TRUNCATED_FINAL'}], 'usage': {'inputTextTokens': '437', 'completionTokens': '2', 'totalTokens': '439'}, 'modelVersion': '07.03.2024'}}\n",
      "{'modelUri': 'gpt://b1g6odsice70le7mmg6d/yandexgpt-pro', 'completionOptions': {'stream': False, 'temperature': 0.1, 'maxTokens': '2'}, 'messages': [{'role': 'system', 'text': \"Your role is to classify British A-level exam questions into five topics: 1) entreprenuers and leaders, 2) managing people, 3) market, 4) marketing mix and strategy, 5) meeting customer needs. Assign the appropriate topic number based on the question's theme and keywords.\"}, {'role': 'user', 'text': 'define the term brand'}, {'role': 'assistant', 'text': '4'}, {'role': 'user', 'text': 'explain one risk jack ma may have taken when setting up the alibaba group'}, {'role': 'assistant', 'text': '1'}, {'role': 'user', 'text': 'analyse two factors that may have increased demand for the alibaba group'}, {'role': 'assistant', 'text': '3'}, {'role': 'user', 'text': 'discuss if profit maximisation is the main business objective of the alibaba group'}, {'role': 'assistant', 'text': '1'}, {'role': 'user', 'text': 'assess the advantages of a paternalistic style of leadership for a business such as the alibaba group'}, {'role': 'assistant', 'text': '2'}, {'role': 'user', 'text': 'define the term product innovation '}, {'role': 'assistant', 'text': '5'}, {'role': 'user', 'text': 'if nintendo reduces its console prices by 8% calculate the estimated percentage change in demand. you are advised to show your working'}, {'role': 'assistant', 'text': '3'}, {'role': 'user', 'text': 'analyse two different pricing strategies that nintendo might use to compete in the games console industry'}, {'role': 'assistant', 'text': '4'}, {'role': 'user', 'text': 'assess the benefits of a matrix organisational structure for a business such as nintendo'}, {'role': 'assistant', 'text': '2'}, {'role': 'user', 'text': 'Explain how the growth of the fitness market from 2015 to 2016 could have affected puregym'}, {'role': 'assistant', 'text': '5'}, {'role': 'user', 'text': 'Predict the topic number based on the provided question. The topics: 1) entreprenuers and leaders, 2) managing people, 3) market, 4) marketing mix and strategy, 5) meeting customer needs. Please respond with the relevant topic NUMBER.\\nWhat is meant by brand\"'}]}\n"
     ]
    },
    {
     "name": "stderr",
     "output_type": "stream",
     "text": [
      "Processing chunk 2/2:  54%|███████████▎         | 14/26 [00:28<00:22,  1.91s/it]"
     ]
    },
    {
     "name": "stdout",
     "output_type": "stream",
     "text": [
      "{'result': {'alternatives': [{'message': {'role': 'assistant', 'text': '4'}, 'status': 'ALTERNATIVE_STATUS_TRUNCATED_FINAL'}], 'usage': {'inputTextTokens': '422', 'completionTokens': '2', 'totalTokens': '424'}, 'modelVersion': '07.03.2024'}}\n",
      "{'modelUri': 'gpt://b1g6odsice70le7mmg6d/yandexgpt-pro', 'completionOptions': {'stream': False, 'temperature': 0.1, 'maxTokens': '2'}, 'messages': [{'role': 'system', 'text': \"Your role is to classify British A-level exam questions into five topics: 1) entreprenuers and leaders, 2) managing people, 3) market, 4) marketing mix and strategy, 5) meeting customer needs. Assign the appropriate topic number based on the question's theme and keywords.\"}, {'role': 'user', 'text': 'define the term brand'}, {'role': 'assistant', 'text': '4'}, {'role': 'user', 'text': 'explain one risk jack ma may have taken when setting up the alibaba group'}, {'role': 'assistant', 'text': '1'}, {'role': 'user', 'text': 'analyse two factors that may have increased demand for the alibaba group'}, {'role': 'assistant', 'text': '3'}, {'role': 'user', 'text': 'discuss if profit maximisation is the main business objective of the alibaba group'}, {'role': 'assistant', 'text': '1'}, {'role': 'user', 'text': 'assess the advantages of a paternalistic style of leadership for a business such as the alibaba group'}, {'role': 'assistant', 'text': '2'}, {'role': 'user', 'text': 'define the term product innovation '}, {'role': 'assistant', 'text': '5'}, {'role': 'user', 'text': 'if nintendo reduces its console prices by 8% calculate the estimated percentage change in demand. you are advised to show your working'}, {'role': 'assistant', 'text': '3'}, {'role': 'user', 'text': 'analyse two different pricing strategies that nintendo might use to compete in the games console industry'}, {'role': 'assistant', 'text': '4'}, {'role': 'user', 'text': 'assess the benefits of a matrix organisational structure for a business such as nintendo'}, {'role': 'assistant', 'text': '2'}, {'role': 'user', 'text': 'Explain how the growth of the fitness market from 2015 to 2016 could have affected puregym'}, {'role': 'assistant', 'text': '5'}, {'role': 'user', 'text': 'Predict the topic number based on the provided question. The topics: 1) entreprenuers and leaders, 2) managing people, 3) market, 4) marketing mix and strategy, 5) meeting customer needs. Please respond with the relevant topic NUMBER.\\nEvaluate which type of training may be the most effective for shangri-la hotels.\"'}]}\n"
     ]
    },
    {
     "name": "stderr",
     "output_type": "stream",
     "text": [
      "Processing chunk 2/2:  58%|████████████         | 15/26 [00:29<00:20,  1.88s/it]"
     ]
    },
    {
     "name": "stdout",
     "output_type": "stream",
     "text": [
      "{'result': {'alternatives': [{'message': {'role': 'assistant', 'text': '2'}, 'status': 'ALTERNATIVE_STATUS_TRUNCATED_FINAL'}], 'usage': {'inputTextTokens': '435', 'completionTokens': '2', 'totalTokens': '437'}, 'modelVersion': '07.03.2024'}}\n",
      "{'modelUri': 'gpt://b1g6odsice70le7mmg6d/yandexgpt-pro', 'completionOptions': {'stream': False, 'temperature': 0.1, 'maxTokens': '2'}, 'messages': [{'role': 'system', 'text': \"Your role is to classify British A-level exam questions into five topics: 1) entreprenuers and leaders, 2) managing people, 3) market, 4) marketing mix and strategy, 5) meeting customer needs. Assign the appropriate topic number based on the question's theme and keywords.\"}, {'role': 'user', 'text': 'define the term brand'}, {'role': 'assistant', 'text': '4'}, {'role': 'user', 'text': 'explain one risk jack ma may have taken when setting up the alibaba group'}, {'role': 'assistant', 'text': '1'}, {'role': 'user', 'text': 'analyse two factors that may have increased demand for the alibaba group'}, {'role': 'assistant', 'text': '3'}, {'role': 'user', 'text': 'discuss if profit maximisation is the main business objective of the alibaba group'}, {'role': 'assistant', 'text': '1'}, {'role': 'user', 'text': 'assess the advantages of a paternalistic style of leadership for a business such as the alibaba group'}, {'role': 'assistant', 'text': '2'}, {'role': 'user', 'text': 'define the term product innovation '}, {'role': 'assistant', 'text': '5'}, {'role': 'user', 'text': 'if nintendo reduces its console prices by 8% calculate the estimated percentage change in demand. you are advised to show your working'}, {'role': 'assistant', 'text': '3'}, {'role': 'user', 'text': 'analyse two different pricing strategies that nintendo might use to compete in the games console industry'}, {'role': 'assistant', 'text': '4'}, {'role': 'user', 'text': 'assess the benefits of a matrix organisational structure for a business such as nintendo'}, {'role': 'assistant', 'text': '2'}, {'role': 'user', 'text': 'Explain how the growth of the fitness market from 2015 to 2016 could have affected puregym'}, {'role': 'assistant', 'text': '5'}, {'role': 'user', 'text': 'Predict the topic number based on the provided question. The topics: 1) entreprenuers and leaders, 2) managing people, 3) market, 4) marketing mix and strategy, 5) meeting customer needs. Please respond with the relevant topic NUMBER.\\nAssess whether or not having product trials benefits a company such as superjam.\"'}]}\n"
     ]
    },
    {
     "name": "stderr",
     "output_type": "stream",
     "text": [
      "Processing chunk 2/2:  62%|████████████▉        | 16/26 [00:31<00:18,  1.82s/it]"
     ]
    },
    {
     "name": "stdout",
     "output_type": "stream",
     "text": [
      "{'result': {'alternatives': [{'message': {'role': 'assistant', 'text': '4'}, 'status': 'ALTERNATIVE_STATUS_TRUNCATED_FINAL'}], 'usage': {'inputTextTokens': '432', 'completionTokens': '2', 'totalTokens': '434'}, 'modelVersion': '07.03.2024'}}\n",
      "{'modelUri': 'gpt://b1g6odsice70le7mmg6d/yandexgpt-pro', 'completionOptions': {'stream': False, 'temperature': 0.1, 'maxTokens': '2'}, 'messages': [{'role': 'system', 'text': \"Your role is to classify British A-level exam questions into five topics: 1) entreprenuers and leaders, 2) managing people, 3) market, 4) marketing mix and strategy, 5) meeting customer needs. Assign the appropriate topic number based on the question's theme and keywords.\"}, {'role': 'user', 'text': 'define the term brand'}, {'role': 'assistant', 'text': '4'}, {'role': 'user', 'text': 'explain one risk jack ma may have taken when setting up the alibaba group'}, {'role': 'assistant', 'text': '1'}, {'role': 'user', 'text': 'analyse two factors that may have increased demand for the alibaba group'}, {'role': 'assistant', 'text': '3'}, {'role': 'user', 'text': 'discuss if profit maximisation is the main business objective of the alibaba group'}, {'role': 'assistant', 'text': '1'}, {'role': 'user', 'text': 'assess the advantages of a paternalistic style of leadership for a business such as the alibaba group'}, {'role': 'assistant', 'text': '2'}, {'role': 'user', 'text': 'define the term product innovation '}, {'role': 'assistant', 'text': '5'}, {'role': 'user', 'text': 'if nintendo reduces its console prices by 8% calculate the estimated percentage change in demand. you are advised to show your working'}, {'role': 'assistant', 'text': '3'}, {'role': 'user', 'text': 'analyse two different pricing strategies that nintendo might use to compete in the games console industry'}, {'role': 'assistant', 'text': '4'}, {'role': 'user', 'text': 'assess the benefits of a matrix organisational structure for a business such as nintendo'}, {'role': 'assistant', 'text': '2'}, {'role': 'user', 'text': 'Explain how the growth of the fitness market from 2015 to 2016 could have affected puregym'}, {'role': 'assistant', 'text': '5'}, {'role': 'user', 'text': 'Predict the topic number based on the provided question. The topics: 1) entreprenuers and leaders, 2) managing people, 3) market, 4) marketing mix and strategy, 5) meeting customer needs. Please respond with the relevant topic NUMBER.\\nDiscuss the benefits for a business such as kapgel of using part time and temporary employees\"'}]}\n"
     ]
    },
    {
     "name": "stderr",
     "output_type": "stream",
     "text": [
      "Processing chunk 2/2:  65%|█████████████▋       | 17/26 [00:33<00:15,  1.76s/it]"
     ]
    },
    {
     "name": "stdout",
     "output_type": "stream",
     "text": [
      "{'result': {'alternatives': [{'message': {'role': 'assistant', 'text': '2'}, 'status': 'ALTERNATIVE_STATUS_TRUNCATED_FINAL'}], 'usage': {'inputTextTokens': '434', 'completionTokens': '2', 'totalTokens': '436'}, 'modelVersion': '07.03.2024'}}\n",
      "{'modelUri': 'gpt://b1g6odsice70le7mmg6d/yandexgpt-pro', 'completionOptions': {'stream': False, 'temperature': 0.1, 'maxTokens': '2'}, 'messages': [{'role': 'system', 'text': \"Your role is to classify British A-level exam questions into five topics: 1) entreprenuers and leaders, 2) managing people, 3) market, 4) marketing mix and strategy, 5) meeting customer needs. Assign the appropriate topic number based on the question's theme and keywords.\"}, {'role': 'user', 'text': 'define the term brand'}, {'role': 'assistant', 'text': '4'}, {'role': 'user', 'text': 'explain one risk jack ma may have taken when setting up the alibaba group'}, {'role': 'assistant', 'text': '1'}, {'role': 'user', 'text': 'analyse two factors that may have increased demand for the alibaba group'}, {'role': 'assistant', 'text': '3'}, {'role': 'user', 'text': 'discuss if profit maximisation is the main business objective of the alibaba group'}, {'role': 'assistant', 'text': '1'}, {'role': 'user', 'text': 'assess the advantages of a paternalistic style of leadership for a business such as the alibaba group'}, {'role': 'assistant', 'text': '2'}, {'role': 'user', 'text': 'define the term product innovation '}, {'role': 'assistant', 'text': '5'}, {'role': 'user', 'text': 'if nintendo reduces its console prices by 8% calculate the estimated percentage change in demand. you are advised to show your working'}, {'role': 'assistant', 'text': '3'}, {'role': 'user', 'text': 'analyse two different pricing strategies that nintendo might use to compete in the games console industry'}, {'role': 'assistant', 'text': '4'}, {'role': 'user', 'text': 'assess the benefits of a matrix organisational structure for a business such as nintendo'}, {'role': 'assistant', 'text': '2'}, {'role': 'user', 'text': 'Explain how the growth of the fitness market from 2015 to 2016 could have affected puregym'}, {'role': 'assistant', 'text': '5'}, {'role': 'user', 'text': 'Predict the topic number based on the provided question. The topics: 1) entreprenuers and leaders, 2) managing people, 3) market, 4) marketing mix and strategy, 5) meeting customer needs. Please respond with the relevant topic NUMBER.\\nAssess the possible consequences for bon bon’s continuing to sell ‘traffic light lollies’.\"'}]}\n"
     ]
    },
    {
     "name": "stderr",
     "output_type": "stream",
     "text": [
      "Processing chunk 2/2:  69%|██████████████▌      | 18/26 [00:34<00:13,  1.73s/it]"
     ]
    },
    {
     "name": "stdout",
     "output_type": "stream",
     "text": [
      "{'result': {'alternatives': [{'message': {'role': 'assistant', 'text': '5'}, 'status': 'ALTERNATIVE_STATUS_TRUNCATED_FINAL'}], 'usage': {'inputTextTokens': '437', 'completionTokens': '2', 'totalTokens': '439'}, 'modelVersion': '07.03.2024'}}\n",
      "{'modelUri': 'gpt://b1g6odsice70le7mmg6d/yandexgpt-pro', 'completionOptions': {'stream': False, 'temperature': 0.1, 'maxTokens': '2'}, 'messages': [{'role': 'system', 'text': \"Your role is to classify British A-level exam questions into five topics: 1) entreprenuers and leaders, 2) managing people, 3) market, 4) marketing mix and strategy, 5) meeting customer needs. Assign the appropriate topic number based on the question's theme and keywords.\"}, {'role': 'user', 'text': 'define the term brand'}, {'role': 'assistant', 'text': '4'}, {'role': 'user', 'text': 'explain one risk jack ma may have taken when setting up the alibaba group'}, {'role': 'assistant', 'text': '1'}, {'role': 'user', 'text': 'analyse two factors that may have increased demand for the alibaba group'}, {'role': 'assistant', 'text': '3'}, {'role': 'user', 'text': 'discuss if profit maximisation is the main business objective of the alibaba group'}, {'role': 'assistant', 'text': '1'}, {'role': 'user', 'text': 'assess the advantages of a paternalistic style of leadership for a business such as the alibaba group'}, {'role': 'assistant', 'text': '2'}, {'role': 'user', 'text': 'define the term product innovation '}, {'role': 'assistant', 'text': '5'}, {'role': 'user', 'text': 'if nintendo reduces its console prices by 8% calculate the estimated percentage change in demand. you are advised to show your working'}, {'role': 'assistant', 'text': '3'}, {'role': 'user', 'text': 'analyse two different pricing strategies that nintendo might use to compete in the games console industry'}, {'role': 'assistant', 'text': '4'}, {'role': 'user', 'text': 'assess the benefits of a matrix organisational structure for a business such as nintendo'}, {'role': 'assistant', 'text': '2'}, {'role': 'user', 'text': 'Explain how the growth of the fitness market from 2015 to 2016 could have affected puregym'}, {'role': 'assistant', 'text': '5'}, {'role': 'user', 'text': 'Predict the topic number based on the provided question. The topics: 1) entreprenuers and leaders, 2) managing people, 3) market, 4) marketing mix and strategy, 5) meeting customer needs. Please respond with the relevant topic NUMBER.\\nAnalyse two advantages for lehman\\'s of providing benefits to its employees\"'}]}\n"
     ]
    },
    {
     "name": "stderr",
     "output_type": "stream",
     "text": [
      "Processing chunk 2/2:  73%|███████████████▎     | 19/26 [00:46<00:32,  4.62s/it]"
     ]
    },
    {
     "name": "stdout",
     "output_type": "stream",
     "text": [
      "{'result': {'alternatives': [{'message': {'role': 'assistant', 'text': '2'}, 'status': 'ALTERNATIVE_STATUS_TRUNCATED_FINAL'}], 'usage': {'inputTextTokens': '432', 'completionTokens': '2', 'totalTokens': '434'}, 'modelVersion': '07.03.2024'}}\n",
      "{'modelUri': 'gpt://b1g6odsice70le7mmg6d/yandexgpt-pro', 'completionOptions': {'stream': False, 'temperature': 0.1, 'maxTokens': '2'}, 'messages': [{'role': 'system', 'text': \"Your role is to classify British A-level exam questions into five topics: 1) entreprenuers and leaders, 2) managing people, 3) market, 4) marketing mix and strategy, 5) meeting customer needs. Assign the appropriate topic number based on the question's theme and keywords.\"}, {'role': 'user', 'text': 'define the term brand'}, {'role': 'assistant', 'text': '4'}, {'role': 'user', 'text': 'explain one risk jack ma may have taken when setting up the alibaba group'}, {'role': 'assistant', 'text': '1'}, {'role': 'user', 'text': 'analyse two factors that may have increased demand for the alibaba group'}, {'role': 'assistant', 'text': '3'}, {'role': 'user', 'text': 'discuss if profit maximisation is the main business objective of the alibaba group'}, {'role': 'assistant', 'text': '1'}, {'role': 'user', 'text': 'assess the advantages of a paternalistic style of leadership for a business such as the alibaba group'}, {'role': 'assistant', 'text': '2'}, {'role': 'user', 'text': 'define the term product innovation '}, {'role': 'assistant', 'text': '5'}, {'role': 'user', 'text': 'if nintendo reduces its console prices by 8% calculate the estimated percentage change in demand. you are advised to show your working'}, {'role': 'assistant', 'text': '3'}, {'role': 'user', 'text': 'analyse two different pricing strategies that nintendo might use to compete in the games console industry'}, {'role': 'assistant', 'text': '4'}, {'role': 'user', 'text': 'assess the benefits of a matrix organisational structure for a business such as nintendo'}, {'role': 'assistant', 'text': '2'}, {'role': 'user', 'text': 'Explain how the growth of the fitness market from 2015 to 2016 could have affected puregym'}, {'role': 'assistant', 'text': '5'}, {'role': 'user', 'text': 'Predict the topic number based on the provided question. The topics: 1) entreprenuers and leaders, 2) managing people, 3) market, 4) marketing mix and strategy, 5) meeting customer needs. Please respond with the relevant topic NUMBER.\\nExplain how the concept of opportunity cost applies to david.\"'}]}\n"
     ]
    },
    {
     "name": "stderr",
     "output_type": "stream",
     "text": [
      "Processing chunk 2/2:  77%|████████████████▏    | 20/26 [00:47<00:22,  3.73s/it]"
     ]
    },
    {
     "name": "stdout",
     "output_type": "stream",
     "text": [
      "{'result': {'alternatives': [{'message': {'role': 'assistant', 'text': '1'}, 'status': 'ALTERNATIVE_STATUS_TRUNCATED_FINAL'}], 'usage': {'inputTextTokens': '427', 'completionTokens': '2', 'totalTokens': '429'}, 'modelVersion': '07.03.2024'}}\n",
      "{'modelUri': 'gpt://b1g6odsice70le7mmg6d/yandexgpt-pro', 'completionOptions': {'stream': False, 'temperature': 0.1, 'maxTokens': '2'}, 'messages': [{'role': 'system', 'text': \"Your role is to classify British A-level exam questions into five topics: 1) entreprenuers and leaders, 2) managing people, 3) market, 4) marketing mix and strategy, 5) meeting customer needs. Assign the appropriate topic number based on the question's theme and keywords.\"}, {'role': 'user', 'text': 'define the term brand'}, {'role': 'assistant', 'text': '4'}, {'role': 'user', 'text': 'explain one risk jack ma may have taken when setting up the alibaba group'}, {'role': 'assistant', 'text': '1'}, {'role': 'user', 'text': 'analyse two factors that may have increased demand for the alibaba group'}, {'role': 'assistant', 'text': '3'}, {'role': 'user', 'text': 'discuss if profit maximisation is the main business objective of the alibaba group'}, {'role': 'assistant', 'text': '1'}, {'role': 'user', 'text': 'assess the advantages of a paternalistic style of leadership for a business such as the alibaba group'}, {'role': 'assistant', 'text': '2'}, {'role': 'user', 'text': 'define the term product innovation '}, {'role': 'assistant', 'text': '5'}, {'role': 'user', 'text': 'if nintendo reduces its console prices by 8% calculate the estimated percentage change in demand. you are advised to show your working'}, {'role': 'assistant', 'text': '3'}, {'role': 'user', 'text': 'analyse two different pricing strategies that nintendo might use to compete in the games console industry'}, {'role': 'assistant', 'text': '4'}, {'role': 'user', 'text': 'assess the benefits of a matrix organisational structure for a business such as nintendo'}, {'role': 'assistant', 'text': '2'}, {'role': 'user', 'text': 'Explain how the growth of the fitness market from 2015 to 2016 could have affected puregym'}, {'role': 'assistant', 'text': '5'}, {'role': 'user', 'text': 'Predict the topic number based on the provided question. The topics: 1) entreprenuers and leaders, 2) managing people, 3) market, 4) marketing mix and strategy, 5) meeting customer needs. Please respond with the relevant topic NUMBER.\\nDefine the term customer loyalty\"'}]}\n"
     ]
    },
    {
     "name": "stderr",
     "output_type": "stream",
     "text": [
      "Processing chunk 2/2:  81%|████████████████▉    | 21/26 [00:49<00:15,  3.11s/it]"
     ]
    },
    {
     "name": "stdout",
     "output_type": "stream",
     "text": [
      "{'result': {'alternatives': [{'message': {'role': 'assistant', 'text': '5'}, 'status': 'ALTERNATIVE_STATUS_TRUNCATED_FINAL'}], 'usage': {'inputTextTokens': '422', 'completionTokens': '2', 'totalTokens': '424'}, 'modelVersion': '07.03.2024'}}\n",
      "{'modelUri': 'gpt://b1g6odsice70le7mmg6d/yandexgpt-pro', 'completionOptions': {'stream': False, 'temperature': 0.1, 'maxTokens': '2'}, 'messages': [{'role': 'system', 'text': \"Your role is to classify British A-level exam questions into five topics: 1) entreprenuers and leaders, 2) managing people, 3) market, 4) marketing mix and strategy, 5) meeting customer needs. Assign the appropriate topic number based on the question's theme and keywords.\"}, {'role': 'user', 'text': 'define the term brand'}, {'role': 'assistant', 'text': '4'}, {'role': 'user', 'text': 'explain one risk jack ma may have taken when setting up the alibaba group'}, {'role': 'assistant', 'text': '1'}, {'role': 'user', 'text': 'analyse two factors that may have increased demand for the alibaba group'}, {'role': 'assistant', 'text': '3'}, {'role': 'user', 'text': 'discuss if profit maximisation is the main business objective of the alibaba group'}, {'role': 'assistant', 'text': '1'}, {'role': 'user', 'text': 'assess the advantages of a paternalistic style of leadership for a business such as the alibaba group'}, {'role': 'assistant', 'text': '2'}, {'role': 'user', 'text': 'define the term product innovation '}, {'role': 'assistant', 'text': '5'}, {'role': 'user', 'text': 'if nintendo reduces its console prices by 8% calculate the estimated percentage change in demand. you are advised to show your working'}, {'role': 'assistant', 'text': '3'}, {'role': 'user', 'text': 'analyse two different pricing strategies that nintendo might use to compete in the games console industry'}, {'role': 'assistant', 'text': '4'}, {'role': 'user', 'text': 'assess the benefits of a matrix organisational structure for a business such as nintendo'}, {'role': 'assistant', 'text': '2'}, {'role': 'user', 'text': 'Explain how the growth of the fitness market from 2015 to 2016 could have affected puregym'}, {'role': 'assistant', 'text': '5'}, {'role': 'user', 'text': 'Predict the topic number based on the provided question. The topics: 1) entreprenuers and leaders, 2) managing people, 3) market, 4) marketing mix and strategy, 5) meeting customer needs. Please respond with the relevant topic NUMBER.\\nDiscuss the advantages for deutsche bank of using television advertising in its marketing campaign.\"'}]}\n"
     ]
    },
    {
     "name": "stderr",
     "output_type": "stream",
     "text": [
      "Processing chunk 2/2:  85%|█████████████████▊   | 22/26 [00:51<00:10,  2.69s/it]"
     ]
    },
    {
     "name": "stdout",
     "output_type": "stream",
     "text": [
      "{'result': {'alternatives': [{'message': {'role': 'assistant', 'text': '4'}, 'status': 'ALTERNATIVE_STATUS_TRUNCATED_FINAL'}], 'usage': {'inputTextTokens': '432', 'completionTokens': '2', 'totalTokens': '434'}, 'modelVersion': '07.03.2024'}}\n",
      "{'modelUri': 'gpt://b1g6odsice70le7mmg6d/yandexgpt-pro', 'completionOptions': {'stream': False, 'temperature': 0.1, 'maxTokens': '2'}, 'messages': [{'role': 'system', 'text': \"Your role is to classify British A-level exam questions into five topics: 1) entreprenuers and leaders, 2) managing people, 3) market, 4) marketing mix and strategy, 5) meeting customer needs. Assign the appropriate topic number based on the question's theme and keywords.\"}, {'role': 'user', 'text': 'define the term brand'}, {'role': 'assistant', 'text': '4'}, {'role': 'user', 'text': 'explain one risk jack ma may have taken when setting up the alibaba group'}, {'role': 'assistant', 'text': '1'}, {'role': 'user', 'text': 'analyse two factors that may have increased demand for the alibaba group'}, {'role': 'assistant', 'text': '3'}, {'role': 'user', 'text': 'discuss if profit maximisation is the main business objective of the alibaba group'}, {'role': 'assistant', 'text': '1'}, {'role': 'user', 'text': 'assess the advantages of a paternalistic style of leadership for a business such as the alibaba group'}, {'role': 'assistant', 'text': '2'}, {'role': 'user', 'text': 'define the term product innovation '}, {'role': 'assistant', 'text': '5'}, {'role': 'user', 'text': 'if nintendo reduces its console prices by 8% calculate the estimated percentage change in demand. you are advised to show your working'}, {'role': 'assistant', 'text': '3'}, {'role': 'user', 'text': 'analyse two different pricing strategies that nintendo might use to compete in the games console industry'}, {'role': 'assistant', 'text': '4'}, {'role': 'user', 'text': 'assess the benefits of a matrix organisational structure for a business such as nintendo'}, {'role': 'assistant', 'text': '2'}, {'role': 'user', 'text': 'Explain how the growth of the fitness market from 2015 to 2016 could have affected puregym'}, {'role': 'assistant', 'text': '5'}, {'role': 'user', 'text': 'Predict the topic number based on the provided question. The topics: 1) entreprenuers and leaders, 2) managing people, 3) market, 4) marketing mix and strategy, 5) meeting customer needs. Please respond with the relevant topic NUMBER.\\nWhat is meant by market growth\"'}]}\n"
     ]
    },
    {
     "name": "stderr",
     "output_type": "stream",
     "text": [
      "Processing chunk 2/2:  88%|██████████████████▌  | 23/26 [00:53<00:07,  2.41s/it]"
     ]
    },
    {
     "name": "stdout",
     "output_type": "stream",
     "text": [
      "{'result': {'alternatives': [{'message': {'role': 'assistant', 'text': '3'}, 'status': 'ALTERNATIVE_STATUS_TRUNCATED_FINAL'}], 'usage': {'inputTextTokens': '423', 'completionTokens': '2', 'totalTokens': '425'}, 'modelVersion': '07.03.2024'}}\n",
      "{'modelUri': 'gpt://b1g6odsice70le7mmg6d/yandexgpt-pro', 'completionOptions': {'stream': False, 'temperature': 0.1, 'maxTokens': '2'}, 'messages': [{'role': 'system', 'text': \"Your role is to classify British A-level exam questions into five topics: 1) entreprenuers and leaders, 2) managing people, 3) market, 4) marketing mix and strategy, 5) meeting customer needs. Assign the appropriate topic number based on the question's theme and keywords.\"}, {'role': 'user', 'text': 'define the term brand'}, {'role': 'assistant', 'text': '4'}, {'role': 'user', 'text': 'explain one risk jack ma may have taken when setting up the alibaba group'}, {'role': 'assistant', 'text': '1'}, {'role': 'user', 'text': 'analyse two factors that may have increased demand for the alibaba group'}, {'role': 'assistant', 'text': '3'}, {'role': 'user', 'text': 'discuss if profit maximisation is the main business objective of the alibaba group'}, {'role': 'assistant', 'text': '1'}, {'role': 'user', 'text': 'assess the advantages of a paternalistic style of leadership for a business such as the alibaba group'}, {'role': 'assistant', 'text': '2'}, {'role': 'user', 'text': 'define the term product innovation '}, {'role': 'assistant', 'text': '5'}, {'role': 'user', 'text': 'if nintendo reduces its console prices by 8% calculate the estimated percentage change in demand. you are advised to show your working'}, {'role': 'assistant', 'text': '3'}, {'role': 'user', 'text': 'analyse two different pricing strategies that nintendo might use to compete in the games console industry'}, {'role': 'assistant', 'text': '4'}, {'role': 'user', 'text': 'assess the benefits of a matrix organisational structure for a business such as nintendo'}, {'role': 'assistant', 'text': '2'}, {'role': 'user', 'text': 'Explain how the growth of the fitness market from 2015 to 2016 could have affected puregym'}, {'role': 'assistant', 'text': '5'}, {'role': 'user', 'text': 'Predict the topic number based on the provided question. The topics: 1) entreprenuers and leaders, 2) managing people, 3) market, 4) marketing mix and strategy, 5) meeting customer needs. Please respond with the relevant topic NUMBER.\\nUsing this data calculate the income elasticity of demand for bisu you are advised to show your working\"'}]}\n"
     ]
    },
    {
     "name": "stderr",
     "output_type": "stream",
     "text": [
      "Processing chunk 2/2:  92%|███████████████████▍ | 24/26 [00:54<00:04,  2.20s/it]"
     ]
    },
    {
     "name": "stdout",
     "output_type": "stream",
     "text": [
      "{'result': {'alternatives': [{'message': {'role': 'assistant', 'text': '3'}, 'status': 'ALTERNATIVE_STATUS_TRUNCATED_FINAL'}], 'usage': {'inputTextTokens': '436', 'completionTokens': '2', 'totalTokens': '438'}, 'modelVersion': '07.03.2024'}}\n",
      "{'modelUri': 'gpt://b1g6odsice70le7mmg6d/yandexgpt-pro', 'completionOptions': {'stream': False, 'temperature': 0.1, 'maxTokens': '2'}, 'messages': [{'role': 'system', 'text': \"Your role is to classify British A-level exam questions into five topics: 1) entreprenuers and leaders, 2) managing people, 3) market, 4) marketing mix and strategy, 5) meeting customer needs. Assign the appropriate topic number based on the question's theme and keywords.\"}, {'role': 'user', 'text': 'define the term brand'}, {'role': 'assistant', 'text': '4'}, {'role': 'user', 'text': 'explain one risk jack ma may have taken when setting up the alibaba group'}, {'role': 'assistant', 'text': '1'}, {'role': 'user', 'text': 'analyse two factors that may have increased demand for the alibaba group'}, {'role': 'assistant', 'text': '3'}, {'role': 'user', 'text': 'discuss if profit maximisation is the main business objective of the alibaba group'}, {'role': 'assistant', 'text': '1'}, {'role': 'user', 'text': 'assess the advantages of a paternalistic style of leadership for a business such as the alibaba group'}, {'role': 'assistant', 'text': '2'}, {'role': 'user', 'text': 'define the term product innovation '}, {'role': 'assistant', 'text': '5'}, {'role': 'user', 'text': 'if nintendo reduces its console prices by 8% calculate the estimated percentage change in demand. you are advised to show your working'}, {'role': 'assistant', 'text': '3'}, {'role': 'user', 'text': 'analyse two different pricing strategies that nintendo might use to compete in the games console industry'}, {'role': 'assistant', 'text': '4'}, {'role': 'user', 'text': 'assess the benefits of a matrix organisational structure for a business such as nintendo'}, {'role': 'assistant', 'text': '2'}, {'role': 'user', 'text': 'Explain how the growth of the fitness market from 2015 to 2016 could have affected puregym'}, {'role': 'assistant', 'text': '5'}, {'role': 'user', 'text': 'Predict the topic number based on the provided question. The topics: 1) entreprenuers and leaders, 2) managing people, 3) market, 4) marketing mix and strategy, 5) meeting customer needs. Please respond with the relevant topic NUMBER.\\nAnalyse two non-price factors that could affect the supply of speed one sports ltd’s products and/or services.\"'}]}\n"
     ]
    },
    {
     "name": "stderr",
     "output_type": "stream",
     "text": [
      "Processing chunk 2/2:  96%|████████████████████▏| 25/26 [00:56<00:02,  2.01s/it]"
     ]
    },
    {
     "name": "stdout",
     "output_type": "stream",
     "text": [
      "{'result': {'alternatives': [{'message': {'role': 'assistant', 'text': '3'}, 'status': 'ALTERNATIVE_STATUS_TRUNCATED_FINAL'}], 'usage': {'inputTextTokens': '442', 'completionTokens': '2', 'totalTokens': '444'}, 'modelVersion': '07.03.2024'}}\n",
      "{'modelUri': 'gpt://b1g6odsice70le7mmg6d/yandexgpt-pro', 'completionOptions': {'stream': False, 'temperature': 0.1, 'maxTokens': '2'}, 'messages': [{'role': 'system', 'text': \"Your role is to classify British A-level exam questions into five topics: 1) entreprenuers and leaders, 2) managing people, 3) market, 4) marketing mix and strategy, 5) meeting customer needs. Assign the appropriate topic number based on the question's theme and keywords.\"}, {'role': 'user', 'text': 'define the term brand'}, {'role': 'assistant', 'text': '4'}, {'role': 'user', 'text': 'explain one risk jack ma may have taken when setting up the alibaba group'}, {'role': 'assistant', 'text': '1'}, {'role': 'user', 'text': 'analyse two factors that may have increased demand for the alibaba group'}, {'role': 'assistant', 'text': '3'}, {'role': 'user', 'text': 'discuss if profit maximisation is the main business objective of the alibaba group'}, {'role': 'assistant', 'text': '1'}, {'role': 'user', 'text': 'assess the advantages of a paternalistic style of leadership for a business such as the alibaba group'}, {'role': 'assistant', 'text': '2'}, {'role': 'user', 'text': 'define the term product innovation '}, {'role': 'assistant', 'text': '5'}, {'role': 'user', 'text': 'if nintendo reduces its console prices by 8% calculate the estimated percentage change in demand. you are advised to show your working'}, {'role': 'assistant', 'text': '3'}, {'role': 'user', 'text': 'analyse two different pricing strategies that nintendo might use to compete in the games console industry'}, {'role': 'assistant', 'text': '4'}, {'role': 'user', 'text': 'assess the benefits of a matrix organisational structure for a business such as nintendo'}, {'role': 'assistant', 'text': '2'}, {'role': 'user', 'text': 'Explain how the growth of the fitness market from 2015 to 2016 could have affected puregym'}, {'role': 'assistant', 'text': '5'}, {'role': 'user', 'text': 'Predict the topic number based on the provided question. The topics: 1) entreprenuers and leaders, 2) managing people, 3) market, 4) marketing mix and strategy, 5) meeting customer needs. Please respond with the relevant topic NUMBER.\\nEvaluate the extent to which the non financial methods of motivation offered by hsbc might improve employee performance\"'}]}\n"
     ]
    },
    {
     "name": "stderr",
     "output_type": "stream",
     "text": [
      "Processing chunk 2/2: 100%|█████████████████████| 26/26 [00:58<00:00,  2.01s/it]"
     ]
    },
    {
     "name": "stdout",
     "output_type": "stream",
     "text": [
      "{'result': {'alternatives': [{'message': {'role': 'assistant', 'text': '2'}, 'status': 'ALTERNATIVE_STATUS_TRUNCATED_FINAL'}], 'usage': {'inputTextTokens': '437', 'completionTokens': '2', 'totalTokens': '439'}, 'modelVersion': '07.03.2024'}}\n",
      "{'modelUri': 'gpt://b1g6odsice70le7mmg6d/yandexgpt-pro', 'completionOptions': {'stream': False, 'temperature': 0.1, 'maxTokens': '2'}, 'messages': [{'role': 'system', 'text': \"Your role is to classify British A-level exam questions into five topics: 1) entreprenuers and leaders, 2) managing people, 3) market, 4) marketing mix and strategy, 5) meeting customer needs. Assign the appropriate topic number based on the question's theme and keywords.\"}, {'role': 'user', 'text': 'define the term brand'}, {'role': 'assistant', 'text': '4'}, {'role': 'user', 'text': 'explain one risk jack ma may have taken when setting up the alibaba group'}, {'role': 'assistant', 'text': '1'}, {'role': 'user', 'text': 'analyse two factors that may have increased demand for the alibaba group'}, {'role': 'assistant', 'text': '3'}, {'role': 'user', 'text': 'discuss if profit maximisation is the main business objective of the alibaba group'}, {'role': 'assistant', 'text': '1'}, {'role': 'user', 'text': 'assess the advantages of a paternalistic style of leadership for a business such as the alibaba group'}, {'role': 'assistant', 'text': '2'}, {'role': 'user', 'text': 'define the term product innovation '}, {'role': 'assistant', 'text': '5'}, {'role': 'user', 'text': 'if nintendo reduces its console prices by 8% calculate the estimated percentage change in demand. you are advised to show your working'}, {'role': 'assistant', 'text': '3'}, {'role': 'user', 'text': 'analyse two different pricing strategies that nintendo might use to compete in the games console industry'}, {'role': 'assistant', 'text': '4'}, {'role': 'user', 'text': 'assess the benefits of a matrix organisational structure for a business such as nintendo'}, {'role': 'assistant', 'text': '2'}, {'role': 'user', 'text': 'Explain how the growth of the fitness market from 2015 to 2016 could have affected puregym'}, {'role': 'assistant', 'text': '5'}, {'role': 'user', 'text': 'Predict the topic number based on the provided question. The topics: 1) entreprenuers and leaders, 2) managing people, 3) market, 4) marketing mix and strategy, 5) meeting customer needs. Please respond with the relevant topic NUMBER.\\nUsing this data and extract b calculate to two decimal places the total percentage market share of the top three chocolate manufacturers\"'}]}\n"
     ]
    },
    {
     "name": "stderr",
     "output_type": "stream",
     "text": [
      "Processing chunk 2/2: 100%|█████████████████████| 26/26 [01:00<00:00,  2.31s/it]"
     ]
    },
    {
     "name": "stdout",
     "output_type": "stream",
     "text": [
      "{'result': {'alternatives': [{'message': {'role': 'assistant', 'text': '3'}, 'status': 'ALTERNATIVE_STATUS_TRUNCATED_FINAL'}], 'usage': {'inputTextTokens': '439', 'completionTokens': '2', 'totalTokens': '441'}, 'modelVersion': '07.03.2024'}}\n"
     ]
    },
    {
     "name": "stderr",
     "output_type": "stream",
     "text": [
      "\n",
      "/var/folders/8_/cdypz21908z67f0vvpr9mdy80000gn/T/ipykernel_38107/3780304646.py:10: SettingWithCopyWarning: \n",
      "A value is trying to be set on a copy of a slice from a DataFrame.\n",
      "Try using .loc[row_indexer,col_indexer] = value instead\n",
      "\n",
      "See the caveats in the documentation: https://pandas.pydata.org/pandas-docs/stable/user_guide/indexing.html#returning-a-view-versus-a-copy\n",
      "  df_chunk['Predicted Label'] = df_chunk['Questions'].progress_apply(yagpt_inference, args=(url, headers))\n"
     ]
    }
   ],
   "source": [
    "chunk_size = 80  # Set based on the API limit\n",
    "df_result = process_in_chunks(test_df, chunk_size, url, headers)"
   ]
  },
  {
   "cell_type": "code",
   "execution_count": 7,
   "id": "fcbdc488-1e0a-4294-a8c2-620ecc5d0ef8",
   "metadata": {},
   "outputs": [
    {
     "data": {
      "text/html": [
       "<div>\n",
       "<style scoped>\n",
       "    .dataframe tbody tr th:only-of-type {\n",
       "        vertical-align: middle;\n",
       "    }\n",
       "\n",
       "    .dataframe tbody tr th {\n",
       "        vertical-align: top;\n",
       "    }\n",
       "\n",
       "    .dataframe thead th {\n",
       "        text-align: right;\n",
       "    }\n",
       "</style>\n",
       "<table border=\"1\" class=\"dataframe\">\n",
       "  <thead>\n",
       "    <tr style=\"text-align: right;\">\n",
       "      <th></th>\n",
       "      <th>Questions</th>\n",
       "      <th>Topic</th>\n",
       "      <th>Label</th>\n",
       "      <th>Predicted Label</th>\n",
       "    </tr>\n",
       "  </thead>\n",
       "  <tbody>\n",
       "    <tr>\n",
       "      <th>0</th>\n",
       "      <td>Explain how the concept of opportunity cost ap...</td>\n",
       "      <td>entreprenuers and leaders</td>\n",
       "      <td>1</td>\n",
       "      <td>1</td>\n",
       "    </tr>\n",
       "    <tr>\n",
       "      <th>1</th>\n",
       "      <td>If nintendo reduces its console prices by 8% c...</td>\n",
       "      <td>market</td>\n",
       "      <td>3</td>\n",
       "      <td>3</td>\n",
       "    </tr>\n",
       "    <tr>\n",
       "      <th>2</th>\n",
       "      <td>Evaluate these two options and recommend which...</td>\n",
       "      <td>marketing mix and strategy</td>\n",
       "      <td>4</td>\n",
       "      <td>2</td>\n",
       "    </tr>\n",
       "    <tr>\n",
       "      <th>3</th>\n",
       "      <td>evaluate these two options and recommend whic...</td>\n",
       "      <td>meeting customer needs</td>\n",
       "      <td>5</td>\n",
       "      <td>2</td>\n",
       "    </tr>\n",
       "    <tr>\n",
       "      <th>4</th>\n",
       "      <td>Define the term ‘niche market’.</td>\n",
       "      <td>meeting customer needs</td>\n",
       "      <td>5</td>\n",
       "      <td>3</td>\n",
       "    </tr>\n",
       "    <tr>\n",
       "      <th>...</th>\n",
       "      <td>...</td>\n",
       "      <td>...</td>\n",
       "      <td>...</td>\n",
       "      <td>...</td>\n",
       "    </tr>\n",
       "    <tr>\n",
       "      <th>101</th>\n",
       "      <td>What is meant by market growth</td>\n",
       "      <td>meeting customer needs</td>\n",
       "      <td>5</td>\n",
       "      <td>3</td>\n",
       "    </tr>\n",
       "    <tr>\n",
       "      <th>102</th>\n",
       "      <td>Using this data calculate the income elasticit...</td>\n",
       "      <td>market</td>\n",
       "      <td>3</td>\n",
       "      <td>3</td>\n",
       "    </tr>\n",
       "    <tr>\n",
       "      <th>103</th>\n",
       "      <td>Analyse two non-price factors that could affec...</td>\n",
       "      <td>market</td>\n",
       "      <td>3</td>\n",
       "      <td>3</td>\n",
       "    </tr>\n",
       "    <tr>\n",
       "      <th>104</th>\n",
       "      <td>Evaluate the extent to which the non financial...</td>\n",
       "      <td>managing people</td>\n",
       "      <td>2</td>\n",
       "      <td>2</td>\n",
       "    </tr>\n",
       "    <tr>\n",
       "      <th>105</th>\n",
       "      <td>Using this data and extract b calculate to two...</td>\n",
       "      <td>meeting customer needs</td>\n",
       "      <td>5</td>\n",
       "      <td>3</td>\n",
       "    </tr>\n",
       "  </tbody>\n",
       "</table>\n",
       "<p>106 rows × 4 columns</p>\n",
       "</div>"
      ],
      "text/plain": [
       "                                             Questions  \\\n",
       "0    Explain how the concept of opportunity cost ap...   \n",
       "1    If nintendo reduces its console prices by 8% c...   \n",
       "2    Evaluate these two options and recommend which...   \n",
       "3     evaluate these two options and recommend whic...   \n",
       "4                      Define the term ‘niche market’.   \n",
       "..                                                 ...   \n",
       "101                     What is meant by market growth   \n",
       "102  Using this data calculate the income elasticit...   \n",
       "103  Analyse two non-price factors that could affec...   \n",
       "104  Evaluate the extent to which the non financial...   \n",
       "105  Using this data and extract b calculate to two...   \n",
       "\n",
       "                          Topic  Label Predicted Label  \n",
       "0     entreprenuers and leaders      1               1  \n",
       "1                        market      3               3  \n",
       "2    marketing mix and strategy      4               2  \n",
       "3        meeting customer needs      5               2  \n",
       "4        meeting customer needs      5               3  \n",
       "..                          ...    ...             ...  \n",
       "101      meeting customer needs      5               3  \n",
       "102                      market      3               3  \n",
       "103                      market      3               3  \n",
       "104             managing people      2               2  \n",
       "105      meeting customer needs      5               3  \n",
       "\n",
       "[106 rows x 4 columns]"
      ]
     },
     "execution_count": 7,
     "metadata": {},
     "output_type": "execute_result"
    }
   ],
   "source": [
    "df_result"
   ]
  },
  {
   "cell_type": "code",
   "execution_count": 8,
   "id": "012defe0-bad4-4915-9ad0-c9a8e3c846f5",
   "metadata": {},
   "outputs": [],
   "source": [
    "df_result = df_result[df_result['Predicted Label'].str.isdigit()]"
   ]
  },
  {
   "cell_type": "code",
   "execution_count": 9,
   "id": "455ff977-9451-4c9d-b8c8-a9bd6297c6cc",
   "metadata": {},
   "outputs": [],
   "source": [
    "df_result['Predicted Label'] = df_result['Predicted Label'].astype(int)"
   ]
  },
  {
   "cell_type": "code",
   "execution_count": 10,
   "id": "a83901cf-bb01-4e3b-9b01-a2e4243f3970",
   "metadata": {},
   "outputs": [],
   "source": [
    "correct_predictions = (df_result['Label'] == df_result['Predicted Label']).sum()\n",
    "total_predictions = len(df_result)\n",
    "accuracy = correct_predictions / total_predictions"
   ]
  },
  {
   "cell_type": "code",
   "execution_count": 11,
   "id": "11d90c6b-f513-4ae2-bd1e-cbe09f714c4d",
   "metadata": {},
   "outputs": [
    {
     "name": "stdout",
     "output_type": "stream",
     "text": [
      "Accuracy: 50.94%\n"
     ]
    }
   ],
   "source": [
    "print(f\"Accuracy: {accuracy * 100:.2f}%\")"
   ]
  }
 ],
 "metadata": {
  "kernelspec": {
   "display_name": "Python 3 (ipykernel)",
   "language": "python",
   "name": "python3"
  },
  "language_info": {
   "codemirror_mode": {
    "name": "ipython",
    "version": 3
   },
   "file_extension": ".py",
   "mimetype": "text/x-python",
   "name": "python",
   "nbconvert_exporter": "python",
   "pygments_lexer": "ipython3",
   "version": "3.11.7"
  }
 },
 "nbformat": 4,
 "nbformat_minor": 5
}
