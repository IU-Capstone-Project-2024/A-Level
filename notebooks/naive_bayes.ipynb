{
 "cells": [
  {
   "cell_type": "markdown",
   "metadata": {},
   "source": [
    "## Import necessary modules"
   ]
  },
  {
   "cell_type": "code",
   "execution_count": 6,
   "metadata": {},
   "outputs": [
    {
     "name": "stderr",
     "output_type": "stream",
     "text": [
      "[nltk_data] Downloading package stopwords to\n",
      "[nltk_data]     /Users/citadel/nltk_data...\n",
      "[nltk_data]   Package stopwords is already up-to-date!\n"
     ]
    },
    {
     "data": {
      "text/plain": [
       "True"
      ]
     },
     "execution_count": 6,
     "metadata": {},
     "output_type": "execute_result"
    }
   ],
   "source": [
    "import pandas as pd\n",
    "from sklearn.model_selection import train_test_split\n",
    "from sklearn.feature_extraction.text import TfidfVectorizer\n",
    "from sklearn.naive_bayes import MultinomialNB\n",
    "from sklearn.metrics import accuracy_score, classification_report\n",
    "from sklearn.pipeline import make_pipeline\n",
    "from utils import DatasetReader\n",
    "from nltk.corpus import stopwords\n",
    "import nltk\n",
    "\n",
    "nltk.download('stopwords')"
   ]
  },
  {
   "cell_type": "markdown",
   "metadata": {},
   "source": [
    "## Load and split the data"
   ]
  },
  {
   "cell_type": "code",
   "execution_count": 7,
   "metadata": {},
   "outputs": [
    {
     "data": {
      "text/html": [
       "<div>\n",
       "<style scoped>\n",
       "    .dataframe tbody tr th:only-of-type {\n",
       "        vertical-align: middle;\n",
       "    }\n",
       "\n",
       "    .dataframe tbody tr th {\n",
       "        vertical-align: top;\n",
       "    }\n",
       "\n",
       "    .dataframe thead th {\n",
       "        text-align: right;\n",
       "    }\n",
       "</style>\n",
       "<table border=\"1\" class=\"dataframe\">\n",
       "  <thead>\n",
       "    <tr style=\"text-align: right;\">\n",
       "      <th></th>\n",
       "      <th>Questions</th>\n",
       "      <th>Topic</th>\n",
       "    </tr>\n",
       "  </thead>\n",
       "  <tbody>\n",
       "    <tr>\n",
       "      <th>0</th>\n",
       "      <td>define the term brand</td>\n",
       "      <td>marketing_mix_and_strategy</td>\n",
       "    </tr>\n",
       "    <tr>\n",
       "      <th>1</th>\n",
       "      <td>explain one risk jack ma may have taken when s...</td>\n",
       "      <td>entreprenuers_and_leaders</td>\n",
       "    </tr>\n",
       "    <tr>\n",
       "      <th>2</th>\n",
       "      <td>analyse two factors that may have increased de...</td>\n",
       "      <td>market</td>\n",
       "    </tr>\n",
       "    <tr>\n",
       "      <th>3</th>\n",
       "      <td>discuss if profit maximisation is the main bus...</td>\n",
       "      <td>entreprenuers_and_leaders</td>\n",
       "    </tr>\n",
       "    <tr>\n",
       "      <th>4</th>\n",
       "      <td>assess the advantages of a paternalistic style...</td>\n",
       "      <td>managing_people</td>\n",
       "    </tr>\n",
       "    <tr>\n",
       "      <th>...</th>\n",
       "      <td>...</td>\n",
       "      <td>...</td>\n",
       "    </tr>\n",
       "    <tr>\n",
       "      <th>492</th>\n",
       "      <td>what is meant by the term emotional intelligence?</td>\n",
       "      <td>entreprenuers_and_leaders</td>\n",
       "    </tr>\n",
       "    <tr>\n",
       "      <th>493</th>\n",
       "      <td>true or false? entrepreneurs are often driven ...</td>\n",
       "      <td>entreprenuers_and_leaders</td>\n",
       "    </tr>\n",
       "    <tr>\n",
       "      <th>494</th>\n",
       "      <td>what is meant by the term figurehead?</td>\n",
       "      <td>entreprenuers_and_leaders</td>\n",
       "    </tr>\n",
       "    <tr>\n",
       "      <th>495</th>\n",
       "      <td>true or false? many entrepreneurs are driven m...</td>\n",
       "      <td>entreprenuers_and_leaders</td>\n",
       "    </tr>\n",
       "    <tr>\n",
       "      <th>496</th>\n",
       "      <td>what is the difference between a strategist an...</td>\n",
       "      <td>entreprenuers_and_leaders</td>\n",
       "    </tr>\n",
       "  </tbody>\n",
       "</table>\n",
       "<p>497 rows × 2 columns</p>\n",
       "</div>"
      ],
      "text/plain": [
       "                                             Questions  \\\n",
       "0                                define the term brand   \n",
       "1    explain one risk jack ma may have taken when s...   \n",
       "2    analyse two factors that may have increased de...   \n",
       "3    discuss if profit maximisation is the main bus...   \n",
       "4    assess the advantages of a paternalistic style...   \n",
       "..                                                 ...   \n",
       "492  what is meant by the term emotional intelligence?   \n",
       "493  true or false? entrepreneurs are often driven ...   \n",
       "494              what is meant by the term figurehead?   \n",
       "495  true or false? many entrepreneurs are driven m...   \n",
       "496  what is the difference between a strategist an...   \n",
       "\n",
       "                          Topic  \n",
       "0    marketing_mix_and_strategy  \n",
       "1     entreprenuers_and_leaders  \n",
       "2                        market  \n",
       "3     entreprenuers_and_leaders  \n",
       "4               managing_people  \n",
       "..                          ...  \n",
       "492   entreprenuers_and_leaders  \n",
       "493   entreprenuers_and_leaders  \n",
       "494   entreprenuers_and_leaders  \n",
       "495   entreprenuers_and_leaders  \n",
       "496   entreprenuers_and_leaders  \n",
       "\n",
       "[497 rows x 2 columns]"
      ]
     },
     "execution_count": 7,
     "metadata": {},
     "output_type": "execute_result"
    }
   ],
   "source": [
    "reader = DatasetReader()\n",
    "data = reader.read('../data/csv/clean_data.csv', '../data/parsing/save_my_exams_data.csv')\n",
    "data"
   ]
  },
  {
   "cell_type": "code",
   "execution_count": 9,
   "metadata": {},
   "outputs": [],
   "source": [
    "# Splitting the dataset into training and testing sets\n",
    "X_train, X_test, y_train, y_test = train_test_split(data['Questions'], data['Topic'], test_size=0.25, random_state=0)"
   ]
  },
  {
   "cell_type": "markdown",
   "metadata": {},
   "source": [
    "## Training the model\n",
    "\n",
    "We use Multinomial Naive Bayes, which often stands as the baseline model in various NLP-specific problems. \n",
    "As the vectorizer for Multinomial NB, we use TF-IDF (Term Frequency - Inverse Document Frequency), which is a statistical measure that evaluates how relevant a word is to a document in a collection of documents."
   ]
  },
  {
   "cell_type": "code",
   "execution_count": 10,
   "metadata": {},
   "outputs": [],
   "source": [
    "# Creating a text processing and model pipeline\n",
    "model = make_pipeline(\n",
    "    TfidfVectorizer(stop_words=stopwords.words('english')), \n",
    "    MultinomialNB()  \n",
    ")"
   ]
  },
  {
   "cell_type": "code",
   "execution_count": 11,
   "metadata": {},
   "outputs": [],
   "source": [
    "# Training the model\n",
    "model.fit(X_train, y_train)\n",
    "\n",
    "# Making predictions\n",
    "y_pred = model.predict(X_test)"
   ]
  },
  {
   "cell_type": "markdown",
   "metadata": {},
   "source": [
    "## Evaluating the model"
   ]
  },
  {
   "cell_type": "code",
   "execution_count": 12,
   "metadata": {},
   "outputs": [
    {
     "name": "stdout",
     "output_type": "stream",
     "text": [
      "Accuracy: 0.776\n",
      "Classification Report:\n",
      "                             precision    recall  f1-score   support\n",
      "\n",
      " entreprenuers_and_leaders       0.82      0.64      0.72        22\n",
      "           managing_people       1.00      0.65      0.79        20\n",
      "                    market       0.83      0.86      0.84        22\n",
      "marketing_mix_and_strategy       0.84      0.84      0.84        38\n",
      "    meeting_customer_needs       0.56      0.83      0.67        23\n",
      "\n",
      "                  accuracy                           0.78       125\n",
      "                 macro avg       0.81      0.76      0.77       125\n",
      "              weighted avg       0.81      0.78      0.78       125\n",
      "\n"
     ]
    }
   ],
   "source": [
    "# Evaluating the model\n",
    "print(\"Accuracy:\", accuracy_score(y_test, y_pred))\n",
    "print(\"Classification Report:\\n\", classification_report(y_test, y_pred))"
   ]
  }
 ],
 "metadata": {
  "kernelspec": {
   "display_name": "test",
   "language": "python",
   "name": "python3"
  },
  "language_info": {
   "codemirror_mode": {
    "name": "ipython",
    "version": 3
   },
   "file_extension": ".py",
   "mimetype": "text/x-python",
   "name": "python",
   "nbconvert_exporter": "python",
   "pygments_lexer": "ipython3",
   "version": "3.11.9"
  }
 },
 "nbformat": 4,
 "nbformat_minor": 2
}
