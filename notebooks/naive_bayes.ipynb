{
 "cells": [
  {
   "cell_type": "markdown",
   "metadata": {},
   "source": [
    "## Import necessary modules"
   ]
  },
  {
   "cell_type": "code",
   "metadata": {
    "ExecuteTime": {
     "end_time": "2024-06-29T13:43:29.581902Z",
     "start_time": "2024-06-29T13:43:28.265457Z"
    }
   },
   "source": [
    "from sklearn.feature_extraction.text import TfidfVectorizer\n",
    "from sklearn.naive_bayes import MultinomialNB\n",
    "from sklearn.metrics import accuracy_score, classification_report\n",
    "from sklearn.pipeline import make_pipeline\n",
    "from utils import DatasetReader\n",
    "from nltk.corpus import stopwords\n",
    "import nltk\n",
    "import numpy as np\n",
    "from time import time\n",
    "\n",
    "nltk.download('stopwords')"
   ],
   "outputs": [
    {
     "name": "stderr",
     "output_type": "stream",
     "text": [
      "[nltk_data] Downloading package stopwords to /home/pc/nltk_data...\n",
      "[nltk_data]   Package stopwords is already up-to-date!\n"
     ]
    },
    {
     "data": {
      "text/plain": [
       "True"
      ]
     },
     "execution_count": 1,
     "metadata": {},
     "output_type": "execute_result"
    }
   ],
   "execution_count": 1
  },
  {
   "cell_type": "markdown",
   "metadata": {},
   "source": [
    "## Load and split the data"
   ]
  },
  {
   "cell_type": "code",
   "metadata": {
    "ExecuteTime": {
     "end_time": "2024-06-29T13:43:29.604413Z",
     "start_time": "2024-06-29T13:43:29.583319Z"
    }
   },
   "source": [
    "reader = DatasetReader(encode_labels=True)\n",
    "train = reader.read_dirs('../data/augmentation')\n",
    "test = reader.read_dirs('../data/csv')\n",
    "\n",
    "train"
   ],
   "outputs": [
    {
     "data": {
      "text/plain": [
       "                                              Questions  Topic\n",
       "0     what is the essence of a brand, and how does i...      3\n",
       "1     what is the concept of a brand that distinguis...      3\n",
       "2     what is meant by a brand, and how does it dist...      3\n",
       "3     what is a brand, and how does it differ from a...      3\n",
       "4     what was a crucial gamble jack ma took in esta...      0\n",
       "...                                                 ...    ...\n",
       "2247  true or false: do entrepreneurial motivations ...      0\n",
       "2248  how do the approaches of a long-term planner v...      0\n",
       "2249  what distinguishes an economist's long-term ap...      0\n",
       "2250  what are the key distinctions between individu...      0\n",
       "2251  what are the key distinctions between an econo...      0\n",
       "\n",
       "[2252 rows x 2 columns]"
      ],
      "text/html": [
       "<div>\n",
       "<style scoped>\n",
       "    .dataframe tbody tr th:only-of-type {\n",
       "        vertical-align: middle;\n",
       "    }\n",
       "\n",
       "    .dataframe tbody tr th {\n",
       "        vertical-align: top;\n",
       "    }\n",
       "\n",
       "    .dataframe thead th {\n",
       "        text-align: right;\n",
       "    }\n",
       "</style>\n",
       "<table border=\"1\" class=\"dataframe\">\n",
       "  <thead>\n",
       "    <tr style=\"text-align: right;\">\n",
       "      <th></th>\n",
       "      <th>Questions</th>\n",
       "      <th>Topic</th>\n",
       "    </tr>\n",
       "  </thead>\n",
       "  <tbody>\n",
       "    <tr>\n",
       "      <th>0</th>\n",
       "      <td>what is the essence of a brand, and how does i...</td>\n",
       "      <td>3</td>\n",
       "    </tr>\n",
       "    <tr>\n",
       "      <th>1</th>\n",
       "      <td>what is the concept of a brand that distinguis...</td>\n",
       "      <td>3</td>\n",
       "    </tr>\n",
       "    <tr>\n",
       "      <th>2</th>\n",
       "      <td>what is meant by a brand, and how does it dist...</td>\n",
       "      <td>3</td>\n",
       "    </tr>\n",
       "    <tr>\n",
       "      <th>3</th>\n",
       "      <td>what is a brand, and how does it differ from a...</td>\n",
       "      <td>3</td>\n",
       "    </tr>\n",
       "    <tr>\n",
       "      <th>4</th>\n",
       "      <td>what was a crucial gamble jack ma took in esta...</td>\n",
       "      <td>0</td>\n",
       "    </tr>\n",
       "    <tr>\n",
       "      <th>...</th>\n",
       "      <td>...</td>\n",
       "      <td>...</td>\n",
       "    </tr>\n",
       "    <tr>\n",
       "      <th>2247</th>\n",
       "      <td>true or false: do entrepreneurial motivations ...</td>\n",
       "      <td>0</td>\n",
       "    </tr>\n",
       "    <tr>\n",
       "      <th>2248</th>\n",
       "      <td>how do the approaches of a long-term planner v...</td>\n",
       "      <td>0</td>\n",
       "    </tr>\n",
       "    <tr>\n",
       "      <th>2249</th>\n",
       "      <td>what distinguishes an economist's long-term ap...</td>\n",
       "      <td>0</td>\n",
       "    </tr>\n",
       "    <tr>\n",
       "      <th>2250</th>\n",
       "      <td>what are the key distinctions between individu...</td>\n",
       "      <td>0</td>\n",
       "    </tr>\n",
       "    <tr>\n",
       "      <th>2251</th>\n",
       "      <td>what are the key distinctions between an econo...</td>\n",
       "      <td>0</td>\n",
       "    </tr>\n",
       "  </tbody>\n",
       "</table>\n",
       "<p>2252 rows × 2 columns</p>\n",
       "</div>"
      ]
     },
     "execution_count": 2,
     "metadata": {},
     "output_type": "execute_result"
    }
   ],
   "execution_count": 2
  },
  {
   "cell_type": "code",
   "metadata": {
    "ExecuteTime": {
     "end_time": "2024-06-29T13:43:29.607724Z",
     "start_time": "2024-06-29T13:43:29.605287Z"
    }
   },
   "source": [
    "# Splitting the dataset into training and testing setsCr\n",
    "X_train, y_train = np.array(train['Questions']), np.array(train['Topic'])\n",
    "X_test, y_test = np.array(test['Questions']), np.array(test['Topic'])"
   ],
   "outputs": [],
   "execution_count": 3
  },
  {
   "cell_type": "markdown",
   "metadata": {},
   "source": [
    "## Training the model\n",
    "\n",
    "We use Multinomial Naive Bayes, which often stands as the baseline model in various NLP-specific problems. \n",
    "As the vectorizer for Multinomial NB, we use TF-IDF (Term Frequency - Inverse Document Frequency), which is a statistical measure that evaluates how relevant a word is to a document in a collection of documents."
   ]
  },
  {
   "cell_type": "code",
   "metadata": {
    "ExecuteTime": {
     "end_time": "2024-06-29T13:43:29.612604Z",
     "start_time": "2024-06-29T13:43:29.608501Z"
    }
   },
   "source": [
    "# Creating a text processing and model pipeline\n",
    "model = make_pipeline(\n",
    "    TfidfVectorizer(stop_words=stopwords.words('english')),\n",
    "    MultinomialNB()\n",
    ")"
   ],
   "outputs": [],
   "execution_count": 4
  },
  {
   "cell_type": "code",
   "metadata": {
    "ExecuteTime": {
     "end_time": "2024-06-29T13:43:29.641140Z",
     "start_time": "2024-06-29T13:43:29.613538Z"
    }
   },
   "source": [
    "# Training the model\n",
    "model.fit(X_train, y_train)\n",
    "\n",
    "# Making predictions\n",
    "y_pred = model.predict(X_test)"
   ],
   "outputs": [],
   "execution_count": 5
  },
  {
   "cell_type": "markdown",
   "metadata": {},
   "source": [
    "## Evaluating the model"
   ]
  },
  {
   "cell_type": "code",
   "metadata": {
    "ExecuteTime": {
     "end_time": "2024-06-29T13:43:29.651014Z",
     "start_time": "2024-06-29T13:43:29.642199Z"
    }
   },
   "source": [
    "# Evaluating the model\n",
    "print(\"Accuracy:\", accuracy_score(y_test, y_pred))\n",
    "print(\"Classification Report:\\n\", classification_report(y_test, y_pred))"
   ],
   "outputs": [
    {
     "name": "stdout",
     "output_type": "stream",
     "text": [
      "Accuracy: 0.872113676731794\n",
      "Classification Report:\n",
      "               precision    recall  f1-score   support\n",
      "\n",
      "           0       0.78      0.87      0.83       103\n",
      "           1       0.99      0.77      0.86        98\n",
      "           2       0.93      0.90      0.92       103\n",
      "           3       0.86      0.91      0.88       133\n",
      "           4       0.85      0.89      0.87       126\n",
      "\n",
      "    accuracy                           0.87       563\n",
      "   macro avg       0.88      0.87      0.87       563\n",
      "weighted avg       0.88      0.87      0.87       563\n",
      "\n"
     ]
    }
   ],
   "execution_count": 6
  },
  {
   "metadata": {},
   "cell_type": "markdown",
   "source": "## Save model weights"
  },
  {
   "metadata": {
    "ExecuteTime": {
     "end_time": "2024-06-29T13:43:29.666323Z",
     "start_time": "2024-06-29T13:43:29.651977Z"
    }
   },
   "cell_type": "code",
   "source": [
    "import joblib\n",
    "import json\n",
    "\n",
    "joblib.dump(model, 'weights/naive_bayes.joblib')\n",
    "with open('weights/naive_bayes_encodings.json', 'w') as f:\n",
    "    json.dump(reader.get_encodings(), f)"
   ],
   "outputs": [],
   "execution_count": 7
  },
  {
   "metadata": {},
   "cell_type": "markdown",
   "source": "## Summary"
  },
  {
   "metadata": {},
   "cell_type": "markdown",
   "source": "### Inference time"
  },
  {
   "metadata": {
    "ExecuteTime": {
     "end_time": "2024-06-29T13:43:35.605241Z",
     "start_time": "2024-06-29T13:43:29.667413Z"
    }
   },
   "cell_type": "code",
   "source": [
    "all_data = np.concatenate((X_train, X_test), axis=0)\n",
    "for _ in range(8): \n",
    "    all_data = np.concatenate((all_data, all_data), axis=0)\n",
    "\n",
    "print('N samples:\\t\\t', all_data.shape)\n",
    "\n",
    "start = time()\n",
    "model.predict(all_data)\n",
    "end = time()\n",
    "\n",
    "print(f'Inference time: {(end - start) / all_data.shape[0] * 1000:0.9f} [ms/sample]')\n",
    "print(f'Inference time: {all_data.shape[0] / (end - start):9.4f} [samples/sec]')"
   ],
   "outputs": [
    {
     "name": "stdout",
     "output_type": "stream",
     "text": [
      "N samples:\t\t (720640,)\n",
      "Inference time: 0.008218431 [ms/sample]\n",
      "Inference time: 121677.7205 [samples/sec]\n"
     ]
    }
   ],
   "execution_count": 8
  },
  {
   "metadata": {},
   "cell_type": "markdown",
   "source": "### Metrics"
  },
  {
   "metadata": {
    "ExecuteTime": {
     "end_time": "2024-06-29T13:43:35.629652Z",
     "start_time": "2024-06-29T13:43:35.623116Z"
    }
   },
   "cell_type": "code",
   "source": "print(\"Classification Report:\\n\", classification_report(y_test, y_pred))",
   "outputs": [
    {
     "name": "stdout",
     "output_type": "stream",
     "text": [
      "Classification Report:\n",
      "               precision    recall  f1-score   support\n",
      "\n",
      "           0       0.78      0.87      0.83       103\n",
      "           1       0.99      0.77      0.86        98\n",
      "           2       0.93      0.90      0.92       103\n",
      "           3       0.86      0.91      0.88       133\n",
      "           4       0.85      0.89      0.87       126\n",
      "\n",
      "    accuracy                           0.87       563\n",
      "   macro avg       0.88      0.87      0.87       563\n",
      "weighted avg       0.88      0.87      0.87       563\n",
      "\n"
     ]
    }
   ],
   "execution_count": 9
  }
 ],
 "metadata": {
  "kernelspec": {
   "display_name": "test",
   "language": "python",
   "name": "python3"
  },
  "language_info": {
   "codemirror_mode": {
    "name": "ipython",
    "version": 3
   },
   "file_extension": ".py",
   "mimetype": "text/x-python",
   "name": "python",
   "nbconvert_exporter": "python",
   "pygments_lexer": "ipython3",
   "version": "3.11.9"
  }
 },
 "nbformat": 4,
 "nbformat_minor": 2
}
